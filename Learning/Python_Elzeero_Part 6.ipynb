{
 "cells": [
  {
   "cell_type": "markdown",
   "metadata": {},
   "source": [
    "##### **Database**\n",
    "\n",
    "❖ DatabaseIs A Place Where We Can Store Data\n",
    "\n",
    "❖ Database Organized Into Tables (Users, Categories)\n",
    "\n",
    "❖ Tables Has Columns (ID, Username, Password)\n",
    "\n",
    "❖ There's Many Types Of Databases (MongoDB, MySQL, SQLite)\n",
    "\n",
    "❖ SQL Stands For Structured Query Language\n",
    "\n",
    "❖ SQLite => Can Run in Memory or in A-Single File\n",
    "\n",
    "❖ You Can Browse File With https://sqlitebrowser.org/\n",
    "\n",
    "❖ Data Inside Database Has Types (Text, Integer, Date)\n"
   ]
  },
  {
   "cell_type": "code",
   "execution_count": 4,
   "metadata": {},
   "outputs": [
    {
     "data": {
      "text/plain": [
       "<sqlite3.Cursor at 0x105fe5dc0>"
      ]
     },
     "execution_count": 4,
     "metadata": {},
     "output_type": "execute_result"
    }
   ],
   "source": [
    "# Import SQLite Module \n",
    "\n",
    "import sqlite3\n",
    "\n",
    "# Create Database and Connect \n",
    "\n",
    "db = sqlite3.connect(\"/Users/Ahmed/Desktop/app.db\")\n",
    "\n",
    "# Create the Tables and Fields\n",
    "\n",
    "db.execute(\"Create Table Skills (Name Text, Progress Integer, User_id Integer)\")"
   ]
  },
  {
   "cell_type": "markdown",
   "metadata": {},
   "source": [
    "This Will Create Something Like This in the Database"
   ]
  },
  {
   "cell_type": "markdown",
   "metadata": {},
   "source": [
    "https://github.com/ahmedheshammec/Python/blob/0df131ffa0be36bf866aa58f3f3c8eec9ce64a73/Learning/Jupyter%20Images/Create%20Tables%20and%20Fields.png"
   ]
  },
  {
   "cell_type": "code",
   "execution_count": null,
   "metadata": {
    "vscode": {
     "languageId": "html"
    }
   },
   "outputs": [],
   "source": [
    "<img src=\"https://github.com/ahmedheshammec/Python/blob/0df131ffa0be36bf866aa58f3f3c8eec9ce64a73/Learning/Jupyter%20Images/Create%20Tables%20and%20Fields.png\">"
   ]
  }
 ],
 "metadata": {
  "kernelspec": {
   "display_name": "Python 3 (ipykernel)",
   "language": "python",
   "name": "python3"
  },
  "language_info": {
   "codemirror_mode": {
    "name": "ipython",
    "version": 3
   },
   "file_extension": ".py",
   "mimetype": "text/x-python",
   "name": "python",
   "nbconvert_exporter": "python",
   "pygments_lexer": "ipython3",
   "version": "3.12.1"
  }
 },
 "nbformat": 4,
 "nbformat_minor": 4
}
