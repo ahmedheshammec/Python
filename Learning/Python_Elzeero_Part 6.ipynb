{
 "cells": [
  {
   "cell_type": "markdown",
   "metadata": {},
   "source": [
    "##### **Database**\n",
    "\n",
    "❖ DatabaseIs A Place Where We Can Store Data\n",
    "\n",
    "❖ Database Organized Into Tables (Users, Categories)\n",
    "\n",
    "❖ Tables Has Columns (ID, Username, Password)\n",
    "\n",
    "❖ There's Many Types Of Databases (MongoDB, MySQL, SQLite)\n",
    "\n",
    "❖ SQL Stands For Structured Query Language\n",
    "\n",
    "❖ SQLite => Can Run in Memory or in A-Single File\n",
    "\n",
    "❖ You Can Browse File With https://sqlitebrowser.org/\n",
    "\n",
    "❖ Data Inside Database Has Types (Text, Integer, Date)\n"
   ]
  },
  {
   "cell_type": "code",
   "execution_count": 4,
   "metadata": {},
   "outputs": [],
   "source": [
    "# Import SQLite Module \n",
    "\n",
    "import sqlite3\n",
    "\n",
    "# Create Database and Connect \n",
    "\n",
    "db = sqlite3.connect(\"/Users/Ahmed/Desktop/app.db\")\n",
    "\n",
    "# Create the Tables and Fields\n",
    "\n",
    "db.execute(\"Create Table If Not Exists Skills (Name Text, Progress Integer, User_id Integer)\")\n",
    "\n",
    "# Close Database \n",
    "db.close()"
   ]
  },
  {
   "cell_type": "markdown",
   "metadata": {},
   "source": [
    "This Will Create Something Like This in the Database"
   ]
  },
  {
   "cell_type": "markdown",
   "metadata": {},
   "source": [
    "![Create Tables and Fields](https://i.imgur.com/ob0g1dt.png)"
   ]
  },
  {
   "cell_type": "markdown",
   "metadata": {},
   "source": [
    "##### **Insert Data Into Database**\n",
    "\n",
    "❖ `Cursor` ⟶ All Operation in Sql Done by Cursor Not the Connection Itself\n",
    "\n",
    "❖ `Commit` ⟶ Save All Changes"
   ]
  },
  {
   "cell_type": "code",
   "execution_count": 8,
   "metadata": {},
   "outputs": [],
   "source": [
    "# Import SQLite Module \n",
    "\n",
    "import sqlite3\n",
    "\n",
    "# Create Database and Connect \n",
    "\n",
    "db = sqlite3.connect(\"/Users/Ahmed/Desktop/app.db\")\n",
    "\n",
    "# Setting up the Cursor\n",
    "\n",
    "cr = db.cursor()\n",
    "cr.execute(\"Create Table If Not Exists Skills (Name Text, Progress Integer, User_id Integer)\")\n",
    "cr.execute(\"Create Table if Not Exists Users (User_id Integer, Name Text)\")\n",
    "\n",
    "# Inserting Data \n",
    "cr.execute(\"Insert Into Users(user_id, Name) Values(1, 'Ahmed')\")\n",
    "cr.execute(\"Insert Into Users(user_id, Name) Values(2, 'Sayed')\")\n",
    "cr.execute(\"Insert Into Users(user_id, Name) Values(3, 'Osama')\")\n",
    "\n",
    "# Commit Changes \n",
    "\n",
    "db.commit()\n",
    "\n",
    "# Close Database \n",
    "db.close()"
   ]
  },
  {
   "cell_type": "markdown",
   "metadata": {},
   "source": [
    "⟶ now let's try to insert some data in a list into our database using loop"
   ]
  },
  {
   "cell_type": "code",
   "execution_count": 9,
   "metadata": {},
   "outputs": [],
   "source": [
    "# Import SQLite Module \n",
    "\n",
    "import sqlite3\n",
    "\n",
    "# Create Database and Connect \n",
    "\n",
    "db = sqlite3.connect(\"/Users/Ahmed/Desktop/app.db\")\n",
    "\n",
    "# Setting up the Cursor\n",
    "\n",
    "cr = db.cursor()\n",
    "cr.execute(\"Create Table If Not Exists Skills (Name Text, Progress Integer, User_id Integer)\")\n",
    "cr.execute(\"Create Table if Not Exists Users (User_id Integer, Name Text)\")\n",
    "\n",
    "# Using Loop on a List to Insert Data in Database\n",
    "\n",
    "my_list = [\"Ahmed\", \"Sayed\", \"Mahmoud\", \"Ali\", \"Kamel\", \"Ibrahim\", \"Sameh\", \"Enas\"]\n",
    "\n",
    "for key, user in enumerate(my_list): \n",
    "\n",
    "    cr.execute(f\"Insert Into Users(user_id, Name) Values({key}, '{user}')\") \n",
    "\n",
    "# Commit Changes \n",
    "\n",
    "db.commit()\n",
    "\n",
    "# Close Database \n",
    "db.close()"
   ]
  },
  {
   "cell_type": "markdown",
   "metadata": {},
   "source": [
    "Now You'll See the User Id Started From 0 Not From 1, to Fix that We Will Add `+1` to the Key"
   ]
  },
  {
   "cell_type": "code",
   "execution_count": 10,
   "metadata": {},
   "outputs": [],
   "source": [
    "# Import SQLite Module \n",
    "\n",
    "import sqlite3\n",
    "\n",
    "# Create Database and Connect \n",
    "\n",
    "db = sqlite3.connect(\"/Users/Ahmed/Desktop/app.db\")\n",
    "\n",
    "# Setting up the Cursor\n",
    "\n",
    "cr = db.cursor()\n",
    "cr.execute(\"Create Table If Not Exists Skills (Name Text, Progress Integer, User_id Integer)\")\n",
    "cr.execute(\"Create Table if Not Exists Users (User_id Integer, Name Text)\")\n",
    "\n",
    "# Using Loop on a List to Insert Data in Database\n",
    "\n",
    "my_list = [\"Ahmed\", \"Sayed\", \"Mahmoud\", \"Ali\", \"Kamel\", \"Ibrahim\", \"Sameh\", \"Enas\"]\n",
    "\n",
    "for key, user in enumerate(my_list): \n",
    "\n",
    "    cr.execute(f\"Insert Into Users(user_id, Name) Values({key + 1}, '{user}')\") \n",
    "\n",
    "# Commit Changes \n",
    "\n",
    "db.commit()\n",
    "\n",
    "# Close Database \n",
    "db.close()"
   ]
  },
  {
   "cell_type": "markdown",
   "metadata": {},
   "source": [
    ":: `Fetch Data From Database` ::\n",
    "\n",
    "❖ `fetchone` ⟶ Returns a Single Record or None if No More Rows Are Available \n",
    "\n",
    "❖ `fetchall` ⟶ Fetches All the Rows of a Query Result. It Returns All the Rows as a List of Tuples. An Empty List Is Returned if There Is No Record to Fetch \n",
    "\n",
    "❖ `fetchmany(size)` ⟶ Specify the Number of Rows We Want to Fetch From the Database"
   ]
  },
  {
   "cell_type": "code",
   "execution_count": 13,
   "metadata": {},
   "outputs": [
    {
     "name": "stdout",
     "output_type": "stream",
     "text": [
      "('Ahmed',)\n",
      "('Sayed',)\n",
      "('Osama',)\n",
      "None\n"
     ]
    }
   ],
   "source": [
    "# Import SQLite Module \n",
    "\n",
    "import sqlite3\n",
    "\n",
    "# Create Database and Connect \n",
    "\n",
    "db = sqlite3.connect(\"/Users/Ahmed/Desktop/app.db\")\n",
    "\n",
    "# Setting up the Cursor\n",
    "\n",
    "cr = db.cursor()\n",
    "cr.execute(\"Create Table If Not Exists Skills (Name Text, Progress Integer, User_id Integer)\")\n",
    "cr.execute(\"Create Table if Not Exists Users (User_id Integer, Name Text)\")\n",
    "\n",
    "# Inserting Data \n",
    "cr.execute(\"Insert Into Users(user_id, Name) Values(1, 'Ahmed')\")\n",
    "cr.execute(\"Insert Into Users(user_id, Name) Values(2, 'Sayed')\")\n",
    "cr.execute(\"Insert Into Users(user_id, Name) Values(3, 'Osama')\")\n",
    "\n",
    "# Fetch Data\n",
    "cr.execute(\"Select Name From Users\")\n",
    "print(cr.fetchone())    # Output: ('Ahmed',)\n",
    "print(cr.fetchone())    # Output: ('Sayed',)\n",
    "print(cr.fetchone())    # Output: ('Osama',)\n",
    "print(cr.fetchone())    # Output: None\n",
    "\n",
    "# Commit Changes \n",
    "db.commit()\n",
    "\n",
    "# Close Database \n",
    "db.close()"
   ]
  },
  {
   "cell_type": "markdown",
   "metadata": {},
   "source": [
    "⟶ `None` Will Appear in the Last Print because We only Have 3 Names in Our Database. "
   ]
  },
  {
   "cell_type": "code",
   "execution_count": 14,
   "metadata": {},
   "outputs": [
    {
     "name": "stdout",
     "output_type": "stream",
     "text": [
      "[('Ahmed',), ('Sayed',), ('Osama',)]\n"
     ]
    }
   ],
   "source": [
    "# Import SQLite Module \n",
    "\n",
    "import sqlite3\n",
    "\n",
    "# Create Database and Connect \n",
    "\n",
    "db = sqlite3.connect(\"/Users/Ahmed/Desktop/app.db\")\n",
    "\n",
    "# Setting up the Cursor\n",
    "\n",
    "cr = db.cursor()\n",
    "cr.execute(\"Create Table If Not Exists Skills (Name Text, Progress Integer, User_id Integer)\")\n",
    "cr.execute(\"Create Table if Not Exists Users (User_id Integer, Name Text)\")\n",
    "\n",
    "# Inserting Data \n",
    "cr.execute(\"Insert Into Users(user_id, Name) Values(1, 'Ahmed')\")\n",
    "cr.execute(\"Insert Into Users(user_id, Name) Values(2, 'Sayed')\")\n",
    "cr.execute(\"Insert Into Users(user_id, Name) Values(3, 'Osama')\")\n",
    "\n",
    "# Fetch Data\n",
    "cr.execute(\"Select Name From Users\")\n",
    "print(cr.fetchall()) # output: [('Ahmed',), ('Sayed',), ('Osama',)]\n",
    "\n",
    "# Commit Changes \n",
    "db.commit()\n",
    "\n",
    "# Close Database \n",
    "db.close()"
   ]
  },
  {
   "cell_type": "markdown",
   "metadata": {},
   "source": [
    "⟶ We Can Select Both the Name and User Id "
   ]
  },
  {
   "cell_type": "code",
   "execution_count": 15,
   "metadata": {},
   "outputs": [
    {
     "name": "stdout",
     "output_type": "stream",
     "text": [
      "[('Ahmed', 1), ('Sayed', 2), ('Osama', 3)]\n"
     ]
    }
   ],
   "source": [
    "# Import SQLite Module \n",
    "\n",
    "import sqlite3\n",
    "\n",
    "# Create Database and Connect \n",
    "\n",
    "db = sqlite3.connect(\"/Users/Ahmed/Desktop/app.db\")\n",
    "\n",
    "# Setting up the Cursor\n",
    "\n",
    "cr = db.cursor()\n",
    "cr.execute(\"Create Table If Not Exists Skills (Name Text, Progress Integer, User_id Integer)\")\n",
    "cr.execute(\"Create Table if Not Exists Users (User_id Integer, Name Text)\")\n",
    "\n",
    "# Inserting Data \n",
    "cr.execute(\"Insert Into Users(user_id, Name) Values(1, 'Ahmed')\")\n",
    "cr.execute(\"Insert Into Users(user_id, Name) Values(2, 'Sayed')\")\n",
    "cr.execute(\"Insert Into Users(user_id, Name) Values(3, 'Osama')\")\n",
    "\n",
    "# Fetch Data\n",
    "cr.execute(\"Select Name, user_id From Users\")\n",
    "print(cr.fetchall()) # output: [('Ahmed', 1), ('Sayed', 2), ('Osama', 3)]\n",
    "\n",
    "# Commit Changes \n",
    "db.commit()\n",
    "\n",
    "# Close Database \n",
    "db.close()"
   ]
  },
  {
   "cell_type": "markdown",
   "metadata": {},
   "source": [
    "⟶ We Can Also Select All Fields by Using `*`"
   ]
  },
  {
   "cell_type": "code",
   "execution_count": 16,
   "metadata": {},
   "outputs": [
    {
     "name": "stdout",
     "output_type": "stream",
     "text": [
      "[(1, 'Ahmed'), (2, 'Sayed'), (3, 'Osama')]\n"
     ]
    }
   ],
   "source": [
    "# Import SQLite Module \n",
    "\n",
    "import sqlite3\n",
    "\n",
    "# Create Database and Connect \n",
    "\n",
    "db = sqlite3.connect(\"/Users/Ahmed/Desktop/app.db\")\n",
    "\n",
    "# Setting up the Cursor\n",
    "\n",
    "cr = db.cursor()\n",
    "cr.execute(\"Create Table If Not Exists Skills (Name Text, Progress Integer, User_id Integer)\")\n",
    "cr.execute(\"Create Table if Not Exists Users (User_id Integer, Name Text)\")\n",
    "\n",
    "# Inserting Data \n",
    "cr.execute(\"Insert Into Users(user_id, Name) Values(1, 'Ahmed')\")\n",
    "cr.execute(\"Insert Into Users(user_id, Name) Values(2, 'Sayed')\")\n",
    "cr.execute(\"Insert Into Users(user_id, Name) Values(3, 'Osama')\")\n",
    "\n",
    "# Fetch Data\n",
    "cr.execute(\"Select * From Users\")\n",
    "print(cr.fetchall()) # output: [(1, 'Ahmed'), (2, 'Sayed'), (3, 'Osama')]\n",
    "\n",
    "# Commit Changes \n",
    "db.commit()\n",
    "\n",
    "# Close Database \n",
    "db.close()"
   ]
  },
  {
   "cell_type": "markdown",
   "metadata": {},
   "source": [
    "⟶ We Can Also Specify the Number of Rows Using `fetchmany()`"
   ]
  },
  {
   "cell_type": "code",
   "execution_count": 24,
   "metadata": {},
   "outputs": [
    {
     "name": "stdout",
     "output_type": "stream",
     "text": [
      "[(1, 'Ahmed'), (2, 'Sayed')]\n"
     ]
    }
   ],
   "source": [
    "# Import SQLite Module \n",
    "\n",
    "import sqlite3\n",
    "\n",
    "# Create Database and Connect \n",
    "\n",
    "db = sqlite3.connect(\"/Users/Ahmed/Desktop/app.db\")\n",
    "\n",
    "# Setting up the Cursor\n",
    "cr = db.cursor()\n",
    "cr.execute(\"Create Table If Not Exists Skills (Name Text, Progress Integer, User_id Integer)\")\n",
    "cr.execute(\"Create Table if Not Exists Users (User_id Integer, Name Text)\")\n",
    "\n",
    "# Inserting Data \n",
    "cr.execute(\"Insert Into Users(user_id, Name) Values(1, 'Ahmed')\")\n",
    "cr.execute(\"Insert Into Users(user_id, Name) Values(2, 'Sayed')\")\n",
    "cr.execute(\"Insert Into Users(user_id, Name) Values(3, 'Osama')\")\n",
    "\n",
    "# Fetch Data\n",
    "cr.execute(\"Select * From Users\")\n",
    "print(cr.fetchmany(2)) \n",
    "\n",
    "# Commit Changes \n",
    "db.commit()\n",
    "\n",
    "# Close Database \n",
    "db.close()"
   ]
  },
  {
   "cell_type": "markdown",
   "metadata": {},
   "source": [
    ":: `Practical Training on Everything` ::"
   ]
  },
  {
   "cell_type": "code",
   "execution_count": 27,
   "metadata": {},
   "outputs": [
    {
     "name": "stdout",
     "output_type": "stream",
     "text": [
      "Conccected to Database Successfully\n",
      "Database Has 3 Rows\n",
      "Showing Data:\n",
      "UserID => 1 Username => Ahmed\n",
      "UserID => 2 Username => Sayed\n",
      "UserID => 3 Username => Osama\n",
      "Connection to Database is Closed\n"
     ]
    }
   ],
   "source": [
    "import sqlite3\n",
    "\n",
    "def get_all_data(): \n",
    "\n",
    "    try: \n",
    "\n",
    "        db = sqlite3.connect(\"/Users/Ahmed/Desktop/app.db\")\n",
    "\n",
    "        print(\"Conccected to Database Successfully\")\n",
    "\n",
    "        # Setting up the Cursor\n",
    "        cr = db.cursor()\n",
    "        cr.execute(\"Create Table If Not Exists Skills (Name Text, Progress Integer, User_id Integer)\")\n",
    "        cr.execute(\"Create Table if Not Exists Users (User_id Integer, Name Text)\")\n",
    "\n",
    "        # Inserting Data \n",
    "        cr.execute(\"Insert Into Users(user_id, Name) Values(1, 'Ahmed')\")\n",
    "        cr.execute(\"Insert Into Users(user_id, Name) Values(2, 'Sayed')\")\n",
    "        cr.execute(\"Insert Into Users(user_id, Name) Values(3, 'Osama')\")\n",
    "\n",
    "        # Fetch Data\n",
    "        cr.execute(\"Select * From Users\")\n",
    "\n",
    "        # Assign Data to Variable \n",
    "        result = cr.fetchall()\n",
    "\n",
    "        \n",
    "        # Print Number of Rows\n",
    "        print(f\"Database Has {len(result)} Rows\")\n",
    "\n",
    "        # Printing \"Showing Data\"\n",
    "        print(\"Showing Data:\")\n",
    "\n",
    "        # loop on results\n",
    "        for row in result: \n",
    "\n",
    "            print(f\"UserID => {row[0]}\", end=\" \")\n",
    "            print(f\"Username => {row[1]}\")\n",
    "\n",
    "\n",
    "    except sqlite3.Error as er: \n",
    "\n",
    "        print(f\"Error Reading Data {er}\")\n",
    "\n",
    "    finally: \n",
    "        \n",
    "        if (db): \n",
    "\n",
    "            db.close()\n",
    "            print(\"Connection to Database is Closed\")\n",
    "\n",
    "get_all_data()"
   ]
  },
  {
   "cell_type": "markdown",
   "metadata": {},
   "source": [
    ":: `Update and Delete From Database` ::"
   ]
  },
  {
   "cell_type": "code",
   "execution_count": 33,
   "metadata": {},
   "outputs": [
    {
     "name": "stdout",
     "output_type": "stream",
     "text": [
      "Conccected to Database Successfully\n",
      "(1, 'Gamal')\n",
      "(2, 'Gamal')\n",
      "(3, 'Gamal')\n"
     ]
    }
   ],
   "source": [
    "import sqlite3\n",
    "\n",
    "db = sqlite3.connect(\"/Users/Ahmed/Desktop/app.db\")\n",
    "\n",
    "print(\"Conccected to Database Successfully\")\n",
    "\n",
    "# Setting up the Cursor\n",
    "cr = db.cursor()\n",
    "cr.execute(\"Create Table If Not Exists Skills (Name Text, Progress Integer, User_id Integer)\")\n",
    "cr.execute(\"Create Table if Not Exists Users (User_id Integer, Name Text)\")\n",
    "\n",
    "# Inserting Data \n",
    "cr.execute(\"Insert Into Users(user_id, Name) Values(1, 'Ahmed')\")\n",
    "cr.execute(\"Insert Into Users(user_id, Name) Values(2, 'Sayed')\")\n",
    "cr.execute(\"Insert Into Users(user_id, Name) Values(3, 'Osama')\")\n",
    "    \n",
    "\n",
    "# Update Data\n",
    "cr.execute(\"Update Users Set Name = 'Gamal'\")\n",
    "\n",
    "# Fetch Data\n",
    "cr.execute(\"Select * From Users\")\n",
    "\n",
    "print(cr.fetchone())\n",
    "print(cr.fetchone())\n",
    "print(cr.fetchone())\n"
   ]
  },
  {
   "cell_type": "markdown",
   "metadata": {},
   "source": [
    "`Be Careful`: this will change all names in the database to gamal to fix that we will use `where`"
   ]
  },
  {
   "cell_type": "code",
   "execution_count": null,
   "metadata": {},
   "outputs": [
    {
     "name": "stdout",
     "output_type": "stream",
     "text": [
      "Conccected to Database Successfully\n",
      "(1, 'Gamal')\n",
      "(2, 'Ameer')\n",
      "(3, 'Mahmoud')\n"
     ]
    }
   ],
   "source": [
    "import sqlite3\n",
    "\n",
    "db = sqlite3.connect(\"/Users/Ahmed/Desktop/app.db\")\n",
    "\n",
    "print(\"Conccected to Database Successfully\")\n",
    "\n",
    "# Setting up the Cursor\n",
    "cr = db.cursor()\n",
    "cr.execute(\"Create Table If Not Exists Skills (Name Text, Progress Integer, User_id Integer)\")\n",
    "cr.execute(\"Create Table if Not Exists Users (User_id Integer, Name Text)\")\n",
    "\n",
    "# Inserting Data \n",
    "cr.execute(\"Insert Into Users(user_id, Name) Values(1, 'Ahmed')\")\n",
    "cr.execute(\"Insert Into Users(user_id, Name) Values(2, 'Sayed')\")\n",
    "cr.execute(\"Insert Into Users(user_id, Name) Values(3, 'Osama')\")\n",
    "    \n",
    "\n",
    "# Update Data\n",
    "cr.execute(\"Update Users Set Name = 'Gamal' where user_id = 1 \")\n",
    "cr.execute(\"Update Users Set Name = 'Ameer' where user_id = 2 \")\n",
    "cr.execute(\"Update Users Set Name = 'Mahmoud' where user_id = 3 \")\n",
    "\n",
    "# Fetch Data\n",
    "cr.execute(\"Select * From Users\")\n",
    "\n",
    "print(cr.fetchone())\n",
    "print(cr.fetchone())\n",
    "print(cr.fetchone())\n"
   ]
  },
  {
   "cell_type": "markdown",
   "metadata": {},
   "source": [
    "⟶ Now Let's Delete User From the Database"
   ]
  },
  {
   "cell_type": "code",
   "execution_count": 41,
   "metadata": {},
   "outputs": [
    {
     "name": "stdout",
     "output_type": "stream",
     "text": [
      "Conccected to Database Successfully\n",
      "(2, 'Ameer')\n",
      "(3, 'Mahmoud')\n",
      "None\n"
     ]
    }
   ],
   "source": [
    "import sqlite3\n",
    "\n",
    "db = sqlite3.connect(\"/Users/Ahmed/Desktop/app.db\")\n",
    "\n",
    "print(\"Conccected to Database Successfully\")\n",
    "\n",
    "# Setting up the Cursor\n",
    "cr = db.cursor()\n",
    "cr.execute(\"Create Table If Not Exists Skills (Name Text, Progress Integer, User_id Integer)\")\n",
    "cr.execute(\"Create Table if Not Exists Users (User_id Integer, Name Text)\")\n",
    "\n",
    "# Inserting Data \n",
    "cr.execute(\"Insert Into Users(user_id, Name) Values(1, 'Ahmed')\")\n",
    "cr.execute(\"Insert Into Users(user_id, Name) Values(2, 'Sayed')\")\n",
    "cr.execute(\"Insert Into Users(user_id, Name) Values(3, 'Osama')\")\n",
    "    \n",
    "\n",
    "# Update Data\n",
    "cr.execute(\"Update Users Set Name = 'Gamal' where user_id = 1 \")\n",
    "cr.execute(\"Update Users Set Name = 'Ameer' where user_id = 2 \")\n",
    "cr.execute(\"Update Users Set Name = 'Mahmoud' where user_id = 3 \")\n",
    "\n",
    "# Delete User\n",
    "cr.execute(\"Delete from Users Where user_id = 1\")\n",
    "\n",
    "# Fetch Data\n",
    "cr.execute(\"Select * From Users\")\n",
    "\n",
    "print(cr.fetchone())\n",
    "print(cr.fetchone())\n",
    "print(cr.fetchone())\n"
   ]
  },
  {
   "cell_type": "markdown",
   "metadata": {},
   "source": [
    ":: `Practical Create Skills App` ::"
   ]
  },
  {
   "cell_type": "code",
   "execution_count": 46,
   "metadata": {},
   "outputs": [
    {
     "name": "stdout",
     "output_type": "stream",
     "text": [
      "Connection to Database Is Closed\n"
     ]
    }
   ],
   "source": [
    "\n",
    "# Import Sqlite and Setting up Cursor\n",
    "import sqlite3\n",
    "\n",
    "db = sqlite3.connect(\"/Users/Ahmed/Desktop/app.db\")\n",
    "cr = db.cursor()\n",
    "cr.execute(\"Create Table If Not Exists Skills (Name Text, Progress Integer, User_id Integer)\")\n",
    "\n",
    "# Commit and Close Method\n",
    "def commit_close(): \n",
    "    # Commit Changes\n",
    "    db.commit()\n",
    "\n",
    "    # Close Database\n",
    "    db.close()\n",
    "    print(\"Connection to Database Is Closed\")\n",
    "\n",
    "# My User ID\n",
    "uid = 1\n",
    "\n",
    "# User Input\n",
    "input_message = \"\"\"\n",
    "What Do You Want to Do? \n",
    "\"S\" => Show All Skills \n",
    "\"A\" => Add New Skill \n",
    "\"D\" => Delete a Skill\n",
    "\"U\" => Update Skill Progress\n",
    "\"Q\" => Quit the App\n",
    "\"\"\"\n",
    "user_input = input(input_message).strip().lower()\n",
    "\n",
    "# Command List\n",
    "commands_list = [\"s\", \"a\", \"d\", \"u\", \"q\"]\n",
    "\n",
    "# Define the Methods\n",
    "\n",
    "def show_skills(): \n",
    "\n",
    "    print(\"show_skills\")\n",
    "    commit_close()\n",
    "\n",
    "def add_skill(): \n",
    "\n",
    "    sk = input(\"Write Skill Name: \").strip().capitalize()\n",
    "    prog = input(\"Write Skill Progress: \").strip()\n",
    "    cr.execute(f\"insert into Skills(Name, Progress, User_id) values('{sk}', '{prog}', '{uid}')\")\n",
    "    commit_close()\n",
    "\n",
    "def delete_skill(): \n",
    "\n",
    "    sk = input(\"Write Skill Name: \").strip().capitalize()\n",
    "    cr.execute(f\"delete from Skills where Name = '{sk}'\")\n",
    "    commit_close()\n",
    "\n",
    "def update_skill(): \n",
    "\n",
    "    print(\"update_skill\")\n",
    "    commit_close()\n",
    "\n",
    "\n",
    "# Check if Input Command Is Valid\n",
    "if user_input in commands_list: \n",
    "\n",
    "    # Make Each Input Run a Specific Function\n",
    "    if user_input == \"s\": \n",
    "        show_skills()\n",
    "\n",
    "    elif user_input == \"a\": \n",
    "        add_skill()\n",
    "\n",
    "    elif user_input == \"d\": \n",
    "        delete_skill()\n",
    "\n",
    "    elif user_input == \"u\": \n",
    "        update_skill()\n",
    "    \n",
    "    else: \n",
    "        print(\"App is Closed\")\n",
    "\n",
    "\n",
    "\n",
    "else: \n",
    "\n",
    "    print(f\"Sorry This Command {user_input} Not Found\")\n",
    "\n",
    "\n"
   ]
  },
  {
   "cell_type": "markdown",
   "metadata": {},
   "source": [
    "⟶ Until This Point the Add and Delete Function Is Fine but We Will Face an Issue when a New `Uid(user)` Let's Say User 2 Log in to the System and Create a Skill the Same as a Skill User 1 Has Previously Inputed. \n",
    "\n",
    "![Delete Same Skill](https://i.imgur.com/dekcel8.png)\n",
    "\n",
    "⟶ When User 1 for Example Choose to Delete the Skill Which Is the Same as the Skill User 2 Has Inputted; the Delete Command Will Delete This Skill From All the Database \n",
    "\n",
    "⟶ So We Need to Tell the Database to Delete the Skill From a Specific User, Let's Do that "
   ]
  },
  {
   "cell_type": "code",
   "execution_count": 52,
   "metadata": {},
   "outputs": [
    {
     "name": "stdout",
     "output_type": "stream",
     "text": [
      "Connection to Database Is Closed\n"
     ]
    }
   ],
   "source": [
    "\n",
    "# Import Sqlite and Setting up Cursor\n",
    "import sqlite3\n",
    "\n",
    "db = sqlite3.connect(\"/Users/Ahmed/Desktop/app.db\")\n",
    "cr = db.cursor()\n",
    "cr.execute(\"Create Table If Not Exists Skills (Name Text, Progress Integer, User_id Integer)\")\n",
    "\n",
    "# Commit and Close Method\n",
    "def commit_close(): \n",
    "    # Commit Changes\n",
    "    db.commit()\n",
    "\n",
    "    # Close Database\n",
    "    db.close()\n",
    "    print(\"Connection to Database Is Closed\")\n",
    "\n",
    "# My User ID\n",
    "uid = 2\n",
    "\n",
    "# User Input\n",
    "input_message = \"\"\"\n",
    "What Do You Want to Do? \n",
    "\"S\" => Show All Skills \n",
    "\"A\" => Add New Skill \n",
    "\"D\" => Delete a Skill\n",
    "\"U\" => Update Skill Progress\n",
    "\"Q\" => Quit the App\n",
    "\"\"\"\n",
    "user_input = input(input_message).strip().lower()\n",
    "\n",
    "# Command List\n",
    "commands_list = [\"s\", \"a\", \"d\", \"u\", \"q\"]\n",
    "\n",
    "# Define the Methods\n",
    "\n",
    "def show_skills(): \n",
    "\n",
    "    print(\"show_skills\")\n",
    "    commit_close()\n",
    "\n",
    "def add_skill(): \n",
    "\n",
    "    sk = input(\"Write Skill Name: \").strip().capitalize()\n",
    "    prog = input(\"Write Skill Progress: \").strip()\n",
    "    cr.execute(f\"insert into Skills(Name, Progress, User_id) values('{sk}', '{prog}', '{uid}')\")\n",
    "    commit_close()\n",
    "\n",
    "def delete_skill(): \n",
    "\n",
    "    sk = input(\"Write Skill Name: \").strip().capitalize()\n",
    "    cr.execute(f\"delete from Skills where Name = '{sk}' and User_id ='{uid}'\")\n",
    "    commit_close()\n",
    "\n",
    "def update_skill(): \n",
    "\n",
    "    print(\"update_skill\")\n",
    "    commit_close()\n",
    "\n",
    "\n",
    "# Check if Input Command Is Valid\n",
    "if user_input in commands_list: \n",
    "\n",
    "    # Make Each Input Run a Specific Function\n",
    "    if user_input == \"s\": \n",
    "        show_skills()\n",
    "\n",
    "    elif user_input == \"a\": \n",
    "        add_skill()\n",
    "\n",
    "    elif user_input == \"d\": \n",
    "        delete_skill()\n",
    "\n",
    "    elif user_input == \"u\": \n",
    "        update_skill()\n",
    "    \n",
    "    else: \n",
    "        print(\"App is Closed\")\n",
    "\n",
    "\n",
    "\n",
    "else: \n",
    "\n",
    "    print(f\"Sorry This Command {user_input} Not Found\")\n",
    "\n",
    "\n"
   ]
  },
  {
   "cell_type": "markdown",
   "metadata": {},
   "source": [
    "Now We Have Successfuly Deleted the Skill that Belongs to a Specific User (user 2)\n",
    "\n",
    "![After Delete](https://i.imgur.com/34ZuJAz.png)\n"
   ]
  },
  {
   "cell_type": "markdown",
   "metadata": {},
   "source": [
    "⟶ Now Let's Continue Working on Our App and Make The `show_skills` Function"
   ]
  },
  {
   "cell_type": "code",
   "execution_count": 55,
   "metadata": {},
   "outputs": [
    {
     "name": "stdout",
     "output_type": "stream",
     "text": [
      "You Have '3' Skills\n",
      "Showing Skills with Progress: \n",
      "Skills => 'Mysql' Progress => '80'%\n",
      "Skills => 'Scala' Progress => '50'%\n",
      "Skills => 'Php' Progress => '80'%\n",
      "Connection to Database Is Closed\n"
     ]
    }
   ],
   "source": [
    "\n",
    "# Import Sqlite and Setting up Cursor\n",
    "import sqlite3\n",
    "\n",
    "db = sqlite3.connect(\"/Users/Ahmed/Desktop/app.db\")\n",
    "cr = db.cursor()\n",
    "cr.execute(\"Create Table If Not Exists Skills (Name Text, Progress Integer, User_id Integer)\")\n",
    "\n",
    "# Commit and Close Method\n",
    "def commit_close(): \n",
    "    db.commit() # Commit Changes\n",
    "    db.close()  # Close Database\n",
    "    print(\"Connection to Database Is Closed\")\n",
    "\n",
    "# My User ID\n",
    "uid = 1\n",
    "\n",
    "# User Input\n",
    "input_message = \"\"\"\n",
    "What Do You Want to Do? \n",
    "\"S\" => Show All Skills \n",
    "\"A\" => Add New Skill \n",
    "\"D\" => Delete a Skill\n",
    "\"U\" => Update Skill Progress\n",
    "\"Q\" => Quit the App\n",
    "\"\"\"\n",
    "user_input = input(input_message).strip().lower()\n",
    "\n",
    "# Command List\n",
    "commands_list = [\"s\", \"a\", \"d\", \"u\", \"q\"]\n",
    "\n",
    "# Define the Methods\n",
    "\n",
    "def show_skills(): \n",
    "\n",
    "    cr.execute(f\"select * from Skills where User_id = '{uid}' \")\n",
    "    result = cr.fetchall()\n",
    "    print(f\"You Have '{len(result)}' Skills\")\n",
    "    print(\"Showing Skills with Progress: \")\n",
    "    \n",
    "    for row in result: \n",
    "\n",
    "        print(f\"Skills => '{row[0]}'\", end=\" \")\n",
    "        print(f\"Progress => '{row[1]}'%\")\n",
    "\n",
    "\n",
    "    commit_close()\n",
    "\n",
    "def add_skill(): \n",
    "\n",
    "    sk = input(\"Write Skill Name: \").strip().capitalize()\n",
    "    prog = input(\"Write Skill Progress: \").strip()\n",
    "    cr.execute(f\"insert into Skills(Name, Progress, User_id) values('{sk}', '{prog}', '{uid}')\")\n",
    "    commit_close()\n",
    "\n",
    "def delete_skill(): \n",
    "\n",
    "    sk = input(\"Write Skill Name: \").strip().capitalize()\n",
    "    cr.execute(f\"delete from Skills where Name = '{sk}' and User_id ='{uid}'\")\n",
    "    commit_close()\n",
    "\n",
    "def update_skill(): \n",
    "\n",
    "    print(\"update_skill\")\n",
    "    commit_close()\n",
    "\n",
    "\n",
    "# Check if Input Command Is Valid\n",
    "if user_input in commands_list: \n",
    "\n",
    "    # Make Each Input Run a Specific Function\n",
    "    if user_input == \"s\": \n",
    "        show_skills()\n",
    "\n",
    "    elif user_input == \"a\": \n",
    "        add_skill()\n",
    "\n",
    "    elif user_input == \"d\": \n",
    "        delete_skill()\n",
    "\n",
    "    elif user_input == \"u\": \n",
    "        update_skill()\n",
    "    \n",
    "    else: \n",
    "        print(\"App is Closed\")\n",
    "        commit_close()\n",
    "\n",
    "\n",
    "\n",
    "else: \n",
    "\n",
    "    print(f\"Sorry This Command {user_input} Not Found\")\n",
    "\n",
    "\n"
   ]
  },
  {
   "cell_type": "markdown",
   "metadata": {},
   "source": [
    "⟶ Now Let's Change Uid(user_id) to 3 This User 3 Doesn't Have Any Skills and Let's Try to Show His Skills"
   ]
  },
  {
   "cell_type": "code",
   "execution_count": 56,
   "metadata": {},
   "outputs": [
    {
     "name": "stdout",
     "output_type": "stream",
     "text": [
      "You Have '0' Skills\n",
      "Showing Skills with Progress: \n",
      "Connection to Database Is Closed\n"
     ]
    }
   ],
   "source": [
    "\n",
    "# Import Sqlite and Setting up Cursor\n",
    "import sqlite3\n",
    "\n",
    "db = sqlite3.connect(\"/Users/Ahmed/Desktop/app.db\")\n",
    "cr = db.cursor()\n",
    "cr.execute(\"Create Table If Not Exists Skills (Name Text, Progress Integer, User_id Integer)\")\n",
    "\n",
    "# Commit and Close Method\n",
    "def commit_close(): \n",
    "    db.commit() # Commit Changes\n",
    "    db.close()  # Close Database\n",
    "    print(\"Connection to Database Is Closed\")\n",
    "\n",
    "# My User ID\n",
    "uid = 3\n",
    "\n",
    "# User Input\n",
    "input_message = \"\"\"\n",
    "What Do You Want to Do? \n",
    "\"S\" => Show All Skills \n",
    "\"A\" => Add New Skill \n",
    "\"D\" => Delete a Skill\n",
    "\"U\" => Update Skill Progress\n",
    "\"Q\" => Quit the App\n",
    "\"\"\"\n",
    "user_input = input(input_message).strip().lower()\n",
    "\n",
    "# Command List\n",
    "commands_list = [\"s\", \"a\", \"d\", \"u\", \"q\"]\n",
    "\n",
    "# Define the Methods\n",
    "\n",
    "def show_skills(): \n",
    "\n",
    "    cr.execute(f\"select * from Skills where User_id = '{uid}' \")\n",
    "    result = cr.fetchall()\n",
    "    print(f\"You Have '{len(result)}' Skills\")\n",
    "    print(\"Showing Skills with Progress: \")\n",
    "    \n",
    "    for row in result: \n",
    "\n",
    "        print(f\"Skills => '{row[0]}'\", end=\" \")\n",
    "        print(f\"Progress => '{row[1]}'%\")\n",
    "\n",
    "\n",
    "    commit_close()\n",
    "\n",
    "def add_skill(): \n",
    "\n",
    "    sk = input(\"Write Skill Name: \").strip().capitalize()\n",
    "    prog = input(\"Write Skill Progress: \").strip()\n",
    "    cr.execute(f\"insert into Skills(Name, Progress, User_id) values('{sk}', '{prog}', '{uid}')\")\n",
    "    commit_close()\n",
    "\n",
    "def delete_skill(): \n",
    "\n",
    "    sk = input(\"Write Skill Name: \").strip().capitalize()\n",
    "    cr.execute(f\"delete from Skills where Name = '{sk}' and User_id ='{uid}'\")\n",
    "    commit_close()\n",
    "\n",
    "def update_skill(): \n",
    "\n",
    "    print(\"update_skill\")\n",
    "    commit_close()\n",
    "\n",
    "\n",
    "# Check if Input Command Is Valid\n",
    "if user_input in commands_list: \n",
    "\n",
    "    # Make Each Input Run a Specific Function\n",
    "    if user_input == \"s\": \n",
    "        show_skills()\n",
    "\n",
    "    elif user_input == \"a\": \n",
    "        add_skill()\n",
    "\n",
    "    elif user_input == \"d\": \n",
    "        delete_skill()\n",
    "\n",
    "    elif user_input == \"u\": \n",
    "        update_skill()\n",
    "    \n",
    "    else: \n",
    "        print(\"App is Closed\")\n",
    "        commit_close()\n",
    "\n",
    "\n",
    "\n",
    "else: \n",
    "\n",
    "    print(f\"Sorry This Command {user_input} Not Found\")\n",
    "\n",
    "\n"
   ]
  },
  {
   "cell_type": "markdown",
   "metadata": {},
   "source": [
    "In the Printed Message It Says You Have Zero Skills and It Also Says `Showing Skills with Progress:` \n",
    "\n",
    "and We Don't Want to Show This Message to a User Who Doesn't Have Any Skills \n",
    "\n",
    "How to Fix that ? we will use `if` statement in `show_skills()` method"
   ]
  },
  {
   "cell_type": "code",
   "execution_count": 57,
   "metadata": {},
   "outputs": [
    {
     "name": "stdout",
     "output_type": "stream",
     "text": [
      "You Have '0' Skills\n",
      "Connection to Database Is Closed\n"
     ]
    }
   ],
   "source": [
    "\n",
    "# Import Sqlite and Setting up Cursor\n",
    "import sqlite3\n",
    "\n",
    "db = sqlite3.connect(\"/Users/Ahmed/Desktop/app.db\")\n",
    "cr = db.cursor()\n",
    "cr.execute(\"Create Table If Not Exists Skills (Name Text, Progress Integer, User_id Integer)\")\n",
    "\n",
    "# Commit and Close Method\n",
    "def commit_close(): \n",
    "    db.commit() # Commit Changes\n",
    "    db.close()  # Close Database\n",
    "    print(\"Connection to Database Is Closed\")\n",
    "\n",
    "# My User ID\n",
    "uid = 3\n",
    "\n",
    "# User Input\n",
    "input_message = \"\"\"\n",
    "What Do You Want to Do? \n",
    "\"S\" => Show All Skills \n",
    "\"A\" => Add New Skill \n",
    "\"D\" => Delete a Skill\n",
    "\"U\" => Update Skill Progress\n",
    "\"Q\" => Quit the App\n",
    "\"\"\"\n",
    "user_input = input(input_message).strip().lower()\n",
    "\n",
    "# Command List\n",
    "commands_list = [\"s\", \"a\", \"d\", \"u\", \"q\"]\n",
    "\n",
    "# Define the Methods\n",
    "\n",
    "def show_skills(): \n",
    "\n",
    "    cr.execute(f\"select * from Skills where User_id = '{uid}' \")\n",
    "    result = cr.fetchall()\n",
    "    print(f\"You Have '{len(result)}' Skills\")\n",
    "    \n",
    "    if len(result) > 0: \n",
    "\n",
    "        print(\"Showing Skills with Progress: \")\n",
    "\n",
    "    \n",
    "    for row in result: \n",
    "\n",
    "        print(f\"Skills => '{row[0]}'\", end=\" \")\n",
    "        print(f\"Progress => '{row[1]}'%\")\n",
    "\n",
    "\n",
    "    commit_close()\n",
    "\n",
    "def add_skill(): \n",
    "\n",
    "    sk = input(\"Write Skill Name: \").strip().capitalize()\n",
    "    prog = input(\"Write Skill Progress: \").strip()\n",
    "    cr.execute(f\"insert into Skills(Name, Progress, User_id) values('{sk}', '{prog}', '{uid}')\")\n",
    "    commit_close()\n",
    "\n",
    "def delete_skill(): \n",
    "\n",
    "    sk = input(\"Write Skill Name: \").strip().capitalize()\n",
    "    cr.execute(f\"delete from Skills where Name = '{sk}' and User_id ='{uid}'\")\n",
    "    commit_close()\n",
    "\n",
    "def update_skill(): \n",
    "\n",
    "    print(\"update_skill\")\n",
    "    commit_close()\n",
    "\n",
    "\n",
    "# Check if Input Command Is Valid\n",
    "if user_input in commands_list: \n",
    "\n",
    "    # Make Each Input Run a Specific Function\n",
    "    if user_input == \"s\": \n",
    "        show_skills()\n",
    "\n",
    "    elif user_input == \"a\": \n",
    "        add_skill()\n",
    "\n",
    "    elif user_input == \"d\": \n",
    "        delete_skill()\n",
    "\n",
    "    elif user_input == \"u\": \n",
    "        update_skill()\n",
    "    \n",
    "    else: \n",
    "        print(\"App is Closed\")\n",
    "        commit_close()\n",
    "\n",
    "\n",
    "\n",
    "else: \n",
    "\n",
    "    print(f\"Sorry This Command {user_input} Not Found\")\n",
    "\n",
    "\n"
   ]
  },
  {
   "cell_type": "markdown",
   "metadata": {},
   "source": [
    "⟶ Now Let's Continue Working on the App and on `Update` Function"
   ]
  },
  {
   "cell_type": "code",
   "execution_count": 58,
   "metadata": {},
   "outputs": [
    {
     "name": "stdout",
     "output_type": "stream",
     "text": [
      "Connection to Database Is Closed\n"
     ]
    }
   ],
   "source": [
    "\n",
    "# Import Sqlite and Setting up Cursor\n",
    "import sqlite3\n",
    "\n",
    "db = sqlite3.connect(\"/Users/Ahmed/Desktop/app.db\")\n",
    "cr = db.cursor()\n",
    "cr.execute(\"Create Table If Not Exists Skills (Name Text, Progress Integer, User_id Integer)\")\n",
    "\n",
    "# Commit and Close Method\n",
    "def commit_close(): \n",
    "    db.commit() # Commit Changes\n",
    "    db.close()  # Close Database\n",
    "    print(\"Connection to Database Is Closed\")\n",
    "\n",
    "# My User ID\n",
    "uid = 2\n",
    "\n",
    "# User Input\n",
    "input_message = \"\"\"\n",
    "What Do You Want to Do? \n",
    "\"S\" => Show All Skills \n",
    "\"A\" => Add New Skill \n",
    "\"D\" => Delete a Skill\n",
    "\"U\" => Update Skill Progress\n",
    "\"Q\" => Quit the App\n",
    "\"\"\"\n",
    "user_input = input(input_message).strip().lower()\n",
    "\n",
    "# Command List\n",
    "commands_list = [\"s\", \"a\", \"d\", \"u\", \"q\"]\n",
    "\n",
    "# Define the Methods\n",
    "\n",
    "def show_skills(): \n",
    "\n",
    "    cr.execute(f\"select * from Skills where User_id = '{uid}' \")\n",
    "    result = cr.fetchall()\n",
    "    print(f\"You Have '{len(result)}' Skills\")\n",
    "    \n",
    "    if len(result) > 0: \n",
    "\n",
    "        print(\"Showing Skills with Progress: \")\n",
    "\n",
    "    \n",
    "    for row in result: \n",
    "\n",
    "        print(f\"Skills => '{row[0]}'\", end=\" \")\n",
    "        print(f\"Progress => '{row[1]}'%\")\n",
    "\n",
    "\n",
    "    commit_close()\n",
    "\n",
    "def add_skill(): \n",
    "\n",
    "    sk = input(\"Write Skill Name: \").strip().capitalize()\n",
    "    prog = input(\"Write Skill Progress: \").strip()\n",
    "    cr.execute(f\"insert into Skills(Name, Progress, User_id) values('{sk}', '{prog}', '{uid}')\")\n",
    "    commit_close()\n",
    "\n",
    "def delete_skill(): \n",
    "\n",
    "    sk = input(\"Write Skill Name: \").strip().capitalize()\n",
    "    cr.execute(f\"delete from Skills where Name = '{sk}' and User_id ='{uid}'\")\n",
    "    commit_close()\n",
    "\n",
    "def update_skill(): \n",
    "\n",
    "    sk = input(\"Write Skill Name: \").strip().capitalize()\n",
    "    prog = input(\"Write The New Skill Progress: \").strip()\n",
    "    cr.execute(f\"update Skills set Progress = '{prog}' where Name = '{sk}' and User_id = '{uid}' \")\n",
    "    commit_close()\n",
    "\n",
    "\n",
    "# Check if Input Command Is Valid\n",
    "if user_input in commands_list: \n",
    "\n",
    "    # Make Each Input Run a Specific Function\n",
    "    if user_input == \"s\": \n",
    "        show_skills()\n",
    "\n",
    "    elif user_input == \"a\": \n",
    "        add_skill()\n",
    "\n",
    "    elif user_input == \"d\": \n",
    "        delete_skill()\n",
    "\n",
    "    elif user_input == \"u\": \n",
    "        update_skill()\n",
    "    \n",
    "    else: \n",
    "        print(\"App is Closed\")\n",
    "        commit_close()\n",
    "\n",
    "\n",
    "\n",
    "else: \n",
    "\n",
    "    print(f\"Sorry This Command {user_input} Not Found\")\n",
    "\n",
    "\n"
   ]
  },
  {
   "cell_type": "markdown",
   "metadata": {},
   "source": [
    "⟶ now the app is almost completed, we need to make some enhancements. let's create a system to check if the user is trying to enter a skill he previously inputted "
   ]
  },
  {
   "cell_type": "code",
   "execution_count": 59,
   "metadata": {},
   "outputs": [
    {
     "name": "stdout",
     "output_type": "stream",
     "text": [
      "Skill Already Exists, You Cannot Add It\n",
      "Connection to Database Is Closed\n"
     ]
    }
   ],
   "source": [
    "\n",
    "# Import Sqlite and Setting up Cursor\n",
    "import sqlite3\n",
    "\n",
    "db = sqlite3.connect(\"/Users/Ahmed/Desktop/app.db\")\n",
    "cr = db.cursor()\n",
    "cr.execute(\"Create Table If Not Exists Skills (Name Text, Progress Integer, User_id Integer)\")\n",
    "\n",
    "# Commit and Close Method\n",
    "def commit_close(): \n",
    "    db.commit() # Commit Changes\n",
    "    db.close()  # Close Database\n",
    "    print(\"Connection to Database Is Closed\")\n",
    "\n",
    "# My User ID\n",
    "uid = 1\n",
    "\n",
    "# User Input\n",
    "input_message = \"\"\"\n",
    "What Do You Want to Do? \n",
    "\"S\" => Show All Skills \n",
    "\"A\" => Add New Skill \n",
    "\"D\" => Delete a Skill\n",
    "\"U\" => Update Skill Progress\n",
    "\"Q\" => Quit the App\n",
    "\"\"\"\n",
    "user_input = input(input_message).strip().lower()\n",
    "\n",
    "# Command List\n",
    "commands_list = [\"s\", \"a\", \"d\", \"u\", \"q\"]\n",
    "\n",
    "# Define the Methods\n",
    "\n",
    "def show_skills(): \n",
    "\n",
    "    cr.execute(f\"select * from Skills where User_id = '{uid}' \")\n",
    "    result = cr.fetchall()\n",
    "    print(f\"You Have '{len(result)}' Skills\")\n",
    "    \n",
    "    if len(result) > 0: \n",
    "\n",
    "        print(\"Showing Skills with Progress: \")\n",
    "\n",
    "    \n",
    "    for row in result: \n",
    "\n",
    "        print(f\"Skills => '{row[0]}'\", end=\" \")\n",
    "        print(f\"Progress => '{row[1]}'%\")\n",
    "\n",
    "\n",
    "    commit_close()\n",
    "\n",
    "def add_skill(): \n",
    "\n",
    "    sk = input(\"Write Skill Name: \").strip().capitalize()\n",
    "\n",
    "    cr.execute(f\"select Name from Skills where Name = '{sk}' and User_id = '{uid}'\")\n",
    "    result = cr.fetchone()\n",
    "    \n",
    "    if result == None: # The Skill Is Not in the Database\n",
    "\n",
    "        prog = input(\"Write Skill Progress: \").strip()\n",
    "        cr.execute(f\"insert into Skills(Name, Progress, User_id) values('{sk}', '{prog}', '{uid}')\")\n",
    "\n",
    "    else: # The Skill Is in the Database\n",
    "\n",
    "        print(\"Skill Already Exists, You Cannot Add It\")\n",
    "\n",
    "    commit_close()\n",
    "\n",
    "def delete_skill(): \n",
    "\n",
    "    sk = input(\"Write Skill Name: \").strip().capitalize()\n",
    "    cr.execute(f\"delete from Skills where Name = '{sk}' and User_id ='{uid}'\")\n",
    "    commit_close()\n",
    "\n",
    "def update_skill(): \n",
    "\n",
    "    sk = input(\"Write Skill Name: \").strip().capitalize()\n",
    "    prog = input(\"Write The New Skill Progress: \").strip()\n",
    "    cr.execute(f\"update Skills set Progress = '{prog}' where Name = '{sk}' and User_id = '{uid}' \")\n",
    "    commit_close()\n",
    "\n",
    "\n",
    "# Check if Input Command Is Valid\n",
    "if user_input in commands_list: \n",
    "\n",
    "    # Make Each Input Run a Specific Function\n",
    "    if user_input == \"s\": \n",
    "        show_skills()\n",
    "\n",
    "    elif user_input == \"a\": \n",
    "        add_skill()\n",
    "\n",
    "    elif user_input == \"d\": \n",
    "        delete_skill()\n",
    "\n",
    "    elif user_input == \"u\": \n",
    "        update_skill()\n",
    "    \n",
    "    else: \n",
    "        print(\"App is Closed\")\n",
    "        commit_close()\n",
    "\n",
    "\n",
    "\n",
    "else: \n",
    "\n",
    "    print(f\"Sorry This Command {user_input} Not Found\")\n",
    "\n",
    "\n"
   ]
  },
  {
   "cell_type": "markdown",
   "metadata": {},
   "source": [
    ":: `Your Assignment` ::\n",
    "\n",
    "In the Add_skill Function > the Else Condition, Make a System to Update the Current Skill with a Yes or No Input Question, if the User Choosed `No` Close the App, if He Choosed `Yes` Update the Progress with New Progress(input Command) or Run the Update Function Itself"
   ]
  },
  {
   "cell_type": "markdown",
   "metadata": {},
   "source": [
    "The `where` Query Can Be Used Like This for Ex: \n",
    "\n",
    "> where User_id > 1\n",
    "\n",
    "And We Can Put Equations and a Whole Lot More Like `in` and `Not in` "
   ]
  },
  {
   "cell_type": "markdown",
   "metadata": {},
   "source": [
    "##### **Advanced Lessons**\n",
    "\n",
    ":: `__name and __main__` ::\n",
    "\n",
    "❖ __Execution Methods__: \n",
    "\n",
    "↪ Directly => Execute the Python File Using the Command Line. \n",
    "\n",
    "↪ From Import => Import the Code From File to Another File. \n",
    "\n",
    "❖ In some Cases You Want to Know if You Are Using a Module Method as Import or You Use the Original Python File.\n",
    "\n",
    "❖ In Direct Mode Python Assign a Value \"`__main__`\" To the Built in Variable `__name__` In the Background. "
   ]
  },
  {
   "cell_type": "code",
   "execution_count": 60,
   "metadata": {},
   "outputs": [
    {
     "name": "stdout",
     "output_type": "stream",
     "text": [
      "__main__\n"
     ]
    }
   ],
   "source": [
    "print(__name__)"
   ]
  },
  {
   "cell_type": "markdown",
   "metadata": {},
   "source": [
    ":: `Timing Your Code with Timeit` ::\n",
    "\n",
    "❖ Timeit: Get Execution Time of Code by Running 1m Time and Give You Minimal Time \n",
    "\n",
    "❖ It's Used for Performance by Testing All Functionality \n",
    "\n",
    "❖ Itmeit(stmt, Setup, Timer, Number)\n",
    "\n",
    "❖ Timeit(pass, Pass, Default, 1.000.00) Default Values\n",
    "\n",
    "↪ `Stmt`: Code You Want to Measure the Execution Time. \n",
    "\n",
    "↪ `Setup`: Setup Done Before the Code Execution (Import Module or Anything)\n",
    "\n",
    "↪ `Timer`: The Timer Value. \n",
    "\n",
    "↪ `Number`: How Many Execution that Will Run "
   ]
  },
  {
   "cell_type": "code",
   "execution_count": 61,
   "metadata": {},
   "outputs": [
    {
     "name": "stdout",
     "output_type": "stream",
     "text": [
      "0.1970752909546718\n"
     ]
    }
   ],
   "source": [
    "import timeit\n",
    "\n",
    "print(timeit.timeit(\"'Elzero' * 1000\"))"
   ]
  },
  {
   "cell_type": "code",
   "execution_count": 62,
   "metadata": {},
   "outputs": [
    {
     "name": "stdout",
     "output_type": "stream",
     "text": [
      "ElzeroElzeroElzeroElzeroElzeroElzeroElzeroElzeroElzeroElzeroElzeroElzeroElzeroElzeroElzeroElzeroElzeroElzeroElzeroElzeroElzeroElzeroElzeroElzeroElzeroElzeroElzeroElzeroElzeroElzeroElzeroElzeroElzeroElzeroElzeroElzeroElzeroElzeroElzeroElzeroElzeroElzeroElzeroElzeroElzeroElzeroElzeroElzeroElzeroElzeroElzeroElzeroElzeroElzeroElzeroElzeroElzeroElzeroElzeroElzeroElzeroElzeroElzeroElzeroElzeroElzeroElzeroElzeroElzeroElzeroElzeroElzeroElzeroElzeroElzeroElzeroElzeroElzeroElzeroElzeroElzeroElzeroElzeroElzeroElzeroElzeroElzeroElzeroElzeroElzeroElzeroElzeroElzeroElzeroElzeroElzeroElzeroElzeroElzeroElzeroElzeroElzeroElzeroElzeroElzeroElzeroElzeroElzeroElzeroElzeroElzeroElzeroElzeroElzeroElzeroElzeroElzeroElzeroElzeroElzeroElzeroElzeroElzeroElzeroElzeroElzeroElzeroElzeroElzeroElzeroElzeroElzeroElzeroElzeroElzeroElzeroElzeroElzeroElzeroElzeroElzeroElzeroElzeroElzeroElzeroElzeroElzeroElzeroElzeroElzeroElzeroElzeroElzeroElzeroElzeroElzeroElzeroElzeroElzeroElzeroElzeroElzeroElzeroElzeroElzeroElzeroElzeroElzeroElzeroElzeroElzeroElzeroElzeroElzeroElzeroElzeroElzeroElzeroElzeroElzeroElzeroElzeroElzeroElzeroElzeroElzeroElzeroElzeroElzeroElzeroElzeroElzeroElzeroElzeroElzeroElzeroElzeroElzeroElzeroElzeroElzeroElzeroElzeroElzeroElzeroElzeroElzeroElzeroElzeroElzeroElzeroElzeroElzeroElzeroElzeroElzeroElzeroElzeroElzeroElzeroElzeroElzeroElzeroElzeroElzeroElzeroElzeroElzeroElzeroElzeroElzeroElzeroElzeroElzeroElzeroElzeroElzeroElzeroElzeroElzeroElzeroElzeroElzeroElzeroElzeroElzeroElzeroElzeroElzeroElzeroElzeroElzeroElzeroElzeroElzeroElzeroElzeroElzeroElzeroElzeroElzeroElzeroElzeroElzeroElzeroElzeroElzeroElzeroElzeroElzeroElzeroElzeroElzeroElzeroElzeroElzeroElzeroElzeroElzeroElzeroElzeroElzeroElzeroElzeroElzeroElzeroElzeroElzeroElzeroElzeroElzeroElzeroElzeroElzeroElzeroElzeroElzeroElzeroElzeroElzeroElzeroElzeroElzeroElzeroElzeroElzeroElzeroElzeroElzeroElzeroElzeroElzeroElzeroElzeroElzeroElzeroElzeroElzeroElzeroElzeroElzeroElzeroElzeroElzeroElzeroElzeroElzeroElzeroElzeroElzeroElzeroElzeroElzeroElzeroElzeroElzeroElzeroElzeroElzeroElzeroElzeroElzeroElzeroElzeroElzeroElzeroElzeroElzeroElzeroElzeroElzeroElzeroElzeroElzeroElzeroElzeroElzeroElzeroElzeroElzeroElzeroElzeroElzeroElzeroElzeroElzeroElzeroElzeroElzeroElzeroElzeroElzeroElzeroElzeroElzeroElzeroElzeroElzeroElzeroElzeroElzeroElzeroElzeroElzeroElzeroElzeroElzeroElzeroElzeroElzeroElzeroElzeroElzeroElzeroElzeroElzeroElzeroElzeroElzeroElzeroElzeroElzeroElzeroElzeroElzeroElzeroElzeroElzeroElzeroElzeroElzeroElzeroElzeroElzeroElzeroElzeroElzeroElzeroElzeroElzeroElzeroElzeroElzeroElzeroElzeroElzeroElzeroElzeroElzeroElzeroElzeroElzeroElzeroElzeroElzeroElzeroElzeroElzeroElzeroElzeroElzeroElzeroElzeroElzeroElzeroElzeroElzeroElzeroElzeroElzeroElzeroElzeroElzeroElzeroElzeroElzeroElzeroElzeroElzeroElzeroElzeroElzeroElzeroElzeroElzeroElzeroElzeroElzeroElzeroElzeroElzeroElzeroElzeroElzeroElzeroElzeroElzeroElzeroElzeroElzeroElzeroElzeroElzeroElzeroElzeroElzeroElzeroElzeroElzeroElzeroElzeroElzeroElzeroElzeroElzeroElzeroElzeroElzeroElzeroElzeroElzeroElzeroElzeroElzeroElzeroElzeroElzeroElzeroElzeroElzeroElzeroElzeroElzeroElzeroElzeroElzeroElzeroElzeroElzeroElzeroElzeroElzeroElzeroElzeroElzeroElzeroElzeroElzeroElzeroElzeroElzeroElzeroElzeroElzeroElzeroElzeroElzeroElzeroElzeroElzeroElzeroElzeroElzeroElzeroElzeroElzeroElzeroElzeroElzeroElzeroElzeroElzeroElzeroElzeroElzeroElzeroElzeroElzeroElzeroElzeroElzeroElzeroElzeroElzeroElzeroElzeroElzeroElzeroElzeroElzeroElzeroElzeroElzeroElzeroElzeroElzeroElzeroElzeroElzeroElzeroElzeroElzeroElzeroElzeroElzeroElzeroElzeroElzeroElzeroElzeroElzeroElzeroElzeroElzeroElzeroElzeroElzeroElzeroElzeroElzeroElzeroElzeroElzeroElzeroElzeroElzeroElzeroElzeroElzeroElzeroElzeroElzeroElzeroElzeroElzeroElzeroElzeroElzeroElzeroElzeroElzeroElzeroElzeroElzeroElzeroElzeroElzeroElzeroElzeroElzeroElzeroElzeroElzeroElzeroElzeroElzeroElzeroElzeroElzeroElzeroElzeroElzeroElzeroElzeroElzeroElzeroElzeroElzeroElzeroElzeroElzeroElzeroElzeroElzeroElzeroElzeroElzeroElzeroElzeroElzeroElzeroElzeroElzeroElzeroElzeroElzeroElzeroElzeroElzeroElzeroElzeroElzeroElzeroElzeroElzeroElzeroElzeroElzeroElzeroElzeroElzeroElzeroElzeroElzeroElzeroElzeroElzeroElzeroElzeroElzeroElzeroElzeroElzeroElzeroElzeroElzeroElzeroElzeroElzeroElzeroElzeroElzeroElzeroElzeroElzeroElzeroElzeroElzeroElzeroElzeroElzeroElzeroElzeroElzeroElzeroElzeroElzeroElzeroElzeroElzeroElzeroElzeroElzeroElzeroElzeroElzeroElzeroElzeroElzeroElzeroElzeroElzeroElzeroElzeroElzeroElzeroElzeroElzeroElzeroElzeroElzeroElzeroElzeroElzeroElzeroElzeroElzeroElzeroElzeroElzeroElzeroElzeroElzeroElzeroElzeroElzeroElzeroElzeroElzeroElzeroElzeroElzeroElzeroElzeroElzeroElzeroElzeroElzeroElzeroElzeroElzeroElzeroElzeroElzeroElzeroElzeroElzeroElzeroElzeroElzeroElzeroElzeroElzeroElzeroElzeroElzeroElzeroElzeroElzeroElzeroElzeroElzeroElzeroElzeroElzeroElzeroElzeroElzeroElzeroElzeroElzeroElzeroElzeroElzeroElzeroElzeroElzeroElzeroElzeroElzeroElzeroElzeroElzeroElzeroElzeroElzeroElzeroElzeroElzeroElzeroElzeroElzeroElzeroElzeroElzeroElzeroElzeroElzeroElzeroElzeroElzeroElzeroElzeroElzeroElzeroElzeroElzeroElzeroElzeroElzeroElzeroElzeroElzeroElzeroElzeroElzeroElzeroElzeroElzeroElzeroElzeroElzeroElzeroElzeroElzeroElzeroElzeroElzeroElzeroElzeroElzeroElzeroElzeroElzeroElzeroElzeroElzeroElzeroElzeroElzeroElzeroElzeroElzeroElzeroElzeroElzeroElzeroElzeroElzeroElzeroElzeroElzeroElzeroElzeroElzeroElzeroElzeroElzeroElzeroElzeroElzeroElzeroElzeroElzeroElzeroElzeroElzeroElzeroElzeroElzeroElzeroElzeroElzeroElzeroElzeroElzeroElzeroElzeroElzeroElzeroElzeroElzeroElzeroElzeroElzeroElzeroElzeroElzeroElzeroElzeroElzeroElzeroElzeroElzeroElzeroElzeroElzeroElzeroElzeroElzeroElzeroElzeroElzeroElzeroElzeroElzeroElzeroElzeroElzeroElzeroElzeroElzeroElzeroElzeroElzeroElzeroElzeroElzeroElzeroElzeroElzeroElzeroElzeroElzeroElzeroElzeroElzeroElzeroElzeroElzeroElzeroElzeroElzeroElzeroElzeroElzeroElzeroElzeroElzeroElzeroElzeroElzeroElzeroElzeroElzeroElzeroElzeroElzeroElzeroElzeroElzeroElzeroElzeroElzeroElzeroElzeroElzeroElzeroElzeroElzeroElzeroElzeroElzeroElzeroElzeroElzeroElzeroElzeroElzeroElzero\n",
      "0.1521377500030212\n"
     ]
    }
   ],
   "source": [
    "import timeit\n",
    "\n",
    "name = \"Elzero\"\n",
    "\n",
    "print(name * 1000)\n",
    "\n",
    "print(timeit.timeit(\"name = 'Elzero'; name * 1000\"))"
   ]
  },
  {
   "cell_type": "code",
   "execution_count": 63,
   "metadata": {},
   "outputs": [
    {
     "name": "stdout",
     "output_type": "stream",
     "text": [
      "0.24633791600354016\n",
      "[0.22280108398990706, 0.22531800001161173, 0.23496204195544124, 0.22929529199609533]\n"
     ]
    }
   ],
   "source": [
    "import timeit\n",
    "\n",
    "print(timeit.timeit(stmt=\"random.randint(0, 50)\", setup=\"import random\"))\n",
    "\n",
    "print(timeit.repeat(stmt=\"random.randint(0, 50)\", setup=\"import random\", repeat=4))"
   ]
  },
  {
   "cell_type": "markdown",
   "metadata": {},
   "source": [
    ":: `Add Logging to Your Code` ::\n",
    "\n",
    "❖ Print Out to Console or File. \n",
    "\n",
    "❖ Print Logs of What Happens \n",
    "\n",
    "↪ Debug\n",
    "\n",
    "↪ Info \n",
    "\n",
    "↪ Warning\n",
    "\n",
    "↪ Error\n",
    "\n",
    "↪ Critical\n",
    "\n",
    "❖ Name ⟶ Logging Module Give It to the Default Logger. \n",
    "\n",
    "`Basic Config`\n",
    "\n",
    "↪ __level__ ⟶ Level of Severity. \n",
    "\n",
    "↪ __filename__ ⟶ File Name and Extention \n",
    "\n",
    "↪ __mode__ ⟶ Mode of the File a ⟶ Append \n",
    "\n",
    "↪ __format__ ⟶ Format for the Log Message\n",
    "\n",
    "❖ `Get Logger` ⟶ Return a Logger with the Specified Name\n",
    "\n"
   ]
  },
  {
   "cell_type": "code",
   "execution_count": 70,
   "metadata": {},
   "outputs": [],
   "source": [
    "import logging\n",
    "\n",
    "logging.basicConfig(filename=\"/Users/Ahmed/Desktop/my_app.log\")\n",
    "\n",
    "logging.critical(\"This Is Critical Message\")"
   ]
  },
  {
   "cell_type": "code",
   "execution_count": null,
   "metadata": {},
   "outputs": [],
   "source": [
    "import logging\n",
    "\n",
    "logging.basicConfig(filename=\"/Users/Ahmed/Desktop/my_app.log\", filemode=\"a\")   # a for Append , w for Write\n",
    "\n",
    "logging.critical(\"This Is Critical Message\")"
   ]
  },
  {
   "cell_type": "code",
   "execution_count": 71,
   "metadata": {},
   "outputs": [],
   "source": [
    "import logging\n",
    "\n",
    "logging.basicConfig(filename=\"/Users/Ahmed/Desktop/my_app.log\", filemode=\"a\", format=\"%(asctime)s %(name)s %(levelname)s %(message)s\")\n",
    "\n",
    "logging.critical(\"This Is Critical Message\")"
   ]
  },
  {
   "cell_type": "markdown",
   "metadata": {},
   "source": [
    "##### **Unit Testing**\n",
    "\n",
    "❖ `Test Runner`\n",
    "\n",
    "↪ The Module That Run The Unit Testing (unittest, pytest)\n",
    "\n",
    "\n",
    "❖ `Test Case`\n",
    "\n",
    "↪ Smallest Unit Of Testing\n",
    "\n",
    "↪ It Use Asserts Methods To Check For Actions And Responses\n",
    "\n",
    "❖ `Test Suite`\n",
    "\n",
    "↪ Collection Of Multiple Tests Or Test Cases\n",
    "\n",
    "❖ `Test Report`\n",
    "\n",
    "↪ A Full Report Contains The Failure Or Succeed\n",
    "\n",
    "❖ `unittest`\n",
    "\n",
    "↪ Add Tests Into Classes As Methods\n",
    "\n",
    "↪ Use a Series of Special Assertion Methods\n",
    "\n",
    "> https://docs.python.org/3/library/unittest.html"
   ]
  },
  {
   "cell_type": "code",
   "execution_count": 72,
   "metadata": {},
   "outputs": [
    {
     "ename": "AssertionError",
     "evalue": "Should Be 24",
     "output_type": "error",
     "traceback": [
      "\u001b[0;31m---------------------------------------------------------------------------\u001b[0m",
      "\u001b[0;31mAssertionError\u001b[0m                            Traceback (most recent call last)",
      "Cell \u001b[0;32mIn[72], line 1\u001b[0m\n\u001b[0;32m----> 1\u001b[0m \u001b[38;5;28;01massert\u001b[39;00m \u001b[38;5;241m3\u001b[39m \u001b[38;5;241m*\u001b[39m \u001b[38;5;241m8\u001b[39m \u001b[38;5;241m==\u001b[39m \u001b[38;5;241m23\u001b[39m, \u001b[38;5;124m\"\u001b[39m\u001b[38;5;124mShould Be 24\u001b[39m\u001b[38;5;124m\"\u001b[39m\n",
      "\u001b[0;31mAssertionError\u001b[0m: Should Be 24"
     ]
    }
   ],
   "source": [
    "assert 3 * 8 == 23, \"Should Be 24\""
   ]
  },
  {
   "cell_type": "code",
   "execution_count": 73,
   "metadata": {},
   "outputs": [
    {
     "name": "stdout",
     "output_type": "stream",
     "text": [
      "All Tests Passed\n"
     ]
    }
   ],
   "source": [
    "def test_case_one():\n",
    "\n",
    "  assert 5 * 10 == 50, \"Should Be 50\"\n",
    "\n",
    "def test_case_two():\n",
    "\n",
    "  assert 5 * 50 == 250, \"Should Be 250\"\n",
    "\n",
    "if __name__ == \"__main__\":\n",
    "\n",
    "  test_case_one()\n",
    "  test_case_two()\n",
    "\n",
    "  print(\"All Tests Passed\")"
   ]
  },
  {
   "cell_type": "code",
   "execution_count": null,
   "metadata": {},
   "outputs": [],
   "source": [
    "import unittest\n",
    "\n",
    "class MyTestCase(unittest.TestCase):\n",
    "\n",
    "  def test_one(self):\n",
    "\n",
    "    self.assertTrue(100 > 99, \"Should Be True\")\n",
    "\n",
    "if __name__ == \"__main__\":\n",
    "\n",
    "    unittest.main()  # raise error in jupyter notebook only"
   ]
  },
  {
   "cell_type": "markdown",
   "metadata": {},
   "source": [
    "Running the Previous Code in `.py` File Will Be Ok but in Jupyter Notebook It Will Lead to This Error: \n",
    "\n",
    "> AttributeError: 'tuple' object has no attribute 'tb_frame'\n",
    "\n",
    "This Error Happens because Jupyter Notebook Handles Running Unittest Differently than a Regular .py File.\n",
    "\n",
    "In a .py File, when You Call `unittest.main()`, It Takes Control and Runs the Test Case Normally.\n",
    "\n",
    "But in Jupyter Notebook, `unittest.main()` Doesn't Work the Same. Instead, You Need to Run the Test Case Manually:\n",
    "\n"
   ]
  },
  {
   "cell_type": "code",
   "execution_count": 80,
   "metadata": {},
   "outputs": [],
   "source": [
    "import unittest\n",
    "\n",
    "class MyTestCase(unittest.TestCase):\n",
    "\n",
    "    def test_one(self):\n",
    "        self.assertTrue(100 > 99, \"Should Be True\")\n",
    "        \n",
    "my_test = MyTestCase()\n",
    "my_test.test_one()\n"
   ]
  },
  {
   "cell_type": "markdown",
   "metadata": {},
   "source": [
    "`The key differences`:\n",
    "\n",
    "❖ In Jupyter, you need to instantiate the test case yourself\n",
    "\n",
    "❖ Then call the test method directly Instead of using `unittest.main()`\n",
    "\n",
    "\n",
    "❖ So in a Jupyter notebook, you have to manually create the test case instance and run the test methods. Using `unittest.main()` doesn't work properly and gives the AttributeError.\n",
    "\n",
    "❖ The reason is because Jupyter handles execution differently than a script file. So unittest requires a slightly different usage pattern to work in a notebook environment.\n",
    "\n",
    "❖ So unfortunately, `unittest.main()` should be avoided entirely when running tests in Jupyter notebooks."
   ]
  },
  {
   "cell_type": "markdown",
   "metadata": {},
   "source": [
    ":: `Practical: Generate Random Serial Numbers` ::"
   ]
  },
  {
   "cell_type": "code",
   "execution_count": 84,
   "metadata": {},
   "outputs": [
    {
     "name": "stdout",
     "output_type": "stream",
     "text": [
      "abcdefghijklmnopqrstuvwxyzABCDEFGHIJKLMNOPQRSTUVWXYZ0123456789\n"
     ]
    }
   ],
   "source": [
    "import string, random\n",
    "\n",
    "def make_serial(count): \n",
    "\n",
    "    all_chars = string.ascii_letters + string.digits\n",
    "\n",
    "    print(all_chars)\n",
    "\n",
    "make_serial(30)"
   ]
  },
  {
   "cell_type": "code",
   "execution_count": 85,
   "metadata": {},
   "outputs": [
    {
     "name": "stdout",
     "output_type": "stream",
     "text": [
      "62\n"
     ]
    }
   ],
   "source": [
    "import string, random\n",
    "\n",
    "def make_serial(count): \n",
    "\n",
    "    all_chars = string.ascii_letters + string.digits\n",
    "\n",
    "    chars_count = len(all_chars)\n",
    "    print(chars_count)\n",
    "\n",
    "make_serial(30)"
   ]
  },
  {
   "cell_type": "code",
   "execution_count": 87,
   "metadata": {},
   "outputs": [
    {
     "name": "stdout",
     "output_type": "stream",
     "text": [
      "YHePOkWvDZd416T0TuBI\n"
     ]
    }
   ],
   "source": [
    "import string, random\n",
    "\n",
    "def make_serial(count): \n",
    "\n",
    "    all_chars = string.ascii_letters + string.digits\n",
    "\n",
    "    chars_count = len(all_chars)\n",
    "    \n",
    "    serial_list = []\n",
    "\n",
    "    while count > 0: \n",
    "\n",
    "        random_number = random.randint(0, chars_count -1)   \n",
    "        # -1 because it counts the 0 to the 62 characters so it will be 63 (out of index range)\n",
    "\n",
    "        random_character = all_chars[random_number]\n",
    "\n",
    "        serial_list.append(random_character)\n",
    "\n",
    "        count -= 1\n",
    "\n",
    "    print(\"\".join(serial_list))    \n",
    "\n",
    "make_serial(20)"
   ]
  }
 ],
 "metadata": {
  "kernelspec": {
   "display_name": "Python 3 (ipykernel)",
   "language": "python",
   "name": "python3"
  },
  "language_info": {
   "codemirror_mode": {
    "name": "ipython",
    "version": 3
   },
   "file_extension": ".py",
   "mimetype": "text/x-python",
   "name": "python",
   "nbconvert_exporter": "python",
   "pygments_lexer": "ipython3",
   "version": "3.12.1"
  }
 },
 "nbformat": 4,
 "nbformat_minor": 4
}
