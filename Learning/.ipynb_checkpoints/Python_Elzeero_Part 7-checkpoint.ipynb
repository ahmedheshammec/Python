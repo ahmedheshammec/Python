{
 "cells": [
  {
   "cell_type": "markdown",
   "metadata": {},
   "source": [
    "##### **Flask and Web Development**\n",
    "\n",
    "`Flask` Is a Micro Framework Built with Python, to Make a Good Website You Need to Learn the Following:\n",
    "\n",
    "↪ HTML\n",
    "\n",
    "↪ CSS\n",
    "\n",
    "↪ JavaScript\n",
    "\n",
    "To Install Flask Use This Command: "
   ]
  },
  {
   "cell_type": "code",
   "execution_count": null,
   "metadata": {
    "vscode": {
     "languageId": "shellscript"
    }
   },
   "outputs": [],
   "source": [
    "pip install flask"
   ]
  },
  {
   "cell_type": "code",
   "execution_count": null,
   "metadata": {},
   "outputs": [],
   "source": [
    "from flask import Flask\n",
    "\n",
    "skills_app = Flask(__name__) # Giving a Name to Our Web App\n",
    "\n",
    "\n",
    "# Settign up Routes (Homepage, About, Contact, ... Etc.)\n",
    "@skills_app.route(\"/\")  # Main Route Like elzero.or/\n",
    "\n",
    "def homepage(): \n",
    "\n",
    "    return \"Hello From Flask Framework\"\n",
    "\n",
    "def about(): \n",
    "\n",
    "    return \"Hello From About Page\"\n",
    "\n",
    "\n",
    "\n",
    "if __name__ == \"__main__\": \n",
    "\n",
    "    skills_app.run()\n"
   ]
  },
  {
   "cell_type": "markdown",
   "metadata": {},
   "source": [
    "You Can't Run This From Jupyter Notebook for some Reason but You Can in a `.py` File, The Output Wil Lbe Like This: "
   ]
  },
  {
   "cell_type": "code",
   "execution_count": null,
   "metadata": {},
   "outputs": [],
   "source": [
    "from flask import Flask\n",
    "\n",
    "skills_app = Flask(__name__) # Giving a Name to Our Web App\n",
    "\n",
    "\n",
    "# Settign up Routes (Homepage, About, Contact, ... Etc.)\n",
    "@skills_app.route(\"/\")  # Main Route Like elzero.or/\n",
    "\n",
    "def homepage(): \n",
    "\n",
    "    return \"Hello From Flask Framework\"\n",
    "\n",
    "def about(): \n",
    "\n",
    "    return \"Hello From About Page\"\n",
    "\n",
    "\n",
    "\n",
    "if __name__ == \"__main__\": \n",
    "\n",
    "    skills_app.run()\n"
   ]
  },
  {
   "cell_type": "raw",
   "metadata": {},
   "source": [
    " * Serving Flask app 'Training'\n",
    " * Debug mode: off\n",
    "WARNING: This is a development server. Do not use it in a production deployment. Use a production WSGI server instead.\n",
    " * Running on http://127.0.0.1:5000\n",
    "Press CTRL+C to quit\n",
    "127.0.0.1 - - [30/Jan/2024 01:08:07] \"GET / HTTP/1.1\" 200 -\n",
    "127.0.0.1 - - [30/Jan/2024 01:08:07] \"GET /favicon.ico HTTP/1.1\" 404 -"
   ]
  },
  {
   "cell_type": "markdown",
   "metadata": {},
   "source": [
    "Now if You Clicked on That `http` Link (The Host) It Will Take You to Your App and You Will See the Homepage, Now Let's Run the Debug and Change the Port"
   ]
  },
  {
   "cell_type": "code",
   "execution_count": null,
   "metadata": {},
   "outputs": [],
   "source": [
    "from flask import Flask\n",
    "\n",
    "skills_app = Flask(__name__) # Giving a Name to Our Web App\n",
    "\n",
    "\n",
    "# Settign up Routes (Homepage, About, Contact, ... Etc.)\n",
    "@skills_app.route(\"/\")  # Main Route Like elzero.or/\n",
    "\n",
    "def homepage(): \n",
    "\n",
    "    return \"Hello From Flask Framework\"\n",
    "\n",
    "def about(): \n",
    "\n",
    "    return \"Hello From About Page\"\n",
    "\n",
    "\n",
    "\n",
    "if __name__ == \"__main__\": \n",
    "\n",
    "    skills_app.run(debug=True, port=7000)\n"
   ]
  },
  {
   "cell_type": "markdown",
   "metadata": {},
   "source": [
    ":: `Note` :: pressing <kbd>Ctrl</kbd>+<kbd>C</kbd>  Will Terminate the Current Used Port so You Can Make Changes and Run the App Again.\n",
    "\n",
    "❖ You Will Also Notice the Response Status Code: `GET / HTTP/1.1\" 200` Which Indicate a Successful Resopnse, You Can Know More About This From the Following Link: \n",
    "\n",
    "> https://developer.mozilla.org/en-US/docs/Web/HTTP/Status\n",
    "\n",
    "Now Let's Create the Html Files, and for that we will use the `render_template`"
   ]
  },
  {
   "cell_type": "code",
   "execution_count": null,
   "metadata": {},
   "outputs": [],
   "source": [
    "from flask import Flask, render_template\n",
    "\n",
    "skills_app = Flask(__name__) # Giving a Name to Our Web App\n",
    "\n",
    "\n",
    "# Settign up Routes (Homepage, About, Contact, ... Etc.)\n",
    "@skills_app.route(\"/\")  # Main Route Like elzero.or/\n",
    "\n",
    "def homepage(): \n",
    "\n",
    "    return render_template(\"/Users/Ahmed/Desktop/Flask_Files/homepage.html\")  # Give The Full Path\n",
    "\n",
    "def about(): \n",
    "\n",
    "    return render_template(\"/Users/Ahmed/Desktop/Flask_Files/about.html\")\n",
    "\n",
    "\n",
    "\n",
    "if __name__ == \"__main__\": \n",
    "\n",
    "    skills_app.run(debug=True, port=7000)\n"
   ]
  },
  {
   "cell_type": "markdown",
   "metadata": {},
   "source": [
    "Now in the Html Files You Can Press <kbd>!</kbd> + <kbd>Tab ⇥</kbd> To Create The HTML5 Template Automatically\n",
    "\n",
    ":: `Note` :: we will make all pages controlled by our `.py` file, So We Can Focus on the Body Part in the Pages, Let's Set the Page Title From Our Python File. "
   ]
  },
  {
   "cell_type": "code",
   "execution_count": null,
   "metadata": {},
   "outputs": [],
   "source": [
    "from flask import Flask, render_template\n",
    "\n",
    "skills_app = Flask(__name__) # Giving a Name to Our Web App\n",
    "skills_app = Flask(__name__, template_folder='/Users/Ahmed/Desktop/Flask_Files') # Setting the Template Folder Where You App Files \n",
    "\n",
    "\n",
    "# Settign up routing (Homepage, About, Contact, ... Etc.)\n",
    "@skills_app.route(\"/\")  # Main Route Like elzero.or/\n",
    "def homepage(): \n",
    "\n",
    "    return render_template(\"homepage.html\", pagetitle=\"Homepage\")\n",
    "\n",
    "@skills_app.route(\"/about\")\n",
    "def about(): # about Route Like elzero.or/about\n",
    "\n",
    "    return render_template(\"about.html\", pagetitle=\"About\")\n",
    "\n",
    "\n",
    "\n",
    "if __name__ == \"__main__\": \n",
    "\n",
    "    skills_app.run(debug=True, port=7000)\n"
   ]
  },
  {
   "cell_type": "markdown",
   "metadata": {},
   "source": [
    "Now We Go to Our Html Files and Make the Title Like This: "
   ]
  },
  {
   "cell_type": "code",
   "execution_count": null,
   "metadata": {
    "vscode": {
     "languageId": "html"
    }
   },
   "outputs": [],
   "source": [
    "<!DOCTYPE html>\n",
    "<html lang=\"en\">\n",
    "<head>\n",
    "    <meta charset=\"UTF-8\">\n",
    "    <meta name=\"viewport\" content=\"width=device-width, initial-scale=1.0\">\n",
    "    <title>{{ pagetitle }}</title>\n",
    "</head>\n",
    "<body>\n",
    "    \n",
    "</body>\n",
    "</html>"
   ]
  },
  {
   "cell_type": "markdown",
   "metadata": {},
   "source": [
    "##### **Extend HTML Templates**\n",
    "\n",
    "Let's Say Your Web App Has a Lot of Pages and We Need to Change the Css File From main.css File to master.css File, so Instead of Changing This in All the Pages in Our App We Will only Change This Once in the Main Base File and the All the Pages in Our App Will Follow that Main Base File. \n",
    "\n",
    "❖ Create a File in Your Template Folder and Neme It `base.html` And Create a Folder Names \"`css`\" In Our Template Folder and Create `main.css` File Inside It, Here's the Content of of Our `base.html` File"
   ]
  },
  {
   "cell_type": "code",
   "execution_count": null,
   "metadata": {
    "vscode": {
     "languageId": "html"
    }
   },
   "outputs": [],
   "source": [
    "<!DOCTYPE html>\n",
    "<html lang=\"en\">\n",
    "<head>\n",
    "    <meta charset=\"UTF-8\">\n",
    "    <meta name=\"viewport\" content=\"width=device-width, initial-scale=1.0\">\n",
    "    <title>{{ pagetitle }}</title>\n",
    "    <link rel=\"stylesheet\" href=\"css/main.css\"/>\n",
    "</head>\n",
    "<body>\n",
    "    {% block body %} \n",
    "    {% endblock %}\n",
    "</body>\n",
    "</html>"
   ]
  },
  {
   "cell_type": "markdown",
   "metadata": {},
   "source": [
    "Now in the Homepage, About, and Every Other Page We Will Deal with the Block Body only so We Will Delete Everything and Just Paste These Lines"
   ]
  },
  {
   "cell_type": "code",
   "execution_count": null,
   "metadata": {
    "vscode": {
     "languageId": "html"
    }
   },
   "outputs": [],
   "source": [
    "{% extends 'base.html' %}\n",
    "{% block body %} \n",
    "\n",
    "<!-- Our Dynamic Work Will Be Here -->\n",
    "\n",
    "{% endblock %}"
   ]
  },
  {
   "cell_type": "markdown",
   "metadata": {},
   "source": [
    "Now We Can Add Another `Css` File to the Base Html File and All Other Pages Will Extend the Css File From the Base Html File\n",
    "\n",
    ":: `Note` :: these lines we added are from `Jinja` A Modern and Designer-Friendly Templating Language for Python, Modelled After Django's Template, It's Fast, Widely Used and Secure.\n",
    "\n",
    "❖ There's a vs-Code Extentions for Jinja that Helps with the Syntax Highlighting It's Called `Jina` You Should Install It. \n",
    "\n",
    "⟶ Now We Need to Make a `Custom Css File for Everypage` (the Homepage, About Page, ...Etc.) and Create a Contact Route with No Custom Css File for It\n",
    "\n",
    "↪ By Default `Jinja` Is Looking for Static Folder Which Contains the Css Files in It so We Will Create `css` Folder Inside `static` Folder"
   ]
  },
  {
   "cell_type": "code",
   "execution_count": null,
   "metadata": {},
   "outputs": [],
   "source": [
    "from flask import Flask, render_template\n",
    "\n",
    "skills_app = Flask(__name__) # Giving a Name to Our Web App\n",
    "skills_app = Flask(__name__, template_folder='/Users/Ahmed/Desktop/Flask_Files') # Setting the Template Folder Where You App Files \n",
    "\n",
    "\n",
    "# Settign up routing (Homepage, About, Contact, ... Etc.)\n",
    "@skills_app.route(\"/\")  # Main Route Like elzero.or/\n",
    "def homepage(): \n",
    "\n",
    "    return render_template(\"homepage.html\", pagetitle=\"Homepage\", custom_css=\"home\")\n",
    "\n",
    "@skills_app.route(\"/about\")\n",
    "def about(): # about Route Like elzero.or/about\n",
    "\n",
    "    return render_template(\"about.html\", pagetitle=\"About\", custom_css=\"about\")\n",
    "\n",
    "@skills_app.route(\"/contact\")\n",
    "def contact(): # about Route Like elzero.or/contact\n",
    "\n",
    "    return render_template(\"contact.html\", pagetitle=\"Contact\")\n",
    "\n",
    "\n",
    "if __name__ == \"__main__\": \n",
    "\n",
    "    skills_app.run(debug=True, port=7000)\n"
   ]
  },
  {
   "cell_type": "markdown",
   "metadata": {},
   "source": [
    "`Don't Forget` to add `home.css` and `about.css` now in css folder we created\n",
    "\n",
    "Now We Need to Make `if Condition` in Our base.html that if This Page Has Custom_css Attribute, It Should Add the Corresponding custom.css File to that Page. \n",
    "\n",
    "How Can We Achive This? We Will Use `Jinja Syntax` in Our Base File And `Concatenation` in our `base.html` File "
   ]
  },
  {
   "cell_type": "code",
   "execution_count": null,
   "metadata": {
    "vscode": {
     "languageId": "html"
    }
   },
   "outputs": [],
   "source": [
    "<!DOCTYPE html>\n",
    "<html lang=\"en\">\n",
    "<head>\n",
    "    <meta charset=\"UTF-8\">\n",
    "    <meta name=\"viewport\" content=\"width=device-width, initial-scale=1.0\">\n",
    "    <title>{{ pagetitle }}</title>\n",
    "    <link rel=\"stylesheet\" href=\"{{ url_for('static', filename= 'css/main.css') }}\"/>\n",
    "    \n",
    "    {% if custom_css %}\n",
    "    <link rel=\"stylesheet\" href=\"{{ url_for('static', filename = 'css/' + custom_css + '.css') }}\"/>\n",
    "    {% endif %}\n",
    "\n",
    "\n",
    "</head>\n",
    "<body>\n",
    "    {% block body %} \n",
    "    {% endblock %}\n",
    "</body>\n",
    "</html>"
   ]
  },
  {
   "cell_type": "markdown",
   "metadata": {},
   "source": [
    "You Can Now Check Every Page in the Developer View in Your Browser (Inspect Elements) and in the Sources You'll See that It Reads the `main.css` File and the It's Own File\n",
    "\n",
    "![Custom Css File](https://i.imgur.com/iteK14J.png)"
   ]
  },
  {
   "cell_type": "markdown",
   "metadata": {},
   "source": [
    "And You Can Also Check the Console for Any Errors"
   ]
  },
  {
   "cell_type": "markdown",
   "metadata": {},
   "source": [
    ":: `Skills Page Using List Data` ::"
   ]
  },
  {
   "cell_type": "code",
   "execution_count": null,
   "metadata": {},
   "outputs": [],
   "source": [
    "from flask import Flask, render_template\n",
    "\n",
    "skills_app = Flask(__name__) # Giving a Name to Our Web App\n",
    "skills_app = Flask(__name__, template_folder='/Users/Ahmed/Desktop/Flask_Files') # Setting the Template Folder Where You App Files \n",
    "\n",
    "# Skills List\n",
    "my_skills = [(\"HTML\", 80), (\"CSS\", 75), (\"Python\", 95)]\n",
    "\n",
    "\n",
    "# Settign up routing (Homepage, About, Contact, ... Etc.)\n",
    "@skills_app.route(\"/\")  # Main Route Like elzero.or/\n",
    "def homepage(): \n",
    "\n",
    "    return render_template(\"homepage.html\", pagetitle=\"Homepage\", custom_css=\"home\")\n",
    "\n",
    "@skills_app.route(\"/about\")\n",
    "def about(): # about Route Like elzero.or/about\n",
    "\n",
    "    return render_template(\"about.html\", pagetitle=\"About\", custom_css=\"about\")\n",
    "\n",
    "@skills_app.route(\"/skills\")\n",
    "def skills(): # about Route Like elzero.or/contact\n",
    "\n",
    "    return render_template(\"skills.html\", pagetitle=\"My Skills\", custom_css=\"skills\")\n",
    "\n",
    "\n",
    "\n",
    "\n",
    "if __name__ == \"__main__\": \n",
    "\n",
    "    skills_app.run(debug=True, port=7000)\n"
   ]
  },
  {
   "cell_type": "markdown",
   "metadata": {},
   "source": [
    "❖ Don't Forget to Add the Corresponding Html and Css Files in Their Respective Directories. \n",
    "\n",
    "❖ Now Let's Add Page Head and Description\n",
    "\n",
    "↪ In the Python File We Will Do the Following: "
   ]
  },
  {
   "cell_type": "code",
   "execution_count": null,
   "metadata": {},
   "outputs": [],
   "source": [
    "from flask import Flask, render_template\n",
    "\n",
    "skills_app = Flask(__name__) # Giving a Name to Our Web App\n",
    "skills_app = Flask(__name__, template_folder='/Users/Ahmed/Desktop/Flask_Files') # Setting the Template Folder Where You App Files \n",
    "\n",
    "# Skills List\n",
    "my_skills = [(\"HTML\", 80), (\"CSS\", 75), (\"Python\", 95)]\n",
    "\n",
    "\n",
    "# Settign up routing (Homepage, About, Contact, ... Etc.)\n",
    "@skills_app.route(\"/\")  # Main Route Like elzero.or/\n",
    "def homepage(): \n",
    "\n",
    "    return render_template(\"homepage.html\", pagetitle=\"Homepage\", custom_css=\"home\")\n",
    "\n",
    "@skills_app.route(\"/about\")\n",
    "def about(): # about Route Like elzero.or/about\n",
    "\n",
    "    return render_template(\"about.html\", pagetitle=\"About\", custom_css=\"about\")\n",
    "\n",
    "@skills_app.route(\"/skills\")\n",
    "def skills():\n",
    "\n",
    "    return render_template(\"skills.html\", pagetitle=\"My Skills\", custom_css=\"skills\", \n",
    "                           page_head=\"My Skills\", description=\"This is my Skills Page\")\n",
    "\n",
    "\n",
    "\n",
    "\n",
    "if __name__ == \"__main__\": \n",
    "\n",
    "    skills_app.run(debug=True, port=7000)\n"
   ]
  },
  {
   "cell_type": "markdown",
   "metadata": {},
   "source": [
    "↪ In the skills.html File We Will Do the Following: "
   ]
  },
  {
   "cell_type": "code",
   "execution_count": null,
   "metadata": {
    "vscode": {
     "languageId": "html"
    }
   },
   "outputs": [],
   "source": [
    "{% extends 'base.html' %}\n",
    "{% block body %} \n",
    "\n",
    "<h1 class=\"page-head\"> {{ page_head }} </h1>\n",
    "\n",
    "<p class=\"page-description\"> {{ description }} </p>\n",
    "\n",
    "{% endblock %}"
   ]
  },
  {
   "cell_type": "markdown",
   "metadata": {},
   "source": [
    "Now We Should See Something Like This when We Refresh the Page\n",
    "\n",
    "![skills_app_basic](https://i.imgur.com/mfuxc0F.png)"
   ]
  },
  {
   "cell_type": "markdown",
   "metadata": {},
   "source": [
    "❖ Now Let's Put the Skills List We Created\n",
    "\n",
    "↪ In the Python File We Will Do the Following: "
   ]
  },
  {
   "cell_type": "code",
   "execution_count": null,
   "metadata": {},
   "outputs": [],
   "source": [
    "from flask import Flask, render_template\n",
    "\n",
    "skills_app = Flask(__name__) # Giving a Name to Our Web App\n",
    "skills_app = Flask(__name__, template_folder='/Users/Ahmed/Desktop/Flask_Files') # Setting the Template Folder Where You App Files \n",
    "\n",
    "# Skills List\n",
    "my_skills = [(\"HTML\", 80), (\"CSS\", 75), (\"Python\", 95)]\n",
    "\n",
    "\n",
    "# Settign up routing (Homepage, About, Contact, ... Etc.)\n",
    "@skills_app.route(\"/\")  # Main Route Like elzero.or/\n",
    "def homepage(): \n",
    "\n",
    "    return render_template(\"homepage.html\", pagetitle=\"Homepage\", custom_css=\"home\")\n",
    "\n",
    "@skills_app.route(\"/about\")\n",
    "def about(): # about Route Like elzero.or/about\n",
    "\n",
    "    return render_template(\"about.html\", pagetitle=\"About\", custom_css=\"about\")\n",
    "\n",
    "@skills_app.route(\"/skills\")\n",
    "def skills():\n",
    "\n",
    "    return render_template(\"skills.html\", pagetitle=\"My Skills\", custom_css=\"skills\", \n",
    "                           page_head=\"My Skills\", description=\"This is my Skills Page\", \n",
    "                           skills=my_skills)\n",
    "\n",
    "\n",
    "\n",
    "\n",
    "if __name__ == \"__main__\": \n",
    "\n",
    "    skills_app.run(debug=True, port=7000)\n"
   ]
  },
  {
   "cell_type": "markdown",
   "metadata": {},
   "source": [
    "↪ In the skills.html File We Will Do the Following: "
   ]
  },
  {
   "cell_type": "code",
   "execution_count": null,
   "metadata": {
    "vscode": {
     "languageId": "html"
    }
   },
   "outputs": [],
   "source": [
    "{% extends 'base.html' %}\n",
    "{% block body %} \n",
    "\n",
    "<h1 class=\"page-head\"> {{ page_head }} </h1>\n",
    "\n",
    "<p class=\"page-description\"> {{ description }} </p>\n",
    "\n",
    "{{ skills }}\n",
    "\n",
    "{% endblock %}"
   ]
  },
  {
   "cell_type": "markdown",
   "metadata": {},
   "source": [
    "We Will See the Skills Printed Like This: \n",
    "\n",
    "![skills_printed](https://i.imgur.com/hNFepam.png)"
   ]
  },
  {
   "cell_type": "markdown",
   "metadata": {},
   "source": [
    "Now We Need to Loop on Those Skills and Let's Say Separate Them Usin a Pipe `|`\n",
    "\n",
    "↪ Do the Following in the skills.html File"
   ]
  },
  {
   "cell_type": "code",
   "execution_count": null,
   "metadata": {
    "vscode": {
     "languageId": "html"
    }
   },
   "outputs": [],
   "source": [
    "{% extends 'base.html' %}\n",
    "{% block body %} \n",
    "\n",
    "<h1 class=\"page-head\"> {{ page_head }} </h1>\n",
    "\n",
    "<p class=\"page-description\"> {{ description }} </p>\n",
    "\n",
    "{ % for skill in skills % }\n",
    "\n",
    "<div>\n",
    "    {{ skill[0] }} | {{ skill[1] }}\n",
    "</div>\n",
    "\n",
    "{% endfor %}\n",
    "\n",
    "{% endblock %}"
   ]
  },
  {
   "cell_type": "markdown",
   "metadata": {},
   "source": [
    "Now We Should See Something Like This: \n",
    "\n",
    "![skills_pip](https://i.imgur.com/XbgLIPt.png)"
   ]
  },
  {
   "cell_type": "markdown",
   "metadata": {},
   "source": [
    "Now We Will Edit the Rest of the Page Using Css. \n",
    "\n",
    "`Customizing App with Css`\n",
    "\n",
    "❖ Now We Will Hob Into the main.css File to Do the Generic Edits\n",
    "\n",
    ":: `Note` :: The `<style>` Tag in the Code Is Just for Jupyter for the Purpose of Syntax Highlighting"
   ]
  },
  {
   "cell_type": "code",
   "execution_count": null,
   "metadata": {
    "vscode": {
     "languageId": "html"
    }
   },
   "outputs": [],
   "source": [
    "<style>\n",
    "* {\n",
    "    box-sizing: border-box\n",
    "}"
   ]
  },
  {
   "cell_type": "markdown",
   "metadata": {},
   "source": [
    "This CSS Command Tells the Browser to Include Padding and Borders Within the Total Width and Height of All Elements on the Page."
   ]
  },
  {
   "cell_type": "code",
   "execution_count": null,
   "metadata": {
    "vscode": {
     "languageId": "html"
    }
   },
   "outputs": [],
   "source": [
    "<style>\n",
    "* {\n",
    "    box-sizing: border-box\n",
    "}\n",
    "\n",
    "body {\n",
    "\n",
    "    background-color: #eee;\n",
    "    font-family: Arial, Helvetica, sans-serif;\n",
    "}\n",
    "\n",
    ".page-head,\n",
    ".page-description {\n",
    "\n",
    "    text-align: center;\n",
    "}\n",
    "\n",
    ".page-head {\n",
    "\n",
    "    font-size: 40px;\n",
    "    margin: 20px 0 0;\n",
    "}\n",
    "\n",
    ".page-description { \n",
    "\n",
    "    font-size: 22px;\n",
    "    margin: 5px 0 40px;\n",
    "}\n"
   ]
  },
  {
   "cell_type": "markdown",
   "metadata": {},
   "source": [
    "Now the Page Should Look Like This: \n",
    "\n",
    "![first_css_edits](https://i.imgur.com/CiYB2Sc.png)"
   ]
  },
  {
   "cell_type": "markdown",
   "metadata": {},
   "source": [
    "⟶ Now Let's Go to the skills.html File To Create the `Skill-Box` Class; the Class Which Will Deal with the Main Div of the Skill and It's Progress"
   ]
  },
  {
   "cell_type": "code",
   "execution_count": null,
   "metadata": {
    "vscode": {
     "languageId": "html"
    }
   },
   "outputs": [],
   "source": [
    "<style>\n",
    ".skill-box { \n",
    "\n",
    "    background-color: #fff;\n",
    "    padding: 20px;\n",
    "    margin: 20px auto;\n",
    "    border: 1px solid #ccc;\n",
    "    width: 450px;\n",
    "}"
   ]
  },
  {
   "cell_type": "markdown",
   "metadata": {},
   "source": [
    "This Should Make the Page Like This: \n",
    "\n",
    "![skill-box](https://i.imgur.com/bUgVwLX.png)"
   ]
  },
  {
   "cell_type": "markdown",
   "metadata": {},
   "source": [
    "Now Let's Remove The `|` And Put the Skill in a Div and the Progress in a Separate Div\n",
    "\n",
    "↪ in the skills.html File: "
   ]
  },
  {
   "cell_type": "code",
   "execution_count": null,
   "metadata": {
    "vscode": {
     "languageId": "html"
    }
   },
   "outputs": [],
   "source": [
    "{% extends 'base.html' %}\n",
    "{% block body %} \n",
    "\n",
    "<h1 class=\"page-head\"> {{ page_head }} </h1>\n",
    "\n",
    "<p class=\"page-description\"> {{ description }} </p>\n",
    "\n",
    "{% for skill in skills %}\n",
    "\n",
    "<div class=\"skill-box\">\n",
    "\n",
    "    <div class=\"skill-name\"> {{ skill[0] }} </div>\n",
    "    <div class=\"skill-progress\"> {{ skill[1] }} </div>\n",
    "\n",
    "</div>\n",
    "\n",
    "{% endfor %}\n",
    "\n",
    "{% endblock %}"
   ]
  },
  {
   "cell_type": "markdown",
   "metadata": {},
   "source": [
    "This Should Make the Page Like This: \n",
    "\n",
    "![Two Divs](https://i.imgur.com/EfARsTD.png)"
   ]
  },
  {
   "cell_type": "markdown",
   "metadata": {},
   "source": [
    "↪ Now Back to skills.css"
   ]
  },
  {
   "cell_type": "code",
   "execution_count": null,
   "metadata": {
    "vscode": {
     "languageId": "html"
    }
   },
   "outputs": [],
   "source": [
    "<style>\n",
    ".skill-box .skill-name {\n",
    "\n",
    "    text-align: center;\n",
    "    margin-bottom: 15px;\n",
    "    font-size: 20px;\n",
    "    font-weight: bold;\n",
    "}\n",
    "\n",
    "\n",
    ".skill-box .skill-progress {\n",
    "\n",
    "    background-color: #f7f7f7;\n",
    "    padding: 10px;\n",
    "    position: relative;\n",
    "}"
   ]
  },
  {
   "cell_type": "markdown",
   "metadata": {},
   "source": [
    "↪ Now Back to skills.html File to Make the the Skill Progress in a `Span`"
   ]
  },
  {
   "cell_type": "code",
   "execution_count": null,
   "metadata": {
    "vscode": {
     "languageId": "html"
    }
   },
   "outputs": [],
   "source": [
    "{% extends 'base.html' %}\n",
    "{% block body %} \n",
    "\n",
    "<h1 class=\"page-head\"> {{ page_head }} </h1>\n",
    "\n",
    "<p class=\"page-description\"> {{ description }} </p>\n",
    "\n",
    "{% for skill in skills %}\n",
    "\n",
    "<div class=\"skill-box\">\n",
    "\n",
    "    <div class=\"skill-name\"> {{ skill[0] }} </div>\n",
    "    <div class=\"skill-progress\">\n",
    "        <span>  </span>\n",
    "    </div>\n",
    "\n",
    "</div>\n",
    "\n",
    "{% endfor %}\n",
    "\n",
    "{% endblock %}"
   ]
  },
  {
   "cell_type": "markdown",
   "metadata": {},
   "source": [
    "↪ Now Let's Customize It in Css: "
   ]
  },
  {
   "cell_type": "code",
   "execution_count": null,
   "metadata": {
    "vscode": {
     "languageId": "html"
    }
   },
   "outputs": [],
   "source": [
    "<style>\n",
    ".skill-box .skill-progress span { \n",
    "\n",
    "    position: absolute;\n",
    "    left: 0;\n",
    "    top: 0;\n",
    "    width: 100%;\n",
    "    height: 100%;\n",
    "    background-color: green;\n",
    "}"
   ]
  },
  {
   "cell_type": "markdown",
   "metadata": {},
   "source": [
    "This Should Fill the Progress with Green Like This: \n",
    "\n",
    "![Filled Bars](https://i.imgur.com/bJzzGGT.png)"
   ]
  },
  {
   "cell_type": "markdown",
   "metadata": {},
   "source": [
    "We Will Make the Width Value Dynamic so that if the Progress Is 70 the Width of the Progress Bar Will Also Be 70. \n",
    "\n",
    "↪ Set the Width to `0` for Now\n",
    "\n",
    "↪ Now in the `skills.html` File Let's Edit the Span"
   ]
  },
  {
   "cell_type": "code",
   "execution_count": null,
   "metadata": {
    "vscode": {
     "languageId": "html"
    }
   },
   "outputs": [],
   "source": [
    "{% extends 'base.html' %}\n",
    "{% block body %} \n",
    "\n",
    "<h1 class=\"page-head\"> {{ page_head }} </h1>\n",
    "\n",
    "<p class=\"page-description\"> {{ description }} </p>\n",
    "\n",
    "{% for skill in skills %}\n",
    "\n",
    "<div class=\"skill-box\">\n",
    "\n",
    "    <div class=\"skill-name\"> {{ skill[0] }} </div>\n",
    "    <div class=\"skill-progress\">\n",
    "        <span style=\"width: {{ skill[1] }}%\"></span>\n",
    "    </div>\n",
    "\n",
    "</div>\n",
    "\n",
    "{% endfor %}\n",
    "\n",
    "{% endblock %}"
   ]
  },
  {
   "cell_type": "markdown",
   "metadata": {},
   "source": [
    "This Will Make the Bars Dynamic to the Values in the Python File. \n",
    "\n",
    "Now Let's Add One Item to the List in `my_skills` in the Python File and See the Result in the Browser, You Should See Something Like This: \n",
    "\n",
    "![Css Final](https://i.imgur.com/Q9JI6NV.png)"
   ]
  },
  {
   "cell_type": "markdown",
   "metadata": {},
   "source": [
    ":: `Note` :: You Will Find a Red Flag Error on the Span Line in vs-Code because You We're Wrighting Code with Template Engine and vs Code Can't Understand It, to Turn It Off Go to vs-Code Settings and Search for `HTML > Validate: Style` and Turn It Off. \n",
    "\n",
    "Don't Worry Thats the Right Thing to Do Cuz You Will Be Writing a Lot of Render Templates and vs Code Wont' Understand It"
   ]
  },
  {
   "cell_type": "markdown",
   "metadata": {},
   "source": [
    "`Adding Javascript Files`\n",
    "\n",
    "❖ Now We Need to Add Jquery and the main.js File\n",
    "\n",
    "`jQuery` is a fast, small, and feature-rich JavaScript library designed to simplify the client-side scripting of HTML. \n",
    "\n",
    "It essentially makes things like HTML document traversal and manipulation, event handling, animation, and Ajax much easier with an easy-to-use API that works across many different browsers. \n",
    "\n",
    "Here's a breakdown of its key characteristics:\n",
    "\n",
    "`↪ Purpose`:\n",
    "\n",
    "❖ To simplify JavaScript usage on websites, allowing developers to write less code and achieve more.\n",
    "\n",
    "❖ To abstract away complex JavaScript patterns into concise and readable functions.\n",
    "\n",
    "❖ To provide consistency across browsers by standardizing how common tasks are done.\n",
    " \n",
    "`↪ Features`:\n",
    "\n",
    "❖ DOM manipulation: Easily select, add, remove, and modify HTML elements on a page.\n",
    "\n",
    "❖ Event handling: Efficiently manage user interactions like clicks, scrolls, and key presses.\n",
    "\n",
    "❖ Animation: Create smooth and dynamic animated effects with minimal effort.\n",
    "\n",
    "❖ Ajax: Make asynchronous calls to the server without refreshing the page.\n",
    "\n",
    "❖ Utilities: Includes various helper functions for tasks like working with forms, cookies, and arrays.\n",
    "\n",
    "`↪ Benefits`:\n",
    "\n",
    "❖ Increased developer productivity: Writing less code saves time and reduces errors.\n",
    "\n",
    "❖ Improved code readability and maintainability: Clear and concise APIs make code easier to understand and update.\n",
    "\n",
    "❖ Cross-browser compatibility: Works consistently across different browsers due to its abstraction layer.\n",
    "\n",
    "❖ Large community and ecosystem: Abundant resources, plugins, and tutorials available.\n",
    "\n",
    "`↪ Popularity`:\n",
    "\n",
    "Despite the emergence of newer JavaScript frameworks, jQuery remains one of the most popular web development libraries, with over 70% of the top 10 million websites using it.\n",
    "\n",
    "While learning JavaScript from scratch is valuable, understanding jQuery can be beneficial for web development because it simplifies common tasks and allows you to focus on the logic and functionality of your web application.\n",
    "\n",
    "You Can Install It Using This Command: "
   ]
  },
  {
   "cell_type": "code",
   "execution_count": null,
   "metadata": {
    "vscode": {
     "languageId": "shellscript"
    }
   },
   "outputs": [],
   "source": [
    "npm install jquery"
   ]
  },
  {
   "cell_type": "markdown",
   "metadata": {},
   "source": [
    "Now You Need to Download the Jquery File From This Link: \n",
    "\n",
    "> https://releases.jquery.com\n",
    "\n",
    "Download the Minified Version"
   ]
  },
  {
   "cell_type": "markdown",
   "metadata": {},
   "source": [
    "Create a New Js File `main.js` in the static > js > main.js And Also Put the Jquery File with It in the Same Folder"
   ]
  },
  {
   "cell_type": "markdown",
   "metadata": {},
   "source": [
    "↪ Go to base.html File"
   ]
  },
  {
   "cell_type": "code",
   "execution_count": null,
   "metadata": {
    "vscode": {
     "languageId": "html"
    }
   },
   "outputs": [],
   "source": [
    "<!DOCTYPE html>\n",
    "<html lang=\"en\">\n",
    "<head>\n",
    "    <meta charset=\"UTF-8\">\n",
    "    <meta name=\"viewport\" content=\"width=device-width, initial-scale=1.0\">\n",
    "    <title>{{ pagetitle }}</title>\n",
    "    <link rel=\"stylesheet\" href=\"{{ url_for('static', filename= 'css/main.css') }}\"/>\n",
    "    \n",
    "    {% if custom_css %}\n",
    "    <link rel=\"stylesheet\" href=\"{{ url_for('static', filename = 'css/' + custom_css + '.css') }}\"/>\n",
    "    {% endif %}\n",
    "\n",
    "\n",
    "</head>\n",
    "<body>\n",
    "    {% block body %} \n",
    "    {% endblock %}\n",
    "\n",
    "    <!-- Adding the Javascript -->\n",
    "    <script src=\"{{ url_for('static', filename= 'js/jquery-3.4.1.min.js') }}\"></script>\n",
    "    <script src=\"{{ url_for('static', filename= 'js/main.js') }}\"></script>\n",
    "    \n",
    "\n",
    "</body>\n",
    "</html>"
   ]
  },
  {
   "cell_type": "markdown",
   "metadata": {},
   "source": [
    ":: `VIP Note` :: The Order You Put the Scripts Is Very Important You Must Put the `Jquery` File First Before The `main.js` File Otherwise the Animation Won't Work"
   ]
  },
  {
   "cell_type": "markdown",
   "metadata": {},
   "source": [
    "↪ Now Go to `skills.html` File To Create the Animation of the Progress"
   ]
  },
  {
   "cell_type": "code",
   "execution_count": null,
   "metadata": {
    "vscode": {
     "languageId": "html"
    }
   },
   "outputs": [],
   "source": [
    "{% extends 'base.html' %}\n",
    "{% block body %} \n",
    "\n",
    "<h1 class=\"page-head\"> {{ page_head }} </h1>\n",
    "\n",
    "<p class=\"page-description\"> {{ description }} </p>\n",
    "\n",
    "{% for skill in skills %}\n",
    "\n",
    "<div class=\"skill-box\">\n",
    "\n",
    "    <div class=\"skill-name\"> {{ skill[0] }} </div>\n",
    "    <div class=\"skill-progress\">\n",
    "        \n",
    "        <!-- Adding The jQuery: data-width And Set It to Skill Progress -->\n",
    "        <span data-width = \" {{ skill[1] }}%\"></span>\n",
    "    </div>\n",
    "\n",
    "</div>\n",
    "\n",
    "{% endfor %}\n",
    "\n",
    "{% endblock %}"
   ]
  },
  {
   "cell_type": "markdown",
   "metadata": {},
   "source": [
    "↪ Now Go to `main.js` File To Create the Function"
   ]
  },
  {
   "cell_type": "code",
   "execution_count": null,
   "metadata": {
    "vscode": {
     "languageId": "javascript"
    }
   },
   "outputs": [],
   "source": [
    "$(function () {\n",
    "\n",
    "    $(\".skill-progress span\").each(function () {\n",
    "\n",
    "        $(this).animate({\n",
    "\n",
    "            'width' : $(this).data(\"width\")\n",
    "\n",
    "        }, 1000); \n",
    "\n",
    "    });\n",
    "})"
   ]
  },
  {
   "cell_type": "markdown",
   "metadata": {},
   "source": [
    "Let's Walk Through What This jQuery Code Is Doing:\n",
    "\n",
    "`$(function () {` This is shorthand for $(document).ready(function() { ... }). It makes sure all the jQuery code inside it only runs once the DOM is fully loaded and ready.\n",
    "\n",
    "`DOM` stands for \"Document Object Model\". It is a programming interface for web documents.\n",
    "\n",
    "The DOM represents the document as nodes and objects so that programming languages can interact with the page. It essentially takes an HTML document and converts it into an object-oriented representation.\n",
    "\n",
    "Some key things to know about the DOM:\n",
    "\n",
    "❖ It's a structured representation of an HTML document that connects all the elements as objects\n",
    "\n",
    "❖ JavaScript can use the DOM to access, traverse, manipulate, and add/remove elements on a page\n",
    "\n",
    "❖ The DOM is automatically created by the browser when a webpage loads\n",
    "\n",
    "❖ It has methods like getElementById, querySelector, addEventListener, etc to interact with elements\n",
    "\n",
    "❖ Nodes on the DOM include the document itself, elements, text content, attributes, and more\n",
    "\n",
    "❖ Modifying the DOM updates what the user sees on the page\n",
    "\n",
    "\n",
    "So in summary, the DOM allows JavaScript to \"see\" an HTML document as a structured network of nodes it can manipulate. It provides an interface to traverse and alter document content and structure.\n",
    "\n",
    "When `jQuery` code refers to the DOM ready event, like $(document).ready(), it means \"run this JavaScript after the DOM has been constructed\". This ensures the script can properly find/use all elements on the page."
   ]
  },
  {
   "cell_type": "code",
   "execution_count": null,
   "metadata": {
    "vscode": {
     "languageId": "javascript"
    }
   },
   "outputs": [],
   "source": [
    "$(\".skill-progress span\").each(function () {"
   ]
  },
  {
   "cell_type": "markdown",
   "metadata": {},
   "source": [
    "This finds all the `<span>` elements inside elements with a class of \"skill-progress\". For each one, it will execute the function to animate the width."
   ]
  },
  {
   "cell_type": "code",
   "execution_count": null,
   "metadata": {
    "vscode": {
     "languageId": "javascript"
    }
   },
   "outputs": [],
   "source": [
    "$(this).animate({\n",
    "    'width' : $(this).data(\"width\") \n",
    "  }, 1000);"
   ]
  },
  {
   "cell_type": "markdown",
   "metadata": {},
   "source": [
    "For Each Span, It Calls jQuery's `animate()` Method to Change the Width CSS Property Over `1000 milliseconds` (1 second).\n",
    "\n",
    "The New Width It Animates to Is Retrieved From that Element's Data-Width Attribute Using .data(\"width\").\n",
    "\n",
    "So that Span Must Have Something Like:"
   ]
  },
  {
   "cell_type": "code",
   "execution_count": null,
   "metadata": {
    "vscode": {
     "languageId": "html"
    }
   },
   "outputs": [],
   "source": [
    "<span data-width=\"50\">...</span>"
   ]
  },
  {
   "cell_type": "markdown",
   "metadata": {},
   "source": [
    "Which Means It Would Animate the Width From 0px to 50% over 1 Second."
   ]
  },
  {
   "cell_type": "code",
   "execution_count": null,
   "metadata": {
    "vscode": {
     "languageId": "javascript"
    }
   },
   "outputs": [],
   "source": [
    "});\n",
    "\n",
    "})"
   ]
  },
  {
   "cell_type": "markdown",
   "metadata": {},
   "source": [
    "Just Closes the Each Loop and Document Ready Handler.\n",
    "\n",
    "__So in Summary__:\n",
    "\n",
    "❖ Wait for document ready\n",
    "\n",
    "❖ Find all spans in skill-progress elements\n",
    "\n",
    "❖ Animate width of each over 1 sec based on data attribute\n"
   ]
  },
  {
   "cell_type": "markdown",
   "metadata": {},
   "source": [
    "##### **NumPy and Arrays**"
   ]
  },
  {
   "cell_type": "markdown",
   "metadata": {},
   "source": [
    "❖ NumPy Is A Python Third-Party Module To Deal With Arrays & Matrices\n",
    "\n",
    "❖ NumPy Stand For Numerical Python\n",
    "\n",
    "❖ NumPy Is Open Source\n",
    "\n",
    "❖ NumPy Support Dealing With Large Multidimensional Arrays & Matrices\n",
    "\n",
    "❖ NumPy Has Many Mathematical Functions To Deal With This Elements\n",
    "\n",
    "# ------------------------------------------------------------\n",
    "\n",
    ":: `Why We Use NumPy Array` ::\n",
    "\n",
    "❖ Consume Less Memory\n",
    "\n",
    "❖ Very Fast Compared To Python List\n",
    "\n",
    "❖ Easy To Use\n",
    "\n",
    "❖ Support Element Wise Operation\n",
    "\n",
    "❖ Elements Are Stored Contiguous\n",
    "\n",
    "# -------------------------------------------\n",
    "\n",
    "**Python Lists**\n",
    "\n",
    "↪ `Homogeneous` => Can Contains The Same Type of Objects\n",
    "\n",
    "↪ `Heterogeneous` => Can Contains Different Types of Objects.\n",
    "\n",
    "# --------------------------------------------------------------\n",
    "\n",
    "❖ The Items in The Array Have to Be Of The Same Type\n",
    "\n",
    "❖ You Can Be Sure Whats The Storage Size Needed for The Array\n",
    "\n",
    "❖ NumPy Arrays Are Indexed From 0\n",
    "\n",
    "# --------------------------------------------------------------\n",
    "\n",
    "> NumPy On Github => https://github.com/numpy/numpy\n"
   ]
  },
  {
   "cell_type": "code",
   "execution_count": 1,
   "metadata": {},
   "outputs": [
    {
     "name": "stdout",
     "output_type": "stream",
     "text": [
      "1.26.3\n"
     ]
    }
   ],
   "source": [
    "import numpy as np\n",
    "\n",
    "print(np.__version__)"
   ]
  },
  {
   "cell_type": "markdown",
   "metadata": {},
   "source": [
    ":: `NumPy – Create Arrays` ::"
   ]
  },
  {
   "cell_type": "code",
   "execution_count": 3,
   "metadata": {},
   "outputs": [
    {
     "name": "stdout",
     "output_type": "stream",
     "text": [
      "[1, 2, 3, 4, 5]\n",
      "[1 2 3 4 5]\n",
      "<class 'list'>\n",
      "<class 'numpy.ndarray'>\n"
     ]
    }
   ],
   "source": [
    "import numpy as np\n",
    "\n",
    "my_list = [1, 2, 3, 4, 5]\n",
    "my_array = np.array(my_list)\n",
    "\n",
    "print(my_list)\n",
    "print(my_array)\n",
    "print(type(my_list))\n",
    "print(type(my_array))"
   ]
  },
  {
   "cell_type": "markdown",
   "metadata": {},
   "source": [
    "`ndarray` stands for N-dimensional array or multidimensional. This means ndarrays can represent data with any number of dimensions. For example - 1D, 2D, 3D arrays etc."
   ]
  },
  {
   "cell_type": "code",
   "execution_count": 4,
   "metadata": {},
   "outputs": [
    {
     "name": "stdout",
     "output_type": "stream",
     "text": [
      "1\n",
      "1\n"
     ]
    }
   ],
   "source": [
    "import numpy as np\n",
    "\n",
    "my_list = [1, 2, 3, 4, 5]\n",
    "my_array = np.array(my_list)\n",
    "\n",
    "print(my_list[0])\n",
    "print(my_array[0])"
   ]
  },
  {
   "cell_type": "code",
   "execution_count": 6,
   "metadata": {},
   "outputs": [
    {
     "name": "stdout",
     "output_type": "stream",
     "text": [
      "8\n",
      "8\n",
      "8\n",
      "0\n",
      "1\n",
      "2\n",
      "3\n"
     ]
    }
   ],
   "source": [
    "import numpy as np\n",
    "a = np.array(10)\n",
    "b = np.array([10, 20])\n",
    "c = np.array( [ [1, 2], [3, 4] ] )\n",
    "d = np.array( [ [ [5, 6], [7, 9] ], [ [1, 3], [4, 8] ] ] )\n",
    "\n",
    "print(d[1][1][-1])\n",
    "print(d[1, 1, 1])\n",
    "print(d[1, 1, -1])\n",
    "print(a.ndim)\n",
    "print(b.ndim)\n",
    "print(c.ndim)\n",
    "print(d.ndim)"
   ]
  },
  {
   "cell_type": "markdown",
   "metadata": {},
   "source": [
    "`ndim` Stands for Number Of Dimensions"
   ]
  },
  {
   "cell_type": "code",
   "execution_count": 7,
   "metadata": {},
   "outputs": [
    {
     "name": "stdout",
     "output_type": "stream",
     "text": [
      "[[[1 2 3]]]\n",
      "3\n",
      "1\n"
     ]
    }
   ],
   "source": [
    "import numpy as np\n",
    "my_custom_array = np.array([1, 2, 3], ndmin=3)\n",
    "print(my_custom_array)\n",
    "print(my_custom_array.ndim)\n",
    "\n",
    "print(my_custom_array[0, 0, 0])"
   ]
  },
  {
   "cell_type": "markdown",
   "metadata": {},
   "source": [
    "`ndmin` Stands for Minimum Number of Arrays"
   ]
  },
  {
   "cell_type": "markdown",
   "metadata": {},
   "source": [
    ":: `Compare Data Location And Type` ::"
   ]
  },
  {
   "cell_type": "code",
   "execution_count": 8,
   "metadata": {},
   "outputs": [
    {
     "name": "stdout",
     "output_type": "stream",
     "text": [
      "1\n",
      "2\n",
      "1\n",
      "2\n"
     ]
    }
   ],
   "source": [
    "import numpy as np\n",
    "\n",
    "my_list = [1, 2, 3, 4, 5]\n",
    "my_array = np.array([1, 2, 3, 4, 5])\n",
    "\n",
    "print(my_list[0])\n",
    "print(my_list[1])\n",
    "\n",
    "print(my_array[0])\n",
    "print(my_array[1])"
   ]
  },
  {
   "cell_type": "code",
   "execution_count": 9,
   "metadata": {},
   "outputs": [
    {
     "name": "stdout",
     "output_type": "stream",
     "text": [
      "4387572592\n",
      "4387572624\n",
      "4583161616\n",
      "4583161616\n"
     ]
    }
   ],
   "source": [
    "import numpy as np\n",
    "\n",
    "my_list = [1, 2, 3, 4, 5]\n",
    "my_array = np.array([1, 2, 3, 4, 5])\n",
    "\n",
    "print(id(my_list[0]))\n",
    "print(id(my_list[1]))\n",
    "\n",
    "print(id(my_array[0]))\n",
    "print(id(my_array[1]))"
   ]
  },
  {
   "cell_type": "code",
   "execution_count": 10,
   "metadata": {},
   "outputs": [
    {
     "name": "stdout",
     "output_type": "stream",
     "text": [
      "[1, 2, 'A', 'B', True, 10.5]\n",
      "['1' '2' 'A' 'B' 'True' '10.5']\n"
     ]
    }
   ],
   "source": [
    "import numpy as np\n",
    "\n",
    "my_list_of_data = [1, 2, \"A\", \"B\", True, 10.50]\n",
    "my_array_of_data = np.array([1, 2, \"A\", \"B\", True, 10.50])\n",
    "\n",
    "print(my_list_of_data)\n",
    "print(my_array_of_data)"
   ]
  },
  {
   "cell_type": "code",
   "execution_count": 11,
   "metadata": {},
   "outputs": [
    {
     "name": "stdout",
     "output_type": "stream",
     "text": [
      "1\n",
      "1\n",
      "<class 'int'>\n",
      "<class 'numpy.str_'>\n"
     ]
    }
   ],
   "source": [
    "import numpy as np\n",
    "\n",
    "my_list_of_data = [1, 2, \"A\", \"B\", True, 10.50]\n",
    "my_array_of_data = np.array([1, 2, \"A\", \"B\", True, 10.50])\n",
    "\n",
    "print(my_list_of_data[0])\n",
    "print(my_array_of_data[0])\n",
    "\n",
    "print(type(my_list_of_data[0]))\n",
    "print(type(my_array_of_data[0]))"
   ]
  },
  {
   "cell_type": "code",
   "execution_count": 12,
   "metadata": {},
   "outputs": [
    {
     "name": "stdout",
     "output_type": "stream",
     "text": [
      "[1, 2, 'A', 'B', True, 10.5]\n",
      "['1' '2' 'A']\n"
     ]
    }
   ],
   "source": [
    "import numpy as np\n",
    "\n",
    "my_list_of_data_two = [1, 2, \"A\", \"B\", True, 10.50]\n",
    "my_array_of_data_two = np.array([1, 2, \"A\"])\n",
    "\n",
    "print(my_list_of_data_two)\n",
    "print(my_array_of_data_two)"
   ]
  },
  {
   "cell_type": "code",
   "execution_count": 13,
   "metadata": {},
   "outputs": [
    {
     "name": "stdout",
     "output_type": "stream",
     "text": [
      "1\n",
      "1\n",
      "<class 'int'>\n",
      "<class 'numpy.str_'>\n"
     ]
    }
   ],
   "source": [
    "import numpy as np\n",
    "\n",
    "my_list_of_data_two = [1, 2, \"A\", \"B\", True, 10.50]\n",
    "my_array_of_data_two = np.array([1, 2, \"A\"])\n",
    "\n",
    "print(my_list_of_data_two[0])\n",
    "print(my_array_of_data_two[0])\n",
    "\n",
    "print(type(my_list_of_data_two[0]))\n",
    "print(type(my_array_of_data_two[0]))"
   ]
  },
  {
   "cell_type": "markdown",
   "metadata": {},
   "source": [
    ":: `Array Slicing` ::"
   ]
  },
  {
   "cell_type": "code",
   "execution_count": 14,
   "metadata": {},
   "outputs": [
    {
     "name": "stdout",
     "output_type": "stream",
     "text": [
      "1\n",
      "B\n",
      "['B' 'C' 'D']\n",
      "['A' 'B' 'C' 'D']\n",
      "['C' 'D' 'E' 'F']\n"
     ]
    }
   ],
   "source": [
    "import numpy as np\n",
    "\n",
    "a = np.array([\"A\", \"B\", \"C\", \"D\", \"E\", \"F\"])\n",
    "\n",
    "print(a.ndim)\n",
    "print(a[1])\n",
    "print(a[1:4])\n",
    "print(a[:4])\n",
    "print(a[2:])"
   ]
  },
  {
   "cell_type": "code",
   "execution_count": 17,
   "metadata": {},
   "outputs": [
    {
     "name": "stdout",
     "output_type": "stream",
     "text": [
      "2\n",
      "['C' 'D' 'Y']\n",
      "####################\n",
      "[['E' 'F']\n",
      " ['M' 'N']]\n",
      "[['E']\n",
      " ['M']]\n"
     ]
    }
   ],
   "source": [
    "b = np.array([[\"A\", \"B\", \"X\"], [\"C\", \"D\", \"Y\"], [\"E\", \"F\", \"Z\"], [\"M\", \"N\", \"O\"]])\n",
    "\n",
    "print(b.ndim)\n",
    "print(b[1])\n",
    "print(\"#\" * 20)\n",
    "print(b[2:, :2])\n",
    "print(b[2:, :2:2])"
   ]
  },
  {
   "cell_type": "markdown",
   "metadata": {},
   "source": [
    ":: `NumPy – Data Types And Control Array` ::\n",
    "\n",
    "> https://numpy.org/devdocs/user/basics.types.html\n",
    "\n",
    "> https://docs.scipy.org/doc/numpy/reference/arrays.dtypes.html#specifying-and-constructing-data-types\n",
    "\n",
    "\n",
    "❖ '`?`' boolean\n",
    "\n",
    "❖ '`b`' (signed) byte\n",
    "\n",
    "❖ '`B`' unsigned byte\n",
    "\n",
    "❖ '`i`' (signed) integer\n",
    "\n",
    "❖ '`u`' unsigned integer\n",
    "\n",
    "❖ '`f`' floating-point\n",
    "\n",
    "❖ '`c`' complex-floating point\n",
    "\n",
    "❖ '`m`' timedelta\n",
    "\n",
    "❖ '`M`' datetime\n",
    "\n",
    "❖ '`O`' (Python) objects\n",
    "\n",
    "❖ '`S`', 'a' zero-terminated bytes (not recommended)\n",
    "\n",
    "❖ '`U`' Unicode string\n",
    "\n",
    "❖ '`V`' raw data (void)\n"
   ]
  },
  {
   "cell_type": "code",
   "execution_count": 18,
   "metadata": {},
   "outputs": [
    {
     "name": "stdout",
     "output_type": "stream",
     "text": [
      "int64\n",
      "float64\n",
      "<U12\n"
     ]
    }
   ],
   "source": [
    "import numpy as np\n",
    "\n",
    "my_array1 = np.array([1, 2, 3])\n",
    "my_array2 = np.array([1.5, 20.15, 3.601])\n",
    "my_array3 = np.array([\"Osama_Elzero\", \"B\", \"Ahmed\"])\n",
    "\n",
    "print(my_array1.dtype)\n",
    "print(my_array2.dtype)\n",
    "print(my_array3.dtype)"
   ]
  },
  {
   "cell_type": "code",
   "execution_count": 19,
   "metadata": {},
   "outputs": [
    {
     "name": "stdout",
     "output_type": "stream",
     "text": [
      "float64\n",
      "int64\n"
     ]
    }
   ],
   "source": [
    "import numpy as np\n",
    "\n",
    "# Create Array With Specific Data Type\n",
    "\n",
    "my_array4 = np.array([1, 2, 3], dtype=float) # float Or 'float' Or 'f'\n",
    "my_array5 = np.array([1.5, 20.15, 3.601], dtype=int) # int Or 'int' Or 'i'\n",
    "# my_array6 = np.array([\"Osama_Elzero\", \"B\", \"Ahmed\"], dtype=int) # Value Error\n",
    "\n",
    "print(my_array4.dtype)\n",
    "print(my_array5.dtype)\n",
    "# print(my_array6.dtype)\n"
   ]
  },
  {
   "cell_type": "code",
   "execution_count": 20,
   "metadata": {},
   "outputs": [
    {
     "name": "stdout",
     "output_type": "stream",
     "text": [
      "int64\n",
      "[0 1 2 3 0 4]\n"
     ]
    }
   ],
   "source": [
    "import numpy as np\n",
    "my_array7 = np.array([0, 1, 2, 3, 0, 4])\n",
    "print(my_array7.dtype)\n",
    "print(my_array7)"
   ]
  },
  {
   "cell_type": "code",
   "execution_count": 21,
   "metadata": {},
   "outputs": [
    {
     "name": "stdout",
     "output_type": "stream",
     "text": [
      "float64\n",
      "[0. 1. 2. 3. 0. 4.]\n"
     ]
    }
   ],
   "source": [
    "import numpy as np\n",
    "\n",
    "my_array7 = my_array7.astype('float')\n",
    "print(my_array7.dtype)\n",
    "print(my_array7)"
   ]
  },
  {
   "cell_type": "code",
   "execution_count": null,
   "metadata": {},
   "outputs": [],
   "source": [
    "import numpy as np\n",
    "my_array7 = my_array7.astype('bool')\n",
    "print(my_array7.dtype)\n",
    "print(my_array7)"
   ]
  },
  {
   "cell_type": "code",
   "execution_count": 22,
   "metadata": {},
   "outputs": [
    {
     "name": "stdout",
     "output_type": "stream",
     "text": [
      "float32\n",
      "4\n",
      "float64\n",
      "8\n"
     ]
    }
   ],
   "source": [
    "# Test Capacity\n",
    "\n",
    "my_array8 = np.array([100, 200, 300, 400], dtype='f')\n",
    "print(my_array8.dtype)\n",
    "print(my_array8[0].itemsize) # 4 Bytes\n",
    "\n",
    "my_array8 = my_array8.astype('float') # Change To Float64\n",
    "print(my_array8.dtype)\n",
    "print(my_array8[0].itemsize) # 8 Bytes"
   ]
  },
  {
   "cell_type": "markdown",
   "metadata": {},
   "source": [
    ":: `Arithmetic And Useful Operations` ::\n",
    "\n",
    "❖ Addition\n",
    "\n",
    "❖ Subtraction\n",
    "\n",
    "❖ Multiplication\n",
    "\n",
    "❖ Dividation\n",
    "\n",
    "# ----------------\n",
    "\n",
    "❖ min\n",
    "\n",
    "❖ max\n",
    "\n",
    "❖ sum\n",
    "\n",
    "❖ ravel => Returns Flattened Array 1 Dimension With Same Type\n"
   ]
  },
  {
   "cell_type": "code",
   "execution_count": 23,
   "metadata": {},
   "outputs": [
    {
     "name": "stdout",
     "output_type": "stream",
     "text": [
      "[15 22 34]\n",
      "[ 5 18 26]\n",
      "[ 50  40 120]\n",
      "[ 2.  10.   7.5]\n"
     ]
    }
   ],
   "source": [
    "import numpy as np\n",
    "\n",
    "# Arithmetic Operations\n",
    "\n",
    "my_array1 = np.array([10, 20, 30])\n",
    "my_array2 = np.array([5, 2, 4])\n",
    "\n",
    "print(my_array1 + my_array2) # result [15, 22, 34]\n",
    "print(my_array1 - my_array2) # result [5, 18, 26]\n",
    "print(my_array1 * my_array2) # result [50, 40, 120]\n",
    "print(my_array1 / my_array2) # result [2, 10, 7.5]"
   ]
  },
  {
   "cell_type": "code",
   "execution_count": null,
   "metadata": {},
   "outputs": [],
   "source": [
    "import numpy as np\n",
    "\n",
    "my_array3 = np.array([[1, 4], [5, 9]])\n",
    "my_array4 = np.array([[2, 7], [10, 5]])\n",
    "\n",
    "print(my_array3 + my_array4) # result [ [3, 11], [15, 14] ]\n",
    "print(my_array3 - my_array4) # result [ [-1, -3], [-5, 4] ]\n",
    "print(my_array3 * my_array4) # result [ [2, 28], [50, 45] ]\n",
    "print(my_array3 / my_array4) # result [ [0.5, 0.57142857], [0.5, 1.8] ]"
   ]
  },
  {
   "cell_type": "code",
   "execution_count": 25,
   "metadata": {},
   "outputs": [
    {
     "name": "stdout",
     "output_type": "stream",
     "text": [
      "10\n",
      "30\n",
      "60\n"
     ]
    }
   ],
   "source": [
    "import numpy as np\n",
    "\n",
    "my_array5 = np.array([10, 20, 30])\n",
    "print(my_array5.min())\n",
    "print(my_array5.max())\n",
    "print(my_array5.sum())"
   ]
  },
  {
   "cell_type": "code",
   "execution_count": 26,
   "metadata": {},
   "outputs": [
    {
     "name": "stdout",
     "output_type": "stream",
     "text": [
      "3\n",
      "9\n",
      "22\n"
     ]
    }
   ],
   "source": [
    "import numpy as np\n",
    "\n",
    "my_array6 = np.array([[6, 4], [3, 9]])\n",
    "print(my_array6.min())\n",
    "print(my_array6.max())\n",
    "print(my_array6.sum())"
   ]
  },
  {
   "cell_type": "code",
   "execution_count": 27,
   "metadata": {},
   "outputs": [
    {
     "name": "stdout",
     "output_type": "stream",
     "text": [
      "[6 4 3 9]\n"
     ]
    }
   ],
   "source": [
    "import numpy as np\n",
    "\n",
    "my_array7 = np.array([[6, 4], [3, 9]])\n",
    "print(my_array7.ravel())"
   ]
  },
  {
   "cell_type": "code",
   "execution_count": null,
   "metadata": {},
   "outputs": [],
   "source": [
    "import numpy as np\n",
    "\n",
    "my_array8 = np.array([[[1, 2], [3, 4]], [[5, 6], [7, 8]]])\n",
    "print(my_array8.ndim)\n",
    "print(my_array8.ravel())\n",
    "x = my_array8.ravel()\n",
    "print(x.ndim)"
   ]
  },
  {
   "cell_type": "markdown",
   "metadata": {},
   "source": [
    ":: `NumPy – Array Shape And ReShape` ::\n",
    "\n",
    "Shape Returns A Tuple Contains The Number Of Elements in Each Dimension"
   ]
  },
  {
   "cell_type": "code",
   "execution_count": 28,
   "metadata": {},
   "outputs": [
    {
     "name": "stdout",
     "output_type": "stream",
     "text": [
      "1\n",
      "(4,)\n"
     ]
    }
   ],
   "source": [
    "import numpy as np\n",
    "\n",
    "my_array1 = np.array([1, 2, 3, 4])\n",
    "print(my_array1.ndim)\n",
    "print(my_array1.shape)"
   ]
  },
  {
   "cell_type": "code",
   "execution_count": 29,
   "metadata": {},
   "outputs": [
    {
     "name": "stdout",
     "output_type": "stream",
     "text": [
      "2\n",
      "(3, 4)\n"
     ]
    }
   ],
   "source": [
    "import numpy as np\n",
    "\n",
    "my_array2 = np.array([[1, 2, 3, 4], [1, 2, 3, 4], [1, 2, 3, 4]])\n",
    "print(my_array2.ndim)\n",
    "print(my_array2.shape)"
   ]
  },
  {
   "cell_type": "code",
   "execution_count": 30,
   "metadata": {},
   "outputs": [
    {
     "name": "stdout",
     "output_type": "stream",
     "text": [
      "3\n",
      "(2, 2, 3)\n"
     ]
    }
   ],
   "source": [
    "import numpy as np\n",
    "\n",
    "my_array3 = np.array([[[1, 2, 3], [1, 2, 3]], [[1, 2, 3], [1, 2, 3]]])\n",
    "print(my_array3.ndim)\n",
    "print(my_array3.shape)"
   ]
  },
  {
   "cell_type": "code",
   "execution_count": 31,
   "metadata": {},
   "outputs": [
    {
     "name": "stdout",
     "output_type": "stream",
     "text": [
      "1\n",
      "(12,)\n"
     ]
    }
   ],
   "source": [
    "import numpy as np\n",
    "\n",
    "my_array4 = np.array([1, 2, 3, 4, 5, 6, 7, 8, 9, 10, 11, 12])\n",
    "print(my_array4.ndim)\n",
    "print(my_array4.shape)"
   ]
  },
  {
   "cell_type": "code",
   "execution_count": 32,
   "metadata": {},
   "outputs": [
    {
     "name": "stdout",
     "output_type": "stream",
     "text": [
      "2\n",
      "(3, 4)\n",
      "[[ 1  2  3  4]\n",
      " [ 5  6  7  8]\n",
      " [ 9 10 11 12]]\n"
     ]
    }
   ],
   "source": [
    "import numpy as np\n",
    "my_array4 = np.array([1, 2, 3, 4, 5, 6, 7, 8, 9, 10, 11, 12])\n",
    "reshaped_array4 = my_array4.reshape(3, 4)\n",
    "print(reshaped_array4.ndim)\n",
    "print(reshaped_array4.shape)\n",
    "print(reshaped_array4)"
   ]
  },
  {
   "cell_type": "code",
   "execution_count": 33,
   "metadata": {},
   "outputs": [
    {
     "name": "stdout",
     "output_type": "stream",
     "text": [
      "2\n",
      "(2, 10)\n"
     ]
    }
   ],
   "source": [
    "import numpy as np\n",
    "\n",
    "my_array5 = np.array([[1, 2, 3, 4, 5, 6, 7, 8, 9, 10], [1, 2, 3, 4, 5, 6, 7, 8, 9, 10]])\n",
    "print(my_array5.ndim)\n",
    "print(my_array5.shape)"
   ]
  },
  {
   "cell_type": "code",
   "execution_count": 34,
   "metadata": {},
   "outputs": [
    {
     "name": "stdout",
     "output_type": "stream",
     "text": [
      "3\n",
      "(2, 5, 2)\n",
      "[[[ 1  2]\n",
      "  [ 3  4]\n",
      "  [ 5  6]\n",
      "  [ 7  8]\n",
      "  [ 9 10]]\n",
      "\n",
      " [[ 1  2]\n",
      "  [ 3  4]\n",
      "  [ 5  6]\n",
      "  [ 7  8]\n",
      "  [ 9 10]]]\n"
     ]
    }
   ],
   "source": [
    "import numpy as np\n",
    "\n",
    "my_array5 = np.array([[1, 2, 3, 4, 5, 6, 7, 8, 9, 10], [1, 2, 3, 4, 5, 6, 7, 8, 9, 10]])\n",
    "reshaped_array5 = my_array5.reshape(2, 5, 2)\n",
    "print(reshaped_array5.ndim)\n",
    "print(reshaped_array5.shape)\n",
    "print(reshaped_array5)"
   ]
  }
 ],
 "metadata": {
  "kernelspec": {
   "display_name": "Python 3",
   "language": "python",
   "name": "python3"
  },
  "language_info": {
   "codemirror_mode": {
    "name": "ipython",
    "version": 3
   },
   "file_extension": ".py",
   "mimetype": "text/x-python",
   "name": "python",
   "nbconvert_exporter": "python",
   "pygments_lexer": "ipython3",
   "version": "3.12.1"
  }
 },
 "nbformat": 4,
 "nbformat_minor": 2
}
