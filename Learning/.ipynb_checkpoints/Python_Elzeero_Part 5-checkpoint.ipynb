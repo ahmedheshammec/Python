{
 "cells": [
  {
   "cell_type": "markdown",
   "metadata": {},
   "source": [
    "##### **OOP Object Oriented Programming**\n",
    "\n",
    "❖ Python Support Object Oriented Programming\n",
    "\n",
    "❖ `OOP` Is A Paradigm Or Coding Style\n",
    "\n",
    "❖ `Paradigm` =>\n",
    "\n",
    "   ↪ Means Structuring Program So The Methods [Functions] and Attributes [Data] Are Bundled Into Objects\n",
    "    \n",
    "❖ `Methods` => Act As Function That Use The Information Of The Object\n",
    "\n",
    "❖ Python Is Multi-Paradigm Programming Language [Procedural, OOP, Functional]\n",
    "\n",
    "❖ `Procedural` => Structure App Like Recipe, Sets Of Steps To Make The Task\n",
    "\n",
    "❖ `Functional` => Built On the Concept of Mathematical Functions\n",
    "\n",
    "`WHY OOP?`\n",
    "\n",
    "❖ OOP Allow You To Organize Your Code and Make It Readable and Reusable\n",
    "\n",
    "❖ Everything in Python is \n",
    "\n",
    "`IF MAN IS OBJECT`\n",
    "\n",
    "❖ Attributes => Name, Age, Address, Phone Number, Info [Can Be Differnet]\n",
    "\n",
    "❖ Methods[Behaviors] => Walking, Eating, Singing, Playing\n",
    "\n",
    "`IF CAR IS OBJECT`\n",
    "\n",
    "❖ Attributes => Model, Color, Price\n",
    "\n",
    "❖ Methods[Behaviors] => Walking, Stopping\n",
    "\n",
    "`CLASS`\n",
    "\n",
    "❖ Class Is The Template For Creating Objects [Object Constructor | Blueprint]\n",
    "\n",
    "❖ Class Car Can Create Many Cars Object\n",
    "\n",
    "❖ Class User Can Create Many Users Object\n",
    "\n",
    "\n",
    "\n",
    "\n"
   ]
  },
  {
   "cell_type": "markdown",
   "metadata": {},
   "source": [
    "##### **Class Syntax and Info**\n",
    "\n",
    "`[01]` Class is The Blueprint Or Construtor Of The Object\n",
    "\n",
    "`[02]` Class Instantiate Means Create Instance of A Class\n",
    "\n",
    "`[03]` Instance => Object Created From Class And Have Their Methods and Attributes\n",
    "\n",
    "`[04]` Class Defined With Keyword class\n",
    "\n",
    "`[05]` Class Name Written With PascalCase [UpperCamelCase] Style\n",
    "\n",
    "`[06]` Class May Contains Methods and Attributes\n",
    "\n",
    "`[07]` When Creating Object Python Look For The Built In _init_ Method\n",
    "\n",
    "`[08]` `__init__` Method Called Every Time You Create Object From Class\n",
    "\n",
    "`[09]` `__init__ `Method Is Initialize The Data For The Object\n",
    "\n",
    "`[10]` Any Method With Two Underscore in The Start and End Called Dunder or Magic Method\n",
    "\n",
    "`[11]` self Refer To The Current Instance Created From The Class And Must Be First Param\n",
    "\n",
    "`[12]` self Can Be Named Anything\n",
    "\n",
    "`[13]` In Python You Dont Need To Call new() Keyword To Create Object"
   ]
  },
  {
   "cell_type": "markdown",
   "metadata": {},
   "source": [
    "**Syntax**"
   ]
  },
  {
   "cell_type": "code",
   "execution_count": null,
   "metadata": {},
   "outputs": [],
   "source": [
    "class Name:\n",
    "\n",
    "#       Constructor => Do Instantiation [ Create Instance From A Class ]\n",
    "\n",
    "#       Each Instance Is Separate Object\n",
    "\n",
    "#       def __init__ (self, other_data)\n",
    "\n",
    "#          Body Of Function"
   ]
  },
  {
   "cell_type": "code",
   "execution_count": 1,
   "metadata": {},
   "outputs": [
    {
     "name": "stdout",
     "output_type": "stream",
     "text": [
      "A new member has been added\n"
     ]
    },
    {
     "data": {
      "text/plain": [
       "<__main__.member at 0x1066cd040>"
      ]
     },
     "execution_count": 1,
     "metadata": {},
     "output_type": "execute_result"
    }
   ],
   "source": [
    "class member: \n",
    "\n",
    "    def __init__(self): \n",
    "        \n",
    "        print(\"A new member has been added\")\n",
    "\n",
    "member()"
   ]
  },
  {
   "cell_type": "markdown",
   "metadata": {},
   "source": [
    "To know the data belong to which class, we use the `class` method"
   ]
  },
  {
   "cell_type": "code",
   "execution_count": 2,
   "metadata": {},
   "outputs": [
    {
     "name": "stdout",
     "output_type": "stream",
     "text": [
      "A new member has been added\n",
      "A new member has been added\n",
      "A new member has been added\n",
      "<class '__main__.member'>\n"
     ]
    }
   ],
   "source": [
    "class member: \n",
    "\n",
    "    def __init__(self): \n",
    "        \n",
    "        print(\"A new member has been added\")\n",
    "\n",
    "member_one = member()\n",
    "member_two = member()\n",
    "member_three = member()\n",
    "\n",
    "print(member_one.__class__)"
   ]
  },
  {
   "cell_type": "markdown",
   "metadata": {},
   "source": [
    ":: `Why Using Class ? ` ::\n",
    "\n",
    "if we have Dictionary like this: "
   ]
  },
  {
   "cell_type": "code",
   "execution_count": null,
   "metadata": {},
   "outputs": [],
   "source": [
    "my_dictionary = {\n",
    "    'name': \"Osama\",\n",
    "    'age': 36,\n",
    "    'monthly_salary': 5000,\n",
    "    'yearly_salary': ''   # Something\n",
    "}"
   ]
  },
  {
   "cell_type": "markdown",
   "metadata": {},
   "source": [
    "and we want the monthly_salary to be multiplied by a number to get yearly salary for example, we cannot do such calculation in Dictionary but we can using Classes"
   ]
  },
  {
   "cell_type": "markdown",
   "metadata": {},
   "source": [
    "##### **Instance Attributes and Methods**\n",
    "\n",
    "❖ `Self`: Point To Instance Created From Class\n",
    "\n",
    "❖ `Instance Attributes`: Instance Attributes Defined Inside The Constructor\n",
    "\n",
    "❖ `Instance Methods`: Take Self Parameter Which Point To Instance Created From Class\n",
    "\n",
    "❖ `Instance Methods` Can Have More Than One Parameter Like Any Function\n",
    "\n",
    "❖ `Instance Methods` Can Freely Access Attributes And Methods On The Same Object\n",
    "\n",
    "❖ `Instance Methods` Can Access The Class Itself\n"
   ]
  },
  {
   "cell_type": "code",
   "execution_count": 5,
   "metadata": {},
   "outputs": [
    {
     "name": "stdout",
     "output_type": "stream",
     "text": [
      "Osama\n",
      "Osama\n",
      "Osama\n"
     ]
    }
   ],
   "source": [
    "class Member: \n",
    "\n",
    "    def __init__(self) -> None:\n",
    "        \n",
    "        self.name = \"Osama\"  # name can be word of my choice\n",
    "\n",
    "member_one = Member()\n",
    "member_two = Member()\n",
    "member_three = Member()\n",
    "\n",
    "print(member_one.name)\n",
    "print(member_two.name)\n",
    "print(member_three.name)\n"
   ]
  },
  {
   "cell_type": "markdown",
   "metadata": {},
   "source": [
    "Now we want to change the name Osama to be the every member name."
   ]
  },
  {
   "cell_type": "code",
   "execution_count": 6,
   "metadata": {},
   "outputs": [
    {
     "name": "stdout",
     "output_type": "stream",
     "text": [
      "Osama\n",
      "Ahmed\n",
      "Sayed\n"
     ]
    }
   ],
   "source": [
    "class Member: \n",
    "\n",
    "    def __init__(self, first_name):\n",
    "        \n",
    "        self.name = first_name  # name can be word of my choice\n",
    "\n",
    "member_one = Member(\"Osama\")\n",
    "member_two = Member(\"Ahmed\")\n",
    "member_three = Member(\"Sayed\")\n",
    "\n",
    "print(member_one.name)\n",
    "print(member_two.name)\n",
    "print(member_three.name)\n"
   ]
  },
  {
   "cell_type": "code",
   "execution_count": 19,
   "metadata": {},
   "outputs": [
    {
     "name": "stdout",
     "output_type": "stream",
     "text": [
      "Osama Mohamed Alsayed\n",
      "Ahmed\n",
      "Mona\n"
     ]
    }
   ],
   "source": [
    "class Member: \n",
    "\n",
    "    def __init__(self, first_name, middle_name, last_name):\n",
    "        \n",
    "        self.fname = first_name  \n",
    "        self.mname = middle_name \n",
    "        self.lname = last_name  \n",
    "\n",
    "member_one = Member(\"Osama\", \"Mohamed\", \"Alsayed\")\n",
    "member_two = Member(\"Ahmed\", \"Ali\", \"Mahmoud\")\n",
    "mmember_three = Member(\"Mona\", \"Ali\", \"Mohmoud\")\n",
    "\n",
    "print(member_one.fname, member_one.mname, member_one.lname)\n",
    "print(member_two.fname)\n",
    "print(member_three.fname)\n"
   ]
  },
  {
   "cell_type": "markdown",
   "metadata": {},
   "source": [
    "Let's create a method and call it full_name() which return the full name"
   ]
  },
  {
   "cell_type": "code",
   "execution_count": 18,
   "metadata": {},
   "outputs": [
    {
     "name": "stdout",
     "output_type": "stream",
     "text": [
      "Osama Mohamed Alsayed\n"
     ]
    }
   ],
   "source": [
    "class Member: \n",
    "\n",
    "    def __init__(self, first_name, middle_name, last_name):\n",
    "        \n",
    "        self.fname = first_name  \n",
    "        self.mname = middle_name \n",
    "        self.lname = last_name  \n",
    "    \n",
    "    def full_name(self): \n",
    "\n",
    "        return f\"{self.fname} {self.mname} {self.lname}\"\n",
    "\n",
    "member_one = Member(\"Osama\", \"Mohamed\", \"Alsayed\")\n",
    "member_two = Member(\"Ahmed\", \"Ali\", \"Mahmoud\")\n",
    "mmember_three = Member(\"Mona\", \"Ali\", \"Mohmoud\")\n",
    "\n",
    "\n",
    "print(member_one.full_name())"
   ]
  },
  {
   "cell_type": "markdown",
   "metadata": {},
   "source": [
    "Now Let's create a new method that return your first name and \"Hello Mr.\" Before your name. "
   ]
  },
  {
   "cell_type": "code",
   "execution_count": 17,
   "metadata": {},
   "outputs": [
    {
     "name": "stdout",
     "output_type": "stream",
     "text": [
      "Hello Mr.Osama\n"
     ]
    }
   ],
   "source": [
    "class Member: \n",
    "\n",
    "    def __init__(self, first_name, middle_name, last_name):\n",
    "        \n",
    "        self.fname = first_name  \n",
    "        self.mname = middle_name \n",
    "        self.lname = last_name  \n",
    "    \n",
    "    def full_name(self): \n",
    "\n",
    "        return f\"{self.fname} {self.mname} {self.lname}\"\n",
    "    \n",
    "    def name_with_title(self): \n",
    "        return f\"Hello Mr.{self.fname}\"\n",
    "\n",
    "member_one = Member(\"Osama\", \"Mohamed\", \"Alsayed\")\n",
    "member_two = Member(\"Ahmed\", \"Ali\", \"Mahmoud\")\n",
    "mmember_three = Member(\"Mona\", \"Ali\", \"Mohmoud\")\n",
    "\n",
    "\n",
    "print(member_one.name_with_title())"
   ]
  },
  {
   "cell_type": "markdown",
   "metadata": {},
   "source": [
    "Now if we changed the printed member to member three which is mona and used name_with_title method with it it will print `Hello Mr.Mona` which is not what we want. so how can we fix that? \n",
    "\n",
    "We want to know if the person is male or female so that if it's male it will print `Mr.` and if it's female it will print `Ms.`"
   ]
  },
  {
   "cell_type": "code",
   "execution_count": 13,
   "metadata": {},
   "outputs": [
    {
     "name": "stdout",
     "output_type": "stream",
     "text": [
      "Hello Mr.Osama\n",
      "Hello Mr.Ahmed\n",
      "Hello Ms.Sayed\n"
     ]
    }
   ],
   "source": [
    "class Member: \n",
    "\n",
    "    def __init__(self, first_name, middle_name, last_name, gender):\n",
    "        \n",
    "        self.fname = first_name  \n",
    "        self.mname = middle_name \n",
    "        self.lname = last_name  \n",
    "        self.gender = gender\n",
    "    \n",
    "    def full_name(self): \n",
    "\n",
    "        return f\"{self.fname} {self.mname} {self.lname}\"\n",
    "    \n",
    "    def name_with_title(self): \n",
    "\n",
    "        if self.gender == \"Male\": \n",
    "\n",
    "            return f\"Hello Mr.{self.fname}\"\n",
    "        \n",
    "        elif self.gender == \"Female\": \n",
    "            \n",
    "            return f\"Hello Ms.{self.fname}\"\n",
    "        \n",
    "        else: \n",
    "            return f\"{self.fname}\"\n",
    "\n",
    "\n",
    "member_one = Member(\"Osama\", \"Mohamed\", \"Alsayed\", \"Male\")\n",
    "member_two = Member(\"Ahmed\", \"Ali\", \"Mahmoud\", \"Male\")\n",
    "member_three = Member(\"Mona\", \"Ali\", \"Mohmoud\", \"Female\")\n",
    "\n",
    "\n",
    "print(member_one.name_with_title())\n",
    "print(member_two.name_with_title())\n",
    "print(member_three.name_with_title())"
   ]
  },
  {
   "cell_type": "markdown",
   "metadata": {},
   "source": [
    "Now let's combine the two methods we created in one method and call it `get_all_info` which gets the full name and say hello to the member."
   ]
  },
  {
   "cell_type": "code",
   "execution_count": 16,
   "metadata": {},
   "outputs": [
    {
     "name": "stdout",
     "output_type": "stream",
     "text": [
      "Hello Mr.Osama, Your Full Name is: Osama Mohamed Alsayed\n",
      "Hello Mr.Ahmed, Your Full Name is: Ahmed Ali Mahmoud\n",
      "Hello Ms.Mona, Your Full Name is: Mona Ali Mohmoud\n"
     ]
    }
   ],
   "source": [
    "class Member: \n",
    "\n",
    "    def __init__(self, first_name, middle_name, last_name, gender):\n",
    "        \n",
    "        self.fname = first_name  \n",
    "        self.mname = middle_name \n",
    "        self.lname = last_name  \n",
    "        self.gender = gender\n",
    "    \n",
    "    def full_name(self): \n",
    "\n",
    "        return f\"{self.fname} {self.mname} {self.lname}\"\n",
    "    \n",
    "    def name_with_title(self): \n",
    "\n",
    "        if self.gender == \"Male\": \n",
    "\n",
    "            return f\"Hello Mr.{self.fname}\"\n",
    "        \n",
    "        elif self.gender == \"Female\": \n",
    "            \n",
    "            return f\"Hello Ms.{self.fname}\"\n",
    "        \n",
    "        else: \n",
    "            return f\"{self.fname}\"\n",
    "        \n",
    "    def get_all_info(self): \n",
    "\n",
    "        return f\"{self.name_with_title()}, Your Full Name is: {self.full_name()}\"\n",
    "\n",
    "\n",
    "member_one = Member(\"Osama\", \"Mohamed\", \"Alsayed\", \"Male\")\n",
    "member_two = Member(\"Ahmed\", \"Ali\", \"Mahmoud\", \"Male\")\n",
    "member_three = Member(\"Mona\", \"Ali\", \"Mohmoud\", \"Female\")\n",
    "\n",
    "\n",
    "print(member_one.get_all_info())\n",
    "print(member_two.get_all_info())\n",
    "print(member_three.get_all_info())"
   ]
  },
  {
   "cell_type": "markdown",
   "metadata": {},
   "source": [
    "##### **Class Attributes**\n",
    "\n",
    "`Class Attributes`: Attributes Defined Outside The Constructor\n",
    "\n",
    "Let's Create a System where some names are not allowed. "
   ]
  },
  {
   "cell_type": "code",
   "execution_count": 24,
   "metadata": {},
   "outputs": [
    {
     "ename": "ValueError",
     "evalue": "Name Not Allowed",
     "output_type": "error",
     "traceback": [
      "\u001b[0;31m---------------------------------------------------------------------------\u001b[0m",
      "\u001b[0;31mValueError\u001b[0m                                Traceback (most recent call last)",
      "Cell \u001b[0;32mIn[24], line 47\u001b[0m\n\u001b[1;32m     42\u001b[0m member_three \u001b[38;5;241m=\u001b[39m Member(\u001b[38;5;124m\"\u001b[39m\u001b[38;5;124mMona\u001b[39m\u001b[38;5;124m\"\u001b[39m, \u001b[38;5;124m\"\u001b[39m\u001b[38;5;124mAli\u001b[39m\u001b[38;5;124m\"\u001b[39m, \u001b[38;5;124m\"\u001b[39m\u001b[38;5;124mMohmoud\u001b[39m\u001b[38;5;124m\"\u001b[39m, \u001b[38;5;124m\"\u001b[39m\u001b[38;5;124mFemale\u001b[39m\u001b[38;5;124m\"\u001b[39m)\n\u001b[1;32m     43\u001b[0m member_four \u001b[38;5;241m=\u001b[39m Member(\u001b[38;5;124m\"\u001b[39m\u001b[38;5;124mShit\u001b[39m\u001b[38;5;124m\"\u001b[39m, \u001b[38;5;124m\"\u001b[39m\u001b[38;5;124mHell\u001b[39m\u001b[38;5;124m\"\u001b[39m, \u001b[38;5;124m\"\u001b[39m\u001b[38;5;124mMetal\u001b[39m\u001b[38;5;124m\"\u001b[39m, \u001b[38;5;124m\"\u001b[39m\u001b[38;5;124mBaloot\u001b[39m\u001b[38;5;124m\"\u001b[39m)\n\u001b[0;32m---> 47\u001b[0m \u001b[38;5;28mprint\u001b[39m(\u001b[43mmember_four\u001b[49m\u001b[38;5;241;43m.\u001b[39;49m\u001b[43mget_all_info\u001b[49m\u001b[43m(\u001b[49m\u001b[43m)\u001b[49m)\n",
      "Cell \u001b[0;32mIn[24], line 37\u001b[0m, in \u001b[0;36mMember.get_all_info\u001b[0;34m(self)\u001b[0m\n\u001b[1;32m     35\u001b[0m \u001b[38;5;28;01mdef\u001b[39;00m \u001b[38;5;21mget_all_info\u001b[39m(\u001b[38;5;28mself\u001b[39m): \n\u001b[0;32m---> 37\u001b[0m     \u001b[38;5;28;01mreturn\u001b[39;00m \u001b[38;5;124mf\u001b[39m\u001b[38;5;124m\"\u001b[39m\u001b[38;5;132;01m{\u001b[39;00m\u001b[38;5;28mself\u001b[39m\u001b[38;5;241m.\u001b[39mname_with_title()\u001b[38;5;132;01m}\u001b[39;00m\u001b[38;5;124m, Your Full Name is: \u001b[39m\u001b[38;5;132;01m{\u001b[39;00m\u001b[38;5;28;43mself\u001b[39;49m\u001b[38;5;241;43m.\u001b[39;49m\u001b[43mfull_name\u001b[49m\u001b[43m(\u001b[49m\u001b[43m)\u001b[49m\u001b[38;5;132;01m}\u001b[39;00m\u001b[38;5;124m\"\u001b[39m\n",
      "Cell \u001b[0;32mIn[24], line 16\u001b[0m, in \u001b[0;36mMember.full_name\u001b[0;34m(self)\u001b[0m\n\u001b[1;32m     12\u001b[0m \u001b[38;5;28;01mdef\u001b[39;00m \u001b[38;5;21mfull_name\u001b[39m(\u001b[38;5;28mself\u001b[39m): \n\u001b[1;32m     14\u001b[0m     \u001b[38;5;28;01mif\u001b[39;00m \u001b[38;5;28mself\u001b[39m\u001b[38;5;241m.\u001b[39mfname \u001b[38;5;129;01min\u001b[39;00m Member\u001b[38;5;241m.\u001b[39mnot_allowed_names: \n\u001b[0;32m---> 16\u001b[0m         \u001b[38;5;28;01mraise\u001b[39;00m \u001b[38;5;167;01mValueError\u001b[39;00m(\u001b[38;5;124m\"\u001b[39m\u001b[38;5;124mName Not Allowed\u001b[39m\u001b[38;5;124m\"\u001b[39m)\n\u001b[1;32m     18\u001b[0m     \u001b[38;5;28;01melse\u001b[39;00m: \n\u001b[1;32m     20\u001b[0m         \u001b[38;5;28;01mreturn\u001b[39;00m \u001b[38;5;124mf\u001b[39m\u001b[38;5;124m\"\u001b[39m\u001b[38;5;132;01m{\u001b[39;00m\u001b[38;5;28mself\u001b[39m\u001b[38;5;241m.\u001b[39mfname\u001b[38;5;132;01m}\u001b[39;00m\u001b[38;5;124m \u001b[39m\u001b[38;5;132;01m{\u001b[39;00m\u001b[38;5;28mself\u001b[39m\u001b[38;5;241m.\u001b[39mmname\u001b[38;5;132;01m}\u001b[39;00m\u001b[38;5;124m \u001b[39m\u001b[38;5;132;01m{\u001b[39;00m\u001b[38;5;28mself\u001b[39m\u001b[38;5;241m.\u001b[39mlname\u001b[38;5;132;01m}\u001b[39;00m\u001b[38;5;124m\"\u001b[39m\n",
      "\u001b[0;31mValueError\u001b[0m: Name Not Allowed"
     ]
    }
   ],
   "source": [
    "class Member: \n",
    "\n",
    "    not_allowed_names = [\"Hell\", \"Shit\", \"Baloot\"]\n",
    "\n",
    "    def __init__(self, first_name, middle_name, last_name, gender):\n",
    "        \n",
    "        self.fname = first_name  \n",
    "        self.mname = middle_name \n",
    "        self.lname = last_name  \n",
    "        self.gender = gender\n",
    "    \n",
    "    def full_name(self): \n",
    "\n",
    "        if self.fname in Member.not_allowed_names: \n",
    "\n",
    "            raise ValueError(\"Name Not Allowed\")\n",
    "        \n",
    "        else: \n",
    "\n",
    "            return f\"{self.fname} {self.mname} {self.lname}\"\n",
    "    \n",
    "    def name_with_title(self): \n",
    "\n",
    "        if self.gender == \"Male\": \n",
    "\n",
    "            return f\"Hello Mr.{self.fname}\"\n",
    "        \n",
    "        elif self.gender == \"Female\": \n",
    "            \n",
    "            return f\"Hello Ms.{self.fname}\"\n",
    "        \n",
    "        else: \n",
    "            return f\"{self.fname}\"\n",
    "        \n",
    "    def get_all_info(self): \n",
    "\n",
    "        return f\"{self.name_with_title()}, Your Full Name is: {self.full_name()}\"\n",
    "\n",
    "\n",
    "member_one = Member(\"Osama\", \"Mohamed\", \"Alsayed\", \"Male\")\n",
    "member_two = Member(\"Ahmed\", \"Ali\", \"Mahmoud\", \"Male\")\n",
    "member_three = Member(\"Mona\", \"Ali\", \"Mohmoud\", \"Female\")\n",
    "member_four = Member(\"Shit\", \"Hell\", \"Metal\", \"Baloot\")\n",
    "\n",
    "\n",
    "\n",
    "print(member_four.get_all_info())"
   ]
  },
  {
   "cell_type": "markdown",
   "metadata": {},
   "source": [
    "Now Let's make the number of users and increase it every time a new user is registered. "
   ]
  },
  {
   "cell_type": "code",
   "execution_count": 25,
   "metadata": {},
   "outputs": [
    {
     "name": "stdout",
     "output_type": "stream",
     "text": [
      "0\n",
      "4\n"
     ]
    }
   ],
   "source": [
    "class Member: \n",
    "\n",
    "    not_allowed_names = [\"Hell\", \"Shit\", \"Baloot\"]\n",
    "\n",
    "    users_num = 0\n",
    "\n",
    "    def __init__(self, first_name, middle_name, last_name, gender):\n",
    "        \n",
    "        self.fname = first_name  \n",
    "        self.mname = middle_name \n",
    "        self.lname = last_name  \n",
    "        self.gender = gender\n",
    "        \n",
    "        # User Count\n",
    "        Member.users_num += 1\n",
    "    \n",
    "    def full_name(self): \n",
    "\n",
    "        if self.fname in Member.not_allowed_names: \n",
    "\n",
    "            raise ValueError(\"Name Not Allowed\")\n",
    "        \n",
    "        else: \n",
    "\n",
    "            return f\"{self.fname} {self.mname} {self.lname}\"\n",
    "    \n",
    "    def name_with_title(self): \n",
    "\n",
    "        if self.gender == \"Male\": \n",
    "\n",
    "            return f\"Hello Mr.{self.fname}\"\n",
    "        \n",
    "        elif self.gender == \"Female\": \n",
    "            \n",
    "            return f\"Hello Ms.{self.fname}\"\n",
    "        \n",
    "        else: \n",
    "            return f\"{self.fname}\"\n",
    "        \n",
    "    def get_all_info(self): \n",
    "\n",
    "        return f\"{self.name_with_title()}, Your Full Name is: {self.full_name()}\"\n",
    "\n",
    "\n",
    "print(Member.users_num)\n",
    "\n",
    "member_one = Member(\"Osama\", \"Mohamed\", \"Alsayed\", \"Male\")\n",
    "member_two = Member(\"Ahmed\", \"Ali\", \"Mahmoud\", \"Male\")\n",
    "member_three = Member(\"Mona\", \"Ali\", \"Mohmoud\", \"Female\")\n",
    "member_four = Member(\"Shit\", \"Hell\", \"Metal\", \"Baloot\")\n",
    "\n",
    "print(Member.users_num)\n",
    "\n"
   ]
  },
  {
   "cell_type": "markdown",
   "metadata": {},
   "source": [
    "Now Let's create a new function that can delete the user. "
   ]
  },
  {
   "cell_type": "code",
   "execution_count": 26,
   "metadata": {},
   "outputs": [
    {
     "name": "stdout",
     "output_type": "stream",
     "text": [
      "0\n",
      "User Shit Deleted\n",
      "3\n"
     ]
    }
   ],
   "source": [
    "class Member: \n",
    "\n",
    "    not_allowed_names = [\"Hell\", \"Shit\", \"Baloot\"]\n",
    "\n",
    "    users_num = 0\n",
    "\n",
    "    def __init__(self, first_name, middle_name, last_name, gender):\n",
    "        \n",
    "        self.fname = first_name  \n",
    "        self.mname = middle_name \n",
    "        self.lname = last_name  \n",
    "        self.gender = gender\n",
    "        \n",
    "        # User Count\n",
    "        Member.users_num += 1\n",
    "    \n",
    "    def full_name(self): \n",
    "\n",
    "        if self.fname in Member.not_allowed_names: \n",
    "\n",
    "            raise ValueError(\"Name Not Allowed\")\n",
    "        \n",
    "        else: \n",
    "\n",
    "            return f\"{self.fname} {self.mname} {self.lname}\"\n",
    "    \n",
    "    def name_with_title(self): \n",
    "\n",
    "        if self.gender == \"Male\": \n",
    "\n",
    "            return f\"Hello Mr.{self.fname}\"\n",
    "        \n",
    "        elif self.gender == \"Female\": \n",
    "            \n",
    "            return f\"Hello Ms.{self.fname}\"\n",
    "        \n",
    "        else: \n",
    "            return f\"{self.fname}\"\n",
    "        \n",
    "    def get_all_info(self): \n",
    "\n",
    "        return f\"{self.name_with_title()}, Your Full Name is: {self.full_name()}\"\n",
    "    \n",
    "    def delete_user(self): \n",
    "\n",
    "        Member.users_num -= 1\n",
    "\n",
    "        return f\"User {self.fname} Deleted\"\n",
    "\n",
    "\n",
    "print(Member.users_num)\n",
    "\n",
    "member_one = Member(\"Osama\", \"Mohamed\", \"Alsayed\", \"Male\")\n",
    "member_two = Member(\"Ahmed\", \"Ali\", \"Mahmoud\", \"Male\")\n",
    "member_three = Member(\"Mona\", \"Ali\", \"Mohmoud\", \"Female\")\n",
    "member_four = Member(\"Shit\", \"Hell\", \"Metal\", \"Baloot\")\n",
    "\n",
    "print(member_four.delete_user())\n",
    "\n",
    "print(Member.users_num)\n",
    "\n"
   ]
  },
  {
   "cell_type": "markdown",
   "metadata": {},
   "source": [
    ":: `Pro Tip in VS-Code` :: From the View Menu > Appearance > Breadcrumbs > ✓ Check\n",
    "\n",
    "⟶ Now you can click on the class in the Breadcrumbs bar after you click on it in the code and see all the instances of that class and if you clicked one of them it will take you to that instance. "
   ]
  },
  {
   "cell_type": "markdown",
   "metadata": {},
   "source": [
    "##### **Class Methods and Static Methods**\n",
    "\n",
    "`Class Methods`\n",
    "\n",
    "❖ Marked with `@classmethod` Decorator to Flag it as Class Method \n",
    "\n",
    "❖ It take Cls Parameter Not Self to Point to the Class not the Instance \n",
    "\n",
    "❖ It Doesn't Require Creation of a Class Instance\n",
    "\n",
    "❖ Used when You Want to Do Something with the Class Itself\n",
    "\n",
    "`Static Methods`\n",
    "\n",
    "❖ It takes no Parameters\n",
    "\n",
    "❖ It's bounded to the Class not Instance\n",
    "\n",
    "❖ Used when Doing Something Doesn't Have Access to Object or Class but Related to Class"
   ]
  },
  {
   "cell_type": "markdown",
   "metadata": {},
   "source": [
    "Let's Create a Method to Show Users Count: "
   ]
  },
  {
   "cell_type": "code",
   "execution_count": 27,
   "metadata": {},
   "outputs": [
    {
     "name": "stdout",
     "output_type": "stream",
     "text": [
      "0\n",
      "User Shit Deleted\n",
      "3\n",
      "We Have 3 Users in Our System\n"
     ]
    }
   ],
   "source": [
    "class Member: \n",
    "\n",
    "    not_allowed_names = [\"Hell\", \"Shit\", \"Baloot\"]\n",
    "\n",
    "    users_num = 0\n",
    "\n",
    "    @classmethod\n",
    "    def show_users_count(cls): \n",
    "        print(f\"We Have {cls.users_num} Users in Our System\")\n",
    "\n",
    "\n",
    "    def __init__(self, first_name, middle_name, last_name, gender):\n",
    "        \n",
    "        self.fname = first_name  \n",
    "        self.mname = middle_name \n",
    "        self.lname = last_name  \n",
    "        self.gender = gender\n",
    "        \n",
    "        # User Count\n",
    "        Member.users_num += 1\n",
    "    \n",
    "    def full_name(self): \n",
    "\n",
    "        if self.fname in Member.not_allowed_names: \n",
    "\n",
    "            raise ValueError(\"Name Not Allowed\")\n",
    "        \n",
    "        else: \n",
    "\n",
    "            return f\"{self.fname} {self.mname} {self.lname}\"\n",
    "    \n",
    "    def name_with_title(self): \n",
    "\n",
    "        if self.gender == \"Male\": \n",
    "\n",
    "            return f\"Hello Mr.{self.fname}\"\n",
    "        \n",
    "        elif self.gender == \"Female\": \n",
    "            \n",
    "            return f\"Hello Ms.{self.fname}\"\n",
    "        \n",
    "        else: \n",
    "            return f\"{self.fname}\"\n",
    "        \n",
    "    def get_all_info(self): \n",
    "\n",
    "        return f\"{self.name_with_title()}, Your Full Name is: {self.full_name()}\"\n",
    "    \n",
    "    def delete_user(self): \n",
    "\n",
    "        Member.users_num -= 1\n",
    "\n",
    "        return f\"User {self.fname} Deleted\"\n",
    "\n",
    "\n",
    "print(Member.users_num)\n",
    "\n",
    "member_one = Member(\"Osama\", \"Mohamed\", \"Alsayed\", \"Male\")\n",
    "member_two = Member(\"Ahmed\", \"Ali\", \"Mahmoud\", \"Male\")\n",
    "member_three = Member(\"Mona\", \"Ali\", \"Mohmoud\", \"Female\")\n",
    "member_four = Member(\"Shit\", \"Hell\", \"Metal\", \"Baloot\")\n",
    "\n",
    "print(member_four.delete_user())\n",
    "\n",
    "print(Member.users_num)\n",
    "\n",
    "Member.show_users_count()\n",
    "\n"
   ]
  },
  {
   "cell_type": "markdown",
   "metadata": {},
   "source": [
    ":: `Important Note` :: when we print: \n",
    "\n",
    "↪ print(member_one.full_name())\n",
    "\n",
    "Python in the Background Is Doing This: \n",
    "\n",
    "↪ print(Member.fullname(member_one))\n",
    "\n",
    "They Are the Same \n",
    "\n",
    "`Now the Static Method`\n",
    "\n",
    "Let's Create Simple Method Named `say_hello()` "
   ]
  },
  {
   "cell_type": "code",
   "execution_count": 28,
   "metadata": {},
   "outputs": [
    {
     "name": "stdout",
     "output_type": "stream",
     "text": [
      "0\n",
      "User Shit Deleted\n",
      "3\n",
      "We Have 3 Users in Our System\n",
      "Hello From Static Method\n"
     ]
    }
   ],
   "source": [
    "class Member: \n",
    "\n",
    "    not_allowed_names = [\"Hell\", \"Shit\", \"Baloot\"]\n",
    "\n",
    "    users_num = 0\n",
    "\n",
    "    @classmethod\n",
    "    def show_users_count(cls): \n",
    "        print(f\"We Have {cls.users_num} Users in Our System\")\n",
    "\n",
    "    @staticmethod\n",
    "    def say_hello(): \n",
    "        print(\"Hello From Static Method\")\n",
    "\n",
    "    def __init__(self, first_name, middle_name, last_name, gender):\n",
    "        \n",
    "        self.fname = first_name  \n",
    "        self.mname = middle_name \n",
    "        self.lname = last_name  \n",
    "        self.gender = gender\n",
    "        \n",
    "        # User Count\n",
    "        Member.users_num += 1\n",
    "    \n",
    "    def full_name(self): \n",
    "\n",
    "        if self.fname in Member.not_allowed_names: \n",
    "\n",
    "            raise ValueError(\"Name Not Allowed\")\n",
    "        \n",
    "        else: \n",
    "\n",
    "            return f\"{self.fname} {self.mname} {self.lname}\"\n",
    "    \n",
    "    def name_with_title(self): \n",
    "\n",
    "        if self.gender == \"Male\": \n",
    "\n",
    "            return f\"Hello Mr.{self.fname}\"\n",
    "        \n",
    "        elif self.gender == \"Female\": \n",
    "            \n",
    "            return f\"Hello Ms.{self.fname}\"\n",
    "        \n",
    "        else: \n",
    "            return f\"{self.fname}\"\n",
    "        \n",
    "    def get_all_info(self): \n",
    "\n",
    "        return f\"{self.name_with_title()}, Your Full Name is: {self.full_name()}\"\n",
    "    \n",
    "    def delete_user(self): \n",
    "\n",
    "        Member.users_num -= 1\n",
    "\n",
    "        return f\"User {self.fname} Deleted\"\n",
    "\n",
    "\n",
    "print(Member.users_num)\n",
    "\n",
    "member_one = Member(\"Osama\", \"Mohamed\", \"Alsayed\", \"Male\")\n",
    "member_two = Member(\"Ahmed\", \"Ali\", \"Mahmoud\", \"Male\")\n",
    "member_three = Member(\"Mona\", \"Ali\", \"Mohmoud\", \"Female\")\n",
    "member_four = Member(\"Shit\", \"Hell\", \"Metal\", \"Baloot\")\n",
    "\n",
    "print(member_four.delete_user())\n",
    "\n",
    "print(Member.users_num)\n",
    "\n",
    "Member.show_users_count()\n",
    "Member.say_hello()\n",
    "\n"
   ]
  },
  {
   "cell_type": "markdown",
   "metadata": {},
   "source": [
    "##### **Magic Methods**\n",
    "\n",
    "❖ Everything in Python Is an Object \n",
    "\n",
    "❖ `__init__` Called Automatically when Instantiating Class\n",
    "\n",
    "❖ `self.__class__` The Class to Which a Class Instance Belongs \n",
    "\n",
    "❖ `__str__` Gives a Human Readable Output of the Object \n",
    "\n",
    "❖ `__len__` Returns the Length of the Container \n",
    "\n",
    "❖ `  ` Called when We Use the Built-In `len()` Function on the Object\n"
   ]
  },
  {
   "cell_type": "code",
   "execution_count": 30,
   "metadata": {},
   "outputs": [
    {
     "name": "stdout",
     "output_type": "stream",
     "text": [
      "<__main__.skill object at 0x10673f7d0>\n",
      "<class '__main__.skill'>\n"
     ]
    }
   ],
   "source": [
    "class skill: \n",
    "\n",
    "    def __init__(self) -> None:\n",
    "\n",
    "        self.skills = [\"HTML\", \"CSS\", \"JS\"]\n",
    "\n",
    "profile = skill()\n",
    "\n",
    "print(profile)\n",
    "\n",
    "print(profile.__class__)"
   ]
  },
  {
   "cell_type": "code",
   "execution_count": 31,
   "metadata": {},
   "outputs": [
    {
     "name": "stdout",
     "output_type": "stream",
     "text": [
      "<class 'str'>\n",
      "<class 'str'>\n"
     ]
    }
   ],
   "source": [
    "my_string = \"Osama\"\n",
    "print(type(my_string))\n",
    "print(my_string.__class__)\n"
   ]
  },
  {
   "cell_type": "markdown",
   "metadata": {},
   "source": [
    "This Means that `my_string` Is Instance Constructed From a Class Called Str Behind the Scene"
   ]
  },
  {
   "cell_type": "code",
   "execution_count": 32,
   "metadata": {},
   "outputs": [
    {
     "name": "stdout",
     "output_type": "stream",
     "text": [
      "['__add__', '__class__', '__contains__', '__delattr__', '__dir__', '__doc__', '__eq__', '__format__', '__ge__', '__getattribute__', '__getitem__', '__getnewargs__', '__getstate__', '__gt__', '__hash__', '__init__', '__init_subclass__', '__iter__', '__le__', '__len__', '__lt__', '__mod__', '__mul__', '__ne__', '__new__', '__reduce__', '__reduce_ex__', '__repr__', '__rmod__', '__rmul__', '__setattr__', '__sizeof__', '__str__', '__subclasshook__', 'capitalize', 'casefold', 'center', 'count', 'encode', 'endswith', 'expandtabs', 'find', 'format', 'format_map', 'index', 'isalnum', 'isalpha', 'isascii', 'isdecimal', 'isdigit', 'isidentifier', 'islower', 'isnumeric', 'isprintable', 'isspace', 'istitle', 'isupper', 'join', 'ljust', 'lower', 'lstrip', 'maketrans', 'partition', 'removeprefix', 'removesuffix', 'replace', 'rfind', 'rindex', 'rjust', 'rpartition', 'rsplit', 'rstrip', 'split', 'splitlines', 'startswith', 'strip', 'swapcase', 'title', 'translate', 'upper', 'zfill']\n"
     ]
    }
   ],
   "source": [
    "print(dir(str))"
   ]
  },
  {
   "cell_type": "code",
   "execution_count": 35,
   "metadata": {},
   "outputs": [
    {
     "name": "stdout",
     "output_type": "stream",
     "text": [
      "This Is My Skills => ['HTML', 'CSS', 'JS']\n"
     ]
    }
   ],
   "source": [
    "class skill: \n",
    "\n",
    "    def __init__(self) -> None:\n",
    "\n",
    "        self.skills = [\"HTML\", \"CSS\", \"JS\"]\n",
    "\n",
    "    def __str__(self) -> str:\n",
    "        \n",
    "        return f\"This Is My Skills => {self.skills}\"\n",
    "\n",
    "profile = skill()\n",
    "\n",
    "print(profile)"
   ]
  },
  {
   "cell_type": "markdown",
   "metadata": {},
   "source": [
    "Using `__len__` To Get the Number of Skills"
   ]
  },
  {
   "cell_type": "code",
   "execution_count": 36,
   "metadata": {},
   "outputs": [
    {
     "name": "stdout",
     "output_type": "stream",
     "text": [
      "This Is My Skills => ['HTML', 'CSS', 'JS']\n",
      "3\n"
     ]
    }
   ],
   "source": [
    "class skill: \n",
    "\n",
    "    def __init__(self) -> None:\n",
    "\n",
    "        self.skills = [\"HTML\", \"CSS\", \"JS\"]\n",
    "\n",
    "    def __str__(self) -> str:\n",
    "        \n",
    "        return f\"This Is My Skills => {self.skills}\"\n",
    "    \n",
    "    def __len__(self): \n",
    "        \n",
    "        return len(self.skills)\n",
    "\n",
    "profile = skill()\n",
    "\n",
    "print(profile)\n",
    "\n",
    "print(len(profile))"
   ]
  },
  {
   "cell_type": "markdown",
   "metadata": {},
   "source": [
    "Let's Add some More Skills and Then Print the Length After the Skills We Added"
   ]
  },
  {
   "cell_type": "code",
   "execution_count": 37,
   "metadata": {},
   "outputs": [
    {
     "name": "stdout",
     "output_type": "stream",
     "text": [
      "This Is My Skills => ['HTML', 'CSS', 'JS']\n",
      "3\n",
      "5\n"
     ]
    }
   ],
   "source": [
    "class skill: \n",
    "\n",
    "    def __init__(self) -> None:\n",
    "\n",
    "        self.skills = [\"HTML\", \"CSS\", \"JS\"]\n",
    "\n",
    "    def __str__(self) -> str:\n",
    "        \n",
    "        return f\"This Is My Skills => {self.skills}\"\n",
    "    \n",
    "    def __len__(self): \n",
    "        \n",
    "        return len(self.skills)\n",
    "\n",
    "profile = skill()\n",
    "\n",
    "print(profile)\n",
    "\n",
    "print(len(profile))\n",
    "\n",
    "profile.skills.append(\"PHP\")\n",
    "profile.skills.append(\"MySQL\")\n",
    "\n",
    "print(len(profile))"
   ]
  },
  {
   "cell_type": "markdown",
   "metadata": {},
   "source": [
    "##### **Inheritance**"
   ]
  },
  {
   "cell_type": "markdown",
   "metadata": {},
   "source": [
    "We Want to Inherate the Functions in One Class to Other Class, Let's Say We Have Class `Food` and Class `Apple` and We Want Apple Class to Inherate From Food Class"
   ]
  },
  {
   "cell_type": "code",
   "execution_count": 39,
   "metadata": {},
   "outputs": [
    {
     "name": "stdout",
     "output_type": "stream",
     "text": [
      "Apple is Created from Derived Class\n",
      "Eat Method From Base Class\n"
     ]
    }
   ],
   "source": [
    "class Food: \n",
    "\n",
    "    def __init__(self) -> None:\n",
    "\n",
    "        print(\"Food Is Created From Base Class\")\n",
    "\n",
    "    def eat(self):\n",
    "        \n",
    "        print(\"Eat Method From Base Class\")\n",
    "\n",
    "class Apple(Food): \n",
    "\n",
    "    def __init__(self) -> None:\n",
    "        print(\"Apple is Created from Derived Class\")\n",
    "\n",
    "food_two = Apple()\n",
    "food_two.eat()\n"
   ]
  },
  {
   "cell_type": "code",
   "execution_count": 40,
   "metadata": {},
   "outputs": [
    {
     "name": "stdout",
     "output_type": "stream",
     "text": [
      "Pizza Is Created From Base Class\n"
     ]
    }
   ],
   "source": [
    "class Food: \n",
    "\n",
    "    def __init__(self, name) -> None:\n",
    "\n",
    "        self.name = name\n",
    "\n",
    "        print(f\"{self.name} Is Created From Base Class\")\n",
    "\n",
    "    def eat(self):\n",
    "        \n",
    "        print(\"Eat Method From Base Class\")\n",
    "\n",
    "class Apple(Food): \n",
    "\n",
    "    def __init__(self) -> None:\n",
    "        print(\"Apple is Created from Derived Class\")\n",
    "\n",
    "\n",
    "food_one = Food(\"Pizza\")\n"
   ]
  },
  {
   "cell_type": "markdown",
   "metadata": {},
   "source": [
    "Now Let's try Apple Class"
   ]
  },
  {
   "cell_type": "code",
   "execution_count": 41,
   "metadata": {},
   "outputs": [
    {
     "name": "stdout",
     "output_type": "stream",
     "text": [
      "Pizza is Created from Derived Class\n"
     ]
    }
   ],
   "source": [
    "class Food: \n",
    "\n",
    "    def __init__(self, name) -> None:\n",
    "\n",
    "        self.name = name\n",
    "\n",
    "        print(f\"{self.name} Is Created From Base Class\")\n",
    "\n",
    "    def eat(self):\n",
    "        \n",
    "        print(\"Eat Method From Base Class\")\n",
    "\n",
    "class Apple(Food): \n",
    "\n",
    "    def __init__(self, name) -> None:\n",
    "\n",
    "        self.name = name\n",
    "\n",
    "        print(f\"{self.name} is Created from Derived Class\")\n",
    "\n",
    "\n",
    "food_two = Apple(\"Pizza\")\n"
   ]
  },
  {
   "cell_type": "markdown",
   "metadata": {},
   "source": [
    "If We Didn't Put the Line self.name = name In the Class Apple It Won't Work. But Where's the Inheritance Here ? \n",
    "\n",
    "↪ When You Add The `__init__` Function to Apple Class It Override the Inheritance, How to Fix that ? "
   ]
  },
  {
   "cell_type": "code",
   "execution_count": 42,
   "metadata": {},
   "outputs": [
    {
     "name": "stdout",
     "output_type": "stream",
     "text": [
      "Pizza Is Created From Base Class\n",
      "Pizza is Created from Derived Class\n",
      "Eat Method From Base Class\n"
     ]
    }
   ],
   "source": [
    "class Food: \n",
    "\n",
    "    def __init__(self, name) -> None:\n",
    "\n",
    "        self.name = name\n",
    "\n",
    "        print(f\"{self.name} Is Created From Base Class\")\n",
    "\n",
    "    def eat(self):\n",
    "        \n",
    "        print(\"Eat Method From Base Class\")\n",
    "\n",
    "class Apple(Food): \n",
    "\n",
    "    def __init__(self, name) -> None:\n",
    "\n",
    "        Food.__init__(self, name) # Create Instance From Base Class \n",
    "\n",
    "        print(f\"{self.name} is Created from Derived Class\")\n",
    "\n",
    "\n",
    "food_two = Apple(\"Pizza\")\n",
    "food_two.eat()\n"
   ]
  },
  {
   "cell_type": "markdown",
   "metadata": {},
   "source": [
    "We Can Do the Same Thing Using Another Approach: \n",
    "\n",
    " ↪ When We Type `super()` We Don't Have to Mention the Class We're Inheriting From. "
   ]
  },
  {
   "cell_type": "code",
   "execution_count": 44,
   "metadata": {},
   "outputs": [
    {
     "name": "stdout",
     "output_type": "stream",
     "text": [
      "Pizza Is Created From Base Class\n",
      "Pizza is Created from Derived Class\n",
      "Eat Method From Base Class\n"
     ]
    }
   ],
   "source": [
    "class Food: \n",
    "\n",
    "    def __init__(self, name) -> None:\n",
    "\n",
    "        self.name = name\n",
    "\n",
    "        print(f\"{self.name} Is Created From Base Class\")\n",
    "\n",
    "    def eat(self):\n",
    "        \n",
    "        print(\"Eat Method From Base Class\")\n",
    "\n",
    "class Apple(Food): \n",
    "\n",
    "    def __init__(self, name) -> None:\n",
    "\n",
    "        super().__init__(name)  # using super()\n",
    "\n",
    "        print(f\"{self.name} is Created from Derived Class\")\n",
    "\n",
    "\n",
    "food_two = Apple(\"Pizza\")\n",
    "food_two.eat()\n"
   ]
  },
  {
   "cell_type": "markdown",
   "metadata": {},
   "source": [
    "⟶ Now Let's Add Price"
   ]
  },
  {
   "cell_type": "code",
   "execution_count": 45,
   "metadata": {},
   "outputs": [
    {
     "name": "stdout",
     "output_type": "stream",
     "text": [
      "Pizza Is Created From Base Class\n",
      "Pizza is Created from Derived Class And Price Is 150\n",
      "Eat Method From Base Class\n"
     ]
    }
   ],
   "source": [
    "class Food: \n",
    "\n",
    "    def __init__(self, name, price) -> None:\n",
    "\n",
    "        self.name = name\n",
    "\n",
    "        self.price = price\n",
    "\n",
    "        print(f\"{self.name} Is Created From Base Class\")\n",
    "\n",
    "    def eat(self):\n",
    "        \n",
    "        print(\"Eat Method From Base Class\")\n",
    "\n",
    "class Apple(Food): \n",
    "\n",
    "    def __init__(self, name, price) -> None:\n",
    "\n",
    "        super().__init__(name, price)  # using super()\n",
    "\n",
    "        print(f\"{self.name} is Created from Derived Class And Price Is {self.price}\")\n",
    "\n",
    "\n",
    "food_two = Apple(\"Pizza\", 150)\n",
    "food_two.eat()\n"
   ]
  },
  {
   "cell_type": "markdown",
   "metadata": {},
   "source": [
    "⟶ To Test the Override that We Talked About Let's Add 20 to the Price "
   ]
  },
  {
   "cell_type": "code",
   "execution_count": 46,
   "metadata": {},
   "outputs": [
    {
     "name": "stdout",
     "output_type": "stream",
     "text": [
      "Pizza is Created from Derived Class And Price Is 170\n",
      "Eat Method From Base Class\n"
     ]
    }
   ],
   "source": [
    "class Food: \n",
    "\n",
    "    def __init__(self, name, price) -> None:\n",
    "\n",
    "        self.name = name\n",
    "\n",
    "        self.price = price\n",
    "\n",
    "        print(f\"{self.name} Is Created From Base Class\")\n",
    "\n",
    "    def eat(self):\n",
    "        \n",
    "        print(\"Eat Method From Base Class\")\n",
    "\n",
    "class Apple(Food): \n",
    "\n",
    "    def __init__(self, name, price) -> None:\n",
    "\n",
    "        self.name = name\n",
    "        self.price = price + 20\n",
    "\n",
    "        print(f\"{self.name} is Created from Derived Class And Price Is {self.price}\")\n",
    "\n",
    "\n",
    "food_two = Apple(\"Pizza\", 150)\n",
    "food_two.eat()\n"
   ]
  },
  {
   "cell_type": "markdown",
   "metadata": {},
   "source": [
    "⟶ Now Let's Add Method to the Apple Class"
   ]
  },
  {
   "cell_type": "code",
   "execution_count": 48,
   "metadata": {},
   "outputs": [
    {
     "name": "stdout",
     "output_type": "stream",
     "text": [
      "Pizza Is Created From Base Class\n",
      "Pizza is Created from Derived Class And Price Is 150\n",
      "Eat Method From Base Class\n",
      "Get From Tree From Derived Class\n"
     ]
    }
   ],
   "source": [
    "class Food: \n",
    "\n",
    "    def __init__(self, name, price) -> None:\n",
    "\n",
    "        self.name = name\n",
    "\n",
    "        self.price = price\n",
    "\n",
    "        print(f\"{self.name} Is Created From Base Class\")\n",
    "\n",
    "    def eat(self):\n",
    "        \n",
    "        print(\"Eat Method From Base Class\")\n",
    "\n",
    "class Apple(Food): \n",
    "\n",
    "    def __init__(self, name, price) -> None:\n",
    "\n",
    "        super().__init__(name, price)\n",
    "\n",
    "        print(f\"{self.name} is Created from Derived Class And Price Is {self.price}\")\n",
    "\n",
    "    \n",
    "    def get_from_tree(self): \n",
    "\n",
    "        print(\"Get From Tree From Derived Class\")\n",
    "\n",
    "\n",
    "food_two = Apple(\"Pizza\", 150)\n",
    "food_two.eat()\n",
    "food_two.get_from_tree()\n"
   ]
  },
  {
   "cell_type": "markdown",
   "metadata": {},
   "source": [
    "⟶ We Can Add Something to the Apple Food only Let's Say `amount`"
   ]
  },
  {
   "cell_type": "code",
   "execution_count": 49,
   "metadata": {},
   "outputs": [
    {
     "name": "stdout",
     "output_type": "stream",
     "text": [
      "Pizza Is Created From Base Class\n",
      "Pizza is Created from Derived Class And Price Is 150 And Amount Is 500\n",
      "Eat Method From Base Class\n",
      "Get From Tree From Derived Class\n"
     ]
    }
   ],
   "source": [
    "class Food: \n",
    "\n",
    "    def __init__(self, name, price) -> None:\n",
    "\n",
    "        self.name = name\n",
    "\n",
    "        self.price = price\n",
    "\n",
    "        print(f\"{self.name} Is Created From Base Class\")\n",
    "\n",
    "    def eat(self):\n",
    "        \n",
    "        print(\"Eat Method From Base Class\")\n",
    "\n",
    "class Apple(Food): \n",
    "\n",
    "    def __init__(self, name, price, amount) -> None:\n",
    "\n",
    "        super().__init__(name, price)\n",
    "\n",
    "        self.amount = amount\n",
    "\n",
    "        print(f\"{self.name} is Created from Derived Class And Price Is {self.price} And Amount Is {self.amount}\")\n",
    "\n",
    "    \n",
    "    def get_from_tree(self): \n",
    "\n",
    "        print(\"Get From Tree From Derived Class\")\n",
    "\n",
    "\n",
    "food_two = Apple(\"Pizza\", 150, 500)\n",
    "food_two.eat()\n",
    "food_two.get_from_tree()\n"
   ]
  },
  {
   "cell_type": "markdown",
   "metadata": {},
   "source": [
    "##### **Multiple Inheritance And Method Overriding And Method Resolution Order (mro)**"
   ]
  },
  {
   "cell_type": "code",
   "execution_count": 53,
   "metadata": {},
   "outputs": [
    {
     "name": "stdout",
     "output_type": "stream",
     "text": [
      "Base One\n"
     ]
    }
   ],
   "source": [
    "class BaseOne: \n",
    "    \n",
    "    def __init__(self) -> None:\n",
    "        \n",
    "        print(\"Base One\")\n",
    "\n",
    "class BaseTwo: \n",
    "\n",
    "    def __init__(self) -> None:\n",
    "        \n",
    "        print(\"Base Two\")\n",
    "\n",
    "class Derived(BaseOne, BaseTwo): # This Will Inherate From BaseOne and BaseTwo\n",
    "    pass\n",
    "\n",
    "my_var = Derived()"
   ]
  },
  {
   "cell_type": "markdown",
   "metadata": {},
   "source": [
    "⟶ If We Changed the Order It Will Print From Base Two"
   ]
  },
  {
   "cell_type": "code",
   "execution_count": 54,
   "metadata": {},
   "outputs": [
    {
     "name": "stdout",
     "output_type": "stream",
     "text": [
      "Base Two\n"
     ]
    }
   ],
   "source": [
    "class BaseOne: \n",
    "    \n",
    "    def __init__(self) -> None:\n",
    "        \n",
    "        print(\"Base One\")\n",
    "\n",
    "class BaseTwo: \n",
    "\n",
    "    def __init__(self) -> None:\n",
    "        \n",
    "        print(\"Base Two\")\n",
    "\n",
    "class Derived(BaseTwo, BaseOne): # We Changed the Mro\n",
    "    pass\n",
    "\n",
    "my_var = Derived()"
   ]
  },
  {
   "cell_type": "code",
   "execution_count": null,
   "metadata": {},
   "outputs": [
    {
     "name": "stdout",
     "output_type": "stream",
     "text": [
      "Base Two\n"
     ]
    }
   ],
   "source": [
    "class BaseOne: \n",
    "    \n",
    "    def __init__(self) -> None:\n",
    "        \n",
    "        print(\"Base One\")\n",
    "\n",
    "class BaseTwo: \n",
    "\n",
    "    def __init__(self) -> None:\n",
    "        \n",
    "        print(\"Base Two\")\n",
    "\n",
    "class Derived(BaseTwo, BaseOne): # We Changed the Mro\n",
    "    pass\n",
    "\n",
    "my_var = Derived()"
   ]
  },
  {
   "cell_type": "markdown",
   "metadata": {},
   "source": [
    "⟶ Now Let's Access some Data From the Two Classes"
   ]
  },
  {
   "cell_type": "code",
   "execution_count": 58,
   "metadata": {},
   "outputs": [
    {
     "name": "stdout",
     "output_type": "stream",
     "text": [
      "Base Two\n",
      "<bound method BaseOne.func_one of <__main__.Derived object at 0x10aa6c680>>\n",
      "<bound method BaseTwo.func_two of <__main__.Derived object at 0x10aa6c680>>\n",
      "One\n",
      "Two\n"
     ]
    }
   ],
   "source": [
    "class BaseOne: \n",
    "    \n",
    "    def __init__(self) -> None:\n",
    "        \n",
    "        print(\"Base One\")\n",
    "\n",
    "    def func_one(self): \n",
    "\n",
    "        print(\"One\")\n",
    "\n",
    "class BaseTwo: \n",
    "\n",
    "    def __init__(self) -> None:\n",
    "        \n",
    "        print(\"Base Two\")\n",
    "\n",
    "    def func_two(self): \n",
    "\n",
    "        print(\"Two\")\n",
    "\n",
    "class Derived(BaseTwo, BaseOne): # We Changed the Mro\n",
    "    pass\n",
    "\n",
    "my_var = Derived()\n",
    "\n",
    "print(my_var.func_one)\n",
    "print(my_var.func_two)\n",
    "\n",
    "my_var.func_one()\n",
    "my_var.func_two()"
   ]
  },
  {
   "cell_type": "markdown",
   "metadata": {},
   "source": [
    "Now Let's Make Three Classes:  `Base` class and `DerivedOne` class and `DerivedTwo` Class \n",
    "\n",
    "↪ `DerivedOne` class will inherite from the `Base` class\n",
    "\n",
    "↪ `DerivedTwo` class will inherite from the `DerivedOne` class"
   ]
  },
  {
   "cell_type": "code",
   "execution_count": null,
   "metadata": {},
   "outputs": [],
   "source": [
    "class Base: \n",
    "    \n",
    "    pass\n",
    "\n",
    "class DerivedOne(Base): \n",
    "\n",
    "    pass\n",
    "\n",
    "class DerivedTwo(DerivedOne): \n",
    "\n",
    "    pass"
   ]
  },
  {
   "cell_type": "markdown",
   "metadata": {},
   "source": [
    "⟶ The `DerivedTwo` Class Will Inherite Everything From the Base Class as Well. "
   ]
  },
  {
   "cell_type": "markdown",
   "metadata": {},
   "source": [
    "##### **Polymorphism**"
   ]
  },
  {
   "cell_type": "code",
   "execution_count": 59,
   "metadata": {},
   "outputs": [
    {
     "name": "stdout",
     "output_type": "stream",
     "text": [
      "From Class A\n"
     ]
    }
   ],
   "source": [
    "class A: \n",
    "\n",
    "    def do_something(self): \n",
    "\n",
    "        print(\"From Class A\")\n",
    "\n",
    "class B(A): \n",
    "\n",
    "    pass\n",
    "\n",
    "my_instance = B()\n",
    "\n",
    "my_instance.do_something()\n"
   ]
  },
  {
   "cell_type": "markdown",
   "metadata": {},
   "source": [
    "⟶ Now Let's Override Class `A`"
   ]
  },
  {
   "cell_type": "code",
   "execution_count": 60,
   "metadata": {},
   "outputs": [
    {
     "name": "stdout",
     "output_type": "stream",
     "text": [
      "From Class B\n"
     ]
    }
   ],
   "source": [
    "class A: \n",
    "\n",
    "    def do_something(self): \n",
    "\n",
    "        print(\"From Class A\")\n",
    "\n",
    "class B(A): \n",
    "\n",
    "    def do_something(self): \n",
    "\n",
    "        print(\"From Class B\")\n",
    "\n",
    "my_instance = B()\n",
    "\n",
    "my_instance.do_something()\n"
   ]
  },
  {
   "cell_type": "markdown",
   "metadata": {},
   "source": [
    "⟶ Now Let's Make the Function From Class `A` Not Accessable in the Derived Classes "
   ]
  },
  {
   "cell_type": "code",
   "execution_count": 62,
   "metadata": {},
   "outputs": [
    {
     "name": "stdout",
     "output_type": "stream",
     "text": [
      "From Class A\n"
     ]
    },
    {
     "ename": "NotImplementedError",
     "evalue": "Derived Class Must Implement This Function",
     "output_type": "error",
     "traceback": [
      "\u001b[0;31m---------------------------------------------------------------------------\u001b[0m",
      "\u001b[0;31mNotImplementedError\u001b[0m                       Traceback (most recent call last)",
      "Cell \u001b[0;32mIn[62], line 15\u001b[0m\n\u001b[1;32m     11\u001b[0m     \u001b[38;5;28;01mpass\u001b[39;00m\n\u001b[1;32m     13\u001b[0m my_instance \u001b[38;5;241m=\u001b[39m B()\n\u001b[0;32m---> 15\u001b[0m \u001b[43mmy_instance\u001b[49m\u001b[38;5;241;43m.\u001b[39;49m\u001b[43mdo_something\u001b[49m\u001b[43m(\u001b[49m\u001b[43m)\u001b[49m\n",
      "Cell \u001b[0;32mIn[62], line 7\u001b[0m, in \u001b[0;36mA.do_something\u001b[0;34m(self)\u001b[0m\n\u001b[1;32m      3\u001b[0m \u001b[38;5;28;01mdef\u001b[39;00m \u001b[38;5;21mdo_something\u001b[39m(\u001b[38;5;28mself\u001b[39m): \n\u001b[1;32m      5\u001b[0m     \u001b[38;5;28mprint\u001b[39m(\u001b[38;5;124m\"\u001b[39m\u001b[38;5;124mFrom Class A\u001b[39m\u001b[38;5;124m\"\u001b[39m)\n\u001b[0;32m----> 7\u001b[0m     \u001b[38;5;28;01mraise\u001b[39;00m \u001b[38;5;167;01mNotImplementedError\u001b[39;00m(\u001b[38;5;124m\"\u001b[39m\u001b[38;5;124mDerived Class Must Implement This Function\u001b[39m\u001b[38;5;124m\"\u001b[39m)\n",
      "\u001b[0;31mNotImplementedError\u001b[0m: Derived Class Must Implement This Function"
     ]
    }
   ],
   "source": [
    "class A: \n",
    "\n",
    "    def do_something(self): \n",
    "\n",
    "        print(\"From Class A\")\n",
    "\n",
    "        raise NotImplementedError(\"Derived Class Must Implement This Function\")\n",
    "\n",
    "class B(A): \n",
    "\n",
    "    pass\n",
    "\n",
    "my_instance = B()\n",
    "\n",
    "my_instance.do_something()\n"
   ]
  },
  {
   "cell_type": "markdown",
   "metadata": {},
   "source": [
    "##### **Encapsulation**\n",
    "\n",
    "★ Restrict Access to the Data Stored in Attributes and Methods \n",
    "\n",
    "`Public`\n",
    "\n",
    "❖ Every Attribute and Method that We Used so Far Is Public\n",
    "\n",
    "❖ Attributes and Methods Can Be Modified and Run From Everywhere\n",
    "\n",
    "❖ Inside or Outside the Class\n",
    "\n",
    "\n",
    "`protected`\n",
    "\n",
    "❖ Attributes and Methods Can Be Accessed From Within the Class and Sub Classes \n",
    "\n",
    "❖ Attributes and Methods Prefixed with One Underscore `_`\n",
    "\n",
    "\n",
    "`Private`\n",
    "\n",
    "❖ Attributes and Methods Can Be Accessed From Within the Class or Object Only. \n",
    "\n",
    "❖ Attributes Cannot Be Modified From Outside the Class \n",
    "\n",
    "❖ Attributes and Methods Prefixed with Two Underscores `__`\n",
    "\n",
    ":: `Attributes = Variables = Properties` ::\n"
   ]
  },
  {
   "cell_type": "code",
   "execution_count": 64,
   "metadata": {},
   "outputs": [
    {
     "name": "stdout",
     "output_type": "stream",
     "text": [
      "Ahmed\n",
      "Sayed\n"
     ]
    }
   ],
   "source": [
    "class Member: \n",
    "\n",
    "    def __init__(self, name) -> None:\n",
    "        \n",
    "        self.name = name    # Public\n",
    "\n",
    "one = Member(\"Ahmed\")\n",
    "\n",
    "print(one.name)\n",
    "\n",
    "one.name = \"Sayed\" # Edit Attribute\n",
    "\n",
    "print(one.name)\n"
   ]
  },
  {
   "cell_type": "code",
   "execution_count": 67,
   "metadata": {},
   "outputs": [
    {
     "name": "stdout",
     "output_type": "stream",
     "text": [
      "Ahmed\n",
      "Sayed\n"
     ]
    }
   ],
   "source": [
    "class Member: \n",
    "\n",
    "    def __init__(self, name) -> None:\n",
    "        \n",
    "        self._name = name    # Protected\n",
    "\n",
    "one = Member(\"Ahmed\")\n",
    "\n",
    "print(one._name)\n",
    "\n",
    "one._name = \"Sayed\" # Edit Attribute\n",
    "\n",
    "print(one._name)\n"
   ]
  },
  {
   "cell_type": "markdown",
   "metadata": {},
   "source": [
    "⟶ __but where's the protection here ? i edited the the attributes__\n",
    "\n",
    "↪ The Real Resrtriction Is in Other Languages Not in Python, This Is Just Like Hinting that This Is Protected \n"
   ]
  },
  {
   "cell_type": "markdown",
   "metadata": {},
   "source": [
    "★ `The Private Will Raise Error`"
   ]
  },
  {
   "cell_type": "code",
   "execution_count": 68,
   "metadata": {},
   "outputs": [
    {
     "ename": "AttributeError",
     "evalue": "'Member' object has no attribute '__name'",
     "output_type": "error",
     "traceback": [
      "\u001b[0;31m---------------------------------------------------------------------------\u001b[0m",
      "\u001b[0;31mAttributeError\u001b[0m                            Traceback (most recent call last)",
      "Cell \u001b[0;32mIn[68], line 9\u001b[0m\n\u001b[1;32m      5\u001b[0m         \u001b[38;5;28mself\u001b[39m\u001b[38;5;241m.\u001b[39m__name \u001b[38;5;241m=\u001b[39m name    \u001b[38;5;66;03m# Private\u001b[39;00m\n\u001b[1;32m      7\u001b[0m one \u001b[38;5;241m=\u001b[39m Member(\u001b[38;5;124m\"\u001b[39m\u001b[38;5;124mAhmed\u001b[39m\u001b[38;5;124m\"\u001b[39m)\n\u001b[0;32m----> 9\u001b[0m \u001b[38;5;28mprint\u001b[39m(\u001b[43mone\u001b[49m\u001b[38;5;241;43m.\u001b[39;49m\u001b[43m__name\u001b[49m)\n",
      "\u001b[0;31mAttributeError\u001b[0m: 'Member' object has no attribute '__name'"
     ]
    }
   ],
   "source": [
    "class Member: \n",
    "\n",
    "    def __init__(self, name) -> None:\n",
    "        \n",
    "        self.__name = name    # Private\n",
    "\n",
    "one = Member(\"Ahmed\")\n",
    "\n",
    "print(one.__name)\n"
   ]
  },
  {
   "cell_type": "markdown",
   "metadata": {},
   "source": [
    "⟶ But We Can Access It From Within the Class"
   ]
  },
  {
   "cell_type": "code",
   "execution_count": 70,
   "metadata": {},
   "outputs": [
    {
     "name": "stdout",
     "output_type": "stream",
     "text": [
      "Hello Ahmed\n"
     ]
    }
   ],
   "source": [
    "class Member: \n",
    "\n",
    "    def __init__(self, name) -> None:\n",
    "        \n",
    "        self.__name = name    # Private\n",
    "\n",
    "    def say_hello(self): # Private\n",
    "\n",
    "        return f\"Hello {self.__name}\"\n",
    "\n",
    "one = Member(\"Ahmed\")\n",
    "\n",
    "print(one.say_hello())\n"
   ]
  },
  {
   "cell_type": "markdown",
   "metadata": {},
   "source": [
    "`There's a Way to Access Even the Private Data`"
   ]
  },
  {
   "cell_type": "code",
   "execution_count": 72,
   "metadata": {},
   "outputs": [
    {
     "name": "stdout",
     "output_type": "stream",
     "text": [
      "Ahmed\n"
     ]
    }
   ],
   "source": [
    "class Member: \n",
    "\n",
    "    def __init__(self, name) -> None:\n",
    "        \n",
    "        self.__name = name    # Private\n",
    "\n",
    "    def say_hello(self): # Private\n",
    "\n",
    "        return f\"Hello {self.__name}\"\n",
    "\n",
    "one = Member(\"Ahmed\")\n",
    "\n",
    "print(one._Member__name)\n"
   ]
  },
  {
   "cell_type": "markdown",
   "metadata": {},
   "source": [
    "So Much for Private :)"
   ]
  },
  {
   "cell_type": "markdown",
   "metadata": {},
   "source": [
    "##### **Getters & Setters**"
   ]
  },
  {
   "cell_type": "code",
   "execution_count": 74,
   "metadata": {},
   "outputs": [
    {
     "name": "stdout",
     "output_type": "stream",
     "text": [
      "Ahmed\n",
      "Abbas\n"
     ]
    }
   ],
   "source": [
    "class Member: \n",
    "\n",
    "    def __init__(self, name) -> None:\n",
    "        \n",
    "        self.__name = name    # Private\n",
    "\n",
    "    def say_hello(self): # Private\n",
    "\n",
    "        return f\"Hello {self.__name}\"\n",
    "    \n",
    "    def get_name(self):  # Getter\n",
    "\n",
    "        return self.__name\n",
    "    \n",
    "    def set_name(self, new_name): # Setter\n",
    "\n",
    "        self.__name = new_name\n",
    "\n",
    "one = Member(\"Ahmed\")\n",
    "\n",
    "print(one.get_name())\n",
    "\n",
    "one.set_name(\"Abbas\")\n",
    "\n",
    "print(one.get_name())"
   ]
  },
  {
   "cell_type": "markdown",
   "metadata": {},
   "source": [
    "##### **@Property Decorator**"
   ]
  },
  {
   "cell_type": "code",
   "execution_count": 75,
   "metadata": {},
   "outputs": [
    {
     "name": "stdout",
     "output_type": "stream",
     "text": [
      "Ahmed\n",
      "40\n",
      "Hello Ahmed\n",
      "14600\n"
     ]
    }
   ],
   "source": [
    "class Member: \n",
    "\n",
    "    def __init__(self, name, age) -> None:\n",
    "        \n",
    "        self.name = name\n",
    "\n",
    "        self.age = age\n",
    "\n",
    "    def say_hello(self): \n",
    "\n",
    "        return f\"Hello {self.name}\"\n",
    "    \n",
    "    def age_in_days(self): \n",
    "\n",
    "        return self.age * 365\n",
    "    \n",
    "one = Member(\"Ahmed\", 40)\n",
    "\n",
    "print(one.name)\n",
    "print(one.age)\n",
    "print(one.say_hello())\n",
    "print(one.age_in_days()) # age_in_days() is a Method"
   ]
  },
  {
   "cell_type": "code",
   "execution_count": 76,
   "metadata": {},
   "outputs": [
    {
     "name": "stdout",
     "output_type": "stream",
     "text": [
      "Ahmed\n",
      "40\n",
      "Hello Ahmed\n",
      "14600\n"
     ]
    }
   ],
   "source": [
    "class Member: \n",
    "\n",
    "    def __init__(self, name, age) -> None:\n",
    "        \n",
    "        self.name = name\n",
    "\n",
    "        self.age = age\n",
    "\n",
    "    def say_hello(self): \n",
    "\n",
    "        return f\"Hello {self.name}\"\n",
    "    \n",
    "    @property\n",
    "    def age_in_days(self): \n",
    "\n",
    "        return self.age * 365\n",
    "    \n",
    "one = Member(\"Ahmed\", 40)\n",
    "\n",
    "print(one.name)\n",
    "print(one.age)\n",
    "print(one.say_hello())\n",
    "print(one.age_in_days) # age_in_days is a property"
   ]
  },
  {
   "cell_type": "markdown",
   "metadata": {},
   "source": [
    "##### **ABC's Abstract Base Class**\n",
    "\n",
    "❖ Class Called Abstract Class If it Has One or More Abstract Methods\n",
    "\n",
    "❖ abc module in Python Provides Infrastructure for Defining Custom Abstract Base Classes.\n",
    "\n",
    "❖ By Adding `@absttractmethod` Decorator on The Methods\n",
    "\n",
    "❖ ABCMeta Class Is-aMetaclass Used For Defining Abstract Base Class\n"
   ]
  },
  {
   "cell_type": "code",
   "execution_count": 78,
   "metadata": {},
   "outputs": [
    {
     "name": "stdout",
     "output_type": "stream",
     "text": [
      "Yes\n"
     ]
    }
   ],
   "source": [
    "class Programming: \n",
    "\n",
    "    def has_oop(self): \n",
    "\n",
    "        return \"Yes\"\n",
    "    \n",
    "class Python(Programming): \n",
    "\n",
    "    def has_oop(self): \n",
    "\n",
    "        return \"Yes\"\n",
    "    \n",
    "class Pascal(Programming): \n",
    "\n",
    "    def has_oop(self): \n",
    "\n",
    "        return \"No\"\n",
    "    \n",
    "one = Programming()\n",
    "\n",
    "print(one.has_oop())\n"
   ]
  },
  {
   "cell_type": "markdown",
   "metadata": {},
   "source": [
    "We Need to Make the Programming Class Can't Be Asked if It's Has OOP or Not"
   ]
  },
  {
   "cell_type": "code",
   "execution_count": 79,
   "metadata": {},
   "outputs": [
    {
     "ename": "TypeError",
     "evalue": "Can't instantiate abstract class Programming without an implementation for abstract method 'has_oop'",
     "output_type": "error",
     "traceback": [
      "\u001b[0;31m---------------------------------------------------------------------------\u001b[0m",
      "\u001b[0;31mTypeError\u001b[0m                                 Traceback (most recent call last)",
      "Cell \u001b[0;32mIn[79], line 22\u001b[0m\n\u001b[1;32m     18\u001b[0m     \u001b[38;5;28;01mdef\u001b[39;00m \u001b[38;5;21mhas_oop\u001b[39m(\u001b[38;5;28mself\u001b[39m): \n\u001b[1;32m     20\u001b[0m         \u001b[38;5;28;01mreturn\u001b[39;00m \u001b[38;5;124m\"\u001b[39m\u001b[38;5;124mNo\u001b[39m\u001b[38;5;124m\"\u001b[39m\n\u001b[0;32m---> 22\u001b[0m one \u001b[38;5;241m=\u001b[39m \u001b[43mProgramming\u001b[49m\u001b[43m(\u001b[49m\u001b[43m)\u001b[49m\n\u001b[1;32m     24\u001b[0m \u001b[38;5;28mprint\u001b[39m(one\u001b[38;5;241m.\u001b[39mhas_oop())\n",
      "\u001b[0;31mTypeError\u001b[0m: Can't instantiate abstract class Programming without an implementation for abstract method 'has_oop'"
     ]
    }
   ],
   "source": [
    "from abc import ABCMeta, abstractmethod\n",
    "\n",
    "class Programming(metaclass=ABCMeta): \n",
    "\n",
    "    @abstractmethod\n",
    "    def has_oop(self): \n",
    "\n",
    "        pass\n",
    "    \n",
    "class Python(Programming): \n",
    "\n",
    "    def has_oop(self): \n",
    "\n",
    "        return \"Yes\"\n",
    "    \n",
    "class Pascal(Programming): \n",
    "\n",
    "    def has_oop(self): \n",
    "\n",
    "        return \"No\"\n",
    "    \n",
    "one = Programming()\n",
    "\n",
    "print(one.has_oop())\n"
   ]
  },
  {
   "cell_type": "code",
   "execution_count": 80,
   "metadata": {},
   "outputs": [
    {
     "name": "stdout",
     "output_type": "stream",
     "text": [
      "Yes\n"
     ]
    }
   ],
   "source": [
    "from abc import ABCMeta, abstractmethod\n",
    "\n",
    "class Programming(metaclass=ABCMeta): \n",
    "\n",
    "    @abstractmethod\n",
    "    def has_oop(self): \n",
    "\n",
    "        pass\n",
    "    \n",
    "class Python(Programming): \n",
    "\n",
    "    def has_oop(self): \n",
    "\n",
    "        return \"Yes\"\n",
    "    \n",
    "class Pascal(Programming): \n",
    "\n",
    "    def has_oop(self): \n",
    "\n",
    "        return \"No\"\n",
    "    \n",
    "one = Python()\n",
    "\n",
    "print(one.has_oop())\n"
   ]
  }
 ],
 "metadata": {
  "kernelspec": {
   "display_name": "Python 3",
   "language": "python",
   "name": "python3"
  },
  "language_info": {
   "codemirror_mode": {
    "name": "ipython",
    "version": 3
   },
   "file_extension": ".py",
   "mimetype": "text/x-python",
   "name": "python",
   "nbconvert_exporter": "python",
   "pygments_lexer": "ipython3",
   "version": "3.12.1"
  }
 },
 "nbformat": 4,
 "nbformat_minor": 2
}
