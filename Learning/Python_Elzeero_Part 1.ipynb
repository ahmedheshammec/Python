{
 "cells": [
  {
   "cell_type": "markdown",
   "metadata": {
    "vscode": {
     "languageId": "latex"
    }
   },
   "source": [
    "##### **General Terms**\n",
    "`Source Code`: Original Code You Write it in Computer  \n",
    "\n",
    "`Translation`: Converting Source Code Into Machine Language\n",
    "\n",
    "> Two primary forms of translation are **compilation** and **interpretation**\n",
    "\n",
    "`Compilation`: Translate Code Before Run Time  \n",
    "\n",
    "`Run-Time`: Period App Take To Executing Commands  \n",
    "\n",
    "`Interpreted`: Code Translated On The Fly During Execution  \n",
    "\n",
    "\n",
    "`An interpreted language` executes code directly without the need for compilation into machine language beforehand. Instead, an interpreter translates the code on-the-fly during execution. This means the source code is read and executed line by line or block by block.\n",
    "\n",
    "`Compilation` involves translating the entire source code into machine code before executing it. A compiler analyzes the entire codebase, detects errors, and generates an executable binary file or bytecode. The compiled code can be executed independently from the original source code. Examples of compiled languages include C, C++, and Java.\n",
    "\n",
    "Python and JavaScript and Ruby are examples of interpreted languages.\n",
    "\n",
    "To understand the difference, consider the following scenario:\n",
    "\n",
    "1.\t`Interpreted Language (Python)`:\n",
    "\n",
    "▪\tYou write a Python program, and when you run it, the interpreter reads and executes each line of code one by one.\n",
    "\n",
    "▪\tIf an error is encountered, the interpreter stops execution and reports the error message.\n",
    "\n",
    "▪\tThe code is not translated into machine code beforehand, so it tends to have slower execution times compared to compiled languages.\n",
    "\n",
    "▪\tPython programs are generally easier to read, write, and debug because they offer more flexibility and a dynamic environment.\n",
    "\n",
    "2.\t`Compiled Language (C)`:\n",
    "\n",
    "▪\tYou write a C program and compile it using a compiler (e.g., GCC).\n",
    "\n",
    "▪\tThe compiler analyzes the entire program, checks for errors, and translates it into machine code or bytecode.\n",
    "\n",
    "▪\tIf there are no errors, the resulting executable file can be run directly by the operating system.\n",
    "\n",
    "▪\tCompiled languages often offer better performance and are typically faster to execute compared to interpreted languages since the code has already been translated into machine code.\n",
    "\n"
   ]
  },
  {
   "cell_type": "markdown",
   "metadata": {},
   "source": [
    ":: **What is the meaning of iterable?** ::\n",
    "Typically, it refers to a collection of elements that can be looped over using a loop, like a for loop.\n",
    "\n",
    "`An iterable` in Python refers to anything that contains a sequence of items that you can loop through. The term “iterable” is a broad category that encompasses various data structures which allow iteration over their elements. Examples include:\n",
    "1. Lists: An ordered collection of items which can be of varying types.\n",
    "2. Tuples: Similar to lists, but immutable (unchangeable once created).\n",
    "3. Strings: A sequence of characters; each character can be iterated over.\n",
    "4. Dictionaries: Collections of key-value pairs; you can iterate over the keys, values, or both.\n",
    "5. Sets: Unordered collections of unique elements.\n",
    "\n",
    "`Non-iterable objects` on the other hand, are those that don’t hold a sequence of items, such as individual numbers (integers, floats) or boolean values. They don’t support iteration since there’s no sequence of elements to iterate over."
   ]
  },
  {
   "cell_type": "markdown",
   "metadata": {},
   "source": [
    ":: **What is Argument And What is The Difference Between Argument And Parameter?** ::\n",
    "\n",
    "`an argument` refers to the value that is passed to a function when it is called. It is the actual value that is provided to the function.\n",
    "\n",
    "`a parameter` is a variable declared in the function's definition to receive the argument. It is a placeholder for the value that will be passed to the function.\n",
    "\n",
    "**Here's a simple example:**"
   ]
  },
  {
   "cell_type": "code",
   "execution_count": 1,
   "metadata": {},
   "outputs": [
    {
     "name": "stdout",
     "output_type": "stream",
     "text": [
      "Hello, John!\n"
     ]
    }
   ],
   "source": [
    "# Function definition with a parameter\n",
    "def greet(name):\n",
    "    print(\"Hello, \" + name + \"!\")\n",
    "\n",
    "# Calling the function with an argument\n",
    "greet(\"John\")"
   ]
  },
  {
   "cell_type": "markdown",
   "metadata": {},
   "source": [
    "In this example, \"name\" is the parameter of the `greet` function which is defined to receive an argument. \n",
    "\n",
    "When the function is called with the argument \"John\", the function prints \"Hello, John!\""
   ]
  },
  {
   "cell_type": "markdown",
   "metadata": {},
   "source": [
    ":: **What Does Calling a Function Means?** ::\n",
    "\n",
    "In programming, a \"call\" refers to the act of executing a function or method. When you make a call to a function, you are instructing the program to run the code inside that function. \n",
    "\n",
    "This is typically done by using the function's name followed by parentheses, optionally passing any required arguments."
   ]
  },
  {
   "cell_type": "markdown",
   "metadata": {},
   "source": [
    "- Shallow Copy `copy()`: Creates a new object, but fills it with references to the items contained in the original object. Useful if you want to create a new list sharing the same sub-objects.\n",
    "\n",
    "- Deep Copy `deepcopy()`: Creates a new object, and recursively copies all objects found in the original,creating new independent objects. This is useful when the list contains complex, mutable objects like lists,dictionaries, custom objects, etc."
   ]
  },
  {
   "cell_type": "markdown",
   "metadata": {},
   "source": [
    ":: **What is the difference between object and element in python?** ::\n",
    "\n",
    "`Objects` represent individual entities with specific values and can be accessed directly by their names. \n",
    "\n",
    "`Elements`, on the other hand, are items within a collection (such as a list), and we access them using index values."
   ]
  },
  {
   "cell_type": "code",
   "execution_count": null,
   "metadata": {},
   "outputs": [],
   "source": [
    "# Object: Animal\n",
    "animal1 = \"Cat\"  # Object 1\n",
    "animal2 = \"Dog\"  # Object 2\n",
    "\n",
    "# List with elements\n",
    "animals = [\"Cat\", \"Dog\", \"Bird\"]"
   ]
  },
  {
   "cell_type": "markdown",
   "metadata": {},
   "source": [
    ":: **What is the Meaning of Hashable?** ::\n",
    "\n",
    "an object being \"hashable\" means that it has a unique identifier assigned to it and that identifier doesn't change. \n",
    "\n",
    "This identifier helps to quickly and efficiently look up or search for the object in certain data structures like dictionaries.\n",
    "\n",
    "Here are key characteristics of hashable objects:\n",
    "\n",
    "1.\t`Immutable`: Hashable objects are usually immutable, meaning they cannot be altered after creation. This ensures that their hash value remains consistent.\n",
    "\n",
    "2.\t`Unique Identifier`: Hashable objects have a special value assigned to them called a hash value. \n",
    "\n",
    "    This value acts like an ID for the object and helps identify it in certain data structures.\n",
    "\n",
    "3.\t`Equality`: Hashable objects must also define an equality comparison such that if ﻿object1 == object2, then ﻿hash(object1) == hash(object2) holds true.\n",
    "\n",
    "Examples of hashable objects in Python include numbers (integers, floats), strings, and tuples (if their elements are hashable as well).\n",
    "\n",
    "On the other hand, mutable objects like lists or dictionaries are not hashable since their contents can change, resulting in a different hash value. Consequently, they cannot be used as keys in hash tables.\n",
    "\n",
    "`Hashability` is an important concept when working with data structures that require efficient lookup and retrieval based on the keys, such as dictionaries."
   ]
  },
  {
   "cell_type": "markdown",
   "metadata": {},
   "source": [
    "**Quick Question**\n",
    "\n",
    "let's say we give two values to the same variable like this: "
   ]
  },
  {
   "cell_type": "code",
   "execution_count": null,
   "metadata": {},
   "outputs": [],
   "source": [
    "a = \"I Love Python\"\n",
    "a = \"I Love PHP\"\n",
    "print(a) # output: I Love PHP"
   ]
  },
  {
   "cell_type": "markdown",
   "metadata": {},
   "source": [
    "we updated the value (a) so it printed the updated value. \n",
    "\n",
    ":: **But Does This Mean The (a) Variable Is Not Hashable ?** ::\n",
    "\n",
    "No, the hashability of a variable is not related to assigning new values to it. \n",
    "\n",
    "Hashability refers to the object itself and not the variable that references it.\n",
    "\n",
    "In the context of Python, the concept of hashability is not directly tied to variables. Instead, it relates to the objects that variables refer to. \n",
    "\n",
    "Objects in Python are either hashable or not hashable, regardless of the variables used to reference them.\n",
    "\n",
    "For example,the variable `a` is just a reference to a string object. The string object itself is hashable, as strings in Python are immutable and have a consistent hash value based on their content. \n",
    "\n",
    "Therefore, strings can be used as keys in hash-based data structures like dictionaries.\n",
    "\n",
    "In summary, the hashability of an object, such as a string, is determined by the properties of the object itself. \n",
    "\n",
    "Variables can be assigned different objects, whether hashable or not, without affecting the hashability of those objects."
   ]
  },
  {
   "cell_type": "markdown",
   "metadata": {
    "vscode": {
     "languageId": "latex"
    }
   },
   "source": [
    "##### **Variables in python var ()**\n",
    "A variable is a container for holding data in a program. It allows you to store and manipulate values during program execution.\n",
    "\n",
    "`[1]` Can Start With (a-z A-Z) Or Underscore  \n",
    "\n",
    "`[2]` You Cannot With Num Or Special Characters  \n",
    "\n",
    "`[3]` Can Include (0-9) Or Underscore  \n",
    "\n",
    "`[4]` Cannot Include Special Characters  \n",
    "\n",
    "`[5]` Name is Not Like name [ Case Sensitive ]  \n",
    "\n",
    "`[6]` you must define the variable before calling it  \n"
   ]
  },
  {
   "cell_type": "markdown",
   "metadata": {
    "vscode": {
     "languageId": "latex"
    }
   },
   "source": [
    "##### **Escape Sequences Characters**\n",
    "`[1]` `\\b` -----> Back Space  \n",
    "\n",
    "`[2]` `\\n` -----> new line  \n",
    "\n",
    "`[3]` `\\` -----> Escape New Line + \\  \n",
    "\n",
    "`[4]` `\\r` -----> Carriage Return  \n",
    "\n",
    "`[5]` `\\\\` -----> Escape Back Slash  \n",
    "\n",
    "`[6]` `\\\"` -----> Escape Double Quotes  \n",
    "\n",
    "`[7]` `\\'` -----> Escape Single Quotes  \n",
    "\n",
    "`[8]` `\\t` -----> Horizontal Tab  \n",
    "\n",
    "`[9]` `\\xhh` -----> Character Hex Value\n",
    "\n",
    "In Python, you can represent characters using escape sequences, and ﻿\\x is used to indicate that the following two characters are in hexadecimal form."
   ]
  },
  {
   "cell_type": "code",
   "execution_count": 4,
   "metadata": {},
   "outputs": [
    {
     "name": "stdout",
     "output_type": "stream",
     "text": [
      "HellWorld\n"
     ]
    }
   ],
   "source": [
    "# Back Space\n",
    "print(\"Hello\\bWorld\")  # Will Remove o"
   ]
  },
  {
   "cell_type": "code",
   "execution_count": 6,
   "metadata": {},
   "outputs": [
    {
     "name": "stdout",
     "output_type": "stream",
     "text": [
      "Hello World\n",
      "Second Line\n"
     ]
    }
   ],
   "source": [
    "# New Line\n",
    "print(\"Hello World\\nSecond Line\")"
   ]
  },
  {
   "cell_type": "code",
   "execution_count": 7,
   "metadata": {},
   "outputs": [
    {
     "name": "stdout",
     "output_type": "stream",
     "text": [
      "Hello I Love Python\n"
     ]
    }
   ],
   "source": [
    "# Escape New Line + Back Slash\n",
    "print(\"Hello \\\n",
    "I Love \\\n",
    "Python\")"
   ]
  },
  {
   "cell_type": "code",
   "execution_count": 8,
   "metadata": {},
   "outputs": [
    {
     "name": "stdout",
     "output_type": "stream",
     "text": [
      "Abcde6\n"
     ]
    }
   ],
   "source": [
    "# Carriage Return\n",
    "print(\"123456\\rAbcde\")"
   ]
  },
  {
   "cell_type": "code",
   "execution_count": 9,
   "metadata": {},
   "outputs": [
    {
     "name": "stdout",
     "output_type": "stream",
     "text": [
      "I Love Back Slash \\\n"
     ]
    }
   ],
   "source": [
    "# Escape Back Slash\n",
    "print(\"I Love Back Slash \\\\\")"
   ]
  },
  {
   "cell_type": "code",
   "execution_count": 10,
   "metadata": {},
   "outputs": [
    {
     "name": "stdout",
     "output_type": "stream",
     "text": [
      "I Love Single Quote 'Test' \n"
     ]
    }
   ],
   "source": [
    "# Escape Single Quote\n",
    "print('I Love Single Quote \\'Test\\' ')"
   ]
  },
  {
   "cell_type": "code",
   "execution_count": 11,
   "metadata": {},
   "outputs": [
    {
     "name": "stdout",
     "output_type": "stream",
     "text": [
      "I Love Double Quotes \"Test\" \n"
     ]
    }
   ],
   "source": [
    "# Escape Double Quotes\n",
    "print(\"I Love Double Quotes \\\"Test\\\" \")"
   ]
  },
  {
   "cell_type": "code",
   "execution_count": 12,
   "metadata": {},
   "outputs": [
    {
     "name": "stdout",
     "output_type": "stream",
     "text": [
      "Hello\tPython\n"
     ]
    }
   ],
   "source": [
    "# Horizontal Tab\n",
    "print(\"Hello\\tPython\")"
   ]
  },
  {
   "cell_type": "code",
   "execution_count": 13,
   "metadata": {},
   "outputs": [
    {
     "name": "stdout",
     "output_type": "stream",
     "text": [
      "Os\n"
     ]
    }
   ],
   "source": [
    "# Character Hex Value\n",
    "print(\"\\x4F\\x73\")"
   ]
  },
  {
   "cell_type": "markdown",
   "metadata": {},
   "source": [
    "In this specific case, `\\x4F` represents the hexadecimal value for the character `O` and `\\x73` represents the hexadecimal value for the character `s`.\n",
    "So, when you run the code, it will print the characters `Os` to the console."
   ]
  },
  {
   "cell_type": "markdown",
   "metadata": {
    "vscode": {
     "languageId": "latex"
    }
   },
   "source": [
    "##### **Difference Between Standalone Built In Funtions And Methods**\n",
    "\n",
    ":: **Built-in Functions** ::\n",
    "\n",
    "are available globally in Python (i.e., they can be used anywhere in your code)\n",
    "You call a standalone function by using its name followed by parentheses enclosing its arguments.\n",
    "Common examples include 'len()', 'print()', 'type()', and 'max()'\n",
    "whereas methods are tied to specific objects.\n",
    "\n",
    ":: **Methods** ::\n",
    "\n",
    "Methods are functions that are associated with a specific object or class.\n",
    "Methods are called by using the dot notation on an object\n",
    "For instance, \n",
    "'append()' is a method of list objects, while ' lower()' is a method of string objects.\n",
    "> Understanding whether to use a method or a built-in function often depends on what you are trying to accomplish in your code and the type of data you are working with"
   ]
  },
  {
   "cell_type": "markdown",
   "metadata": {},
   "source": [
    "##### **Concatenation**"
   ]
  },
  {
   "cell_type": "code",
   "execution_count": null,
   "metadata": {},
   "outputs": [],
   "source": [
    "# -------------------\n",
    "# -- Concatenation --\n",
    "# -------------------\n",
    "\n",
    "msg = \"I Love\"\n",
    "lang = \"Python\"\n",
    "print(msg + \" \" + lang)\n",
    "\n",
    "full = msg + \" \" + lang\n",
    "print(full)\n",
    "\n",
    "a = \"First \\\n",
    "Second \\\n",
    "Third\"\n",
    "\n",
    "b = \"A \\\n",
    "B \\\n",
    "C\"\n",
    "\n",
    "print(a + \"\\n\" + b)\n",
    "\n",
    "print(\"Hello \" + 1)  # Error"
   ]
  },
  {
   "cell_type": "markdown",
   "metadata": {
    "vscode": {
     "languageId": "latex"
    }
   },
   "source": [
    "##### **Indexing**\n",
    "`[1]` All Data in Python is Object\n",
    "\n",
    "`[2]` Object Contain Elements\n",
    "\n",
    "`[3]` Every Element Has Its Own Index\n",
    "\n",
    "`[4]` Python Use Zero Based Indexing ( Index Start From Zero ).:: **Note** :: the character at the stop index is not included in the sliced substring.\n",
    "\n",
    "`[5]` Use Square Brackets To Access Element `[]`\n",
    "\n",
    "`[6]` Enable Accessing Parts Of Strings, Tuples or Lists"
   ]
  },
  {
   "cell_type": "code",
   "execution_count": 1,
   "metadata": {},
   "outputs": [
    {
     "name": "stdout",
     "output_type": "stream",
     "text": [
      "7\n",
      "7\n",
      "I\n"
     ]
    }
   ],
   "source": [
    "a = \"I Love Python\"\n",
    "print(a.index(\"P\")) # Index Number 7 # Method\n",
    "print (a.index (\"P\", 0, 10)) # Index from 0 to 10 # Method\n",
    "print(a[0]) # Normal Indexing"
   ]
  },
  {
   "cell_type": "code",
   "execution_count": null,
   "metadata": {},
   "outputs": [],
   "source": [
    "# Indexing ( Access Single Item )\n",
    "myString = \"I Love Python\"\n",
    "print(myString[0])  # Index 0 => I\n",
    "print(myString[9])  # Index 9 => t\n",
    "\n",
    "print(myString[-1])  # Index -1 => First Character From End\n",
    "print(myString[-6])  # Index -6 => 6th Character From End\n",
    "\n",
    "# Slicing ( Access Multiple Sequence Items )\n",
    "# [Start:End] End Not Included\n",
    "# [Start:End:Steps]\n",
    "\n",
    "print(myString[8:11])  # yth\n",
    "print(myString[3:5])  # ov\n",
    "\n",
    "print(myString[:10])  # If Start Is Not Here Will Start From 0 (I Love Pyt)\n",
    "print(myString[5:])  # If End Is Not Here Will Go To The End (e Python)\n",
    "print(myString[:])  # Full Data\n",
    "\n",
    "print(myString[0::1])  # Full Data\n",
    "print(myString[::1])  # Full Data\n",
    "\n",
    "print(myString[::2]) # ILv yhn\n",
    "print(myString[::3]) # Io tn"
   ]
  },
  {
   "cell_type": "markdown",
   "metadata": {},
   "source": [
    " \n",
    "`Indexing` is used to access a single element of the sequence.\n",
    "\n",
    "`Slicing` is used to access a subset or range of elements from the sequence.\n",
    "\n",
    "the index method `index()` is used to find the `first occurrence` of a specified value\n",
    "(it's position) within the sequence.\n",
    "\n",
    "You can also specify the start and end points for the search within the string. \n",
    "`a.index(\"P\", 0, 10)`\n",
    "\n",
    "To find `all occurrences` of a specified value in a sequence like a list or a string in Python, \n",
    "you’ll need to write a loop or use a list comprehension [Advanced]."
   ]
  },
  {
   "cell_type": "markdown",
   "metadata": {
    "vscode": {
     "languageId": "latex"
    }
   },
   "source": [
    "##### **String Methods**\n",
    "\n",
    " `strip()` removes characters from the beginning and end of the string, not from within the string itself.\n",
    " \n",
    " Syntax: \n",
    " \n",
    " > string.strip([characters])"
   ]
  },
  {
   "cell_type": "code",
   "execution_count": null,
   "metadata": {},
   "outputs": [],
   "source": [
    "a = \" I Love Python \"\n",
    "print(a.strip())"
   ]
  },
  {
   "cell_type": "code",
   "execution_count": 2,
   "metadata": {},
   "outputs": [
    {
     "name": "stdout",
     "output_type": "stream",
     "text": [
      "Hello, World!\n"
     ]
    }
   ],
   "source": [
    "text = \"aaabbbbccccHello, World!bbbaaa\"\n",
    "\n",
    "stripped_text = text.strip(\"abc\") # Removes leading and trailing occurrences of the characters \"a\", \"b\", and \"c\"\n",
    "print(stripped_text)  # Output: \"Hello, World!\""
   ]
  },
  {
   "cell_type": "markdown",
   "metadata": {},
   "source": [
    " `title()` returns a string where the first character in every word is upper case, and all other characters in each word are lower case.\n",
    "\n",
    " `\"hello world\".title()` would return `\"Hello World\"`.\n",
    "\n",
    " `capitalize()` returns a string where the first letter is capitalized, and the rest of the string is in lower case.\n",
    "\n",
    " `\"hello world\".title()` would return `\"Hello world\"`.\n",
    "\n",
    "`zfill or zero fill - zfill()` used to pad a string with zeros (0) on the left.\n",
    "\n",
    "Syntax: \n",
    "\n",
    ">string.zfill(width)"
   ]
  },
  {
   "cell_type": "code",
   "execution_count": null,
   "metadata": {},
   "outputs": [],
   "source": [
    "text = \"50\"\n",
    "formatted_text = text.zfill(5)\n",
    "print(formatted_text) #output: 00050"
   ]
  },
  {
   "cell_type": "markdown",
   "metadata": {},
   "source": [
    " `upper()`converts all lowercase characters in a string into uppercase characters and returns the new string."
   ]
  },
  {
   "cell_type": "code",
   "execution_count": null,
   "metadata": {},
   "outputs": [],
   "source": [
    "text = \"Python is fun\"\n",
    "upper_text = text.upper()\n",
    "print(upper_text)  # Output: \"PYTHON IS FUN\""
   ]
  },
  {
   "cell_type": "markdown",
   "metadata": {},
   "source": [
    " `lower()` converts all uppercase characters in a string into lowercase characters and returns the new string."
   ]
  },
  {
   "cell_type": "code",
   "execution_count": null,
   "metadata": {},
   "outputs": [],
   "source": [
    "text = \"Python is FUN\"\n",
    "lower_text = text.lower()\n",
    "print(lower_text)  # Output: \"python is fun\""
   ]
  },
  {
   "cell_type": "markdown",
   "metadata": {},
   "source": [
    "`split()` split and return each word separately"
   ]
  },
  {
   "cell_type": "code",
   "execution_count": null,
   "metadata": {},
   "outputs": [],
   "source": [
    "a = \"I Love Python and PHP\"\n",
    "print(a.split()) #output: ['I', 'Love', 'Python', 'and', 'PHP']"
   ]
  },
  {
   "cell_type": "markdown",
   "metadata": {},
   "source": [
    "Syntax: \n",
    "> string.split(separator, maxsplit)"
   ]
  },
  {
   "cell_type": "markdown",
   "metadata": {},
   "source": [
    "The `string` is the original string you want to split, `separator` is the delimiter used to determine where to split the string, and `maxsplit` (optional) specifies the maximum number of splits to perform.\n",
    "\n",
    "If the `separator` is not provided, the method will split the string at whitespace characters (spaces, tabs, and newlines) by default.\n",
    "\n",
    "If the `maxsplit` is not specified, all occurrences of the `separator` will be used to split the string.\n",
    "\n",
    "**Example:**\n"
   ]
  },
  {
   "cell_type": "code",
   "execution_count": null,
   "metadata": {},
   "outputs": [],
   "source": [
    "sentence = \"Hello, how are you today?\"\n",
    "\n",
    "words = sentence.split()\n",
    "print(words)  # Output: [\"Hello,\", \"how\", \"are\", \"you\", \"today?\"]"
   ]
  },
  {
   "cell_type": "markdown",
   "metadata": {},
   "source": [
    "In this example, the `split()` method is called on the `sentence` string without any arguments, so it splits the string into a list of words based on whitespace characters.\n",
    "\n",
    "You can also specify a custom string as the ﻿separator to split the string at specific character(s). For example:"
   ]
  },
  {
   "cell_type": "code",
   "execution_count": null,
   "metadata": {},
   "outputs": [],
   "source": [
    "numbers = \"1,2,3,4,5\"\n",
    "\n",
    "number_list = numbers.split(\",\")\n",
    "print(number_list)  # Output: [\"1\", \"2\", \"3\", \"4\", \"5\"]"
   ]
  },
  {
   "cell_type": "markdown",
   "metadata": {},
   "source": [
    "`center()` used to center a string within a specified width. It pads the string with specified characters (default is space) on both sides.\n",
    "\n",
    "Syntax: \n",
    "\n",
    "> string.center(width, fillchar)\n",
    "\n",
    "The `string` is the original string you want to center, `width` is the total width the resulting string should have, and `fillchar` is the character used for padding (optional). If `fillchar` is not provided, a space character is used by default.\n",
    "\n",
    "The `width` parameter specifies the final width of the centered string. If the original string is already equal to or longer than the specified width, no padding will be applied.\n"
   ]
  },
  {
   "cell_type": "code",
   "execution_count": null,
   "metadata": {},
   "outputs": [],
   "source": [
    "e = \"Osama\"\n",
    "print(e.center(10,\"#\")) #hashes can be changed  #output: ##Osama###"
   ]
  },
  {
   "cell_type": "markdown",
   "metadata": {},
   "source": [
    "`count()` used to count the number of occurrences of a substring within a given string.\n",
    "\n",
    "Syntax: \n",
    "\n",
    "> string.count(substring, start, end)\n",
    "\n",
    "The `string` is the original string in which you want to count occurrences, `substring` is the substring or character you want to count, and `start` and `end` (optional) specify the start and end positions for the search within the string."
   ]
  },
  {
   "cell_type": "code",
   "execution_count": null,
   "metadata": {},
   "outputs": [],
   "source": [
    "f = \"I Love Python and PHP Because PHP is Easy\"\n",
    "print(f.count (\"PHP\")) #output: 2\n",
    "print(f.count (\"PHP\", 0, 25)) # Only One PHP #output: 1"
   ]
  },
  {
   "cell_type": "markdown",
   "metadata": {},
   "source": [
    "`swapcase()` returns a new string with all the uppercase characters converted to lowercase and vice versa."
   ]
  },
  {
   "cell_type": "code",
   "execution_count": null,
   "metadata": {},
   "outputs": [],
   "source": [
    "g = \"I Love Python\"\n",
    "h = \"i lOVE pYTHON\"\n",
    "print (g. swapcase()) #output: i lOVE pYTHON\n",
    "print (h. swapcase()) #output: I Love Python"
   ]
  },
  {
   "cell_type": "markdown",
   "metadata": {},
   "source": [
    "`startswith()` Return True if it starts with the specified prefix, False otherwise."
   ]
  },
  {
   "cell_type": "code",
   "execution_count": null,
   "metadata": {},
   "outputs": [],
   "source": [
    "i = \"I Love Python\"\n",
    "print(i.startswith(\"I\")) #True\n",
    "print(i.startswith(\"S\")) #False"
   ]
  },
  {
   "cell_type": "markdown",
   "metadata": {},
   "source": [
    "`endswith()` same as startswith() but the opposite"
   ]
  },
  {
   "cell_type": "code",
   "execution_count": null,
   "metadata": {},
   "outputs": [],
   "source": [
    "j = \"I Love Python\"\n",
    "print(j. endswith(\"n\")) #True\n",
    "print(j.endswith(\"S\")) #False\n",
    "print(j.endswith(\"n\", 7, 12)) #False"
   ]
  },
  {
   "cell_type": "markdown",
   "metadata": {},
   "source": [
    "`find()` used to search for the first occurrence of a specified substring within a string. If the substring is found, it returns the index of the first character of the first occurrence. If the substring is not found, it returns -1.\n",
    "\n",
    "Syntax: \n",
    "\n",
    "> string.find(substring, start, end)\n",
    "\n",
    "The `string` is the original string in which you want to search, `substring` is the substring or character you want to find, and `start` and `end` (optional) specify the start and end positions for the search within the string.\n"
   ]
  },
  {
   "cell_type": "code",
   "execution_count": null,
   "metadata": {},
   "outputs": [],
   "source": [
    "b = \"I Love Python\"\n",
    "print(b.find(\"P\")) #find Number 7 | output: 7\n",
    "print(b.find(\"p\", 0, 10)) #find from 0 to 10 | output: -1"
   ]
  },
  {
   "cell_type": "code",
   "execution_count": null,
   "metadata": {},
   "outputs": [],
   "source": [
    "sentence = \"The quick brown fox jumps over the lazy dog.\"\n",
    "\n",
    "index = sentence.find(\"fox\")\n",
    "print(index)  # Output: 16"
   ]
  },
  {
   "cell_type": "markdown",
   "metadata": {},
   "source": [
    "In this example, the `find(\"fox\")` call searches for the substring \"fox\" within the `sentence` string and returns the index of the first occurrence, which is 16."
   ]
  },
  {
   "cell_type": "markdown",
   "metadata": {},
   "source": [
    "You can also specify optional `start` and `end` positions to search within a particular range of the string. For example:"
   ]
  },
  {
   "cell_type": "code",
   "execution_count": null,
   "metadata": {},
   "outputs": [],
   "source": [
    "text = \"Hello, hello, Hello, HELLO!\"\n",
    "index = text.find(\"hello\", 1, -1)\n",
    "print(index)  # Output: 7"
   ]
  },
  {
   "cell_type": "markdown",
   "metadata": {},
   "source": [
    "In this case, the `find(\"hello\", 1, -1)` call searches for the substring \"hello\" within the range from index 1 to the second-to-last character (-1). It returns the index of 7, which is the index of the first occurrence within that range."
   ]
  },
  {
   "cell_type": "markdown",
   "metadata": {},
   "source": [
    ":: **Quick Question** ::\n",
    "\n",
    "what is the difference between `index()` method and `find()` method in these examples:"
   ]
  },
  {
   "cell_type": "code",
   "execution_count": null,
   "metadata": {},
   "outputs": [],
   "source": [
    "a = \"I Love Python\"\n",
    "print(a.index(\"P\"))\n",
    "print(a.find(\"P\"))"
   ]
  },
  {
   "cell_type": "markdown",
   "metadata": {},
   "source": [
    "they both printed the number 7\n",
    "\n",
    "The main difference between the `index()` method and the `find()` method is how they handle cases where the specified substring is not found within the main string.\n",
    "\n",
    "If the substring is not found, the `index()` method raises a ValueError exception, while the `find()` method returns `-1` to indicate that the substring was not found."
   ]
  },
  {
   "cell_type": "markdown",
   "metadata": {},
   "source": [
    "`splitlines()` used to split a string by line breaks. It returns a list where each element is a line from the string"
   ]
  },
  {
   "cell_type": "code",
   "execution_count": null,
   "metadata": {},
   "outputs": [],
   "source": [
    "e = \"\"\"First Line\n",
    "Second Line\n",
    "Third Line\"\"\"\n",
    "print(e.splitlines()) #output: ['First Line', 'Second Line', 'Third Line']"
   ]
  },
  {
   "cell_type": "markdown",
   "metadata": {},
   "source": [
    "Syntax: \n",
    "\n",
    "> string.splitlines(keepends)\n",
    "\n",
    "The `string` is the original string you want to split into lines, and `keepends` (optional) specifies whether to keep the line break characters at the end of each line. \n",
    "\n",
    "By default, `keepends` is set to `False`, which means the line break characters are stripped from the resulting lines.\n",
    "\n",
    "The `splitlines()` method returns a list of lines from the original string, where each line is a separate string element in the list."
   ]
  },
  {
   "cell_type": "markdown",
   "metadata": {},
   "source": [
    "**Example:**"
   ]
  },
  {
   "cell_type": "code",
   "execution_count": null,
   "metadata": {},
   "outputs": [],
   "source": [
    "text = \"This is line 1.\\nThis is line 2.\\nThis is line 3.\"\n",
    "\n",
    "lines = text.splitlines()\n",
    "print(lines)\n",
    "# Output: ['This is line 1.', 'This is line 2.', 'This is line 3.']"
   ]
  },
  {
   "cell_type": "markdown",
   "metadata": {},
   "source": [
    "In this example, the `splitlines()` call splits the `text` string into lines based on the line break characters `(\"\\n\")` and returns a list of lines.\n",
    "\n",
    "You can also use the `keepends` parameter to preserve the line break characters at the end of each line. For example:"
   ]
  },
  {
   "cell_type": "code",
   "execution_count": null,
   "metadata": {},
   "outputs": [],
   "source": [
    "text = \"This is line 1.\\nThis is line 2.\\nThis is line 3.\"\n",
    "\n",
    "lines_with_breaks = text.splitlines(keepends=True)\n",
    "print(lines_with_breaks)\n",
    "# Output: ['This is line 1.\\n', 'This is line 2.\\n', 'This is line 3.']"
   ]
  },
  {
   "cell_type": "markdown",
   "metadata": {},
   "source": [
    "In this case, the `splitlines(keepends=True)` call keeps the line break characters `(\"\\n\")` at the end of each line in the resulting list."
   ]
  },
  {
   "cell_type": "markdown",
   "metadata": {},
   "source": [
    "`is[method]`return True or False"
   ]
  },
  {
   "cell_type": "code",
   "execution_count": null,
   "metadata": {},
   "outputs": [],
   "source": [
    "one = \"I Love Python And 3G\"\n",
    "two = \"I Love Python And 3g\"\n",
    "print(one.istitle()) #True\n",
    "print(two.istitle()) #False"
   ]
  },
  {
   "cell_type": "markdown",
   "metadata": {},
   "source": [
    "`isidentifier()` check if then input can be used as variable or not, return true or false."
   ]
  },
  {
   "cell_type": "code",
   "execution_count": null,
   "metadata": {},
   "outputs": [],
   "source": [
    "seven = \"osama_elzero\"\n",
    "eight = \"OsamaElzero100\"\n",
    "nine = \"Osama--Elzero100\"\n",
    "print(seven.isidentifier()) #True\n",
    "print(eight.isidentifier()) #True\n",
    "print(nine.isidentifier()) #False"
   ]
  },
  {
   "cell_type": "markdown",
   "metadata": {},
   "source": [
    "`isalpha()` check if the input is alphabetical character or not, return true or false."
   ]
  },
  {
   "cell_type": "code",
   "execution_count": null,
   "metadata": {},
   "outputs": [],
   "source": [
    "x = \"AaaaaBbbbbb\"\n",
    "y = \"AaaaaBbbbbb111\"\n",
    "print(x.isalpha()) #True\n",
    "print(y.isalpha()) #False"
   ]
  },
  {
   "cell_type": "markdown",
   "metadata": {},
   "source": [
    "`isalnum()` if the input is alphabetical or number, return true, false otherwise"
   ]
  },
  {
   "cell_type": "markdown",
   "metadata": {},
   "source": [
    "`replace()` syntax: \n",
    "> replace(old Value, New Value, Count)"
   ]
  },
  {
   "cell_type": "code",
   "execution_count": null,
   "metadata": {},
   "outputs": [],
   "source": [
    "a = \"Hello One Two Three One One\"\n",
    "print (a.replace(\"One\", \"1\")) #output: Hello 1 Two Three 1 1\n",
    "print (a.replace(\"One\", \"1\", 1)) #output: Hello 1 Two Three One One"
   ]
  },
  {
   "cell_type": "markdown",
   "metadata": {},
   "source": [
    "`join()` Prints the values to a stream, require the separator"
   ]
  },
  {
   "cell_type": "code",
   "execution_count": null,
   "metadata": {},
   "outputs": [],
   "source": [
    "myList = [\"Osama\", \"Mohamed\", \"Elsayed\"]\n",
    "print(\"-\".join(myList)) #output: Osama-Mohamed-Elsayed"
   ]
  },
  {
   "cell_type": "markdown",
   "metadata": {},
   "source": [
    "Syntax: \n",
    "\n",
    "> separator.join(iterable)\n",
    "\n",
    "The `separator` is the string that will be used as a delimiter to join the elements\n",
    "\n",
    "and `iterable` is the iterable object (such as a list) containing the elements you want to join.\n",
    "\n",
    "The `join()` method returns a new string where the elements of the iterable are concatenated with the separator in between each element."
   ]
  },
  {
   "cell_type": "markdown",
   "metadata": {},
   "source": [
    ":: **Example** ::"
   ]
  },
  {
   "cell_type": "code",
   "execution_count": null,
   "metadata": {},
   "outputs": [],
   "source": [
    "words = [\"Hello\", \"World\", \"!\"]\n",
    "sentence = \" \".join(words)\n",
    "print(sentence)  # Output: \"Hello World !\""
   ]
  },
  {
   "cell_type": "markdown",
   "metadata": {},
   "source": [
    "In this example, the `join()` method is called on the `words` list, with a space `\" \"` as the separator. \n",
    "\n",
    "It concatenates the elements of the list into a string, where each element is separated by a space."
   ]
  },
  {
   "cell_type": "markdown",
   "metadata": {},
   "source": [
    "You can use any character or string as the separator. For example:"
   ]
  },
  {
   "cell_type": "code",
   "execution_count": null,
   "metadata": {},
   "outputs": [],
   "source": [
    "numbers = [\"1\", \"2\", \"3\", \"4\", \"5\"]\n",
    "number_string = \"-\".join(numbers)\n",
    "print(number_string)  # Output: \"1-2-3-4-5\""
   ]
  },
  {
   "cell_type": "markdown",
   "metadata": {},
   "source": [
    "In this case, the `join()` method is called on the `numbers` list, with a hyphen `\"-\"` as the separator. \n",
    "\n",
    "It joins the elements of the list into a string, where each element is separated by a hyphen.\n",
    "\n",
    "Note that the `join()` method is a string method, so you call it on the desired separator and pass the iterable as an argument."
   ]
  },
  {
   "cell_type": "markdown",
   "metadata": {},
   "source": [
    ":: **Formatting the Placeholder in Old Ways** ::\n",
    "\n",
    "`%s` -----> String\n",
    "\n",
    "`%d` -----> Number or Digit\n",
    "\n",
    "`%f` -----> Float\n",
    "\n"
   ]
  },
  {
   "cell_type": "code",
   "execution_count": null,
   "metadata": {},
   "outputs": [],
   "source": [
    "name = \"Osama\"\n",
    "age = 36\n",
    "rank = 10\n",
    "\n",
    "print(\"My Name is: \" + name)\n",
    "# print(\"My Name is: \" + name + \" and My Age is: \" + age)  # Type Error\n",
    "\n",
    "print(\"My Name is: %s\" % \"Osama\")\n",
    "print(\"My Name is: %s\" % name)\n",
    "print(\"My Name is: %s and My Age is: %d\" % (name, age))\n",
    "print(\"My Name is: %s and My Age is: %d and My Rank is: %f\" % (name, age, rank))"
   ]
  },
  {
   "cell_type": "markdown",
   "metadata": {},
   "source": [
    "**Control Floating Point Number**"
   ]
  },
  {
   "cell_type": "code",
   "execution_count": null,
   "metadata": {},
   "outputs": [],
   "source": [
    "myNumber = 10\n",
    "print(\"My Number is: %d\" % myNumber) #output: My Number is: 10\n",
    "print(\"My Number is: %f\" % myNumber) #output: My Number is: 10.000000\n",
    "print(\"My Number is: %.2f\" % myNumber) #output: My Number is: 10.00"
   ]
  },
  {
   "cell_type": "markdown",
   "metadata": {},
   "source": [
    "**Truncate String**"
   ]
  },
  {
   "cell_type": "code",
   "execution_count": null,
   "metadata": {},
   "outputs": [],
   "source": [
    "myLongString = \"Hello Peoples of Elzero Web School I Love You All\"\n",
    "print(\"Message is %s\" % myLongString) #output: Message is Hello Peoples of Elzero Web School I Love You All\n",
    "print(\"Message is %.5s\" % myLongString) #output: Message is Hello"
   ]
  },
  {
   "cell_type": "markdown",
   "metadata": {},
   "source": [
    "##### **Formatting the placeholder in new ways**\n",
    "\n",
    "curly brackets {} and the value is like this: "
   ]
  },
  {
   "cell_type": "code",
   "execution_count": null,
   "metadata": {},
   "outputs": [],
   "source": [
    "myName = \"Osama\"\n",
    "myAge = 36\n",
    "print(f\"My Name is : {myName} and My Age is : {myAge}\") # output: My Name is : Osama and My Age is : 36"
   ]
  },
  {
   "cell_type": "markdown",
   "metadata": {},
   "source": [
    "##### **Truncate String**\n",
    "remove some stuff from a string and leave what i want."
   ]
  },
  {
   "cell_type": "code",
   "execution_count": null,
   "metadata": {},
   "outputs": [],
   "source": [
    "original_string = \"Hello, World!\"\n",
    "truncated_string = original_string[:5]\n",
    "print(truncated_string) #output: Hello"
   ]
  },
  {
   "cell_type": "markdown",
   "metadata": {},
   "source": [
    "##### **The difference between truncating string and slicing**\n",
    "\n",
    "`Slicing a String:` Slicing is a more general concept. It involves taking a substring from a string, \n",
    "specified by a range of indices. You can slice from any point to any other point in the string, not just from the beginning.\n",
    "For example, my_string[1:5] takes the substring from index 1 to index 4 (the character at index 5 is not included).\n",
    "Slicing can be used to extract any part of a string, not necessarily for shortening it.\n",
    "\n",
    "`Truncating a String:`Truncating specifically refers to shortening a string, typically from the beginning to a certain length. \n",
    "It’s a specific case of slicing where you always start at the beginning of the string and end at a specified index.\n",
    "For example, my_string[:5] truncates the string to the first 5 characters.\n",
    "The term `Truncating` is often used in contexts where there’s a need to limit the string length, like in UI display, \n",
    "while maintaining the start of the string."
   ]
  },
  {
   "cell_type": "markdown",
   "metadata": {},
   "source": [
    ":: **Format Money** ::\n",
    "> {:,}\n",
    "\n",
    "puts comma after 3 digits"
   ]
  },
  {
   "cell_type": "code",
   "execution_count": null,
   "metadata": {},
   "outputs": [],
   "source": [
    "myMoney = 500162350198\n",
    "print(\"My Money in Bank Is: {}\" .format (myMoney)) #output: My Money in Bank Is: 500162350198\n",
    "print(\"My Money in Bank Is: {:,}\" .format (myMoney)) #output: My Money in Bank Is: 500,162,350,198"
   ]
  },
  {
   "cell_type": "markdown",
   "metadata": {},
   "source": [
    ":: **VIP NOTE** ::\n",
    "you cannot mix the f-string with `.format() method`\n",
    "let's take the two examples we previously mentioned \n",
    "\n",
    "**Example 1**"
   ]
  },
  {
   "cell_type": "code",
   "execution_count": null,
   "metadata": {},
   "outputs": [],
   "source": [
    "myName = \"Osama\"\n",
    "myAge = 36\n",
    "print(f\"My Name is : {myName} and My Age is : {myAge}\") # output: My Name is : Osama and My Age is : 36"
   ]
  },
  {
   "cell_type": "markdown",
   "metadata": {},
   "source": [
    "putting the f-string didn't raise an error, while in this example\n",
    "\n",
    "**Example 2**"
   ]
  },
  {
   "cell_type": "code",
   "execution_count": null,
   "metadata": {},
   "outputs": [],
   "source": [
    "myMoney = 500162350198\n",
    "print(\"My Money in Bank Is: {}\" .format (myMoney)) #output: My Money in Bank Is: 500162350198\n",
    "print(\"My Money in Bank Is: {:,}\" .format (myMoney)) #output: My Money in Bank Is: 500,162,350,198"
   ]
  },
  {
   "cell_type": "markdown",
   "metadata": {},
   "source": [
    "if we put an f-string like this: "
   ]
  },
  {
   "cell_type": "code",
   "execution_count": null,
   "metadata": {},
   "outputs": [],
   "source": [
    "myMoney = 500162350198\n",
    "print(f\"My Money in Bank Is: {}\" .format (myMoney)) #through error\n",
    "print(f\"My Money in Bank Is: {:,}\" .format (myMoney)) #through error"
   ]
  },
  {
   "cell_type": "markdown",
   "metadata": {},
   "source": [
    "In these lines, you’re using f at the start, indicating an f-string, \n",
    "but then you’re also trying to use the .format() method. These are two \n",
    "different styles of string formatting, and they cannot be mixed in this way. \n",
    "The {} inside an f-string expects a variable or expression directly inside it, not a later .format() method call."
   ]
  },
  {
   "cell_type": "markdown",
   "metadata": {},
   "source": [
    ":: **To Fix The Second Example** ::\n"
   ]
  },
  {
   "cell_type": "code",
   "execution_count": null,
   "metadata": {},
   "outputs": [],
   "source": [
    "myMoney = 500162350198\n",
    "print(f\"My Money in Bank Is: {myMoney}\") #output: My Money in Bank Is: 500162350198\n",
    "print(f\"My Money in Bank Is: {myMoney:,}\") #output: My Money in Bank Is: 500,162,350,198"
   ]
  },
  {
   "cell_type": "markdown",
   "metadata": {},
   "source": [
    "##### **Arithmetic Operators**\n",
    "`[+]` Addition\n",
    "\n",
    "`[-]` Subtraction\n",
    "\n",
    "`[*]` Multiplication\n",
    "\n",
    "`[/]` Division\n",
    "\n",
    "`[%]` Modulus  [باقي القسمة]\n",
    "\n",
    "`[**]` Exponent  [الأس]\n",
    "\n",
    "`[//]` Floor Division"
   ]
  },
  {
   "cell_type": "code",
   "execution_count": null,
   "metadata": {},
   "outputs": [],
   "source": [
    "# Addition\n",
    "\n",
    "print(10 + 30)  # 40\n",
    "print(-10 + 20)  # 10\n",
    "print(1 + 2.66)  # 3.66\n",
    "print(1.2 + 1.2)  # 2.4\n",
    "\n",
    "# Subtraction\n",
    "\n",
    "print(60 - 30)  # 30\n",
    "print(-30 - 20)  # -50\n",
    "print(-30 - -20)  # -10\n",
    "print(5.66 - 3.44)  # 2.22\n",
    "\n",
    "# Multiplication\n",
    "\n",
    "print(10 * 3)  # 30\n",
    "print(5 + 10 * 100)  # 1005\n",
    "print((5 + 10) * 100)  # 1500\n",
    "\n",
    "# Division\n",
    "\n",
    "print(100 / 20)  # 5.0\n",
    "print(int(100 / 20))  # 5\n",
    "\n",
    "# Modulus\n",
    "\n",
    "print(8 % 2)  # 0\n",
    "print(9 % 2)  # 1\n",
    "print(20 % 5)  # 0\n",
    "print(22 % 5)  # 2\n",
    "\n",
    "# Exponent\n",
    "\n",
    "print(2 ** 5)  # 32\n",
    "print(2 * 2 * 2 * 2 * 2)  # 32\n",
    "print(5 ** 4)  # 625\n",
    "print(5 * 5 * 5 * 5)  # 625\n",
    "\n",
    "# Floor Division\n",
    "\n",
    "print(100 // 20)  # 5\n",
    "print(119 // 20)  # 5\n",
    "print(120 // 20)  # 6\n",
    "print(140 // 20)  # 7\n",
    "print(142 // 20)  # 7"
   ]
  },
  {
   "cell_type": "markdown",
   "metadata": {},
   "source": [
    "##### **Complex Number**\n",
    "the complex number consist of two parts: real part \"the first part\" and imaginary part \"the second part\""
   ]
  },
  {
   "cell_type": "code",
   "execution_count": null,
   "metadata": {},
   "outputs": [],
   "source": [
    "myComplexNumber = 5+6j\n",
    "print(type (myComplexNumber)) #output: <class 'complex'>"
   ]
  },
  {
   "cell_type": "markdown",
   "metadata": {},
   "source": [
    "the complex number is used in Electrical Engineering, Quantum Mechanics, Mathematics and more."
   ]
  },
  {
   "cell_type": "code",
   "execution_count": null,
   "metadata": {},
   "outputs": [],
   "source": [
    "myComplexNumber = 5+6j\n",
    "print(\"Real Part Is: {}\".format(myComplexNumber.real)) #output: Real Part Is: 5.0\n",
    "print(\"Imaginary Part Is: {}\".format(myComplexNumber.imag)) #output: Imaginary Part Is: 6.0"
   ]
  }
 ],
 "metadata": {
  "kernelspec": {
   "display_name": "Python 3 (ipykernel)",
   "language": "python",
   "name": "python3"
  },
  "language_info": {
   "codemirror_mode": {
    "name": "ipython",
    "version": 3
   },
   "file_extension": ".py",
   "mimetype": "text/x-python",
   "name": "python",
   "nbconvert_exporter": "python",
   "pygments_lexer": "ipython3",
   "version": "3.12.1"
  }
 },
 "nbformat": 4,
 "nbformat_minor": 4
}
