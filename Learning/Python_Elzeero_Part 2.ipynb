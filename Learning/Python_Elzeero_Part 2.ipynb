{
 "cells": [
  {
   "cell_type": "markdown",
   "metadata": {},
   "source": [
    "##### **list (array) = [1, 2, 3, 4]**\n",
    "does the same job as the array in other languages \n",
    "\n",
    "`[1]` List Items Are Enclosed in Square Brackets `[]`\n",
    "\n",
    "`[2]` List Are Ordered, Use Index To Access Item\n",
    "\n",
    "`[3]` List Are Mutable => Add, Delete, Edit\n",
    "\n",
    "`[4]` List Items Is Not Unique\n",
    "    \n",
    "`[5]` List Can Have Different Data Types"
   ]
  },
  {
   "cell_type": "markdown",
   "metadata": {},
   "source": [
    "##### **List Methods**\n",
    "`append()` means add something to a list. \n",
    "\n",
    "Syntax \n",
    "\n",
    "> list_name.append(element)"
   ]
  },
  {
   "cell_type": "code",
   "execution_count": null,
   "metadata": {},
   "outputs": [],
   "source": [
    "myFriends = [\"Osama\", \"Ahmed\", \"Sayed\"] \n",
    "myFriends.append (\"Alaa\") \n",
    "myFriends.append (100) \n",
    "myFriends.append (150.200) \n",
    "myFriends.append(True)\n",
    "print(myFriends) #output: ['Osama', 'Ahmed', 'Sayed', 'Alaa', 100, 150.2, True]"
   ]
  },
  {
   "cell_type": "markdown",
   "metadata": {},
   "source": [
    "if i added another list and used `append ()`"
   ]
  },
  {
   "cell_type": "code",
   "execution_count": null,
   "metadata": {},
   "outputs": [],
   "source": [
    "myFriends = [\"Osama\", \"Ahmed\", \"Sayed\"] \n",
    "myOldFriends = [\"Haytham\", \"Samah\", \"Ali\"]\n",
    "myFriends.append (\"Alaa\") \n",
    "myFriends.append (100) \n",
    "myFriends.append (150.200) \n",
    "myFriends.append(True)\n",
    "myFriends.append(myOldFriends)\n",
    "print(myFriends) #output: ['Osama', 'Ahmed', 'Sayed', 'Alaa', 100, 150.2, True, ['Haytham', 'Samah', 'Ali']]"
   ]
  },
  {
   "cell_type": "markdown",
   "metadata": {},
   "source": [
    "but what if i want to access Samah or Ali ? "
   ]
  },
  {
   "cell_type": "code",
   "execution_count": null,
   "metadata": {},
   "outputs": [],
   "source": [
    "myFriends = [\"Osama\", \"Ahmed\", \"Sayed\"] \n",
    "myOldFriends = [\"Haytham\", \"Samah\", \"Ali\"]\n",
    "myFriends. append (\"Alaa\") \n",
    "myFriends.append (100) \n",
    "myFriends.append (150.200) \n",
    "myFriends.append(True)\n",
    "myFriends.append(myOldFriends)\n",
    "print (myFriends[2]) # output: Sayed\n",
    "print(myFriends[6]) # output: True\n",
    "print(myFriends[7]) # output: ['Haytham', 'Samah', 'Ali']\n",
    "print(myFriends[7][2]) # output: Ali"
   ]
  },
  {
   "cell_type": "markdown",
   "metadata": {},
   "source": [
    "but what if i want to extend the `myOldFirends` list so that it's not treated as single element and treated as a part of the original list? we will use:\n",
    "\n",
    "`extend()` used to add all the elements of an iterable (like list, tuple, string, etc.) to the end of the list.\n",
    "\n",
    "- The `extend()` method modifies the original list. It doesn’t return a new list; instead, it directly adds the elements to the list calling the method.\n",
    "\n",
    "- It can add elements of any iterable (like another list, tuple, set, or string). \n",
    "\n",
    "- If a string is passed as an iterable, each character in the string will be added as an individual element.\n",
    "\n",
    "- It is different from the append() method. While append() adds its argument as a single elementto the end of the list, extend() adds each element of the iterable individually.\n",
    "\n",
    "**Syntax**\n",
    "\n",
    "> list_name.extend(iterable)"
   ]
  },
  {
   "cell_type": "code",
   "execution_count": null,
   "metadata": {},
   "outputs": [],
   "source": [
    "a = [1, 2, 3, 4] \n",
    "b = [\"A\", \"B\", \"c\"] \n",
    "a. extend (b) \n",
    "print(a) #output: [1, 2, 3, 4, 'A', 'B', 'c']"
   ]
  },
  {
   "cell_type": "markdown",
   "metadata": {},
   "source": [
    "`remove()` used to remove the first occurrence of a specified value from a list. \n",
    "\n",
    "- If the value is not present in the list, it raises a ValueError.\n",
    "- Here’s the basic syntax:\n",
    "\n",
    "> list_name.remove(element)\n",
    "\n",
    "- list is the list from which you want to remove an element.\n",
    "- value is the element you want to remove from the list."
   ]
  },
  {
   "cell_type": "code",
   "execution_count": null,
   "metadata": {},
   "outputs": [],
   "source": [
    "my_list = [1, 2, 3, 4, 5, 3]\n",
    "my_list.remove(3)\n",
    "print(my_list) #output: [1, 2, 4, 5, 3]"
   ]
  },
  {
   "cell_type": "markdown",
   "metadata": {},
   "source": [
    "This will output [1, 2, 4, 5, 3]. The first occurrence of the value 3 is removed from the list.\n",
    "\n",
    "- Only the first occurrence of the specified value is removed. If the value appears multiple times in the list, you would need to call `remove()` repeatedly to remove all occurrences.\n",
    "\n",
    "- If the value is not in the list, Python raises a ValueError. Therefore, it’s often wise to check whether the value exists in the list before attempting to remove it.\n",
    "\n",
    "- The remove() method does not return any value (returns None)."
   ]
  },
  {
   "cell_type": "markdown",
   "metadata": {},
   "source": [
    "`sort()` the sort() can only sort out numbers or strings but not both in the same list \n",
    "\n",
    "**Syntax**\n",
    "\n",
    "> list_name.sort()\n",
    "\n",
    "To sort the list in descending order, you can use the `reverse=True` parameter:\n",
    "\n",
    "> list_name.sort(reverse=True)\n",
    "\n",
    "This will sort the list in descending order."
   ]
  },
  {
   "cell_type": "code",
   "execution_count": null,
   "metadata": {},
   "outputs": [],
   "source": [
    "y = [1, 2, 100, 120, -10, 17, 29]\n",
    "y.sort()\n",
    "print(y) #output: [-10, 1, 2, 17, 29, 100, 120]"
   ]
  },
  {
   "cell_type": "markdown",
   "metadata": {},
   "source": [
    "to reverse the sorting we use the True value cuz it's False by default"
   ]
  },
  {
   "cell_type": "code",
   "execution_count": null,
   "metadata": {},
   "outputs": [],
   "source": [
    "y = [1, 2, 100, 120, -10, 17, 29]\n",
    "y.sort(reverse=True)\n",
    "print(y) #output: [120, 100, 29, 17, 2, 1, -10]"
   ]
  },
  {
   "cell_type": "markdown",
   "metadata": {},
   "source": [
    "`reverse()` used to reverse the elements of a list in place\n",
    "\n",
    "**Syntax**\n",
    "\n",
    "> list_name.reverse()"
   ]
  },
  {
   "cell_type": "code",
   "execution_count": null,
   "metadata": {},
   "outputs": [],
   "source": [
    "z= [10, 1, 9, 80, 100, \"Osama\", 100]\n",
    "z.reverse() \n",
    "print(z) #output: [100, 'Osama', 100, 80, 9, 1, 10]"
   ]
  },
  {
   "cell_type": "markdown",
   "metadata": {},
   "source": [
    "`clear()` Remove all items from list. let's say clear shopping list from website\n",
    "\n",
    "**Syntax**\n",
    "\n",
    "> list_name.clear()\n",
    "\n",
    "After calling `clear()`, the list will have a length of 0. This method modifies the original list in-place and does not return anything."
   ]
  },
  {
   "cell_type": "code",
   "execution_count": null,
   "metadata": {},
   "outputs": [],
   "source": [
    "a=[1, 2, 3, 4]\n",
    "a.clear()\n",
    "print(a) #output: []"
   ]
  },
  {
   "cell_type": "markdown",
   "metadata": {},
   "source": [
    "`copy()` shallow copy and deep copy\n",
    "\n",
    "**Syntax**\n",
    "\n",
    "> new_list = list_name.copy()"
   ]
  },
  {
   "cell_type": "code",
   "execution_count": null,
   "metadata": {},
   "outputs": [],
   "source": [
    "b= [1,2,3,4]\n",
    "c = b.copy()\n",
    "b.append(5)\n",
    "print(b) #output: [1, 2, 3, 4, 5]\n",
    "print(c) #output: [1, 2, 3, 4]"
   ]
  },
  {
   "cell_type": "markdown",
   "metadata": {},
   "source": [
    "- Shallow Copy `copy()`: Creates a new object, but fills it with references to the items contained in the original object. Useful if you want to create a new list sharing the same sub-objects.\n",
    "\n",
    "- Deep Copy `deepcopy()`: Creates a new object, and recursively copies all objects found in the original,creating new independent objects. This is useful when the list contains complex, mutable objects like lists,dictionaries, custom objects, etc."
   ]
  },
  {
   "cell_type": "markdown",
   "metadata": {},
   "source": [
    "`count()` used to count the number of occurrences of a specified element in a list (or more generally, in any iterable like a tuple or string).\n",
    "\n",
    "> basic syntax: `list.count(element)`"
   ]
  },
  {
   "cell_type": "code",
   "execution_count": null,
   "metadata": {},
   "outputs": [],
   "source": [
    "d = [1, 2, 3, 4, 3, 9, 10, 1, 2, 1]\n",
    "print(d.count (1)) #output: 3"
   ]
  },
  {
   "cell_type": "markdown",
   "metadata": {},
   "source": [
    "`index()` used to find the index of the first occurrence of a specified value in a list. \n",
    "If the value is not present in the list, it raises a ValueError.\n",
    "\n",
    "> basic syntax: `list.index(element, start, end)`"
   ]
  },
  {
   "cell_type": "code",
   "execution_count": null,
   "metadata": {},
   "outputs": [],
   "source": [
    "e= [\"Osama\", \"Ahmed\", \"Sayed\", \"Ramy\", \"Ahmed\", \"Ramy\"]\n",
    "print(e. index(\"Ramy\")) #output: 3"
   ]
  },
  {
   "cell_type": "markdown",
   "metadata": {},
   "source": [
    "`insert()` same as `append()` but append puts the object in the last while insert let's you index and insert"
   ]
  },
  {
   "cell_type": "code",
   "execution_count": null,
   "metadata": {},
   "outputs": [],
   "source": [
    "f = [1, 2, 3, 4, 5, \"A\", \"B\"]\n",
    "f.insert(0, \"Test\")\n",
    "print(f) #output: ['Test', 1, 2, 3, 4, 5, 'A', 'B']"
   ]
  },
  {
   "cell_type": "markdown",
   "metadata": {},
   "source": [
    "`pop(index) - pop()` used to remove and return an element from a specific index in a list, If no index is provided, `pop()` will remove and return the last element of the list. \n",
    "\n",
    "The list is modified in-place after calling this method.\n",
    "\n",
    "**Syntax**\n",
    "\n",
    "> list_name.pop(index)"
   ]
  },
  {
   "cell_type": "code",
   "execution_count": null,
   "metadata": {},
   "outputs": [],
   "source": [
    "g = [1, 2, 3, 4, 5, \"A\", \"B\"]\n",
    "print(g.pop(2)) #output: 3"
   ]
  },
  {
   "cell_type": "markdown",
   "metadata": {},
   "source": [
    "##### **Tuple = (1, 2 , 3, 4)**\n",
    "\n",
    "`[1]` Tuple Items Are Enclosed in Parentheses\n",
    "\n",
    "`[2]` You Can Remove The Parentheses If You Want  \n",
    "\n",
    "`[3]` Tuple items are Ordered, Use Index To Access Item\n",
    "\n",
    "`[4]` Tuple Are Immutable => You Cant Add or Delete\n",
    "\n",
    "`[5]` Tuple Items Is Not Unique (same as list)\n",
    "\n",
    "`[6]` Tuple Can Have Different Data Types\n",
    "\n",
    "`[7]` Operators Used in Strings and Lists Available In Tuples\n",
    "\n",
    "##### **Tuple Methods**\n",
    "\n",
    "`count()` just as with lists, to count the number of times a specified value appears in the tuple.\n",
    "\n",
    "**Syntax**\n",
    "\n",
    "> tuple_name.count(element)"
   ]
  },
  {
   "cell_type": "code",
   "execution_count": null,
   "metadata": {},
   "outputs": [],
   "source": [
    "a = (1, 3, 7, 8, 2, 6, 5, 8)\n",
    "print(a.count(8)) #output: 2"
   ]
  },
  {
   "cell_type": "markdown",
   "metadata": {},
   "source": [
    "`index()` the following code will through error\n",
    "\n",
    "**Syntax**\n",
    "\n",
    "> tuple_name.index(element)\n",
    "\n",
    "The `index()` method will search for the specified element in the tuple and return its index if found. \n",
    "\n",
    "If the element is not found, it will raise a `ValueError`. \n",
    "\n",
    "Since tuples are immutable, the `index()` method does not modify the original tuple."
   ]
  },
  {
   "cell_type": "code",
   "execution_count": null,
   "metadata": {},
   "outputs": [],
   "source": [
    "b = (1, 3, 7, 8, 2, 6, 5)\n",
    "print(\"The Position of Index Is: \" + b.index(7)) # Error"
   ]
  },
  {
   "cell_type": "markdown",
   "metadata": {},
   "source": [
    "can't concatenate str to integer so we will use formatting"
   ]
  },
  {
   "cell_type": "code",
   "execution_count": null,
   "metadata": {},
   "outputs": [],
   "source": [
    "print(\"The Position of Index Is: {:d}\". format(b. index(7))) #output: The Position of Index Is: 2\n",
    "print(f\"The Position of Index Is: {b.index(7)}\") #output: The Position of Index Is: 2"
   ]
  },
  {
   "cell_type": "markdown",
   "metadata": {},
   "source": [
    "##### **Tuple Destruct**\n",
    "also known as tuple unpacking, is a convenient feature in Python that allows\n",
    "you to assign each item of a tuple (or list) to a separate variable in a concise and readable way. This is particularly useful when you want to break down the elements of a tuple into individual components."
   ]
  },
  {
   "cell_type": "code",
   "execution_count": null,
   "metadata": {},
   "outputs": [],
   "source": [
    "a = (\"А\", \"В\", 4, \"C\")\n",
    "x, y, _, z= a\n",
    "print(x) #output: А\n",
    "print(y) #output: В\n",
    "print(z) #output: C"
   ]
  },
  {
   "cell_type": "markdown",
   "metadata": {},
   "source": [
    "the `_,` ignores [Destruct] value in Tuple"
   ]
  },
  {
   "cell_type": "markdown",
   "metadata": {},
   "source": [
    "##### **Set = {1, 2, 3, \"Ahmed\"}**\n",
    "\n",
    "`[1]` Set Items Are Enclosed in Curly Braces `{}`\n",
    "\n",
    "`[2]` Set Items Are Not Ordered And Not Indexed\n",
    "\n",
    "`[3]` Set Indexing and Slicing Cant Be Done\n",
    "\n",
    "`[4]` Set Has Only Immutable Data Types (Numbers, Strings, Tuples) List and Dict Are Not\n",
    "\n",
    "`[5]` Set Items Is Unique\n",
    "\n",
    "##### **Set Methods**\n",
    "\n",
    "`clear()` used to remove all items from a set.\n",
    "\n",
    "**Syntax**\n",
    "\n",
    "> set_name.clear()\n",
    "\n",
    "After calling `clear()`, the set will have a size of 0. This method modifies the original set in-place and does not return anything."
   ]
  },
  {
   "cell_type": "code",
   "execution_count": null,
   "metadata": {},
   "outputs": [],
   "source": [
    "a = {11, 2, 3}\n",
    "a.clear()\n",
    "print(a) #output: set()"
   ]
  },
  {
   "cell_type": "markdown",
   "metadata": {},
   "source": [
    "`union()` used with sets to return a set that contains all the elements from the sets; it is combining, without any duplicates. \n",
    "\n",
    "This method can be applied to two or more sets.\n",
    "\n",
    "The `union()` method is used to perform the union of two or more sets in Python. Here is the syntax:\n",
    "\n",
    "> set1.union(set2, set3, ...)\n",
    "\n",
    "The `union()` method returns a new set that contains all the unique elements from all the sets involved in the union. \n",
    "\n",
    "It does not modify the original sets. \n",
    "\n",
    "Alternatively, you can use the `|` operator to perform the union operation between sets:\n",
    "\n",
    "> set1 | set2 | set3 | ...\n",
    "\n",
    "Both the ﻿union() method and the ﻿| operator can be used interchangeably to achieve the union of sets."
   ]
  },
  {
   "cell_type": "code",
   "execution_count": null,
   "metadata": {},
   "outputs": [],
   "source": [
    "b = {\"One\", \"Two\", \"Three\"}\n",
    "c = {\"1\", \"2\",\"3\"}\n",
    "print(b | c) #output: {'2', 'Three', 'One', 'Two', '1', '3'}"
   ]
  },
  {
   "cell_type": "markdown",
   "metadata": {},
   "source": [
    ":: **Another Example** ::"
   ]
  },
  {
   "cell_type": "code",
   "execution_count": null,
   "metadata": {},
   "outputs": [],
   "source": [
    "b = {\"One\", \"Two\", \"Three\"}\n",
    "c = {\"1\", \"2\", \"3\"}\n",
    "x = {\"Zero\", \"Cool\"}\n",
    "print(b | c) #output: {'1', 'Three', '2', '3', 'One', 'Two'}\n",
    "print (b.union (c, x)) #output: {'1', 'Zero', 'Cool', 'Three', '2', '3', 'One', 'Two'}\n",
    "print(b | c | x) #output: {'1', 'Zero', 'Cool', 'Three', '2', '3', 'One', 'Two'}"
   ]
  },
  {
   "cell_type": "markdown",
   "metadata": {},
   "source": [
    "`add()` used with sets to add a single element to the set.\n",
    "\n",
    "**Syntax**\n",
    "\n",
    "> set_name.add(element)\n",
    "\n",
    "The `add()` method will include the specified element in the set if it is not already present. \n",
    "\n",
    "If the element is already in the set, calling `add()` does not modify the set. \n",
    "\n",
    "Sets are unordered collections of unique elements, so duplicate elements are not allowed."
   ]
  },
  {
   "cell_type": "code",
   "execution_count": null,
   "metadata": {},
   "outputs": [],
   "source": [
    "d = {1, 2, 3, 4}\n",
    "d.add(5)\n",
    "d.add(6)\n",
    "print(d) #output: {1, 2, 3, 4, 5, 6}"
   ]
  },
  {
   "cell_type": "markdown",
   "metadata": {},
   "source": [
    "`copy()` used to create a shallow copy of a set. This means that \n",
    "it creates a new set that contains the same elements as the original\n",
    "set, but they are two distinct objects. Changing the contents of \n",
    "the copied set will not affect the original set and vice versa.\n",
    "\n",
    "**Syntax**\n",
    "\n",
    "> new_set = set_name.copy()\n"
   ]
  },
  {
   "cell_type": "code",
   "execution_count": null,
   "metadata": {},
   "outputs": [],
   "source": [
    "e = {1, 2, 3, 4}\n",
    "f = e.copy()\n",
    "e.add(6)\n",
    "print(e) #output: {1, 2, 3, 4, 6}\n",
    "print(f) #output: {1, 2, 3, 4}"
   ]
  },
  {
   "cell_type": "markdown",
   "metadata": {},
   "source": [
    "`discard()` used with sets to remove a specified element from the set,\n",
    "if it is a member. If the element is not a member, discard() does \n",
    "nothing (i.e., it does not raise an error).\n",
    "\n",
    "> syntax `set.discard(element)`"
   ]
  },
  {
   "cell_type": "code",
   "execution_count": null,
   "metadata": {},
   "outputs": [],
   "source": [
    "h = {1, 2, 3, 4}\n",
    "h.discard(1)\n",
    "h.discard(7)\n",
    "print(h) #output: {2, 3, 4}"
   ]
  },
  {
   "cell_type": "markdown",
   "metadata": {},
   "source": [
    "the 7 in the line `h.discard(7)` is not in the set , though \n",
    "the print doesn't through error , unlike the remove() method\n",
    "`pop()` used with sets to remove and return an arbitrary element\n",
    "from the set. Since sets are unordered, there’s no way to \n",
    "determine which element will be removed and returned. If the set\n",
    "is empty, calling pop() will raise a KeyError."
   ]
  },
  {
   "cell_type": "code",
   "execution_count": null,
   "metadata": {},
   "outputs": [],
   "source": [
    "i = {\"A\", True, 1, 2, 3, 4, 5}\n",
    "print(i.pop()) #output: True"
   ]
  },
  {
   "cell_type": "markdown",
   "metadata": {},
   "source": [
    "`remember` the `pop()` method used indexing in the array,but here it will get you a random element in the set\n",
    "\n",
    "`update()` used with sets to add elements from a set (or any iterable) to another set. It modifies the set on which it’s called by adding elements from the iterable passed to it. The elements added are those that are not already present in the set, ensuring the unique property of set elements is maintained.\n",
    "\n",
    "> syntax: `set.update(iterable)` "
   ]
  },
  {
   "cell_type": "code",
   "execution_count": null,
   "metadata": {},
   "outputs": [],
   "source": [
    "j={1,2,13}\n",
    "k ={1, \"A\", \"B\", 2}\n",
    "j.update([\"Html\", \"Css\"])\n",
    "j.update(k)\n",
    "print(j) #output: {1, 2, 'A', 13, 'Html', 'Css', 'B'}"
   ]
  },
  {
   "cell_type": "markdown",
   "metadata": {},
   "source": [
    ":: **what is the meaning of iterable?** ::\n",
    "Typically, it refers to a collection of elements that can be looped over using a loop, like a for loop.\n",
    "\n",
    "`An iterable` in Python refers to anything that contains a sequence of items that you can loop through. The term “iterable” is a broad category that encompasses various data structures which allow iteration over their elements. Examples include:\n",
    "1. Lists: An ordered collection of items which can be of varying types.\n",
    "2. Tuples: Similar to lists, but immutable (unchangeable once created).\n",
    "3. Strings: A sequence of characters; each character can be iterated over.\n",
    "4. Dictionaries: Collections of key-value pairs; you can iterate over the keys, values, or both.\n",
    "5. Sets: Unordered collections of unique elements.\n",
    "\n",
    "`Non-iterable objects` on the other hand, are those that don’t hold a sequence of items, such as individual numbers (integers, floats) or boolean values. They don’t support iteration since there’s no sequence of elements to iterate over."
   ]
  },
  {
   "cell_type": "markdown",
   "metadata": {},
   "source": [
    "`difference()` what is in {a} that's not in {b}? \n",
    "\n",
    "**Syntax**\n",
    "\n",
    "> set1.difference(set2, set3, ...)\n",
    "\n",
    "The `difference()` method returns a new set that contains elements that are present in the first set (`set1`) but not in any of the other specified sets. It does not modify the original sets. \n",
    "\n",
    "Alternatively, you can use the `-` operator to perform the difference operation between sets:\n",
    "\n",
    "> set1 - set2 - set3 - ...\n",
    "\n",
    "Both the `difference()` method and the `-` operator can be used interchangeably to achieve the set difference."
   ]
  },
  {
   "cell_type": "code",
   "execution_count": null,
   "metadata": {},
   "outputs": [],
   "source": [
    "a={11,2,3,4}\n",
    "b = {1, 2, \"Osama\", \"Ahmed\"}\n",
    "print(a) #output: {11, 2, 3, 4}\n",
    "print(a.difference(b)) # a - b #output: {3, 11, 4}\n",
    "print(a) #output: {11, 2, 3, 4}"
   ]
  },
  {
   "cell_type": "code",
   "execution_count": null,
   "metadata": {},
   "outputs": [],
   "source": [
    "set1 = {1, 2, 3, 4, 5}\n",
    "set2 = {4, 5, 6, 7}\n",
    "set3 = {2, 3}\n",
    "\n",
    "difference_set = set1 - set2 - set3\n",
    "print(difference_set) #output: {1}"
   ]
  },
  {
   "cell_type": "markdown",
   "metadata": {},
   "source": [
    "**:: Pro Tip ::**: how to add separator in the output ?"
   ]
  },
  {
   "cell_type": "code",
   "execution_count": null,
   "metadata": {},
   "outputs": [],
   "source": [
    "print(\"=\" * 40) # Separator"
   ]
  },
  {
   "cell_type": "markdown",
   "metadata": {},
   "source": [
    "`difference_update()` The difference_update() method in Python is used with sets to remove all elements from a set that are also included in another set or iterable. After using this method, the set on which it is called is modified in place, meaning that it no longer contains the elements that were found in the other set.\n",
    "\n",
    "**Syntax**\n",
    "\n",
    "> set1.difference_update(set2, set3, ...)"
   ]
  },
  {
   "cell_type": "code",
   "execution_count": null,
   "metadata": {},
   "outputs": [],
   "source": [
    "c = {1, 2, 3, 4}\n",
    "d = {1, 2, 3, \"Osama\", \"Ahmed\"}\n",
    "print(c) #output: {1, 2, 3, 4}\n",
    "c.difference_update(d) # c - d\n",
    "print(c) #output: {4} "
   ]
  },
  {
   "cell_type": "markdown",
   "metadata": {},
   "source": [
    "`intersection()` used to find the intersection (common elements) between two or more sets. \n",
    "\n",
    "what is common between the first set and the other set? \n",
    "\n",
    "**Syntax**\n",
    "\n",
    "> set1.intersection(set2, set3, ...)\n",
    "\n",
    "The method returns a new set that contains elements that are present in all the specified sets. It does not modify the original sets. \n",
    "\n",
    "Alternatively, you can use the `&` operator to perform the intersection operation between sets:\n",
    "\n",
    "> set1 & set2 & set3 & ...\n",
    "\n",
    "Both the `intersection()` method and the `&` operator can be used interchangeably to achieve the set intersection."
   ]
  },
  {
   "cell_type": "code",
   "execution_count": null,
   "metadata": {},
   "outputs": [],
   "source": [
    "e = {1, 2, 3, 4, \"X\"}\n",
    "f = {\"Osama\", \"X\", 2}\n",
    "print(e) #output: {'X', 1, 2, 3, 4}\n",
    "print(e.intersection(f)) # e & f\n",
    "print(e) #output: {'X', 1, 2, 3, 4}"
   ]
  },
  {
   "cell_type": "code",
   "execution_count": null,
   "metadata": {},
   "outputs": [],
   "source": [
    "set1 = {1, 2, 3, 4, 5}\n",
    "set2 = {4, 5, 6, 7}\n",
    "set3 = {2, 3}\n",
    "\n",
    "intersection_set = set1 & set2 & set3\n",
    "print(intersection_set) # output: set()"
   ]
  },
  {
   "cell_type": "markdown",
   "metadata": {},
   "source": [
    "Since there are no elements common to all three sets, the resulting intersection set is an empty set."
   ]
  },
  {
   "cell_type": "markdown",
   "metadata": {},
   "source": [
    "`intersection_update()` \n",
    "> syntax: `set.intersection_update(iterable)` \n",
    "\n",
    "- set is the set that will be updated.\n",
    "- iterable can be another set, list, tuple, or any iterable object."
   ]
  },
  {
   "cell_type": "code",
   "execution_count": null,
   "metadata": {},
   "outputs": [],
   "source": [
    "e = {1, 2, 3, 4, \"X\"}\n",
    "f = {\"Osama\", \"X\", 2}\n",
    "print(e)  # This prints the original set e before the intersection update #output: {1, 2, 3, 4, 'X'}\n",
    "e.intersection_update(f)  # Modifies e to be the intersection of e and f\n",
    "print(e.intersection_update(f))  # This is effectively calling print(None) #output: None\n",
    "print(e)  # This prints the modified set e after the intersection update #output: {'X', 2}"
   ]
  },
  {
   "cell_type": "markdown",
   "metadata": {},
   "source": [
    "but what if i want just the objects that is not repeated in both sets (the opposite)?\n",
    "\n",
    "`symmetric_difference()` used with sets to return a new set that contains all elements from both sets, but not the elements that are common to both. In other words, it returns the set of all elements in either of the two sets, excluding the elements that are common in both.\n",
    "\n",
    "> syntax `setA.symmetric_difference(setB)`"
   ]
  },
  {
   "cell_type": "code",
   "execution_count": null,
   "metadata": {},
   "outputs": [],
   "source": [
    "i = {1, 2, 3, 4, 5, \"X\"}\n",
    "j = {\"Osama\", \"Zero\", 1, 2, 4}\n",
    "print(i) #output: {1, 2, 3, 4, 5, 'X'}\n",
    "print(i. symmetric_difference(j)) #output: {3, 5, 'Osama', 'X', 'Zero'}\n",
    "print(i) #output: {1, 2, 3, 4, 5, 'X'}"
   ]
  },
  {
   "cell_type": "markdown",
   "metadata": {},
   "source": [
    "`symmetric_difference_update()` used with sets to update the set by keeping\n",
    "only the elements found in either set, but not in both. In other words, \n",
    "it modifies the set upon which it’s called to contain only elements \n",
    "that are in either of the sets, excluding the elements that are common to both.\n",
    "\n",
    "> syntax `set1.symmetric_difference_update(set2)`"
   ]
  },
  {
   "cell_type": "code",
   "execution_count": null,
   "metadata": {},
   "outputs": [],
   "source": [
    "i = {1, 2, 3, 4, 5, \"X\"}\n",
    "j = {\"Osama\", \"Zero\", 1, 2, 4}\n",
    "print(i) #output: {1, 2, 3, 4, 5, 'X'}\n",
    "print(i.symmetric_difference_update(j)) #output: None\n",
    "print(i) #output: {3, 5, 'X', 'Zero', 'Osama'}"
   ]
  },
  {
   "cell_type": "markdown",
   "metadata": {},
   "source": [
    "`issuperset()` if i have two sets and i want to check if all of \n",
    "the second list is included in the first one\n",
    "\n",
    "> syntax `set1.issuperset(set2)`"
   ]
  },
  {
   "cell_type": "code",
   "execution_count": null,
   "metadata": {},
   "outputs": [],
   "source": [
    "a = {1, 2, 3, 4}\n",
    "b = {1, 2, 3}\n",
    "c = {1, 2, 3, 4, 5}\n",
    "print(a.issuperset(b)) # True\n",
    "print(a.issuperset(c)) # False"
   ]
  },
  {
   "cell_type": "markdown",
   "metadata": {},
   "source": [
    "`issubset()` if i want to check the opposite ? if all of the first \n",
    "list is included in the second one\n",
    "\n",
    "> syntax `set1.issubset(set2)`"
   ]
  },
  {
   "cell_type": "code",
   "execution_count": null,
   "metadata": {},
   "outputs": [],
   "source": [
    "d = {1, 2, 3, 4}\n",
    "e = {1, 2, 3}\n",
    "print(d.issubset(e)) # False"
   ]
  },
  {
   "cell_type": "markdown",
   "metadata": {},
   "source": [
    "`isdisjoint()` if i just want to know if the two sets have nothing in common\n",
    "\n",
    "> syntax `set1.isdisjoint(set2)`"
   ]
  },
  {
   "cell_type": "code",
   "execution_count": null,
   "metadata": {},
   "outputs": [],
   "source": [
    "g = {1, 2, 3, 4}\n",
    "h = {1, 2, 3}\n",
    "i = {10, 11, 12}\n",
    "print(g.isdisjoint(h)) # False\n",
    "print(g.isdisjoint(i)) # True"
   ]
  },
  {
   "cell_type": "markdown",
   "metadata": {},
   "source": [
    "##### **Dictionary and Dict Methods**\n",
    "Dict Items Are Enclosed in Curly Braces `{}`"
   ]
  },
  {
   "cell_type": "code",
   "execution_count": null,
   "metadata": {},
   "outputs": [],
   "source": [
    "user = {\n",
    "\"name\" : \"Osama\",\n",
    "\"age\" : 36,\n",
    "\"country\" : \"Egypt\",\n",
    "\"skills\": [\"Html\", \"Css\", \"Js\"],\n",
    "\"rating\": 10.5\n",
    "}"
   ]
  },
  {
   "cell_type": "markdown",
   "metadata": {},
   "source": [
    "Dict Items Are Contains Key : Value"
   ]
  },
  {
   "cell_type": "code",
   "execution_count": null,
   "metadata": {},
   "outputs": [],
   "source": [
    "user = {\n",
    "\"name\" : \"Osama\",\n",
    "\"age\" : 36,\n",
    "\"country\" : \"Egypt\"\n",
    "}"
   ]
  },
  {
   "cell_type": "markdown",
   "metadata": {},
   "source": [
    "- Dict Key Need To Be Immutable => (Number, String, Tuple) List Not Allowed\n",
    "- Dict Value Can Have Any Data Types"
   ]
  },
  {
   "cell_type": "code",
   "execution_count": null,
   "metadata": {},
   "outputs": [],
   "source": [
    "user = {\n",
    "\"name\" : \"Osama\",\n",
    "\"age\" : 36,\n",
    "\"country\" : \"Egypt\",\n",
    "\"skills\": [\"Html\", \"Css\", \"Js\"],\n",
    "\"rating\": 10.5\n",
    "}"
   ]
  },
  {
   "cell_type": "markdown",
   "metadata": {},
   "source": [
    "Dict Key Need To Be Unique"
   ]
  },
  {
   "cell_type": "code",
   "execution_count": null,
   "metadata": {},
   "outputs": [],
   "source": [
    "user = {\n",
    "\"name\" : \"Osama\",\n",
    "\"age\" : 36,\n",
    "\"country\" : \"Egypt\",\n",
    "\"skills\": [\"Html\", \"Css\", \"Js\"],\n",
    "\"rating\": 10.5\n",
    "\"name\": \"Ahmed\"\n",
    "}\n",
    "print(user) # through error"
   ]
  },
  {
   "cell_type": "markdown",
   "metadata": {},
   "source": [
    "now let's say i want to access the country from this dict; how can i do that ? "
   ]
  },
  {
   "cell_type": "code",
   "execution_count": null,
   "metadata": {},
   "outputs": [],
   "source": [
    "user = {\n",
    "\"name\" : \"Osama\",\n",
    "\"age\" : 36,\n",
    "\"country\" : \"Egypt\",\n",
    "\"skills\": [\"Html\", \"Css\", \"Js\"],\n",
    "\"rating\": 10.5\n",
    "}\n",
    "print(user) #output: {'name': 'Osama', 'age': 36, 'country': 'Egypt', 'skills': ['Html', 'Css', 'Js'], 'rating': 10.5}\n",
    "print(user['country']) #output: Egypt\n",
    "print(user.get(\"country\")) #output: Egypt"
   ]
  },
  {
   "cell_type": "markdown",
   "metadata": {},
   "source": [
    "ok, now what if i want to print all keys and values of this dict?"
   ]
  },
  {
   "cell_type": "code",
   "execution_count": null,
   "metadata": {},
   "outputs": [],
   "source": [
    "user = {\n",
    "\"name\" : \"Osama\",\n",
    "\"age\" : 36,\n",
    "\"country\" : \"Egypt\",\n",
    "\"skills\": [\"Html\", \"Css\", \"Js\"],\n",
    "\"rating\": 10.5\n",
    "}\n",
    "print(user) #output: {'name': 'Osama', 'age': 36, 'country': 'Egypt', 'skills': ['Html', 'Css', 'Js'], 'rating': 10.5}\n",
    "print(user.keys()) #output: dict_keys(['name', 'age', 'country', 'skills', 'rating'])\n",
    "print(user.values()) #output: dict_values(['Osama', 36, 'Egypt', ['Html', 'Css', 'Js'], 10.5])"
   ]
  },
  {
   "cell_type": "markdown",
   "metadata": {},
   "source": [
    "##### **Two-Dimensional Dictionary**\n",
    "Dict inside Dict"
   ]
  },
  {
   "cell_type": "code",
   "execution_count": null,
   "metadata": {},
   "outputs": [],
   "source": [
    "languages = {\n",
    "\"One\": {\n",
    "\"name\": \"Html\",\n",
    "\"progress\": \"80%\"\n",
    "},\n",
    "\"Two\": {\n",
    "\"name\": \"Css\",\n",
    "\"progress\": \"90%\"\n",
    "},\n",
    "\"Three\": {\n",
    "\"name\": \"Js\",\n",
    "\"progress\": \"90%\"\n",
    "}\n",
    "}\n",
    "print (languages) #output: {'One': {'name': 'Html', 'progress': '80%'}, 'Two': {'name': 'Css', 'progress': '90%'}, 'Three': {'name': 'Js', 'progress': '90%'}}\n",
    "print (languages ['One']) # access the first dict   #output: {'name': 'Html', 'progress': '80%'}\n",
    "print (languages['Three']['name']) # access the dict inside the dict    #output: Js"
   ]
  },
  {
   "cell_type": "markdown",
   "metadata": {},
   "source": [
    "we can also use the `len()` function to know how many element inside the dict:"
   ]
  },
  {
   "cell_type": "code",
   "execution_count": null,
   "metadata": {},
   "outputs": [],
   "source": [
    "languages = {\n",
    "\"One\": {\n",
    "\"name\": \"Html\",\n",
    "\"progress\": \"80%\"\n",
    "},\n",
    "\"Two\": {\n",
    "\"name\": \"Css\",\n",
    "\"progress\": \"90%\"\n",
    "},\n",
    "\"Three\": {\n",
    "\"name\": \"Js\",\n",
    "\"progress\": \"90%\"\n",
    "}\n",
    "}\n",
    "print (len(languages)) #output: 3\n",
    "print (len(languages [\"Two\"])) #output: 2"
   ]
  },
  {
   "cell_type": "markdown",
   "metadata": {},
   "source": [
    ":: **Create Dictionary From Variables** ::"
   ]
  },
  {
   "cell_type": "code",
   "execution_count": null,
   "metadata": {},
   "outputs": [],
   "source": [
    "frameworkone = {\n",
    "\"name\": \"Vuejs\",\n",
    "\"progress\": \"80%\"\n",
    "}\n",
    "frameworkTwo = {\n",
    "\"name\": \"ReactJs\",\n",
    "\"progress\": \"80%\"\n",
    "}\n",
    "frameworkThree = {\n",
    "\"name\": \"Angular\",\n",
    "\"progress\": \"80%\"\n",
    "}\n",
    "allFramework = {\n",
    "\"one\": frameworkone,\n",
    "\"two\": frameworkTwo,\n",
    "\"three\": frameworkThree\n",
    "}\n",
    "print(allFramework) #output: {'one': {'name': 'Vuejs', 'progress': '80%'}, 'two': {'name': 'ReactJs', 'progress': '80%'}, 'three': {'name': 'Angular', 'progress': '80%'}}"
   ]
  },
  {
   "cell_type": "markdown",
   "metadata": {},
   "source": [
    "##### **Dict Methods**\n",
    "`clear()` used to remove all items from the dictionary.\n",
    "\n",
    "> syntax `dict_name.clear()`\n",
    "\n",
    "This method modifies the original dictionary in-place and does not return anything."
   ]
  },
  {
   "cell_type": "code",
   "execution_count": null,
   "metadata": {},
   "outputs": [],
   "source": [
    "user = {\n",
    "\"name\": \"Osama\"\n",
    "}\n",
    "print(user) #output: {'name': 'Osama'}\n",
    "user. clear()\n",
    "print (user) #output: {}"
   ]
  },
  {
   "cell_type": "markdown",
   "metadata": {},
   "source": [
    "`update()` adds new value to the Dict\n",
    "\n",
    "> syntax `dict_name.update(iterable)`\n",
    "\n",
    "iterable can be either another dictionary or an iterable (like a list or tuple) containing key-value pairs. \n",
    "\n",
    "The `update()` method will add the key-value pairs from the iterable to the dictionary. \n",
    "\n",
    "If a key already exists in the dictionary, the value will be updated with the new value from the iterable. \n",
    "\n",
    "If a key does not exist, a new key-value pair will be added. \n",
    "\n",
    "This method modifies the original dictionary in-place and does not return anything."
   ]
  },
  {
   "cell_type": "code",
   "execution_count": null,
   "metadata": {},
   "outputs": [],
   "source": [
    "member = {\n",
    "\"name\": \"Osama\"\n",
    "}\n",
    "print (member) #output: {'name': 'Osama'}\n",
    "member[\"age\"] = 36\n",
    "print(member) #output: {'name': 'Osama', 'age': 36}\n",
    "member.update({\"country\": \"Egypt\"})\n",
    "print (member) #output: {'name': 'Osama', 'age': 36, 'country': 'Egypt'}"
   ]
  },
  {
   "cell_type": "markdown",
   "metadata": {},
   "source": [
    "`copy()` used to create a shallow copy of a dictionary.\n",
    "\n",
    "> syntax `new_dict = dict_name.copy()`"
   ]
  },
  {
   "cell_type": "code",
   "execution_count": null,
   "metadata": {},
   "outputs": [],
   "source": [
    "main = {\n",
    "\"name\": \"Osama\"\n",
    "}\n",
    "b = main.copy()\n",
    "print (b) #output: {'name': 'Osama'}"
   ]
  },
  {
   "cell_type": "markdown",
   "metadata": {},
   "source": [
    "now let's add something to the Dict and update it"
   ]
  },
  {
   "cell_type": "code",
   "execution_count": null,
   "metadata": {},
   "outputs": [],
   "source": [
    "main = {\n",
    "\"name\": \"Osama\"\n",
    "}\n",
    "b = main.copy()\n",
    "print (b) #output: {'name': 'Osama'}\n",
    "main.update({\"skills\": \"Fighting\"})\n",
    "print(main) #output: {'name': 'Osama', 'skills': 'Fighting'}\n",
    "print(b) #output: {'name': 'Osama'} "
   ]
  },
  {
   "cell_type": "markdown",
   "metadata": {},
   "source": [
    "`setdefault()` key and value\n",
    "\n",
    "used to retrieve the value of a specified key from a dictionary\n",
    "\n",
    "If the key is present in the dictionary, the method returns the corresponding value. \n",
    "\n",
    "If the key is not found, the method adds the key to the dictionary with a default value (which can be provided as an optional argument) and returns that default value.\n",
    "\n",
    "> syntax `dict_name.setdefault(key, default_value)`\n",
    "\n",
    " If the `default_value` is not provided, `None` is used as the default value. \n",
    " \n",
    " The `setdefault()` method either returns the value associated with the key or sets and returns the default value for that key. \n",
    " \n",
    " It modifies the original dictionary if the key is not found."
   ]
  },
  {
   "cell_type": "code",
   "execution_count": null,
   "metadata": {},
   "outputs": [],
   "source": [
    "user = {\n",
    "\"name\": \"Osama\"\n",
    "}\n",
    "print(user) #output: {'name': 'Osama'}\n",
    "print(user.setdefault(\"name\", \"Ahmed\")) #output: Osama\n",
    "print (user) #output: {'name': 'Osama'}"
   ]
  },
  {
   "cell_type": "markdown",
   "metadata": {},
   "source": [
    "what happens here is that the setdefault() looks at the key which is name and get it's value from the dict. \n",
    "\n",
    "but what if the the key is not in the dict? it will add it to the dict"
   ]
  },
  {
   "cell_type": "code",
   "execution_count": null,
   "metadata": {},
   "outputs": [],
   "source": [
    "user = {\n",
    "\"name\": \"Osama\"\n",
    "}\n",
    "print(user) #output: {'name': 'Osama'}\n",
    "print(user.setdefault(\"age\", 36)) #output: 36\n",
    "print (user) #output: {'name': 'Osama', 'age': 36}"
   ]
  },
  {
   "cell_type": "markdown",
   "metadata": {},
   "source": [
    "`popitem()` return the last thing you add to the dict\n",
    "\n",
    "used to remove and return an arbitrary key-value pair from a dictionary in Python.\n",
    "\n",
    "> syntax `key, value = dict_name.popitem()`\n",
    "\n",
    "The `popitem()` method removes and returns an arbitrary key-value pair as a tuple. \n",
    "\n",
    "The pair being removed is not guaranteed to be the last one added, as the order of key-value pairs in a dictionary is not fixed. \n",
    "\n",
    "The returned `key` and `value` can be assigned to variables to be used as needed. \n",
    "\n",
    "If the dictionary is empty, calling `popitem()` will raise a `KeyError exception`. \n",
    "\n",
    "The dictionary is modified in-place after calling this method."
   ]
  },
  {
   "cell_type": "code",
   "execution_count": null,
   "metadata": {},
   "outputs": [],
   "source": [
    "member = {\n",
    "\"name\": \"Osama\",\n",
    "\"skill\": \"PS4\"\n",
    "}\n",
    "print (member) #output: {'name': 'Osama', 'skill': 'PS4'}\n",
    "member.update({\"age\": 36})\n",
    "print (member.popitem()) #output: ('age', 36)"
   ]
  },
  {
   "cell_type": "markdown",
   "metadata": {},
   "source": [
    "::**Note**:: `popitem()` before the version 3.7 used to return a random item\n",
    "\n",
    "`items()` return all items\n",
    "\n",
    "used to return a view object that contains the key-value pairs of a dictionary\n",
    "\n",
    "> syntax `dict_name.items()`\n",
    "\n",
    "The `items()` method returns a view object that provides a dynamic view of the dictionary's key-value pairs. \n",
    "\n",
    "The view object can be utilized in various ways, such as iterating over the key-value pairs with a `for loop` or converting it to a list or tuple. \n",
    "\n",
    "Each key-value pair is represented as a tuple `(key, value)` within the view object."
   ]
  },
  {
   "cell_type": "code",
   "execution_count": null,
   "metadata": {},
   "outputs": [],
   "source": [
    "view = {\n",
    "\"name\": \"Osama\",\n",
    "\"skill\": \"XBox\"\n",
    "}\n",
    "allItems = view.items()\n",
    "print(view) #output: {'name': 'Osama', 'skill': 'XBox'}\n",
    "view[\"age\"] = 36\t# we are adding to the dict\n",
    "print (allItems) #output: dict_items([('name', 'Osama'), ('skill', 'XBox'), ('age', 36)])"
   ]
  },
  {
   "cell_type": "markdown",
   "metadata": {},
   "source": [
    "`fromkeys()` create dict from keys and value\n",
    "\n",
    "> syntax `dict_name = dict.fromkeys(keys, default_value)`\n",
    "\n",
    "The `keys` parameter is an iterable (such as a list or tuple) that contains the keys to be included in the dictionary. \n",
    "\n",
    "The `default_value` parameter is the value that will be assigned to each key in the new dictionary. \n",
    "\n",
    "If `default_value` is not provided, it defaults to `None`. \n",
    "\n",
    "The `fromkeys()` method creates a new dictionary where each key from the `keys` parameter is associated with the same `default_value`."
   ]
  },
  {
   "cell_type": "code",
   "execution_count": null,
   "metadata": {},
   "outputs": [],
   "source": [
    "a = ('MyKeyOne', 'MyKeyTwo', 'MyKeyThree')\n",
    "b= \"X\"\n",
    "print (dict.fromkeys (a, b)) #output: {'MyKeyOne': 'X', 'MyKeyTwo': 'X', 'MyKeyThree': 'X'}\n",
    "print (type(dict.fromkeys (a, b))) #output: <class 'dict'>"
   ]
  },
  {
   "cell_type": "markdown",
   "metadata": {},
   "source": [
    "##### **get() Function (Not Method)**\n",
    "\n",
    "used to retrieve the value associated with a given key from a dictionary. \n",
    "\n",
    "It allows you to specify a default value to be returned if the key is not found in the dictionary. \n",
    "\n",
    "The basic syntax of the ﻿get() function is as follows:\n",
    "\n",
    "> dictionary.get(key, default)\n",
    "\n",
    "Let's go through the parameters of the `get()` function:\n",
    "- `key`: The key whose associated value you want to retrieve from the dictionary.\n",
    "\n",
    "- `default` (optional): The value to be returned if the key is not found in the dictionary. \n",
    "\n",
    "If this parameter is not provided, the default value is `None`."
   ]
  },
  {
   "cell_type": "markdown",
   "metadata": {},
   "source": [
    "Here's an example that demonstrates the usage of the `get()` function:"
   ]
  },
  {
   "cell_type": "code",
   "execution_count": null,
   "metadata": {},
   "outputs": [
    {
     "name": "stdout",
     "output_type": "stream",
     "text": [
      "92\n",
      "None\n",
      "N/A\n"
     ]
    }
   ],
   "source": [
    "student_grades = {\"Alice\": 85, \"Bob\": 92, \"Charlie\": 78}\n",
    "\n",
    "grade = student_grades.get(\"Bob\")\n",
    "print(grade)  # Output: 92\n",
    "\n",
    "grade = student_grades.get(\"David\")\n",
    "print(grade)  # Output: None\n",
    "\n",
    "grade = student_grades.get(\"David\", \"N/A\")\n",
    "print(grade)  # Output: N/A\n"
   ]
  },
  {
   "cell_type": "markdown",
   "metadata": {},
   "source": [
    "When we attempt to retrieve the grade associated with the key \"David\", which does not exist in the dictionary, the `get()` function returns `None`, the default value.\n",
    "\n",
    "To provide a custom default value, we can pass it as the second parameter to the `get()` function. In the third usage of `get()` where we specify \"David\" as the key and \"N/A\" as the default value, the function returns \"N/A\" since \"David\" is not found in the dictionary.\n"
   ]
  },
  {
   "cell_type": "markdown",
   "metadata": {},
   "source": [
    "##### **Boolean**\n",
    "`[1]` In Programming You Need to Known Your If Your Code Output is True Or False\n",
    "\n",
    "`[2]` Boolean Values Are The Two Constant Objects False + True."
   ]
  },
  {
   "cell_type": "code",
   "execution_count": null,
   "metadata": {},
   "outputs": [],
   "source": [
    "name = \"\"\n",
    "print (name. isspace()) #output: False"
   ]
  },
  {
   "cell_type": "markdown",
   "metadata": {},
   "source": [
    "##### **Boolean Methods**\n",
    "`bool()` return true or false value of the argument you put inside\n",
    "\n",
    "> syntax `bool(value)`\n",
    "\n",
    "returns `False` if the object is considered \"falsy\", and `True` if it is considered \"truthy\". \n",
    "\n",
    "In Python, the following values are generally considered \"falsy\":\n",
    "\n",
    "• Numeric zero values: `0`, `0.0`, `0j`\n",
    "\n",
    "• Empty sequences and collections: `''`, `[]`, `{}`, `()`\n",
    "\n",
    "• `None`\n",
    "\n",
    "• `False`\n",
    "\n",
    "All other values are typically considered \"truthy\"."
   ]
  },
  {
   "cell_type": "code",
   "execution_count": null,
   "metadata": {},
   "outputs": [],
   "source": [
    "print (bool(\"Osama\")) #output: True\n",
    "print (bool(100)) #output: True\n",
    "print (bool(100.95)) #output: True\n",
    "print (bool(True)) #output: True\n",
    "print (bool([1, 2, 3, 4, 51])) #output: True"
   ]
  },
  {
   "cell_type": "markdown",
   "metadata": {},
   "source": [
    ":: **Another Example** ::"
   ]
  },
  {
   "cell_type": "code",
   "execution_count": null,
   "metadata": {},
   "outputs": [],
   "source": [
    "print (bool(0)) # False\n",
    "print (bool (\"\")) # False\n",
    "print(bool('')) # False\n",
    "print (bool([])) # False\n",
    "print (bool(False)) # False\n",
    "print (bool(())) # False\n",
    "print (bool({})) # False\n",
    "print (bool(None)) # Null Value"
   ]
  },
  {
   "cell_type": "markdown",
   "metadata": {},
   "source": [
    "##### **Boolean Operators**\n",
    "`and` all requirements must be fulfilled to return True, otherwise False"
   ]
  },
  {
   "cell_type": "code",
   "execution_count": null,
   "metadata": {},
   "outputs": [],
   "source": [
    "age = 36\n",
    "country = \"Egypt\"\n",
    "print (age > 16) #output: True \n",
    "print(country ==\"Egypt\") #output: True"
   ]
  },
  {
   "cell_type": "code",
   "execution_count": null,
   "metadata": {},
   "outputs": [],
   "source": [
    "age = 36\n",
    "country = \"Egypt\"\n",
    "print (age > 16 and country == \"Egypt\") #output: True"
   ]
  },
  {
   "cell_type": "markdown",
   "metadata": {},
   "source": [
    "`or` if any requirement is fulfilled, return True, False if None is fulfilled"
   ]
  },
  {
   "cell_type": "code",
   "execution_count": null,
   "metadata": {},
   "outputs": [],
   "source": [
    "age = 36\n",
    "country = \"Egypt\"\n",
    "print (age > 16 or country == \"KSA\") # True"
   ]
  },
  {
   "cell_type": "markdown",
   "metadata": {},
   "source": [
    "`not` (reverse logic) ### نفي النفي إثبات"
   ]
  },
  {
   "cell_type": "code",
   "execution_count": null,
   "metadata": {},
   "outputs": [],
   "source": [
    "age = 36\n",
    "country = \"Egypt\"\n",
    "rank = 10\n",
    "print (age > 16) # True\n",
    "print (not age > 16) # Not True = False"
   ]
  },
  {
   "cell_type": "markdown",
   "metadata": {},
   "source": [
    "##### **Assignment Operators**\n",
    "assign value to variable `x = 10`\n",
    "\n",
    "`[1]` =\n",
    "\n",
    "`[2]` +=\n",
    "\n",
    "`[3]` -=\n",
    "\n",
    "`[4]` *=\n",
    "\n",
    "`[5]` /=\n",
    "\n",
    "`[6]` **=\n",
    "\n",
    "`[7]` %=\n",
    "\n",
    "`[8]` //=\n",
    "\n",
    ":: **Example** ::"
   ]
  },
  {
   "cell_type": "code",
   "execution_count": null,
   "metadata": {},
   "outputs": [],
   "source": [
    "x = 10\n",
    "y = 20\n",
    "z = x + y\n",
    "print (z) # 30"
   ]
  },
  {
   "cell_type": "markdown",
   "metadata": {},
   "source": [
    "the new var (z) store the final result, but what if i want to store \n",
    "the result in one of the original values (x or y)\n",
    "\n",
    "> Styntax: `Var One [Operator]= Var Two`\n",
    "\n",
    ":: **Example** ::"
   ]
  },
  {
   "cell_type": "code",
   "execution_count": null,
   "metadata": {},
   "outputs": [],
   "source": [
    "x = 10\n",
    "y = 20\n",
    "x += y # x + y but store data in x \n",
    "print (x) # 30"
   ]
  },
  {
   "cell_type": "markdown",
   "metadata": {},
   "source": [
    "Same Goes For The Rest Of Arithmetic Operators\n",
    "\n",
    ":: **Comparison (Relational) Operators** ::\n",
    "\n",
    "`[==]` Equal\n",
    "\n",
    "`[!=]` Not Equal"
   ]
  },
  {
   "cell_type": "code",
   "execution_count": null,
   "metadata": {},
   "outputs": [],
   "source": [
    "print (100 == 100) # True \n",
    "print (100 == 200) # False\n",
    "print(100 == 100.00) # True"
   ]
  },
  {
   "cell_type": "markdown",
   "metadata": {},
   "source": [
    "`[>]` Greater Than\n",
    "\n",
    "`[<]` Lesser Than"
   ]
  },
  {
   "cell_type": "code",
   "execution_count": null,
   "metadata": {},
   "outputs": [],
   "source": [
    "print (100 > 100) #False \n",
    "print (100 > 200) #False\n",
    "print(100 > 100.00) #False"
   ]
  },
  {
   "cell_type": "markdown",
   "metadata": {},
   "source": [
    "`[>=]` Greater Than or Equal\n",
    "\n",
    "`[<=]` Lesser Than or Equal"
   ]
  },
  {
   "cell_type": "code",
   "execution_count": null,
   "metadata": {},
   "outputs": [],
   "source": [
    "print (100 >= 100) #True \n",
    "print (100 >= 200) #False\n",
    "print(100 >= 100.00) #True"
   ]
  },
  {
   "cell_type": "markdown",
   "metadata": {},
   "source": [
    "##### **Type Conversion**\n",
    "convert data from one type to another\n",
    "\n",
    "`str()` convert to string"
   ]
  },
  {
   "cell_type": "code",
   "execution_count": null,
   "metadata": {},
   "outputs": [],
   "source": [
    "a = 10\n",
    "print (type(a)) # Output: <class 'int'>\n",
    "print (type(str(a))) # Output: <class 'str'>"
   ]
  },
  {
   "cell_type": "markdown",
   "metadata": {},
   "source": [
    "`tuple()` convert to Tuple"
   ]
  },
  {
   "cell_type": "code",
   "execution_count": null,
   "metadata": {},
   "outputs": [],
   "source": [
    "c = \"Osama\"# String\n",
    "d = [1, 2, 3, 4, 5] # List\n",
    "e = {\"A\", \"B\", \"C\"} # Set\n",
    "f = {\"A\": 1, \"B\": 2} # Dictionary\n",
    "print (tuple(c)) # output: ('O', 's', 'a', 'm', 'a')\n",
    "print (tuple(d)) # output: (1, 2, 3, 4, 5)\n",
    "print(tuple(e)) # output: ('B', 'A', 'C')\n",
    "print (tuple(f)) # output: ('A', 'B')"
   ]
  },
  {
   "cell_type": "markdown",
   "metadata": {},
   "source": [
    "**Note: if you print int()**\n"
   ]
  },
  {
   "cell_type": "code",
   "execution_count": null,
   "metadata": {},
   "outputs": [],
   "source": [
    "print (tuple(500)) #through error - TypeError: 'int' object is not iterable (cannot be looped)"
   ]
  },
  {
   "cell_type": "markdown",
   "metadata": {},
   "source": [
    "`list()` convert to list"
   ]
  },
  {
   "cell_type": "code",
   "execution_count": null,
   "metadata": {},
   "outputs": [],
   "source": [
    "c = \"Osama\"# String\n",
    "d = (1, 2, 3, 4, 5) # Tuple\n",
    "e = {\"A\", \"B\", \"C\"} # Set\n",
    "f= {\"A\": 1, \"B\": 2} # Dictionary\n",
    "print(list(c)) # output: ['O', 's', 'a', 'm', 'a']\n",
    "print(list(d)) # output: [1, 2, 3, 4, 5]\n",
    "print(list(e)) # output: ['B', 'A', 'C']\n",
    "print(list(f)) # output: ['A', 'B']"
   ]
  },
  {
   "cell_type": "markdown",
   "metadata": {},
   "source": [
    "`set()` convert to set"
   ]
  },
  {
   "cell_type": "code",
   "execution_count": null,
   "metadata": {},
   "outputs": [],
   "source": [
    "c = \"Osama\"# String\n",
    "d = (1, 2, 3, 4, 5) # Tuple\n",
    "e = [\"A\", \"B\", \"C\"] # List\n",
    "f = {\"A\": 1, \"B\": 2} # Dictionary\n",
    "print(set(c)) # output: {'m', 'a', 's', 'O'}\n",
    "print (set(d)) # output: {1, 2, 3, 4, 5}\n",
    "print (set(e)) # output: {'C', 'A', 'B'}\n",
    "print (set(f)) # output: {'A', 'B'}"
   ]
  },
  {
   "cell_type": "markdown",
   "metadata": {},
   "source": [
    "::**Note**:: there's no order in the set\n",
    "\n",
    "`dict()` convert to dictionary"
   ]
  },
  {
   "cell_type": "code",
   "execution_count": null,
   "metadata": {},
   "outputs": [],
   "source": [
    "c = \"Osama\"# String\n",
    "d = (1, 2, 3, 4, 5) # Tuple\n",
    "e = [\"A\", \"B\", \"C\"] # List\n",
    "f = {\"A\", \"B\"} #Set\n",
    "print(dict(c))\n",
    "print(dict(d))\n",
    "print(dict(e))\n",
    "print(dict(f))"
   ]
  },
  {
   "cell_type": "markdown",
   "metadata": {},
   "source": [
    "this will through errors\n",
    "\n",
    "* str cannot be converted to dict\n",
    "* tuple needs key and value in order to be converted to dict, and to do that, we need nested tuple inside the tuple"
   ]
  },
  {
   "cell_type": "code",
   "execution_count": null,
   "metadata": {},
   "outputs": [],
   "source": [
    "d = ((\"A\", 1), (\"B\", 2), (\"C\", 3)) # Tuple\n",
    "print(dict(d)) # output: {'A': 1, 'B': 2, 'C': 3}"
   ]
  },
  {
   "cell_type": "markdown",
   "metadata": {},
   "source": [
    ":: **Note** :: same thing for the list"
   ]
  },
  {
   "cell_type": "code",
   "execution_count": null,
   "metadata": {},
   "outputs": [],
   "source": [
    "e = [\"One\", 1], [\"Two\", 2], [\"Three\", 3] # List\n",
    "print(dict(e)) # output: {'One': 1, 'Two': 2, 'Three': 3}"
   ]
  },
  {
   "cell_type": "markdown",
   "metadata": {},
   "source": [
    "the set is unhashable and cannot be converted to dict"
   ]
  },
  {
   "cell_type": "markdown",
   "metadata": {},
   "source": [
    "##### **User Input**\n",
    "if we type: `var = input(\"Hello, What\\'s your Name? \")` the terminal will give you something to write when you run the code \n",
    "\n",
    "`var` is a normal variable for the input.\n",
    "\n",
    ":: **Example** ::"
   ]
  },
  {
   "cell_type": "code",
   "execution_count": null,
   "metadata": {},
   "outputs": [],
   "source": [
    "fName = input('What\\'s Is Your First Name?')\n",
    "mName = input('What\\'s Is Your Middle Name?')\n",
    "lName = input('What\\'s Is Your Last Name?')\n",
    "print(f\"Hello {fName} {mName} {lName} Happy To See You\") # Hello ahmed hesham mohamed Happy To See You"
   ]
  },
  {
   "cell_type": "markdown",
   "metadata": {},
   "source": [
    "::**Note**:: remember we escaped the single quote by using the backslash /\n",
    "\n",
    "when you run this the terminal will ask you the 3 questions and after that \n",
    "it will collect the data you put in the input and say happy to see you.\n",
    "\n",
    "in order to enhance this: we need to remove the spaces that we type when \n",
    "we input the names, to do that we will use the `strip()` method"
   ]
  },
  {
   "cell_type": "code",
   "execution_count": null,
   "metadata": {},
   "outputs": [],
   "source": [
    "fName = input('What\\'s Is Your First Name?')\n",
    "mName = input('What\\'s Is Your Middle Name?')\n",
    "lName = input('What\\'s Is Your Last Name?')\n",
    "print(f\"Hello {fName.strip()} {mName.strip()} {lName.strip()} Happy To See You\")"
   ]
  },
  {
   "cell_type": "markdown",
   "metadata": {},
   "source": [
    "now, let's control the input style, let's say we want to make it capitalized (Ahmed) so no one can type (AHMeD) or something like this, we will use the `chain method` in order to chain the methods of strip, capitalize, etc. "
   ]
  },
  {
   "cell_type": "code",
   "execution_count": null,
   "metadata": {},
   "outputs": [],
   "source": [
    "fName = input('What\\'s Is Your First Name?')\n",
    "mName = input('What\\'s Is Your Middle Name?')\n",
    "lName = input('What\\'s Is Your Last Name?')\n",
    "fName = fName.strip().capitalize()\n",
    "mName = mName.strip().capitalize()\n",
    "lName = lName.strip().capitalize()\n",
    "print(f\"Hello {fName} {mName} {lName} Happy To See You\") # Hello Ahmed Hesham Mohamed Happy To See You"
   ]
  },
  {
   "cell_type": "markdown",
   "metadata": {},
   "source": [
    "now what if we want the take only the first letter of the second name? we will use truncate"
   ]
  },
  {
   "cell_type": "code",
   "execution_count": null,
   "metadata": {},
   "outputs": [],
   "source": [
    "fName = input('What\\'s Is Your First Name?')\n",
    "mName = input('What\\'s Is Your Middle Name?')\n",
    "lName = input('What\\'s Is Your Last Name?')\n",
    "fName = fName.strip().capitalize()\n",
    "mName = mName.strip().capitalize()\n",
    "lName = lName.strip().capitalize()\n",
    "print(f\"Hello {fName} {mName:.1s} {lName} Happy To See You\") #output: Hello Ahmed H Mohamed Happy To See You"
   ]
  },
  {
   "cell_type": "markdown",
   "metadata": {},
   "source": [
    "##### **Practical Email Slicing**\n",
    "we want to slice the email by the @ sign, from the start to the @ sign and after the sign"
   ]
  },
  {
   "cell_type": "code",
   "execution_count": null,
   "metadata": {},
   "outputs": [],
   "source": [
    "email = \"Osama_Elzero@elzero.org\" \n",
    "print(email.index(\"@\"))  # print(email[0:5]) # normal slicing #output: 12\n",
    "print(email[0:email.index(\"@\")]) #take that index and tell it to start from the beginning #output: Osama_Elzero"
   ]
  },
  {
   "cell_type": "markdown",
   "metadata": {},
   "source": [
    "we can also delete the 0 cuz if we left it blank it will start from the beginning anyway. \n",
    "\n",
    ":: **Example** ::"
   ]
  },
  {
   "cell_type": "code",
   "execution_count": null,
   "metadata": {},
   "outputs": [],
   "source": [
    "theName = input('What\\'s Your Name ?')\n",
    "theEmail = input('What\\'s Your Email ?')\n",
    "theUsername = theEmail[:theEmail.index(\"@\")]\n",
    "theWebsite = theEmail[theEmail.index(\"@\"):]\n",
    "print(f\"Hello {theName} Your Email Is {theEmail}\") #output: Hello ahmed Your Email Is ahmed.hesham8728@gmail.com\n",
    "print (f\"Your Username Is {theUsername} and Your Website Is {theWebsite}\") #output: Your Username Is ahmed.hesham8728 and Your Website Is @gmail.com"
   ]
  },
  {
   "cell_type": "markdown",
   "metadata": {},
   "source": [
    "when i print this the website will include the @ and i don't want that, to fix this: we will add +1 to the code"
   ]
  },
  {
   "cell_type": "code",
   "execution_count": null,
   "metadata": {},
   "outputs": [],
   "source": [
    "theName = input('What\\'s Your Name ?')\n",
    "theEmail = input('What\\'s Your Email ?')\n",
    "theUsername = theEmail[:theEmail.index(\"@\")]\n",
    "theWebsite = theEmail[theEmail.index(\"@\")+1:]\n",
    "print(f\"Hello {theName} Your Email Is {theEmail}\")\n",
    "print (f\"Your Username Is {theUsername} and Your Website Is {theWebsite}\") #output: Your Username Is ahmed.hesham8728 and Your Website Is gmail.com"
   ]
  },
  {
   "cell_type": "markdown",
   "metadata": {},
   "source": [
    "now the only thing left is to `srtip()` and to `capitalize()`"
   ]
  },
  {
   "cell_type": "code",
   "execution_count": null,
   "metadata": {},
   "outputs": [],
   "source": [
    "theName = input('What\\'s Your Name ?').strip().capitalize()\n",
    "theEmail = input('What\\'s Your Email ?').strip()\n",
    "theUsername = theEmail[:theEmail.index(\"@\")]\n",
    "theWebsite = theEmail[theEmail.index(\"@\")+1:]\n",
    "print(f\"Hello {theName} Your Email Is {theEmail}\")\n",
    "print (f\"Your Username Is {theUsername} \\nYour Website Is {theWebsite}\")"
   ]
  },
  {
   "cell_type": "markdown",
   "metadata": {},
   "source": [
    "##### **Practical Your Age Full Details**\n",
    "when you ask the user to input the age, we want to make sure the type in int not str "
   ]
  },
  {
   "cell_type": "code",
   "execution_count": null,
   "metadata": {},
   "outputs": [],
   "source": [
    "# age = input('What\\'s Your Age ?').strip() #normal input\n",
    "age = int(input('What\\'s Your Age ?').strip()) #putting input inside int\n",
    "print(age) #output: 29\n",
    "print(type(age)) #output: <class 'int'>"
   ]
  },
  {
   "cell_type": "markdown",
   "metadata": {},
   "source": [
    ":: **now let's make the app** ::"
   ]
  },
  {
   "cell_type": "code",
   "execution_count": null,
   "metadata": {},
   "outputs": [],
   "source": [
    "age = int(input('What\\'s Your Age ?').strip())\n",
    "months = age * 12\n",
    "weeks = months * 4\n",
    "days = age * 365\n",
    "hours = days * 24\n",
    "minutes = hours * 60\n",
    "seconds = minutes * 60\n",
    "print ('You Lived For:') #output: You Lived For:\n",
    "print(f\"{months} Months.\") #output: 348 Months.\n",
    "print(f\"{weeks:,} Weeks.\") #output: 1,392 Weeks.\n",
    "print(f\"{days:,} Days.\") #output: 10,585 Days.\n",
    "print(f\"{hours:,} Hours.\") #output: 254,040 Hours.\n",
    "print(f\"{minutes:,} Minutes.\") #output: 15,242,400 Minutes.\n",
    "print(f\"{seconds:,} Seconds.\") #output: 914,544,000 Seconds."
   ]
  },
  {
   "cell_type": "markdown",
   "metadata": {},
   "source": [
    "::**Note**::: the `{:,}` is to put the increment after 3 digits"
   ]
  },
  {
   "cell_type": "markdown",
   "metadata": {},
   "source": [
    "##### **Control Flow If Elif Else**\n",
    "Control Flow And Make Decision, let's say there's a course discount only for Egyptians "
   ]
  },
  {
   "cell_type": "code",
   "execution_count": null,
   "metadata": {},
   "outputs": [],
   "source": [
    "uName = \"Osama\"\n",
    "uCountry = \"Egypt\"\n",
    "cName = \"Python Course\"\n",
    "cPrice = 100\n",
    "if uCountry == \"Egypt\":\n",
    "    print(f\"Hello {uName} Because You Are From {uCountry}\") #output: Hello Osama Because You Are From Egypt\n",
    "    print(f\"The Course \\\"{uName}\\\" Price Is: ${cPrice - 80}\") #output: The Course \"Osama\" Price Is: $20\n",
    "else:\n",
    "    print(f\"Hello {uName} Because You Are From {uCountry}\")\n",
    "    print(f\"The Course \\\"{uName}\\\" Price Is: ${cPrice - 30}\")"
   ]
  },
  {
   "cell_type": "markdown",
   "metadata": {},
   "source": [
    "Now what if i want to make the discount for Egyptians and Saudis"
   ]
  },
  {
   "cell_type": "code",
   "execution_count": null,
   "metadata": {},
   "outputs": [],
   "source": [
    "uName = \"Osama\"\n",
    "uCountry = \"Ksa\"\n",
    "cName = \"Python Course\"\n",
    "cPrice = 100\n",
    "if uCountry == \"Egypt\":\n",
    " print(f\"Hello {uName} Because You Are From {uCountry}\")\n",
    " print(f\"The Course \\\"{uName}\\\" Price Is: ${cPrice - 80}\")\n",
    "elif uCountry == \"Ksa\":\n",
    " print(f\"Hello {uName} Because You Are From {uCountry}\") #output: Hello Osama Because You Are From Ksa\n",
    " print(f\"The Course \\\"{cName}\\\" Price Is: ${cPrice - 70}\") #output: The Course \"Python Course\" Price Is: $30\n",
    "else:\n",
    " print(f\"Hello {uName} Because You Are From {uCountry}\")\n",
    " print(f\"The Course \\\"{cName}\\\" Price Is: ${cPrice - 30}\")"
   ]
  },
  {
   "cell_type": "markdown",
   "metadata": {},
   "source": [
    "::**Note**::: you can repeat the elif for as much as you want\n",
    "\n",
    "##### **Nested If**\n",
    "if condition inside if condition \n"
   ]
  },
  {
   "cell_type": "code",
   "execution_count": null,
   "metadata": {},
   "outputs": [],
   "source": [
    "uName = \"Osama\"\n",
    "uCountry = \"Egypt\"\n",
    "cName = \"Python Course\"\n",
    "cPrice = 100\n",
    "if uCountry == \"Egypt\":\n",
    " print(f\"Hello {uName} Because You Are From {uCountry} and student\") #output: Hello Osama Because You Are From Egypt and student\n",
    " print(f\"The Course \\\"{uName}\\\" Price Is: ${cPrice - 80}\") #output: The Course \"Osama\" Price Is: $20\n",
    "elif uCountry == \"Ksa\":\n",
    " print(f\"Hello {uName} Because You Are From {uCountry}\")\n",
    " print(f\"The Course \\\"{cName}\\\" Price Is: ${cPrice - 70}\")\n",
    "else:\n",
    " print(f\"Hello {uName} Because You Are From {uCountry}\")\n",
    " print(f\"The Course \\\"{cName}\\\" Price Is: ${cPrice - 30}\")"
   ]
  },
  {
   "cell_type": "markdown",
   "metadata": {},
   "source": [
    "##### **Ternary Conditional Operator**\n",
    "\n",
    "short if condition\n",
    "\n",
    "> Syntax: `Condition If True | If Condition | Else | Condition If False`\n",
    "\n",
    ":: **Example** ::"
   ]
  },
  {
   "cell_type": "code",
   "execution_count": null,
   "metadata": {},
   "outputs": [],
   "source": [
    "movieRate = 18\n",
    "age = 18\n",
    "print(\"Movie S Not Good 4U\" if age < movieRate else \"Movie S Good 4U And Happy Watching\") #output: Movie S Good 4U And Happy Watching"
   ]
  },
  {
   "cell_type": "markdown",
   "metadata": {},
   "source": [
    "##### **Calculate Age Advanced Version**"
   ]
  },
  {
   "cell_type": "code",
   "execution_count": null,
   "metadata": {},
   "outputs": [],
   "source": [
    "# -------------------------------------------------\n",
    "# -- Calculate Age Advanced Version and Training --\n",
    "# -------------------------------------------------\n",
    "\n",
    "# Write A Very Beautiful Note\n",
    "print(\"#\" * 80)\n",
    "print(\" You Can Write The First Letter Or Full Name of The Time Unit \".center(80, '#'))\n",
    "print(\"#\" * 80)\n",
    "\n",
    "# Collect Age Data\n",
    "age = input(\"Please Write Your Age \").strip()\n",
    "\n",
    "# Collect Time Unit Data\n",
    "unit = input(\"Please Choose Time Unit: Months, Weeks, Days \").strip().lower()\n",
    "\n",
    "# Get Time Units\n",
    "months = int(age) * 12\n",
    "weeks = months * 4\n",
    "days = int(age) * 365\n",
    "\n",
    "if unit == 'months'or unit == 'm':\n",
    "\n",
    " print(\"You Choosed The Unit Months\")\n",
    " print(f\"You Lived For {months:,} Months.\")\n",
    "\n",
    "elif unit == 'weeks'or unit == 'w':\n",
    "\n",
    " print(\"You Choosed The Unit Weeks\")\n",
    " print(f\"You Lived For {weeks:,} Weeks.\")\n",
    "\n",
    "elif unit == 'days'or unit == 'd':\n",
    "\n",
    " print(\"You Choosed The Unit Days\")\n",
    " print(f\"You Lived For {days:,} Days.\")"
   ]
  },
  {
   "cell_type": "markdown",
   "metadata": {},
   "source": [
    "##### **Membership Operators**\n",
    "used to check if the value i want is in the var or not"
   ]
  },
  {
   "cell_type": "code",
   "execution_count": null,
   "metadata": {},
   "outputs": [],
   "source": [
    "# --------------------------\n",
    "# -- Membership Operators --\n",
    "# --------------------------\n",
    "# in\n",
    "# not in\n",
    "# --------------------------\n",
    "\n",
    "# String\n",
    "\n",
    "name = \"Osama\"\n",
    "print(\"s\" in name) #output: True\n",
    "print(\"a\" in name) #output: True\n",
    "print(\"A\" in name) #output: False\n",
    "\n",
    "# List\n",
    "\n",
    "friends = [\"Ahmed\", \"Sayed\", \"Mahmoud\"]\n",
    "print(\"Osama\" in friends) #output: False\n",
    "print(\"Sayed\" in friends) #output: True\n",
    "print(\"Mahmoud\" not in friends) #output: False\n"
   ]
  },
  {
   "cell_type": "code",
   "execution_count": null,
   "metadata": {},
   "outputs": [],
   "source": [
    "# Using In and Not In With Condition\n",
    "\n",
    "countriesOne = [\"Egypt\", \"KSA\", \"Kuwait\", \"Bahrain\", \"Syria\"]\n",
    "countriesOneDiscount = 80\n",
    "\n",
    "countriesTwo = [\"Italy\", \"USA\"]\n",
    "countriesTwoDiscount = 50\n",
    "\n",
    "myCountry = \"Italy\"\n",
    "\n",
    "if myCountry in countriesOne:\n",
    "\n",
    "  print(f\"Hello You Have A Discount Equal To ${countriesOneDiscount}\")\n",
    "\n",
    "elif myCountry in countriesTwo:\n",
    "\n",
    "  print(f\"Hello You Have A Discount Equal To ${countriesTwoDiscount}\") #output: Hello You Have A Discount Equal To $50\n",
    "\n",
    "else:\n",
    "\n",
    "  print(\"You Have No Discount\")"
   ]
  }
 ],
 "metadata": {
  "kernelspec": {
   "display_name": "Python 3 (ipykernel)",
   "language": "python",
   "name": "python3"
  },
  "language_info": {
   "codemirror_mode": {
    "name": "ipython",
    "version": 3
   },
   "file_extension": ".py",
   "mimetype": "text/x-python",
   "name": "python",
   "nbconvert_exporter": "python",
   "pygments_lexer": "ipython3",
   "version": "3.12.1"
  }
 },
 "nbformat": 4,
 "nbformat_minor": 4
}
