{
 "cells": [
  {
   "cell_type": "markdown",
   "metadata": {},
   "source": [
    ":: **Practical Example (Apply String Method to Clipboard Data)** ::\n",
    "\n",
    "First to Access Clipboard Data we need to install `pyperclip` Library by running: \n",
    "\n",
    "`pip install pyperclip`\n",
    "\n",
    "Now let'code: "
   ]
  },
  {
   "cell_type": "code",
   "execution_count": null,
   "metadata": {},
   "outputs": [],
   "source": [
    "import pyperclip\n",
    "\n",
    "# Get the Text From the Clipboard\n",
    "clipboard_text = pyperclip.paste()\n",
    "\n",
    "# Apply a String Method (e.g, lower()) to the clipboard text. \n",
    "result = clipboard_text.lower()\n",
    "\n",
    "# Print the Result\n",
    "print(result)"
   ]
  },
  {
   "cell_type": "markdown",
   "metadata": {},
   "source": [
    ":: **Practical Example Mobile Numbers** ::\n",
    "\n",
    ":: `The Idea` :: \n",
    "\n",
    "1. Get the Mobile Number Data from the Clipboard. \n",
    "\n",
    "2. Remove Spaces from the Number. \n",
    "\n",
    "3. Control (+20) & (+200) at the start using if statement. \n",
    "\n",
    "4. Copy the Data Back to the Clipboard. \n",
    "\n",
    ":: `The Code` ::"
   ]
  },
  {
   "cell_type": "code",
   "execution_count": null,
   "metadata": {},
   "outputs": [],
   "source": [
    "#!/usr/bin/env python3\n",
    "import pyperclip\n",
    "\n",
    "# Get the Text From the Clipboard\n",
    "clipboard_text = pyperclip.paste()\n",
    "\n",
    "# Removing Spaces with replace() Method\n",
    "result = clipboard_text.replace(\" \", \"\")\n",
    "\n",
    "# Control result with if state and copy the output back to the clipboard\n",
    "if result.startswith(\"+201\"): \n",
    "    result = result.replace(\"+2\", \"\")\n",
    "    print(result)\n",
    "    pyperclip.copy(result)\n",
    "elif result.startswith(\"+200\"):\n",
    "    result = result.replace(\"+20\", \"\")\n",
    "    print(result)\n",
    "    pyperclip.copy(result)\n",
    "else: \n",
    "    print(result)\n",
    "    pyperclip.copy(result)"
   ]
  },
  {
   "cell_type": "markdown",
   "metadata": {},
   "source": [
    ":: **Practical Membership Control** ::"
   ]
  },
  {
   "cell_type": "code",
   "execution_count": null,
   "metadata": {},
   "outputs": [],
   "source": [
    "# List Contains Admins\n",
    "admins = [\"Ahmed\", \"Osama\", \"Sameh\", \"Manal\", \"Rahma\", \"Mahmoud\", \"Enas\"]\n",
    "\n",
    "# Login\n",
    "name = input(\"Please Type Your Name \").strip().capitalize()\n",
    "\n",
    "# If Name is In Admin\n",
    "if name in admins:\n",
    "\n",
    "  print(f\"Hello {name} Welcome Back\")\n",
    "\n",
    "  option = input(\"Delete Or Update Your Name ?\").strip().capitalize()\n",
    "\n",
    "  # Update Option\n",
    "  if option == 'Update' or option == 'U':\n",
    "\n",
    "    theNewName = input(\"Your New Name Please \").strip().capitalize()\n",
    "\n",
    "    admins[admins.index(name)] = theNewName\n",
    "\n",
    "    print(\"Name Updated.\")\n",
    "\n",
    "    print(admins)\n",
    "\n",
    "  # Delete Option\n",
    "  elif option == 'Delete' or option == 'D':\n",
    "\n",
    "    admins.remove(name)\n",
    "\n",
    "    print(\"Name Deleted\")\n",
    "\n",
    "    print(admins)\n",
    "\n",
    "  # Wrong Option\n",
    "  else:\n",
    "\n",
    "    print(\"Wrong Option Choosed\")\n",
    "\n",
    "else:\n",
    "\n",
    "  status = input(\"Not Admin, Add You Y, N ? \").strip().capitalize()\n",
    "\n",
    "  if status == \"Yes\" or status == \"Y\":\n",
    "\n",
    "    print(\"You Have Been Added\")\n",
    "\n",
    "    admins.append(name)\n",
    "\n",
    "    print(admins)\n",
    "\n",
    "  else:\n",
    "\n",
    "    print(\"You Are Not Added.\")"
   ]
  },
  {
   "cell_type": "markdown",
   "metadata": {},
   "source": [
    "##### :: **While Loop** ::\n",
    "\n",
    "A while loop in Python allows you to repeat a block of code as long as a certain condition remains true.\n",
    "\n",
    ":: `Example` ::"
   ]
  },
  {
   "cell_type": "code",
   "execution_count": null,
   "metadata": {},
   "outputs": [],
   "source": [
    "counter = 0\n",
    "while counter < 5:\n",
    "    print(\"Hello!\")\n",
    "    counter += 1"
   ]
  },
  {
   "cell_type": "markdown",
   "metadata": {},
   "source": [
    "In this example, the while loop will execute the code inside it (printing \"Hello!\") \n",
    "\n",
    "as long as the `counter` variable is less than 5. After each iteration, the `counter` is incremented by 1. \n",
    "\n",
    "The loop will stop when the condition becomes false.\n",
    "\n",
    ":: `Syntax` ::"
   ]
  },
  {
   "cell_type": "code",
   "execution_count": null,
   "metadata": {},
   "outputs": [],
   "source": [
    "while condition:\n",
    "    # code to be executed while condition is true\n",
    "else:\n",
    "    # code to be executed after the loop terminates"
   ]
  },
  {
   "cell_type": "markdown",
   "metadata": {},
   "source": [
    ":: `Practical Example` ::"
   ]
  },
  {
   "cell_type": "code",
   "execution_count": 1,
   "metadata": {},
   "outputs": [
    {
     "name": "stdout",
     "output_type": "stream",
     "text": [
      "#001 Os\n",
      "#001 Os\n",
      "#002 Ah\n",
      "#002 Ah\n",
      "#003 Ga\n",
      "#003 Ga\n",
      "#004 Al\n",
      "#004 Al\n",
      "#005 Ra\n",
      "#005 Ra\n",
      "#006 Sa\n",
      "#006 Sa\n",
      "#007 Ta\n",
      "#007 Ta\n",
      "#008 Ma\n",
      "#008 Ma\n",
      "#009 Mo\n",
      "#009 Mo\n",
      "#010 Wa\n",
      "#010 Wa\n",
      "All Friends Printed To Screen.\n"
     ]
    }
   ],
   "source": [
    "myF = [\"Os\", \"Ah\", \"Ga\", \"Al\", \"Ra\", \"Sa\", \"Ta\", \"Ma\", \"Mo\", \"Wa\"] # My Friends Variable \n",
    "\n",
    "a = 0\n",
    "\n",
    "while a < len(myF):  # a < 10\n",
    "\n",
    "#   print(myF[a])\n",
    "#   print(f\"#1 {myF[a]}\") # Adding The Numbering\n",
    "#   print(f\"#{a+1} {myF[a]}\") # Automating the Numbering using the a variable with Plus one to Start from 1\n",
    "#   print(f\"#{str(a + 1)} {myF[a]}\")  # converting the result to string to use the zerofill or zfill string function\n",
    "#   print(f\"#{str(a + 1).zfill(3)} {myF[a]}\") # adding the zeros to the count\n",
    "  print(f\"#{str(a + 1).zfill(3)} {myF[a]}\")\n",
    "\n",
    "  a += 1  # a = a + 1\n",
    "\n",
    "else:\n",
    "\n",
    "  print(\"All Friends Printed To Screen.\")"
   ]
  },
  {
   "cell_type": "markdown",
   "metadata": {},
   "source": [
    ":: `Loop – While Training’s Bookmark Manager` ::"
   ]
  },
  {
   "cell_type": "code",
   "execution_count": null,
   "metadata": {},
   "outputs": [],
   "source": [
    "# Empty List To Fill Later\n",
    "myFavouriteWebs = []\n",
    "\n",
    "# Maximum Allowed Websites\n",
    "maximumWebs = 5\n",
    "\n",
    "while maximumWebs > 0:\n",
    "\n",
    "  # Input The New Website\n",
    "  web = input(\"Website Name Without https:// \")\n",
    "\n",
    "  # Add The New Website To The List\n",
    "  myFavouriteWebs.append(f\"https://{web.strip().lower()}\")\n",
    "\n",
    "  # Decrease One Number From Allowed Websites\n",
    "  maximumWebs -= 1  # maximumWebs = maximumWebs - 1\n",
    "\n",
    "  # Print The Add Message\n",
    "  print(f\"Website Added, {maximumWebs} Places Left\")\n",
    "\n",
    "  # Print The List\n",
    "  print(myFavouriteWebs)\n",
    "\n",
    "else:\n",
    "\n",
    "  print(\"Bookmark Is Full, You Cant Add More\")\n",
    "\n",
    "# Check If List Is Not Empty\n",
    "if len(myFavouriteWebs) > 0:\n",
    "\n",
    "  # Sort The List\n",
    "  myFavouriteWebs.sort()\n",
    "\n",
    "  index = 0 # create a variable to iterate through all indices in the not empty list\n",
    "\n",
    "  print(\"Printing The List Of Websites in Your Bookmark\")\n",
    "\n",
    "  while index < len(myFavouriteWebs): # Looping Trough all indices \n",
    "\n",
    "    print(myFavouriteWebs[index]) # printing the first index\n",
    "\n",
    "    index += 1  # index = index + 1 "
   ]
  },
  {
   "cell_type": "markdown",
   "metadata": {},
   "source": [
    ":: `Loop – While Training’s Password Guess` ::"
   ]
  },
  {
   "cell_type": "code",
   "execution_count": null,
   "metadata": {},
   "outputs": [],
   "source": [
    "tries = 4\n",
    "\n",
    "mainPassword = \"Osama@123\"\n",
    "\n",
    "inputPassword = input(\"Write Your Password: \")\n",
    "\n",
    "while inputPassword != mainPassword:  # True\n",
    "\n",
    "  tries -= 1  # tries = tries - 1\n",
    "\n",
    "  print(f\"Wrong Password, { 'Last' if tries == 0 else tries } Chance Left\")\n",
    "\n",
    "  inputPassword = input(\"Write Your Password: \")\n",
    "\n",
    "  if tries == 0:\n",
    "\n",
    "    print(\"All Tries Is Finished.\")\n",
    "\n",
    "    break\n",
    "\n",
    "    print(\"Will Not Print\")\n",
    "\n",
    "else:\n",
    "\n",
    "  print(\"Correct Password\")"
   ]
  },
  {
   "cell_type": "markdown",
   "metadata": {},
   "source": [
    "The `break` statement is used to exit out of a loop entirely, regardless of the loop condition. \n",
    "\n",
    "It allows you to prematurely terminate the loop and move on to the next code block after the loop."
   ]
  },
  {
   "cell_type": "markdown",
   "metadata": {},
   "source": [
    "##### **For Loop**\n",
    "\n",
    "used to iterate over a sequence of elements, such as a list, tuple, or string. It allows you to execute a block of code for each item in the sequence. \n",
    "\n",
    "The loop variable takes on the value of each item in each iteration, and the loop continues until all items have been processed.\n",
    "\n",
    ":: **Difference Between for loop and while Loop** ::\n",
    "\n",
    ":: `for loop` ::\n",
    "\n",
    "- It iterates over a sequence of elements.\n",
    "- The number of iterations is determined by the length of the sequence.\n",
    "- Normally used when you know the number of iterations in advance.\n",
    "- The loop variable takes on the value of each element in the sequence.\n",
    "- Commonly used when you want to process each item in a collection.\n",
    "\n",
    ":: `while loop` ::\n",
    "\n",
    "- It repeats a block of code as long as a condition remains true.\n",
    "- The number of iterations may vary depending on the condition.\n",
    "- Typically used when the number of iterations is not known in advance.\n",
    "- The loop continues until the condition becomes false.\n",
    "- Often used when you want to continuously check a condition and perform actions based on it.\n"
   ]
  },
  {
   "cell_type": "markdown",
   "metadata": {},
   "source": [
    ":: `Syntax` ::"
   ]
  },
  {
   "cell_type": "code",
   "execution_count": null,
   "metadata": {},
   "outputs": [],
   "source": [
    "for item in sequence:\n",
    "    # code to be executed for each item\n",
    "else:\n",
    "    # code to be executed after the loop completes"
   ]
  },
  {
   "cell_type": "markdown",
   "metadata": {},
   "source": [
    "the `item` is a variable of your choice which represent every single item in the `sequence`"
   ]
  },
  {
   "cell_type": "markdown",
   "metadata": {},
   "source": [
    ":: `Simple Example` ::"
   ]
  },
  {
   "cell_type": "code",
   "execution_count": 4,
   "metadata": {},
   "outputs": [
    {
     "name": "stdout",
     "output_type": "stream",
     "text": [
      "apple\n",
      "banana\n",
      "cherry\n",
      "All fruits have been printed!\n"
     ]
    }
   ],
   "source": [
    "fruits = [\"apple\", \"banana\", \"cherry\"]\n",
    "\n",
    "for fruit in fruits:\n",
    "    print(fruit)\n",
    "else:\n",
    "    print(\"All fruits have been printed!\")"
   ]
  },
  {
   "cell_type": "markdown",
   "metadata": {},
   "source": [
    "In this example, the `for` loop iterates over each item in the `fruits` list, and the `fruit` variable takes on each item's value in each iteration. The code within the loop (here, just printing the fruit) is executed for each item in the list.\n",
    "\n",
    "Once the loop has finished iterating over all the items in the list, the `else` block is executed. In this case, it prints \"All fruits have been printed!\" to indicate that the loop has completed.\n",
    "\n",
    ":: `Note` :: If you prematurely terminate the loop using a ﻿break statement, the ﻿else block will not be executed."
   ]
  },
  {
   "cell_type": "code",
   "execution_count": 3,
   "metadata": {},
   "outputs": [
    {
     "name": "stdout",
     "output_type": "stream",
     "text": [
      "apple\n",
      "Loop terminated prematurely.\n"
     ]
    }
   ],
   "source": [
    "fruits = [\"apple\", \"banana\", \"cherry\"]\n",
    "\n",
    "for fruit in fruits:\n",
    "    if fruit == \"banana\":\n",
    "        break\n",
    "    print(fruit)\n",
    "else:\n",
    "    print(\"All fruits have been printed!\")\n",
    "\n",
    "print(\"Loop terminated prematurely.\")"
   ]
  },
  {
   "cell_type": "markdown",
   "metadata": {},
   "source": [
    ":: `Note` :: if you replace the `break` statement with a `continue` statement, the loop will skip the \"banana\" element and move on to the next iteration, without executing the code after the `continue` statement. \n",
    "\n",
    "- these statements can be used in bash scripting as well."
   ]
  },
  {
   "cell_type": "code",
   "execution_count": 5,
   "metadata": {},
   "outputs": [
    {
     "name": "stdout",
     "output_type": "stream",
     "text": [
      "apple\n",
      "cherry\n",
      "All fruits have been printed!\n",
      "Loop completed.\n"
     ]
    }
   ],
   "source": [
    "fruits = [\"apple\", \"banana\", \"cherry\"]\n",
    "\n",
    "for fruit in fruits:\n",
    "    if fruit == \"banana\":\n",
    "        continue\n",
    "    print(fruit)\n",
    "else:\n",
    "    print(\"All fruits have been printed!\")\n",
    "\n",
    "print(\"Loop completed.\")\n"
   ]
  },
  {
   "cell_type": "markdown",
   "metadata": {},
   "source": [
    "In this case, when the loop encounters the \"banana\" element, the `if` condition is true, and the `continue` statement is executed. \n",
    "\n",
    "As a result, the loop immediately moves on to the next iteration without executing the `print(fruit)` statement."
   ]
  },
  {
   "cell_type": "code",
   "execution_count": 6,
   "metadata": {},
   "outputs": [
    {
     "name": "stdout",
     "output_type": "stream",
     "text": [
      "The Number 1 Is Odd.\n",
      "The Number 2 Is Even.\n",
      "The Number 3 Is Odd.\n",
      "The Number 4 Is Even.\n",
      "The Number 5 Is Odd.\n",
      "The Number 6 Is Even.\n",
      "The Number 7 Is Odd.\n",
      "The Number 8 Is Even.\n",
      "The Number 9 Is Odd.\n",
      "The Loop Is Finished\n",
      " [ O ] \n",
      " [ S ] \n",
      " [ A ] \n",
      " [ M ] \n",
      " [ A ] \n"
     ]
    }
   ],
   "source": [
    "\n",
    "myNumbers = [1, 2, 3, 4, 5, 6, 7, 8, 9]\n",
    "\n",
    "for number in myNumbers:\n",
    "\n",
    "  # print(number * 17)\n",
    "\n",
    "  if number % 2 == 0:  # Even\n",
    "\n",
    "    print(f\"The Number {number} Is Even.\")\n",
    "\n",
    "  else:\n",
    "\n",
    "    print(f\"The Number {number} Is Odd.\")\n",
    "\n",
    "else:\n",
    "\n",
    "  print(\"The Loop Is Finished\")\n",
    "\n",
    "myName = \"Osama\"\n",
    "\n",
    "for letter in myName:\n",
    "\n",
    "  print(f\" [ {letter.upper()} ] \")"
   ]
  },
  {
   "cell_type": "markdown",
   "metadata": {},
   "source": [
    "##### **Loop – For Training’s**\n"
   ]
  },
  {
   "cell_type": "markdown",
   "metadata": {},
   "source": [
    "##### **The Range Function**\n",
    "\n",
    ":: `range()` :: used to generate a sequence of numbers within a specified range. \n",
    "\n",
    "It is commonly used in `for` loops to iterate a specific number of times. \n",
    "\n",
    "Here's the basic syntax of the `range()` function:\n",
    "\n",
    "> range(start, stop, step)\n",
    "\n",
    "The parameters you can provide for the `range()` function are as follows:\n",
    "\n",
    "- `start` (optional): The starting value of the sequence. If not specified, the sequence starts from 0.\n",
    "\n",
    "- `stop` (required): The ending value of the sequence. This value is not included in the sequence.\n",
    "\n",
    "- `step` (optional): The increment between the consecutive numbers in the sequence. If not specified, the default value is 1.\n",
    "\n",
    "Here are a few examples to demonstrate the usage of the `range()` function:"
   ]
  },
  {
   "cell_type": "code",
   "execution_count": 8,
   "metadata": {},
   "outputs": [
    {
     "name": "stdout",
     "output_type": "stream",
     "text": [
      "0\n",
      "1\n",
      "2\n",
      "3\n",
      "4\n",
      "##########\n",
      "1\n",
      "3\n",
      "5\n",
      "7\n",
      "9\n",
      "##########\n",
      "[5, 4, 3, 2, 1]\n"
     ]
    }
   ],
   "source": [
    "# Example 1:\n",
    "for i in range(5):\n",
    "    print(i)\n",
    "# Output: 0 1 2 3 4\n",
    "\n",
    "print(\"#\" * 10)\n",
    "\n",
    "# Example 2:\n",
    "for i in range(1, 10, 2):\n",
    "    print(i)\n",
    "# Output: 1 3 5 7 9\n",
    "\n",
    "print(\"#\" * 10)\n",
    "\n",
    "# Example 3:\n",
    "numbers = list(range(5, 0, -1))\n",
    "print(numbers)\n",
    "# Output: [5, 4, 3, 2, 1]"
   ]
  },
  {
   "cell_type": "code",
   "execution_count": 9,
   "metadata": {},
   "outputs": [
    {
     "name": "stdout",
     "output_type": "stream",
     "text": [
      "1\n",
      "2\n",
      "3\n",
      "4\n",
      "5\n",
      "6\n",
      "7\n",
      "8\n",
      "9\n"
     ]
    }
   ],
   "source": [
    "# Range\n",
    "\n",
    "myRange = range(1, 10)\n",
    "\n",
    "for number in myRange:\n",
    "\n",
    "  print(number)\n",
    "\n"
   ]
  },
  {
   "cell_type": "code",
   "execution_count": 10,
   "metadata": {},
   "outputs": [
    {
     "name": "stdout",
     "output_type": "stream",
     "text": [
      "80%\n",
      "90%\n"
     ]
    }
   ],
   "source": [
    "# Dictionary\n",
    "\n",
    "mySkills = {\n",
    "  \"Html\": \"90%\",\n",
    "  \"Css\": \"60%\",\n",
    "  \"PHP\": \"70%\",\n",
    "  \"JS\": \"80%\",\n",
    "  \"Python\": \"90%\",\n",
    "  \"MySQL\": \"60%\"\n",
    "}\n",
    "\n",
    "print(mySkills['JS'])\n",
    "print(mySkills.get(\"Python\"))"
   ]
  },
  {
   "cell_type": "code",
   "execution_count": 13,
   "metadata": {},
   "outputs": [
    {
     "name": "stdout",
     "output_type": "stream",
     "text": [
      "##########\n",
      "Html\n",
      "My Progress in Lang Html Is: 90%\n",
      "##########\n",
      "Css\n",
      "My Progress in Lang Css Is: 60%\n",
      "##########\n",
      "PHP\n",
      "My Progress in Lang PHP Is: 70%\n",
      "##########\n",
      "JS\n",
      "My Progress in Lang JS Is: 80%\n",
      "##########\n",
      "Python\n",
      "My Progress in Lang Python Is: 90%\n",
      "##########\n",
      "MySQL\n",
      "My Progress in Lang MySQL Is: 60%\n"
     ]
    }
   ],
   "source": [
    "mySkills = {\n",
    "  \"Html\": \"90%\",\n",
    "  \"Css\": \"60%\",\n",
    "  \"PHP\": \"70%\",\n",
    "  \"JS\": \"80%\",\n",
    "  \"Python\": \"90%\",\n",
    "  \"MySQL\": \"60%\"\n",
    "}\n",
    "\n",
    "for skill in mySkills:\n",
    "\n",
    "  print(\"#\" * 10)\n",
    "  print(skill)\n",
    "  print(f\"My Progress in Lang {skill} Is: {mySkills.get(skill)}\")"
   ]
  },
  {
   "cell_type": "markdown",
   "metadata": {},
   "source": [
    ":: `get() Function` :: used to retrieve the value associated with a given key from a dictionary. \n",
    "\n",
    "It allows you to specify a default value to be returned if the key is not found in the dictionary. \n",
    "\n",
    "The basic syntax of the ﻿get() function is as follows:\n",
    "\n",
    "> dictionary.get(key, default)\n",
    "\n",
    "Let's go through the parameters of the `get()` function:\n",
    "- `key`: The key whose associated value you want to retrieve from the dictionary.\n",
    "\n",
    "- `default` (optional): The value to be returned if the key is not found in the dictionary. \n",
    "\n",
    "If this parameter is not provided, the default value is `None`.\n"
   ]
  },
  {
   "cell_type": "markdown",
   "metadata": {},
   "source": [
    "Here's an example that demonstrates the usage of the `get()` function:"
   ]
  },
  {
   "cell_type": "code",
   "execution_count": 14,
   "metadata": {},
   "outputs": [
    {
     "name": "stdout",
     "output_type": "stream",
     "text": [
      "92\n",
      "None\n",
      "N/A\n"
     ]
    }
   ],
   "source": [
    "student_grades = {\"Alice\": 85, \"Bob\": 92, \"Charlie\": 78}\n",
    "\n",
    "grade = student_grades.get(\"Bob\")\n",
    "print(grade)  # Output: 92\n",
    "\n",
    "grade = student_grades.get(\"David\")\n",
    "print(grade)  # Output: None\n",
    "\n",
    "grade = student_grades.get(\"David\", \"N/A\")\n",
    "print(grade)  # Output: N/A\n"
   ]
  },
  {
   "cell_type": "markdown",
   "metadata": {},
   "source": [
    "When we attempt to retrieve the grade associated with the key \"David\", which does not exist in the dictionary, the `get()` function returns `None`, the default value.\n",
    "\n",
    "To provide a custom default value, we can pass it as the second parameter to the `get()` function. In the third usage of `get()` where we specify \"David\" as the key and \"N/A\" as the default value, the function returns \"N/A\" since \"David\" is not found in the dictionary.\n"
   ]
  },
  {
   "cell_type": "markdown",
   "metadata": {},
   "source": [
    "##### **Loop Advanced Dictionary**"
   ]
  },
  {
   "cell_type": "code",
   "execution_count": 1,
   "metadata": {},
   "outputs": [
    {
     "name": "stdout",
     "output_type": "stream",
     "text": [
      "dict_items([('HTML', '80%'), ('CSS', '90%'), ('JS', '70%'), ('PHP', '80%')])\n",
      "HTML => 80%\n",
      "CSS => 90%\n",
      "JS => 70%\n",
      "PHP => 80%\n",
      "HTML => 80%\n",
      "CSS => 90%\n",
      "JS => 70%\n",
      "PHP => 80%\n"
     ]
    }
   ],
   "source": [
    "mySkills = {\n",
    "  \"HTML\": \"80%\",\n",
    "  \"CSS\": \"90%\",\n",
    "  \"JS\": \"70%\",\n",
    "  \"PHP\": \"80%\"\n",
    "}\n",
    "\n",
    "print(mySkills.items())\n",
    "\n",
    "#######################\n",
    "\n",
    "for skill in mySkills:\n",
    "\n",
    "  print(f\"{skill} => {mySkills[skill]}\")\n",
    "\n",
    "#######################\n",
    "\n",
    "for skill_key, skill_progress in mySkills.items():\n",
    "\n",
    "  print(f\"{skill_key} => {skill_progress}\")"
   ]
  },
  {
   "cell_type": "code",
   "execution_count": 2,
   "metadata": {},
   "outputs": [
    {
     "name": "stdout",
     "output_type": "stream",
     "text": [
      "HTML Progress Is: \n",
      "- Main => 80%\n",
      "- Pugjs => 80%\n",
      "CSS Progress Is: \n",
      "- Main => 90%\n",
      "- Sass => 70%\n"
     ]
    }
   ],
   "source": [
    "myUltimateSkills = {\n",
    "  \"HTML\": {\n",
    "    \"Main\": \"80%\",\n",
    "    \"Pugjs\": \"80%\"\n",
    "  },\n",
    "  \"CSS\": {\n",
    "    \"Main\": \"90%\",\n",
    "    \"Sass\": \"70%\"\n",
    "  }\n",
    "}\n",
    "\n",
    "for main_key, main_value in myUltimateSkills.items():\n",
    "\n",
    "  print(f\"{main_key} Progress Is: \")\n",
    "\n",
    "  for child_key, child_value in main_value.items():\n",
    "\n",
    "    print(f\"- {child_key} => {child_value}\")"
   ]
  },
  {
   "cell_type": "markdown",
   "metadata": {},
   "source": [
    "##### **Break, Continue, Pass**"
   ]
  },
  {
   "cell_type": "code",
   "execution_count": 10,
   "metadata": {},
   "outputs": [
    {
     "name": "stdout",
     "output_type": "stream",
     "text": [
      "1\n",
      "2\n",
      "3\n",
      "5\n",
      "7\n",
      "10\n",
      "14\n",
      "15\n",
      "19\n"
     ]
    }
   ],
   "source": [
    "myNumbers = [1, 2, 3, 5, 7, 10, 13, 14, 15, 19]\n",
    "\n",
    "# Continue\n",
    "\n",
    "for number in myNumbers:\n",
    "\n",
    "  if number == 13:\n",
    "\n",
    "    continue\n",
    "\n",
    "  print(number)"
   ]
  },
  {
   "cell_type": "code",
   "execution_count": 9,
   "metadata": {},
   "outputs": [
    {
     "name": "stdout",
     "output_type": "stream",
     "text": [
      "1\n",
      "2\n",
      "3\n",
      "5\n",
      "7\n",
      "10\n"
     ]
    }
   ],
   "source": [
    "myNumbers = [1, 2, 3, 5, 7, 10, 13, 14, 15, 19]\n",
    "\n",
    "# Break\n",
    "\n",
    "for number in myNumbers:\n",
    "\n",
    "  if number == 13:\n",
    "\n",
    "    break\n",
    "\n",
    "  print(number)"
   ]
  },
  {
   "cell_type": "code",
   "execution_count": 8,
   "metadata": {},
   "outputs": [
    {
     "name": "stdout",
     "output_type": "stream",
     "text": [
      "1\n",
      "2\n",
      "3\n",
      "5\n",
      "7\n",
      "10\n",
      "13\n",
      "14\n",
      "15\n",
      "19\n"
     ]
    }
   ],
   "source": [
    "myNumbers = [1, 2, 3, 5, 7, 10, 13, 14, 15, 19]\n",
    "\n",
    "# Pass\n",
    "\n",
    "for number in myNumbers:\n",
    "\n",
    "  if number == 13:\n",
    "\n",
    "    pass\n",
    "\n",
    "  print(number)"
   ]
  },
  {
   "cell_type": "markdown",
   "metadata": {},
   "source": [
    "##### **Function and Return**\n",
    "\n",
    "`[1]` A Function is A Reusable Block Of Code Do A Task\n",
    "\n",
    "`[2]` A Function Run When You Call It\n",
    "\n",
    "`[3]` A Function Accept Element To Deal With Called [Parameters]\n",
    "\n",
    "`[4]` A Function Can Do The Task Without Returning Data\n",
    "\n",
    "`[5]` A Function Can Return Data After Job is Finished\n",
    "\n",
    "`[6]` A Function Create To Prevent DRY \"Don't Repeat Yourself\"\n",
    "\n",
    "`[7]` A Function Accept Elements When You Call It Called [Arguments]\n",
    "\n",
    "`[8]` There's A Built-In Functions and User Defined Functions\n",
    "\n",
    "`[9]` A Function Is For All Team and All Apps\n"
   ]
  },
  {
   "cell_type": "code",
   "execution_count": 11,
   "metadata": {},
   "outputs": [
    {
     "name": "stdout",
     "output_type": "stream",
     "text": [
      "Hello Python From Inside Function\n"
     ]
    }
   ],
   "source": [
    "def function_name():\n",
    "\n",
    "  return \"Hello Python From Inside Function\"\n",
    "\n",
    "dataFromFunction = function_name()\n",
    "\n",
    "print(dataFromFunction)"
   ]
  },
  {
   "cell_type": "markdown",
   "metadata": {},
   "source": [
    "##### **Function Parameters and Arguments**"
   ]
  },
  {
   "cell_type": "code",
   "execution_count": 12,
   "metadata": {},
   "outputs": [
    {
     "name": "stdout",
     "output_type": "stream",
     "text": [
      "Hello Osama\n",
      "Hello Ahmed\n",
      "Hello Sayed\n"
     ]
    }
   ],
   "source": [
    "a, b, c = \"Osama\", \"Ahmed\", \"Sayed\"\n",
    "\n",
    "print(f\"Hello {a}\")\n",
    "print(f\"Hello {b}\")\n",
    "print(f\"Hello {c}\")"
   ]
  },
  {
   "cell_type": "code",
   "execution_count": 14,
   "metadata": {},
   "outputs": [
    {
     "name": "stdout",
     "output_type": "stream",
     "text": [
      "Hello Osama\n",
      "Hello Ahmed\n",
      "Hello Sayed\n"
     ]
    }
   ],
   "source": [
    "a, b, c = \"Osama\", \"Ahmed\", \"Sayed\"\n",
    "\n",
    "def say_hello(n):\n",
    "\n",
    "  print(f\"Hello {n}\")\n",
    "\n",
    "say_hello(a)\n",
    "say_hello(b)\n",
    "say_hello(c)"
   ]
  },
  {
   "cell_type": "markdown",
   "metadata": {},
   "source": [
    "`def`                     -------------> Function Keyword [Define]\n",
    "\n",
    "`say_hello()`             -------------> Function Name\n",
    "\n",
    "`name`                    -------------> Parameter\n",
    "\n",
    "`print(f\"Hello {name}\")`  -------------> Task\n",
    "\n",
    "`say_hello(\"Ahmed\")`      -------------> Ahmed is The Argument\n"
   ]
  },
  {
   "cell_type": "code",
   "execution_count": 15,
   "metadata": {},
   "outputs": [
    {
     "name": "stdout",
     "output_type": "stream",
     "text": [
      "400\n",
      "50\n"
     ]
    }
   ],
   "source": [
    "def addition(n1, n2):\n",
    "\n",
    "  print(n1 + n2)\n",
    "\n",
    "addition(100, 300)\n",
    "addition(-50, 100)"
   ]
  },
  {
   "cell_type": "code",
   "execution_count": 17,
   "metadata": {},
   "outputs": [
    {
     "name": "stdout",
     "output_type": "stream",
     "text": [
      "600\n",
      "Hello Osama M Elsayed\n"
     ]
    }
   ],
   "source": [
    "def addition(n1, n2):\n",
    "\n",
    "  if type(n1) != int or type(n2) != int:\n",
    "\n",
    "    print(\"Only Integers Allowed\")\n",
    "\n",
    "  else:\n",
    "\n",
    "    print(n1 + n2)\n",
    "\n",
    "addition(100, 500)\n",
    "\n",
    "def full_name(first, middle, last):\n",
    "\n",
    "  print(f\"Hello {first.strip().capitalize()} {middle.upper():.1s} {last.capitalize()}\")\n",
    "\n",
    "full_name(\"   osama   \", 'mohamed', \"elsayed\")"
   ]
  },
  {
   "cell_type": "markdown",
   "metadata": {},
   "source": [
    "##### **Function Packing, Unpacking Arguments**"
   ]
  },
  {
   "cell_type": "code",
   "execution_count": 18,
   "metadata": {},
   "outputs": [
    {
     "name": "stdout",
     "output_type": "stream",
     "text": [
      "1 2 3 4\n",
      "[1, 2, 3, 5]\n",
      "1 2 3 5\n"
     ]
    }
   ],
   "source": [
    "print(1, 2, 3, 4)\n",
    "\n",
    "myList = [1, 2, 3, 5]\n",
    "\n",
    "print(myList)\n",
    "print(*myList)"
   ]
  },
  {
   "cell_type": "code",
   "execution_count": 21,
   "metadata": {},
   "outputs": [
    {
     "name": "stdout",
     "output_type": "stream",
     "text": [
      "Hello Osama\n",
      "Hello Ahmed\n",
      "Hello Sayed\n",
      "Hello Mahmoud\n",
      "####################\n",
      "Hello Osama Your Skills Is: \n",
      "Html\n",
      "CSS\n",
      "JS\n",
      "Hello Ahmed Your Skills Is: \n",
      "Html\n",
      "CSS\n",
      "JS\n",
      "Python\n",
      "PHP\n",
      "MySQL\n"
     ]
    }
   ],
   "source": [
    "def say_hello(*peoples):  # n1, n2, n3, n4\n",
    "\n",
    "  for name in peoples:\n",
    "\n",
    "    print(f\"Hello {name}\")\n",
    "\n",
    "say_hello(\"Osama\", \"Ahmed\", \"Sayed\", \"Mahmoud\")\n",
    "\n",
    "print(\"#\" * 20)\n",
    "\n",
    "def show_details(name, *skills):\n",
    "\n",
    "  print(f\"Hello {name} Your Skills Is: \")\n",
    "\n",
    "  for skill in skills:\n",
    "\n",
    "    print(skill)\n",
    "\n",
    "show_details(\"Osama\", \"Html\", \"CSS\", \"JS\")\n",
    "show_details(\"Ahmed\", \"Html\", \"CSS\", \"JS\", \"Python\", \"PHP\", \"MySQL\")"
   ]
  },
  {
   "cell_type": "markdown",
   "metadata": {},
   "source": [
    "##### **Function Default Parameters**"
   ]
  },
  {
   "cell_type": "code",
   "execution_count": 22,
   "metadata": {},
   "outputs": [
    {
     "name": "stdout",
     "output_type": "stream",
     "text": [
      "Hello Osama Your Age is 36 and Your Country Is Egypt\n",
      "Hello Mahmoud Your Age is 28 and Your Country Is KSA\n",
      "Hello Sameh Your Age is 38 and Your Country Is Unknown\n",
      "Hello Ramy Your Age is Unknown and Your Country Is Unknown\n",
      "Hello Unknown Your Age is Unknown and Your Country Is Unknown\n"
     ]
    }
   ],
   "source": [
    "def say_hello(name=\"Unknown\", age=\"Unknown\", country=\"Unknown\"):\n",
    "\n",
    "  print(f\"Hello {name} Your Age is {age} and Your Country Is {country}\")\n",
    "\n",
    "say_hello(\"Osama\", 36, \"Egypt\")\n",
    "say_hello(\"Mahmoud\", 28, \"KSA\")\n",
    "say_hello(\"Sameh\", 38)\n",
    "say_hello(\"Ramy\")\n",
    "say_hello()"
   ]
  },
  {
   "cell_type": "markdown",
   "metadata": {},
   "source": [
    "##### **Function Packing, Unpacking Keyword Arguments**"
   ]
  },
  {
   "cell_type": "code",
   "execution_count": 23,
   "metadata": {},
   "outputs": [
    {
     "name": "stdout",
     "output_type": "stream",
     "text": [
      "<class 'tuple'>\n",
      "Html\n",
      "CSS\n",
      "JS\n"
     ]
    }
   ],
   "source": [
    "def show_skills(*skills):\n",
    "\n",
    "  print(type(skills))\n",
    "\n",
    "  for skill in skills:\n",
    "\n",
    "    print(f\"{skill}\")\n",
    "\n",
    "show_skills(\"Html\", \"CSS\", \"JS\")"
   ]
  },
  {
   "cell_type": "code",
   "execution_count": 24,
   "metadata": {},
   "outputs": [
    {
     "name": "stdout",
     "output_type": "stream",
     "text": [
      "<class 'dict'>\n",
      "Html => 80%\n",
      "Css => 70%\n",
      "Js => 50%\n",
      "Python => 80%\n",
      "Go => 40%\n"
     ]
    }
   ],
   "source": [
    "mySkills = {\n",
    "  'Html': \"80%\",\n",
    "  'Css': \"70%\",\n",
    "  'Js': \"50%\",\n",
    "  'Python': \"80%\",\n",
    "  \"Go\": \"40%\"\n",
    "}\n",
    "\n",
    "def show_skills(**skills):\n",
    "\n",
    "  print(type(skills))\n",
    "\n",
    "  for skill, value in skills.items():\n",
    "\n",
    "    print(f\"{skill} => {value}\")\n",
    "\n",
    "show_skills(**mySkills)"
   ]
  },
  {
   "cell_type": "markdown",
   "metadata": {},
   "source": [
    "##### **Function Packing, Unpacking Arguments Training’s**"
   ]
  },
  {
   "cell_type": "code",
   "execution_count": 25,
   "metadata": {},
   "outputs": [
    {
     "name": "stdout",
     "output_type": "stream",
     "text": [
      "Hello Osama \n",
      "Skills Without Progress Is: \n",
      "- Html\n",
      "- CSS\n",
      "- JS\n",
      "Skills With Progress Is: \n",
      "- Go => 80%\n",
      "- Python => 50%\n",
      "- MySQL => 80%\n"
     ]
    }
   ],
   "source": [
    "myTuple = (\"Html\", \"CSS\", \"JS\")\n",
    "\n",
    "mySkills = {\n",
    "  'Go': \"80%\",\n",
    "  'Python': \"50%\",\n",
    "  'MySQL': \"80%\"\n",
    "}\n",
    "\n",
    "def show_skills(name, *skills, **skillsWithProgres):\n",
    "\n",
    "  print(f\"Hello {name} \\nSkills Without Progress Is: \")\n",
    "\n",
    "  for skill in skills:\n",
    "\n",
    "    print(f\"- {skill}\")\n",
    "\n",
    "  print(\"Skills With Progress Is: \")\n",
    "\n",
    "  for skill_key, skill_value in skillsWithProgres.items():\n",
    "\n",
    "    print(f\"- {skill_key} => {skill_value}\")\n",
    "\n",
    "show_skills(\"Osama\", *myTuple, **mySkills)"
   ]
  },
  {
   "cell_type": "markdown",
   "metadata": {},
   "source": [
    "##### **Function Scope**"
   ]
  },
  {
   "cell_type": "code",
   "execution_count": 26,
   "metadata": {},
   "outputs": [
    {
     "name": "stdout",
     "output_type": "stream",
     "text": [
      "Print Variable From Function Scope 2\n",
      "Print Variable From Global Scope 2\n",
      "Print Variable From Function Scope 10\n",
      "Print Variable From Global Scope After One Function Is Called 2\n"
     ]
    }
   ],
   "source": [
    "x = 1  # Global Scope\n",
    "\n",
    "def one():\n",
    "\n",
    "  global x\n",
    "\n",
    "  x = 2\n",
    "\n",
    "  print(f\"Print Variable From Function Scope {x}\")\n",
    "\n",
    "def two():\n",
    "\n",
    "  x = 10\n",
    "\n",
    "  print(f\"Print Variable From Function Scope {x}\")\n",
    "\n",
    "one()\n",
    "print(f\"Print Variable From Global Scope {x}\")\n",
    "two()\n",
    "print(f\"Print Variable From Global Scope After One Function Is Called {x}\")"
   ]
  },
  {
   "cell_type": "markdown",
   "metadata": {},
   "source": [
    "##### **Function Recursion**"
   ]
  },
  {
   "cell_type": "code",
   "execution_count": 30,
   "metadata": {},
   "outputs": [
    {
     "name": "stdout",
     "output_type": "stream",
     "text": [
      "###############\n",
      "Print Start Function WWWoooorrrldd\n",
      "###############\n",
      "###############\n",
      "Print Before Condition WWWoooorrrldd\n",
      "Print Start Function WWoooorrrldd\n",
      "###############\n",
      "###############\n",
      "Print Before Condition WWoooorrrldd\n",
      "Print Start Function Woooorrrldd\n",
      "###############\n",
      "###############\n",
      "Print Before Return Woooorrrldd\n",
      "Print Start Function oooorrrldd\n",
      "###############\n",
      "###############\n",
      "Print Before Condition oooorrrldd\n",
      "Print Start Function ooorrrldd\n",
      "###############\n",
      "###############\n",
      "Print Before Condition ooorrrldd\n",
      "Print Start Function oorrrldd\n",
      "###############\n",
      "###############\n",
      "Print Before Condition oorrrldd\n",
      "Print Start Function orrrldd\n",
      "###############\n",
      "###############\n",
      "Print Before Return orrrldd\n",
      "Print Start Function rrrldd\n",
      "###############\n",
      "###############\n",
      "Print Before Condition rrrldd\n",
      "Print Start Function rrldd\n",
      "###############\n",
      "###############\n",
      "Print Before Condition rrldd\n",
      "Print Start Function rldd\n",
      "###############\n",
      "###############\n",
      "Print Before Return rldd\n",
      "Print Start Function ldd\n",
      "###############\n",
      "###############\n",
      "Print Before Return ldd\n",
      "Print Start Function dd\n",
      "###############\n",
      "###############\n",
      "Print Before Condition dd\n",
      "World\n"
     ]
    }
   ],
   "source": [
    "def cleanWord(word):\n",
    "\n",
    "  if len(word) == 1:\n",
    "\n",
    "    return word\n",
    "\n",
    "  print(f\"Print Start Function {word}\")\n",
    "  print(\"#\" * 15)\n",
    "\n",
    "  if word[0] == word[1]:\n",
    "    print(\"#\" * 15)\n",
    "\n",
    "    print(f\"Print Before Condition {word}\")\n",
    "    print(\"#\" * 15)\n",
    "    return cleanWord(word[1:])\n",
    "\n",
    "  print(\"#\" * 15)\n",
    "  print(f\"Print Before Return {word}\")\n",
    "\n",
    "  return word[0] + cleanWord(word[1:])\n",
    "\n",
    "  # Stash [ World ]\n",
    "\n",
    "print(\"#\" * 15)\n",
    "print(cleanWord(\"WWWoooorrrldd\"))"
   ]
  },
  {
   "cell_type": "markdown",
   "metadata": {},
   "source": [
    "##### **Function Lambda**\n",
    "\n",
    "`[1]` It Has No Name\n",
    "\n",
    "`[2]` You Can Call It Inline Without Defining It\n",
    "\n",
    "`[3]` You Can Use It In Return Data From Another Function\n",
    "\n",
    "`[4]` Lambda Used For Simple Functions and Def Handle The Large Tasks\n",
    "\n",
    "`[5]` Lambda is One Single Expression not Block Of Code\n",
    "\n",
    "`[6]` Lambda Type is Function\n"
   ]
  },
  {
   "cell_type": "code",
   "execution_count": 31,
   "metadata": {},
   "outputs": [
    {
     "name": "stdout",
     "output_type": "stream",
     "text": [
      "Hello Ahmed your Age Is: 36\n",
      "Hello Ahmed your Age Is: 36\n",
      "say_hello\n",
      "<lambda>\n",
      "<class 'function'>\n"
     ]
    }
   ],
   "source": [
    "def say_hello(name, age) : return f\"Hello {name} your Age Is: {age}\"\n",
    "\n",
    "hello = lambda name, age : f\"Hello {name} your Age Is: {age}\"\n",
    "\n",
    "print(say_hello(\"Ahmed\", 36))\n",
    "print(hello(\"Ahmed\", 36))\n",
    "\n",
    "print(say_hello.__name__)\n",
    "print(hello.__name__)\n",
    "\n",
    "print(type(hello))"
   ]
  }
 ],
 "metadata": {
  "kernelspec": {
   "display_name": "Python 3 (ipykernel)",
   "language": "python",
   "name": "python3"
  },
  "language_info": {
   "codemirror_mode": {
    "name": "ipython",
    "version": 3
   },
   "file_extension": ".py",
   "mimetype": "text/x-python",
   "name": "python",
   "nbconvert_exporter": "python",
   "pygments_lexer": "ipython3",
   "version": "3.12.1"
  }
 },
 "nbformat": 4,
 "nbformat_minor": 4
}
