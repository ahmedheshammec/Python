{
 "cells": [
  {
   "cell_type": "markdown",
   "metadata": {},
   "source": [
    "##### **Files Handling**\n",
    "\n",
    "`\"a\" Append`  Open File For Appending Values, Create File If Not Exists\n",
    "\n",
    "`\"r\" Read`    [Default Value] Open File For Read and Give Error If File is Not Exists\n",
    "\n",
    "`\"w\" Write`   Open File For Writing, Create File If Not Exists\n",
    "\n",
    "`\"x\" Create`  Create File, Give Error If File Exists\n",
    "\n",
    "\n",
    "`open() Function`: used to open files for reading, writing, or both. Its syntax is as follows:\n",
    "\n",
    "> open(file, mode='r')\n",
    "\n",
    ":: `Example Usage` ::"
   ]
  },
  {
   "cell_type": "code",
   "execution_count": null,
   "metadata": {},
   "outputs": [],
   "source": [
    "# Open a file in read mode\n",
    "file = open('example.txt', 'r')\n",
    "\n",
    "# Open a file in write mode\n",
    "file = open('example.txt', 'w')\n",
    "\n",
    "# Open a file in append mode\n",
    "file = open('example.txt', 'a')\n",
    "\n",
    "# Open a file in binary mode\n",
    "file = open('example.txt', 'rb')\n"
   ]
  },
  {
   "cell_type": "markdown",
   "metadata": {},
   "source": [
    "**Absolute Path**\n",
    "\n",
    "Calling the Full Path of the file like this: "
   ]
  },
  {
   "cell_type": "code",
   "execution_count": null,
   "metadata": {},
   "outputs": [],
   "source": [
    "file = open(\"/Users/Ahmed/Desktop/demo.txt\")"
   ]
  },
  {
   "cell_type": "markdown",
   "metadata": {},
   "source": [
    "**Relative Path**\n",
    "\n",
    "Calling the file from the current working directory (cwd) like this: "
   ]
  },
  {
   "cell_type": "code",
   "execution_count": null,
   "metadata": {},
   "outputs": [],
   "source": [
    "file = open(\"demo.txt\")"
   ]
  },
  {
   "cell_type": "markdown",
   "metadata": {},
   "source": [
    "Remember: The (cwd) is not the directory of the python file \n",
    "\n",
    "To Print (cwd) we need to import the `os` module"
   ]
  },
  {
   "cell_type": "code",
   "execution_count": null,
   "metadata": {},
   "outputs": [],
   "source": [
    "import os\n",
    "# Main Current Working Directory\n",
    "print(os.getcwd())"
   ]
  },
  {
   "cell_type": "markdown",
   "metadata": {},
   "source": [
    "To Print Directory For The Opened File"
   ]
  },
  {
   "cell_type": "code",
   "execution_count": null,
   "metadata": {},
   "outputs": [],
   "source": [
    "import os\n",
    "print(os.path.dirname(os.path.abspath(__file__)))"
   ]
  },
  {
   "cell_type": "markdown",
   "metadata": {},
   "source": [
    "To Change Current Working Directory to the Dircetory of the Opened File"
   ]
  },
  {
   "cell_type": "code",
   "execution_count": null,
   "metadata": {},
   "outputs": [],
   "source": [
    "import os\n",
    "os.chdir(os.path.dirname(os.path.abspath(__file__)))"
   ]
  },
  {
   "cell_type": "markdown",
   "metadata": {},
   "source": [
    ":: `Note` ::\n",
    "\n",
    "if you created a folder named nfiles and put script file with absolute path like this: "
   ]
  },
  {
   "cell_type": "code",
   "execution_count": null,
   "metadata": {},
   "outputs": [],
   "source": [
    "import os\n",
    "file = open(\"D:\\Python\\Files\\nfiles\\osama.txt\")"
   ]
  },
  {
   "cell_type": "markdown",
   "metadata": {},
   "source": [
    "The `/n` will be read as Escape Sequence Character and to avoid that we put the Raw String Flag `r` like this: "
   ]
  },
  {
   "cell_type": "code",
   "execution_count": null,
   "metadata": {},
   "outputs": [],
   "source": [
    "import os\n",
    "file = open(r\"D:\\Python\\Files\\nfiles\\osama.txt\")"
   ]
  },
  {
   "cell_type": "markdown",
   "metadata": {},
   "source": [
    ":: `Practical Example: Change Directory with Argument from the Terminal` ::\n",
    "\n",
    "To build a Python script that takes a directory as an argument from the command line and changes the working directory to it, you can use the `sys module` to parse command-line arguments and the `os module` to change the directory. Here's a basic outline of how your script, Make_folder.py, could look:"
   ]
  },
  {
   "cell_type": "code",
   "execution_count": null,
   "metadata": {},
   "outputs": [],
   "source": [
    "#!/usr/bin/env python3\n",
    "import sys\n",
    "import os\n",
    "\n",
    "def make_folder(directory):\n",
    "    # Check if the directory exists and is valid\n",
    "    if not os.path.exists(directory):\n",
    "        print(f\"Directory not found: {directory}\")\n",
    "        return\n",
    "\n",
    "    # Change to the specified directory\n",
    "    os.chdir(directory)\n",
    "    print(f\"Changed to directory: {directory}\")\n",
    "\n",
    "    # Create a new folder here\n",
    "    new_folder_name = \"NewFolder\"\n",
    "    os.makedirs(new_folder_name, exist_ok=True)\n",
    "    print(f\"Created new folder: {new_folder_name}\")\n",
    "\n",
    "if __name__ == \"__main__\":\n",
    "    if len(sys.argv) != 2:\n",
    "        print(\"Usage: Make_folder.py <directory>\")\n",
    "        sys.exit(1)\n",
    "\n",
    "    target_directory = sys.argv[1]\n",
    "    make_folder(target_directory)\n"
   ]
  },
  {
   "cell_type": "markdown",
   "metadata": {},
   "source": [
    "This script does the following:\n",
    "\n",
    " ❖ Imports the necessary modules (sys for command-line arguments and os for directory operations).\n",
    "\n",
    " ❖ Defines a function make_folder that changes the working directory and creates a new folder.\n",
    "\n",
    " ❖ In the main section, it checks if there's exactly one argument provided (the directory path).\n",
    "\n",
    " ❖ Calls make_folder with the provided directory path.\n",
    "\n",
    "You can run this script from the command line like this:"
   ]
  },
  {
   "cell_type": "code",
   "execution_count": null,
   "metadata": {
    "vscode": {
     "languageId": "shellscript"
    }
   },
   "outputs": [],
   "source": [
    "python Make_folder.py \"~/username/Desktop\""
   ]
  },
  {
   "cell_type": "markdown",
   "metadata": {},
   "source": [
    "`Remember`: if you're using a path with a tilde (~) for home directory, you might need to expand it using os.path.expanduser() before using it with os.chdir() or os.path.exists(). You can modify the make_folder function to include this:"
   ]
  },
  {
   "cell_type": "code",
   "execution_count": null,
   "metadata": {},
   "outputs": [],
   "source": [
    "directory = os.path.expanduser(directory)"
   ]
  },
  {
   "cell_type": "markdown",
   "metadata": {},
   "source": [
    "This ensures that `~/username/Desktop` is correctly expanded to the full path."
   ]
  },
  {
   "cell_type": "markdown",
   "metadata": {},
   "source": [
    "Let's break down the Make_folder.py script into its components for a detailed explanation:\n",
    "\n",
    "`Shebang Line:`"
   ]
  },
  {
   "cell_type": "code",
   "execution_count": null,
   "metadata": {},
   "outputs": [],
   "source": [
    "#!/usr/bin/env python3"
   ]
  },
  {
   "cell_type": "markdown",
   "metadata": {},
   "source": [
    "This is the shebang line. It tells the operating system that this script should be run using Python 3. The path `#!/usr/bin/env python3` is a portable way to use the environment's Python interpreter.\n",
    "\n",
    "`Importing Modules:`"
   ]
  },
  {
   "cell_type": "code",
   "execution_count": null,
   "metadata": {},
   "outputs": [],
   "source": [
    "import sys\n",
    "import os"
   ]
  },
  {
   "cell_type": "markdown",
   "metadata": {},
   "source": [
    "The script imports two modules: `sys` and `os`. The sys module is used to work with command-line arguments (`sys.argv`), while the os module provides functions for interacting with the operating system, including changing the current working directory and creating directories.\n",
    "\n",
    "`The make_folder Function:`"
   ]
  },
  {
   "cell_type": "code",
   "execution_count": null,
   "metadata": {},
   "outputs": [],
   "source": [
    "def make_folder(directory):\n",
    "    # Code inside function"
   ]
  },
  {
   "cell_type": "markdown",
   "metadata": {},
   "source": [
    "This function is defined to encapsulate the logic for changing the directory and creating a new folder. It takes one argument, directory, which is the path to the directory where the folder will be created.\n",
    "\n",
    "`Directory Validation:`"
   ]
  },
  {
   "cell_type": "code",
   "execution_count": null,
   "metadata": {},
   "outputs": [],
   "source": [
    "if not os.path.exists(directory):\n",
    "    print(f\"Directory not found: {directory}\")\n",
    "    return"
   ]
  },
  {
   "cell_type": "markdown",
   "metadata": {},
   "source": [
    "Here, the script checks if the provided directory exists using os.path.exists(). If it doesn't exist, the function prints a message and returns early.\n",
    "\n",
    "`Change Directory:`"
   ]
  },
  {
   "cell_type": "code",
   "execution_count": null,
   "metadata": {},
   "outputs": [],
   "source": [
    "os.chdir(directory)\n",
    "print(f\"Changed to directory: {directory}\")"
   ]
  },
  {
   "cell_type": "markdown",
   "metadata": {},
   "source": [
    "The script changes the current working directory to the specified directory using `os.chdir()`. It then prints a confirmation message.\n",
    "\n",
    "`Create a New Folder:`"
   ]
  },
  {
   "cell_type": "code",
   "execution_count": null,
   "metadata": {},
   "outputs": [],
   "source": [
    "new_folder_name = \"NewFolder\"\n",
    "os.makedirs(new_folder_name, exist_ok=True)\n",
    "print(f\"Created new folder: {new_folder_name}\")"
   ]
  },
  {
   "cell_type": "markdown",
   "metadata": {},
   "source": [
    "This part of the script creates a new folder named \"NewFolder\" in the current working directory. `os.makedirs()` is used for this purpose. The `exist_ok=True` parameter allows the function to complete successfully even if the folder already exists. A message is printed to confirm folder creation.\n",
    "\n",
    "`Main Script Execution:`"
   ]
  },
  {
   "cell_type": "code",
   "execution_count": null,
   "metadata": {},
   "outputs": [],
   "source": [
    "if __name__ == \"__main__\":\n",
    "    if len(sys.argv) != 2:\n",
    "        print(\"Usage: Make_folder.py <directory>\")\n",
    "        sys.exit(1)\n",
    "\n",
    "    target_directory = sys.argv[1]\n",
    "    make_folder(target_directory)"
   ]
  },
  {
   "cell_type": "markdown",
   "metadata": {},
   "source": [
    "This is the entry point of the script. It checks if the script is being run as the main program (not imported as a module). If it is, the script then checks if exactly one argument (the directory path) is provided. If not, it prints a usage message and exits. If the argument is present, it calls the make_folder function with the provided directory path.\n",
    "\n",
    "`sys.argv` is a list in Python, which contains the command-line arguments passed to the script. `sys.argv[0]` is the name of the script, and `sys.argv[1]` is the first argument passed to the script, which in this case, is expected to be the directory path.\n",
    "\n",
    "The line `if len(sys.argv) != 2`: is used to check the number of command-line arguments passed to the script.\n",
    "\n",
    "**Remember**: sys.argv includes the script name as the first argument. So, we expect two arguments: the script name and the directory path. If there are more or fewer than two arguments, this condition will be true, indicating that the user did not use the script correctly.\n"
   ]
  },
  {
   "cell_type": "markdown",
   "metadata": {},
   "source": [
    ":: `Reading Files` ::\n",
    "\n",
    "if you print the file you're reading like this: "
   ]
  },
  {
   "cell_type": "code",
   "execution_count": null,
   "metadata": {},
   "outputs": [],
   "source": [
    "#!/usr/bin/env python3 \n",
    "\n",
    "import os\n",
    "\n",
    "os.chdir(os.path.dirname(os.path.abspath(__file__)))\n",
    "\n",
    "file = open(\"demo.txt\")\n",
    "\n",
    "print(file) #output: <_io.TextIOWrapper name='demo.txt' mode='r' encoding='UTF-8'>\n"
   ]
  },
  {
   "cell_type": "markdown",
   "metadata": {},
   "source": [
    "it will print the File Data not the Content of the File, to print the content of the file we will use the `read()` method"
   ]
  },
  {
   "cell_type": "code",
   "execution_count": null,
   "metadata": {},
   "outputs": [],
   "source": [
    "import os\n",
    "\n",
    "os.chdir(os.path.dirname(os.path.abspath(__file__)))\n",
    "\n",
    "file = open(\"demo.txt\")\n",
    "\n",
    "print(file.read()) # output: Hello World"
   ]
  },
  {
   "cell_type": "markdown",
   "metadata": {},
   "source": [
    "`readline()`: reads one line\n",
    "\n",
    "`readlines()`: reads all lines and return data in a list, you can loop on that list\n",
    "\n",
    "`readline(5)`: reads only 5 characters of the line"
   ]
  },
  {
   "cell_type": "markdown",
   "metadata": {},
   "source": [
    ":: `Example for Loop` ::"
   ]
  },
  {
   "cell_type": "code",
   "execution_count": null,
   "metadata": {},
   "outputs": [],
   "source": [
    "import os\n",
    "for line in file:\n",
    "\n",
    "  print(line)\n",
    "\n",
    "  if line.startswith(\"07\"):\n",
    "\n",
    "    break\n",
    "\n",
    "# Close The File\n",
    "\n",
    "file.close()"
   ]
  },
  {
   "cell_type": "markdown",
   "metadata": {},
   "source": [
    "The `close()` Function Closes the File"
   ]
  },
  {
   "cell_type": "markdown",
   "metadata": {},
   "source": [
    ":: `Writing to Files` ::"
   ]
  },
  {
   "cell_type": "markdown",
   "metadata": {},
   "source": [
    " The main differences between the append() and write() methods when working with files in Python are:\n",
    "\n",
    "**1. New vs Existing File:**\n",
    "\n",
    "- `append()` - Appends to end of an existing file. The file is created if it does not exist.\n",
    "- `write()` - Overwrites the entire file. The file is created if it does not exist.\n",
    "\n",
    "**2. Content Insertion:**  \n",
    "\n",
    "- `append()` - Only inserts new content at the end of the file.\n",
    "- `write()` - Overwrites all existing content in the file.\n",
    "\n",
    "**3. Cursor Position:**\n",
    "\n",
    "- `append()` - Cursor remains at end for further appending. \n",
    "- `write()` - Cursor positioned at beginning for overwrite.\n",
    "\n",
    "**4. File Size:**\n",
    "\n",
    "- `append()` - File size increases as content is added.\n",
    "- `write()` - File size can increase or decrease depending on write size.\n",
    "\n",
    "So in summary, `append()` inserts new content at file end leaving existing data as is. `write()` overwrites completely replacing existing file content.\n",
    "\n"
   ]
  },
  {
   "cell_type": "code",
   "execution_count": null,
   "metadata": {},
   "outputs": [],
   "source": [
    "with open(\"file.txt\",\"a\") as f:\n",
    "    f.append(\"Hello\") # appends only\n",
    "\n",
    "with open(\"file.txt\",\"w\") as f: \n",
    "    f.write(\"World\") # overwrites file"
   ]
  },
  {
   "cell_type": "markdown",
   "metadata": {},
   "source": [
    "So choose based on whether you want to add to or overwrite file content."
   ]
  },
  {
   "cell_type": "markdown",
   "metadata": {},
   "source": [
    "  The `with` and `as` keywords in Python are used to wrap the scope of a context manager.\n",
    "\n",
    "Some key points about `with`/`as`:\n",
    "\n",
    "**with**\n",
    "- The `with` keyword signals the start of the context manager scope. \n",
    "- The code indented under `with` is executed within the context manager.\n",
    "\n",
    "**as**  \n",
    "- The `as` keyword optionally binds the context manager object to a name.\n",
    "- This name can be used within the `with` block to access manager methods.\n",
    "\n",
    "Here is an example with file handling:"
   ]
  },
  {
   "cell_type": "code",
   "execution_count": null,
   "metadata": {},
   "outputs": [],
   "source": [
    "with open('file.txt', 'r') as my_file:\n",
    "    data = my_file.read() # my_file bound using as\n",
    "    print(data)\n",
    "\n",
    "# my_file automatically closed here by context manager  "
   ]
  },
  {
   "cell_type": "markdown",
   "metadata": {},
   "source": [
    "In this example,\n",
    "\n",
    "❖ `open()` opens the file and returns a file object\n",
    "\n",
    "❖ `with` starts the context on this file\n",
    "\n",
    "❖ `as my_file` binds this return value to a name `my_file` \n",
    "\n",
    "❖ `my_file.read()` is used to read within scope\n",
    "\n",
    "❖ File automatically closed when `with` block ends\n",
    "\n",
    "\n",
    "So in summary, `with` defines the scope and `as` gives it a name that can be used within that scope. The advantage is it handles opening and closing the resource automatically."
   ]
  },
  {
   "cell_type": "markdown",
   "metadata": {},
   "source": [
    ":: `what is the meaning of wrap ?` ::\n",
    "\n",
    " The term \"wrap\" in programming refers to enclosing or surrounding a piece of code or data. Some key things to know about \"wrapping\" code:\n",
    "\n",
    "**1. Encapsulation**\n",
    "\n",
    "Wrapping something means putting it inside another layer that hides some of the underlying complexity. This is called encapsulation.\n",
    "\n",
    "For example, a function wraps some code and encapsulates it away from outer code. The inner workings are hidden and complexity reduced.\n",
    "\n",
    "**2. Additional Functionality**\n",
    "\n",
    "Wrappers often add some additional functionality or behavior around what they wrap. This could involve setup/cleanup code (like opening and closing a file) or adding error handling, logging etc.\n",
    "\n",
    "**3. Changing Interface** \n",
    "\n",
    "Wrapping changes the interface for using something. The outer wrapper has its own way interacting, like calling a method. This differs from directly accessing the raw underlying thing.\n",
    "\n",
    "**4. Examples** \n",
    "\n",
    "`Some Python examples of wrapping`:\n",
    "\n",
    "❖ Decorators wrap functions to modify their behavior \n",
    "\n",
    "❖ Context managers wrap file/resource access adding setup/cleanup\n",
    "\n",
    "❖ OOP classes encapsulate data and define interfaces\n",
    "\n",
    "\n",
    "In summary, wrapping refers to encapsulating something inside another layer that handles complexity and provides another interface/functionality around it. It abstracts away internals for easier usage."
   ]
  },
  {
   "cell_type": "markdown",
   "metadata": {},
   "source": [
    ":: `Write List Content to File` ::\n",
    "\n",
    "This will loop throug the list and write content of the list to the file."
   ]
  },
  {
   "cell_type": "code",
   "execution_count": null,
   "metadata": {},
   "outputs": [],
   "source": [
    "myList = [\"Oasma\\n\", \"Ahmed\\n\", \"Sayed\\n\"]\n",
    "\n",
    "myFile = open(\"D:\\Python\\Files\\osama.txt\", \"w\")\n",
    "myFile.writelines(myList)"
   ]
  },
  {
   "cell_type": "markdown",
   "metadata": {},
   "source": [
    "##### **Built in Functions**\n",
    "\n",
    "`all()`: return true if all values in the iterable are truthy, also if the iterable is empty return True. but if you put falsey Object like empty list inside the iterable it will return false"
   ]
  },
  {
   "cell_type": "code",
   "execution_count": 3,
   "metadata": {},
   "outputs": [
    {
     "name": "stdout",
     "output_type": "stream",
     "text": [
      "There's At Least one Element is False\n"
     ]
    }
   ],
   "source": [
    "x = [1, 2, 3, 4, []]\n",
    "\n",
    "if all(x): \n",
    "    \n",
    "    print(\"All Elements are True\")\n",
    "\n",
    "else : \n",
    "\n",
    "    print(\"There's At Least one Element is False\")"
   ]
  },
  {
   "cell_type": "markdown",
   "metadata": {},
   "source": [
    "`any()` : Return True if bool(x) is True for any x in the iterable. If the iterable is empty, return False.\n",
    "\n",
    "`bin()` : Return the binary representation of an integer.\n",
    "\n",
    ">  bin(2796202)\n",
    "\n",
    "'061010101010101010101010'\n",
    "\n",
    "`id()` : Return the identity of an object that's used in the computer memory. \n",
    "\n",
    "`sum()`: Return the sum of a 'start' value (default: 0) plus an iterable of numbers When the iterable is empty, return the start value. This function is intended specifically for use with numeric values and may reject non- numeric types.\n",
    "\n",
    "> sum(iterable, start(optional))"
   ]
  },
  {
   "cell_type": "code",
   "execution_count": 5,
   "metadata": {},
   "outputs": [
    {
     "name": "stdout",
     "output_type": "stream",
     "text": [
      "70\n",
      "110\n"
     ]
    }
   ],
   "source": [
    "a = [1, 10, 19, 40]\n",
    "\n",
    "print(sum(a))\n",
    "\n",
    "print(sum(a, 40))"
   ]
  },
  {
   "cell_type": "markdown",
   "metadata": {},
   "source": [
    "`round()` : Round a number to a given precision in decimal digits.\n",
    "\n",
    "> round(number, number_of_digits)"
   ]
  },
  {
   "cell_type": "code",
   "execution_count": 6,
   "metadata": {},
   "outputs": [
    {
     "name": "stdout",
     "output_type": "stream",
     "text": [
      "151\n",
      "150.55\n"
     ]
    }
   ],
   "source": [
    "print(round(150.501))\n",
    "print(round(150.551, 2))"
   ]
  },
  {
   "cell_type": "markdown",
   "metadata": {},
   "source": [
    "`range()`:  Return an object that produces a sequence of integers from start (inclusive) to stop (exclusive=must) by step. \n",
    "\n",
    "start defaults to 0, and stop is omitted! range(4) produces 0, 1, 2, 3. These are exactly the valid indices for a list of 4 elements. When step is given, it specifies the increment (or decrement).\n",
    "\n",
    "step default is 1\n",
    "\n",
    "> range(start, end, step)"
   ]
  },
  {
   "cell_type": "code",
   "execution_count": 8,
   "metadata": {},
   "outputs": [
    {
     "name": "stdout",
     "output_type": "stream",
     "text": [
      "[0, 1, 2, 3, 4, 5, 6, 7, 8, 9]\n",
      "[0, 2, 4, 6, 8]\n"
     ]
    }
   ],
   "source": [
    "print(list(range(10)))\n",
    "print(list(range(0, 10, 2)))\n"
   ]
  },
  {
   "cell_type": "markdown",
   "metadata": {},
   "source": [
    "`print()`: Prints the values to the screen. default seperator is space and default end is \\n (new line)"
   ]
  },
  {
   "cell_type": "code",
   "execution_count": 12,
   "metadata": {},
   "outputs": [
    {
     "name": "stdout",
     "output_type": "stream",
     "text": [
      "Hello Osama\n",
      "Hello Osama\n",
      "Hello | Osama\n",
      "First Line second line\n"
     ]
    }
   ],
   "source": [
    "print(\"Hello Osama\")\n",
    "print(\"Hello\",\"Osama\")\n",
    "print(\"Hello\",\"Osama\", sep=\" | \")\n",
    "print(\"First Line\", end=\" \")\n",
    "print(\"second line\")"
   ]
  },
  {
   "cell_type": "markdown",
   "metadata": {},
   "source": [
    "`abs()`: Return the absolute value of the argument. the distance from zero to your argument"
   ]
  },
  {
   "cell_type": "code",
   "execution_count": 13,
   "metadata": {},
   "outputs": [
    {
     "name": "stdout",
     "output_type": "stream",
     "text": [
      "100\n",
      "100\n",
      "10.19\n",
      "10.19\n"
     ]
    }
   ],
   "source": [
    "print(abs(100))\n",
    "print(abs(-100))\n",
    "print(abs(10.19))\n",
    "print(abs(-10.19))\n"
   ]
  },
  {
   "cell_type": "markdown",
   "metadata": {},
   "source": [
    "`pow()`: which means the power of. It's Equivalent to base **exp with 2 arguments\n",
    "\n",
    "> pow(base, exp, mod(optional))\n",
    "\n",
    "base = الرقم\n",
    "\n",
    "exp = الأس\n",
    "\n",
    "mod = باقي القسمة"
   ]
  },
  {
   "cell_type": "code",
   "execution_count": 15,
   "metadata": {},
   "outputs": [
    {
     "name": "stdout",
     "output_type": "stream",
     "text": [
      "32\n",
      "2\n"
     ]
    }
   ],
   "source": [
    "print(pow(2, 5)) # 2 * 2 * 2 * 2 * 2 = 32\n",
    "print(pow(2, 5, 10)) # 32 % 10 = 2 ياقي القسمة"
   ]
  },
  {
   "cell_type": "markdown",
   "metadata": {},
   "source": [
    "`min()` With a single iterable argument, return its smallest item."
   ]
  },
  {
   "cell_type": "code",
   "execution_count": 17,
   "metadata": {},
   "outputs": [
    {
     "name": "stdout",
     "output_type": "stream",
     "text": [
      "-50\n",
      "A\n"
     ]
    }
   ],
   "source": [
    "print(min(1, 10, -50, 20, 30))\n",
    "print(min(\"A\", \"X\", \"Z\"))"
   ]
  },
  {
   "cell_type": "markdown",
   "metadata": {},
   "source": [
    "`max()` With a single iterable argument, return its biggest item.\n",
    "\n",
    "`slice()`: slice (stop) slice (start, stop[,step])\n",
    "Create a slice object. This is used for extended slicing (e.g. a[0:10:2])."
   ]
  },
  {
   "cell_type": "code",
   "execution_count": 19,
   "metadata": {},
   "outputs": [
    {
     "name": "stdout",
     "output_type": "stream",
     "text": [
      "['A', 'B', 'C', 'D', 'E']\n",
      "['A', 'B', 'C', 'D', 'E']\n",
      "['C', 'D', 'E']\n"
     ]
    }
   ],
   "source": [
    "a = [\"A\", \"B\", \"C\", \"D\", \"E\", \"F\"]\n",
    "print(a[:5])\n",
    "print(a[slice(5)])\n",
    "print(a[slice(2, 5)])"
   ]
  },
  {
   "cell_type": "markdown",
   "metadata": {},
   "source": [
    "`map()` : Make an iterator that computes the function using arguments from each of the iterables. Stops when the shortest iterable is exhausted.\n",
    "\n",
    "`[1]` Map Take A Function + Iterator\n",
    "\n",
    "`[2]` Map Called Map Because It Map The Function On Every Element\n",
    "\n",
    "`[3]` The Function Can Be Pre-Defined Function or Lambda Function\n",
    "\n",
    "> map (func, *iterables)"
   ]
  },
  {
   "cell_type": "markdown",
   "metadata": {},
   "source": [
    ":: `Using Map with Pre-defined Function` ::"
   ]
  },
  {
   "cell_type": "code",
   "execution_count": 20,
   "metadata": {},
   "outputs": [
    {
     "name": "stdout",
     "output_type": "stream",
     "text": [
      "<map object at 0x1070a79a0>\n"
     ]
    }
   ],
   "source": [
    "def format_text(text): \n",
    "   \n",
    "   return f\"- {text} -\"\n",
    "\n",
    "myText = [\"Osama\", \"Ahmed\", \"Sayed\"]\n",
    "\n",
    "myFormatted_Text = map(format_text, myText)\n",
    "\n",
    "print(myFormatted_Text)"
   ]
  },
  {
   "cell_type": "code",
   "execution_count": 21,
   "metadata": {},
   "outputs": [
    {
     "name": "stdout",
     "output_type": "stream",
     "text": [
      "- Osama -\n",
      "- Ahmed -\n",
      "- Sayed -\n"
     ]
    }
   ],
   "source": [
    "def format_text(text): \n",
    "   \n",
    "   return f\"- {text} -\"\n",
    "\n",
    "myText = [\"Osama\", \"Ahmed\", \"Sayed\"]\n",
    "\n",
    "for name in map(format_text, myText): \n",
    "\n",
    "   print(name)"
   ]
  },
  {
   "cell_type": "code",
   "execution_count": 23,
   "metadata": {},
   "outputs": [
    {
     "name": "stdout",
     "output_type": "stream",
     "text": [
      "['-', ' ', 'O', 's', 'a', 'm', 'a', ' ', '-']\n",
      "['-', ' ', 'A', 'h', 'm', 'e', 'd', ' ', '-']\n",
      "['-', ' ', 'S', 'a', 'y', 'e', 'd', ' ', '-']\n"
     ]
    }
   ],
   "source": [
    "def format_text(text): \n",
    "   \n",
    "   return f\"- {text} -\"\n",
    "\n",
    "myText = [\"Osama\", \"Ahmed\", \"Sayed\"]\n",
    "\n",
    "for name in list(map(format_text, myText)): \n",
    "\n",
    "   print(list(name))"
   ]
  },
  {
   "cell_type": "markdown",
   "metadata": {},
   "source": [
    ":: `Using Map with lambda Function` ::"
   ]
  },
  {
   "cell_type": "code",
   "execution_count": 24,
   "metadata": {},
   "outputs": [
    {
     "name": "stdout",
     "output_type": "stream",
     "text": [
      "['-', ' ', 'O', 's', 'a', 'm', 'a', ' ', '-']\n",
      "['-', ' ', 'A', 'h', 'm', 'e', 'd', ' ', '-']\n",
      "['-', ' ', 'S', 'a', 'y', 'e', 'd', ' ', '-']\n"
     ]
    }
   ],
   "source": [
    "myText = [\"Osama\", \"Ahmed\", \"Sayed\"]\n",
    "\n",
    "for name in list(map(lambda text : f\"- {text} -\", myText)): \n",
    "\n",
    "   print(list(name))"
   ]
  },
  {
   "cell_type": "markdown",
   "metadata": {},
   "source": [
    "`filter()` : Return an iterator yielding those items of iterable for which function(item) is true. If function is None, return the items that are true.\n",
    "\n",
    "`[1]` Filter Take A Function + Iterator\n",
    "\n",
    "`[2]` Filter Run A Function On Every Element\n",
    "\n",
    "`[3]` The Function Can Be Pre-Defined Function or Lambda Function\n",
    "\n",
    "`[4]` Filter Out All Elements For Which The Function Return True\n",
    "\n",
    "`[5]` The Function Need To Return Boolean Value\n",
    "\n",
    "> filter (function or None, iterable)\n",
    "\n"
   ]
  },
  {
   "cell_type": "markdown",
   "metadata": {},
   "source": [
    ":: `Using the Last Example in map()` ::"
   ]
  },
  {
   "cell_type": "code",
   "execution_count": 25,
   "metadata": {},
   "outputs": [
    {
     "name": "stdout",
     "output_type": "stream",
     "text": [
      "['O', 's', 'a', 'm', 'a']\n",
      "['A', 'h', 'm', 'e', 'd']\n",
      "['S', 'a', 'y', 'e', 'd']\n"
     ]
    }
   ],
   "source": [
    "myText = [\"Osama\", \"Ahmed\", \"Sayed\"]\n",
    "\n",
    "for name in list(filter(lambda text : f\"- {text} -\", myText)): \n",
    "\n",
    "   print(list(name))"
   ]
  },
  {
   "cell_type": "markdown",
   "metadata": {},
   "source": [
    ":: `Example` :: Let's say we want to filter some numbers, the case is i want all the numbers higher than 10"
   ]
  },
  {
   "cell_type": "code",
   "execution_count": 26,
   "metadata": {},
   "outputs": [
    {
     "name": "stdout",
     "output_type": "stream",
     "text": [
      "19\n",
      "20\n",
      "100\n"
     ]
    }
   ],
   "source": [
    "def checknumber(num): \n",
    "\n",
    "    if num > 10: \n",
    "        \n",
    "        return num\n",
    "\n",
    "myNumbers = [1, 19, 10, 20, 100, 5]\n",
    "\n",
    "myResult = filter(checknumber, myNumbers)\n",
    "\n",
    "for number in myResult: \n",
    "\n",
    "    print(number)"
   ]
  },
  {
   "cell_type": "markdown",
   "metadata": {},
   "source": [
    "Now, let's say i want to print the zeros"
   ]
  },
  {
   "cell_type": "code",
   "execution_count": 27,
   "metadata": {},
   "outputs": [],
   "source": [
    "def checknumber(num): \n",
    "\n",
    "    if num == 0: \n",
    "        \n",
    "        return num\n",
    "\n",
    "myNumbers = [0, 19, 0, 20, 100, 5]\n",
    "\n",
    "myResult = filter(checknumber, myNumbers)\n",
    "\n",
    "for number in myResult: \n",
    "\n",
    "    print(number)"
   ]
  },
  {
   "cell_type": "markdown",
   "metadata": {},
   "source": [
    "This won't Print any 0 , cuz 0 is a false value and it has to be truethy value in order to print it that's how filter works. but how to fix that ? simply change the return value to True."
   ]
  },
  {
   "cell_type": "code",
   "execution_count": 28,
   "metadata": {},
   "outputs": [
    {
     "name": "stdout",
     "output_type": "stream",
     "text": [
      "0\n",
      "0\n"
     ]
    }
   ],
   "source": [
    "def checknumber(num): \n",
    "\n",
    "    if num == 0: \n",
    "        \n",
    "        return True\n",
    "\n",
    "myNumbers = [0, 19, 0, 20, 100, 5]\n",
    "\n",
    "myResult = filter(checknumber, myNumbers)\n",
    "\n",
    "for number in myResult: \n",
    "\n",
    "    print(number)"
   ]
  },
  {
   "cell_type": "code",
   "execution_count": 31,
   "metadata": {},
   "outputs": [
    {
     "name": "stdout",
     "output_type": "stream",
     "text": [
      "19\n",
      "20\n",
      "100\n"
     ]
    }
   ],
   "source": [
    "def checknumber(num): \n",
    "\n",
    "   return num > 10\n",
    "\n",
    "myNumbers = [0, 19, 0, 20, 100, 5]\n",
    "\n",
    "myResult = filter(checknumber, myNumbers)\n",
    "\n",
    "for number in myResult: \n",
    "\n",
    "    print(number)"
   ]
  },
  {
   "cell_type": "markdown",
   "metadata": {},
   "source": [
    "Now Let's make a Case where we want to filter some Text if The Text starts with \"O\" then the case will return true and print the name with the \"O\""
   ]
  },
  {
   "cell_type": "code",
   "execution_count": 32,
   "metadata": {},
   "outputs": [
    {
     "name": "stdout",
     "output_type": "stream",
     "text": [
      "Osama\n",
      "Omar\n",
      "Othman\n"
     ]
    }
   ],
   "source": [
    "def checkName(name): \n",
    "\n",
    "   return name.startswith(\"O\")\n",
    "\n",
    "myText = [\"Osama\", \"omer\", \"Omar\", \"Ahmed\", \"Othman\"]\n",
    "\n",
    "myResult = filter(checkName, myText)\n",
    "\n",
    "for name in myResult: \n",
    "\n",
    "    print(name)"
   ]
  },
  {
   "cell_type": "markdown",
   "metadata": {},
   "source": [
    "Now Let's Try with lambda function"
   ]
  },
  {
   "cell_type": "code",
   "execution_count": 33,
   "metadata": {},
   "outputs": [
    {
     "name": "stdout",
     "output_type": "stream",
     "text": [
      "Osama\n",
      "Omar\n",
      "Othman\n"
     ]
    }
   ],
   "source": [
    "\n",
    "\n",
    "myText = [\"Osama\", \"omer\", \"Omar\", \"Ahmed\", \"Othman\"]\n",
    "\n",
    "myResult = filter(lambda name: name.startswith(\"O\")  , myText)\n",
    "\n",
    "for name in myResult: \n",
    "\n",
    "    print(name)"
   ]
  },
  {
   "cell_type": "markdown",
   "metadata": {},
   "source": [
    "We can also ignore the variable and loop directly on the lambda function output like this: "
   ]
  },
  {
   "cell_type": "code",
   "execution_count": 34,
   "metadata": {},
   "outputs": [
    {
     "name": "stdout",
     "output_type": "stream",
     "text": [
      "Osama\n",
      "Omar\n",
      "Othman\n"
     ]
    }
   ],
   "source": [
    "\n",
    "\n",
    "myText = [\"Osama\", \"omer\", \"Omar\", \"Ahmed\", \"Othman\"]\n",
    "\n",
    "for name in filter(lambda name: name.startswith(\"O\")  , myText): \n",
    "\n",
    "    print(name)"
   ]
  },
  {
   "cell_type": "markdown",
   "metadata": {},
   "source": [
    "`Reduce()`: In the latest versions of python, reduce() is considered a high order function, so in order to use it you have to import the `functools` module\n",
    "\n",
    "> from functools import reduce\n",
    "\n",
    "Apply a function of two arguments cumulatively to the items of a sequence, from left to right, so as to reduce the sequence to a single value.\n",
    "\n",
    "`[1]` Reduce Take A Function + Iterator\n",
    "\n",
    "`[2]` Reduce Run A Function On First And Second Element And Give Result\n",
    "\n",
    "`[3]` Then Run Function On Result And Third Element\n",
    "\n",
    "`[4]` Then Run Function On Result And Fourth Element And So On\n",
    "\n",
    "`[5]` Till One Element is Left and This is The Result of The Reduce\n",
    "\n",
    "`[6]` The Function Can Be Pre-Defined Function or Lambda Function\n",
    "\n"
   ]
  },
  {
   "cell_type": "code",
   "execution_count": 37,
   "metadata": {},
   "outputs": [
    {
     "name": "stdout",
     "output_type": "stream",
     "text": [
      "120\n"
     ]
    }
   ],
   "source": [
    "from functools import reduce\n",
    "\n",
    "def sumAll(num1, num2): \n",
    "\n",
    "    return num1 + num2\n",
    "\n",
    "numbers = [1, 8, 2, 9, 100]\n",
    "\n",
    "result = reduce(sumAll, numbers)\n",
    "\n",
    "print(result) # (1+8)=9 ==> (9+2)=11 ==> (11+9)=20 ==> (20+100)=120     ::(((1+8)+2)+9)+100)=120::"
   ]
  },
  {
   "cell_type": "markdown",
   "metadata": {},
   "source": [
    "Let's try the same example but with lambda function"
   ]
  },
  {
   "cell_type": "code",
   "execution_count": 39,
   "metadata": {},
   "outputs": [
    {
     "name": "stdout",
     "output_type": "stream",
     "text": [
      "120\n"
     ]
    }
   ],
   "source": [
    "from functools import reduce\n",
    "\n",
    "numbers = [1, 8, 2, 9, 100]\n",
    "\n",
    "result = reduce(lambda num1, num2: num1 + num2, numbers)\n",
    "\n",
    "print(result) # (1+8)=9 ==> (9+2)=11 ==> (11+9)=20 ==> (20+100)=120     ::(((1+8)+2)+9)+100)=120::"
   ]
  },
  {
   "cell_type": "markdown",
   "metadata": {},
   "source": [
    "`enumerate()`: Return an enumerate object. The enumerate object yields pairs containing a count (from start, which defaults to zero) and a value yielded by the iterable argument. \n",
    "\n",
    "enumerate is useful for obtaining an indexed list:\n",
    "\n",
    "> enumerate(iterable, stat(optional, default value = 0))"
   ]
  },
  {
   "cell_type": "code",
   "execution_count": 42,
   "metadata": {},
   "outputs": [
    {
     "name": "stdout",
     "output_type": "stream",
     "text": [
      "(0, 'Html')\n",
      "(1, 'Css')\n",
      "(2, 'Js')\n",
      "(3, 'PHP')\n"
     ]
    }
   ],
   "source": [
    "mySkills = [\"Html\", \"Css\", \"Js\", \"PHP\"]\n",
    "\n",
    "mySkills_withCounter = enumerate(mySkills)\n",
    "\n",
    "for skill in mySkills_withCounter: \n",
    "\n",
    "    print(skill)"
   ]
  },
  {
   "cell_type": "markdown",
   "metadata": {},
   "source": [
    "The default start is zero, to make the start le'ts say from 11: "
   ]
  },
  {
   "cell_type": "code",
   "execution_count": 43,
   "metadata": {},
   "outputs": [
    {
     "name": "stdout",
     "output_type": "stream",
     "text": [
      "(11, 'Html')\n",
      "(12, 'Css')\n",
      "(13, 'Js')\n",
      "(14, 'PHP')\n"
     ]
    }
   ],
   "source": [
    "mySkills = [\"Html\", \"Css\", \"Js\", \"PHP\"]\n",
    "\n",
    "mySkills_withCounter = enumerate(mySkills, 11)\n",
    "\n",
    "for skill in mySkills_withCounter: \n",
    "\n",
    "    print(skill)"
   ]
  },
  {
   "cell_type": "markdown",
   "metadata": {},
   "source": [
    "We can also loop on the enumerate counter along with the value"
   ]
  },
  {
   "cell_type": "code",
   "execution_count": 45,
   "metadata": {},
   "outputs": [
    {
     "name": "stdout",
     "output_type": "stream",
     "text": [
      "11 - Html\n",
      "12 - Css\n",
      "13 - Js\n",
      "14 - PHP\n"
     ]
    }
   ],
   "source": [
    "mySkills = [\"Html\", \"Css\", \"Js\", \"PHP\"]\n",
    "\n",
    "mySkills_withCounter = enumerate(mySkills, 11)\n",
    "\n",
    "for counter, skill in mySkills_withCounter:     # The counter, and skill can be any word of my choice\n",
    "\n",
    "    print(f\"{counter} - {skill}\")"
   ]
  },
  {
   "cell_type": "markdown",
   "metadata": {},
   "source": [
    "`help()`: Helps you understand a function, it's like a documentation for the functions\n",
    "\n",
    ">print(help(functionName))"
   ]
  },
  {
   "cell_type": "markdown",
   "metadata": {},
   "source": [
    "`reversed()` : Return a reverse iterator over the values of the given sequence.\n",
    "\n",
    "> reversed(iterable)"
   ]
  },
  {
   "cell_type": "code",
   "execution_count": 48,
   "metadata": {},
   "outputs": [
    {
     "name": "stdout",
     "output_type": "stream",
     "text": [
      "<reversed object at 0x1070a77c0>\n",
      "o\n",
      "r\n",
      "e\n",
      "z\n",
      "l\n",
      "E\n"
     ]
    }
   ],
   "source": [
    "myString = \"Elzero\"\n",
    "\n",
    "print(reversed(myString))\n",
    "\n",
    "for letter in reversed(myString):\n",
    "    \n",
    "    print(letter)"
   ]
  },
  {
   "cell_type": "markdown",
   "metadata": {},
   "source": [
    "Same goes for a list"
   ]
  },
  {
   "cell_type": "code",
   "execution_count": 49,
   "metadata": {},
   "outputs": [
    {
     "name": "stdout",
     "output_type": "stream",
     "text": [
      "<list_reverseiterator object at 0x1070a77c0>\n",
      "PHP\n",
      "Js\n",
      "Css\n",
      "Html\n"
     ]
    }
   ],
   "source": [
    "mySkills = [\"Html\", \"Css\", \"Js\", \"PHP\"]\n",
    "\n",
    "print(reversed(mySkills))\n",
    "\n",
    "for skill in reversed(mySkills):\n",
    "    \n",
    "    print(skill)"
   ]
  },
  {
   "cell_type": "markdown",
   "metadata": {},
   "source": [
    "We an also convert the reversed outout into a list like this: "
   ]
  },
  {
   "cell_type": "code",
   "execution_count": 54,
   "metadata": {},
   "outputs": [
    {
     "name": "stdout",
     "output_type": "stream",
     "text": [
      "['PHP', 'Js', 'Css', 'Html']\n"
     ]
    }
   ],
   "source": [
    "mySkills = [\"Html\", \"Css\", \"Js\", \"PHP\"]\n",
    "\n",
    "print(list(reversed(mySkills)))"
   ]
  },
  {
   "cell_type": "markdown",
   "metadata": {},
   "source": [
    "##### **Modules in Python**\n",
    "\n",
    "`[1]` Module is A File Contain A Set Of Functions\n",
    "\n",
    "`[2]` You Can Import Module in Your App To Help You\n",
    "\n",
    "`[3]` You Can Import Multiple Modules\n",
    "\n",
    "`[4]` You Can Create Your Own Modules\n",
    "\n",
    "`[5]` Modules Saves Your Time\n"
   ]
  },
  {
   "cell_type": "code",
   "execution_count": 55,
   "metadata": {},
   "outputs": [
    {
     "name": "stdout",
     "output_type": "stream",
     "text": [
      "<module 'random' from '/opt/homebrew/Cellar/python@3.12/3.12.1/Frameworks/Python.framework/Versions/3.12/lib/python3.12/random.py'>\n"
     ]
    }
   ],
   "source": [
    "import random\n",
    "\n",
    "print(random)"
   ]
  },
  {
   "cell_type": "code",
   "execution_count": 56,
   "metadata": {},
   "outputs": [
    {
     "name": "stdout",
     "output_type": "stream",
     "text": [
      "Print Random Float Number 0.6106194342386636\n"
     ]
    }
   ],
   "source": [
    "import random\n",
    "\n",
    "print(f\"Print Random Float Number {random.random()}\")"
   ]
  },
  {
   "cell_type": "markdown",
   "metadata": {},
   "source": [
    ":: `Show All Functions Inside Module` ::"
   ]
  },
  {
   "cell_type": "code",
   "execution_count": 57,
   "metadata": {},
   "outputs": [
    {
     "name": "stdout",
     "output_type": "stream",
     "text": [
      "['BPF', 'LOG4', 'NV_MAGICCONST', 'RECIP_BPF', 'Random', 'SG_MAGICCONST', 'SystemRandom', 'TWOPI', '_ONE', '_Sequence', '__all__', '__builtins__', '__cached__', '__doc__', '__file__', '__loader__', '__name__', '__package__', '__spec__', '_accumulate', '_acos', '_bisect', '_ceil', '_cos', '_e', '_exp', '_fabs', '_floor', '_index', '_inst', '_isfinite', '_lgamma', '_log', '_log2', '_os', '_pi', '_random', '_repeat', '_sha512', '_sin', '_sqrt', '_test', '_test_generator', '_urandom', '_warn', 'betavariate', 'binomialvariate', 'choice', 'choices', 'expovariate', 'gammavariate', 'gauss', 'getrandbits', 'getstate', 'lognormvariate', 'normalvariate', 'paretovariate', 'randbytes', 'randint', 'random', 'randrange', 'sample', 'seed', 'setstate', 'shuffle', 'triangular', 'uniform', 'vonmisesvariate', 'weibullvariate']\n"
     ]
    }
   ],
   "source": [
    "import random \n",
    "print(dir(random))"
   ]
  },
  {
   "cell_type": "markdown",
   "metadata": {},
   "source": [
    ":: `Import One or Two Functions from Module` ::"
   ]
  },
  {
   "cell_type": "code",
   "execution_count": 72,
   "metadata": {},
   "outputs": [
    {
     "name": "stdout",
     "output_type": "stream",
     "text": [
      "Print Random Integer 131\n"
     ]
    }
   ],
   "source": [
    "from random import randint #random integer\n",
    "print(f\"Print Random Integer {randint(100,900)}\")"
   ]
  },
  {
   "cell_type": "markdown",
   "metadata": {},
   "source": [
    "##### **Create Your Module**\n",
    "First Create the module file with a name let's say Elzero.py, and put your functions inside that file like this: "
   ]
  },
  {
   "cell_type": "code",
   "execution_count": null,
   "metadata": {},
   "outputs": [],
   "source": [
    "def sayHello(name): \n",
    "    print(f\"Hello {name}\")\n",
    "\n",
    "def How_are_you(name): \n",
    "    print(f\"How Are You {name}\")"
   ]
  },
  {
   "cell_type": "markdown",
   "metadata": {},
   "source": [
    "Now Let's get back to our Original File"
   ]
  },
  {
   "cell_type": "code",
   "execution_count": 75,
   "metadata": {},
   "outputs": [
    {
     "name": "stdout",
     "output_type": "stream",
     "text": [
      "['/Users/Ahmed/Desktop/Python/Learning', '/opt/homebrew/Cellar/python@3.12/3.12.1/Frameworks/Python.framework/Versions/3.12/lib/python312.zip', '/opt/homebrew/Cellar/python@3.12/3.12.1/Frameworks/Python.framework/Versions/3.12/lib/python3.12', '/opt/homebrew/Cellar/python@3.12/3.12.1/Frameworks/Python.framework/Versions/3.12/lib/python3.12/lib-dynload', '', '/Users/Ahmed/Library/Python/3.12/lib/python/site-packages', '/opt/homebrew/lib/python3.12/site-packages']\n",
      "['/Users/Ahmed/Desktop/Python/Learning', '/opt/homebrew/Cellar/python@3.12/3.12.1/Frameworks/Python.framework/Versions/3.12/lib/python312.zip', '/opt/homebrew/Cellar/python@3.12/3.12.1/Frameworks/Python.framework/Versions/3.12/lib/python3.12', '/opt/homebrew/Cellar/python@3.12/3.12.1/Frameworks/Python.framework/Versions/3.12/lib/python3.12/lib-dynload', '', '/Users/Ahmed/Library/Python/3.12/lib/python/site-packages', '/opt/homebrew/lib/python3.12/site-packages', '/Users/Ahmed/Desktop']\n"
     ]
    }
   ],
   "source": [
    "import sys\n",
    "\n",
    "print(sys.path) # Prints the Paths of Python in you System as well as the Path you're currently using. \n",
    "sys.path.append(r\"/Users/Ahmed/Desktop\") # Adding custom Path where we store our Modules\n",
    "print(sys.path)"
   ]
  },
  {
   "cell_type": "markdown",
   "metadata": {},
   "source": [
    "Now Let's work with our Custom Module"
   ]
  },
  {
   "cell_type": "code",
   "execution_count": 76,
   "metadata": {},
   "outputs": [
    {
     "name": "stdout",
     "output_type": "stream",
     "text": [
      "Hello Ahmed\n",
      "Hello Osama\n",
      "How Are You Omar\n"
     ]
    }
   ],
   "source": [
    "import Elzero\n",
    "\n",
    "Elzero.sayHello(\"Ahmed\")\n",
    "Elzero.sayHello(\"Osama\")\n",
    "Elzero.How_are_you(\"Omar\")"
   ]
  },
  {
   "cell_type": "markdown",
   "metadata": {},
   "source": [
    "We can also Make Alias like this: "
   ]
  },
  {
   "cell_type": "code",
   "execution_count": 77,
   "metadata": {},
   "outputs": [
    {
     "name": "stdout",
     "output_type": "stream",
     "text": [
      "Hello Ahmed\n",
      "Hello Osama\n",
      "How Are You Omar\n"
     ]
    }
   ],
   "source": [
    "import Elzero as ee\n",
    "\n",
    "ee.sayHello(\"Ahmed\")\n",
    "ee.sayHello(\"Osama\")\n",
    "ee.How_are_you(\"Omar\")"
   ]
  },
  {
   "cell_type": "markdown",
   "metadata": {},
   "source": [
    ":: `What is the Difference between Module and Package?` ::\n",
    "\n",
    "`Module` is a file contains a bunch of functions. \n",
    "\n",
    "`Package` is a container for bunch of modules. \n",
    "\n",
    "❖ Python Package Manager is PIP\n",
    "\n",
    "❖ `Modules list`: \n",
    "\n",
    "> https://docs.python.org/3/py-modindex.html\n",
    "\n",
    "❖ `Packages list`: \n",
    "\n",
    "> https://pypi.org\n",
    "\n",
    "❖ `PIP Manual`: \n",
    "> https://pip.pypa.io/en/stable/reference/pip_install"
   ]
  },
  {
   "cell_type": "markdown",
   "metadata": {},
   "source": [
    ":: `Date and Time` ::"
   ]
  },
  {
   "cell_type": "code",
   "execution_count": 84,
   "metadata": {},
   "outputs": [
    {
     "name": "stdout",
     "output_type": "stream",
     "text": [
      "2024-01-26 23:55:07.118363\n",
      "2024\n",
      "1\n",
      "26\n",
      "23:55:07.118492\n",
      "1982-10-25 00:00:00\n"
     ]
    }
   ],
   "source": [
    "import datetime\n",
    "\n",
    "print(datetime.datetime.now())  # print current date\n",
    "print(datetime.datetime.now().year)  # print current year\n",
    "print(datetime.datetime.now().month)  # print current month\n",
    "print(datetime.datetime.now().day)  # print current day\n",
    "print(datetime.datetime.now().time())  # print current time\n",
    "print(datetime.datetime(1982, 10, 25))  # print specific date"
   ]
  },
  {
   "cell_type": "markdown",
   "metadata": {},
   "source": [
    ":: `Practical Example` ::"
   ]
  },
  {
   "cell_type": "code",
   "execution_count": 93,
   "metadata": {},
   "outputs": [
    {
     "name": "stdout",
     "output_type": "stream",
     "text": [
      "I Lived for 10862 days, 0:03:26.986320\n",
      "I Lived for 10862 day\n"
     ]
    }
   ],
   "source": [
    "import datetime\n",
    "\n",
    "myBirthday = datetime.datetime(1994, 5, 2)\n",
    "\n",
    "dateNow = datetime.datetime.now()\n",
    "\n",
    "print(f\"I Lived for {dateNow - myBirthday}\")\n",
    "print(f\"I Lived for {(dateNow - myBirthday).days} day\")\n"
   ]
  },
  {
   "cell_type": "markdown",
   "metadata": {},
   "source": [
    ":: `What is the difference between iterable and iterator?` ::\n",
    "\n",
    "**Iterable**\n",
    "\n",
    "`[1]` Object Contains Data That Can Be Iterated Upon\n",
    "\n",
    "`[2]` Examples (String, List, Set, Tuple, Dictionary)\n",
    "\n",
    "\n",
    "**Iterator**\n",
    "\n",
    "`[1]` Object Used To Iterate Over Iterable Using `next()` Method Return 1 Element At A Time\n",
    "\n",
    "`[2]` You Can Generate Iterator From Iterable When Using `iter()` Method\n",
    "\n",
    "`[3]` For Loop Already Calls iter() Method on The Iterable Behind The Scene\n",
    "\n",
    "`[4]` Gives \"StopIteration\" If Theres No Next Element\n"
   ]
  },
  {
   "cell_type": "code",
   "execution_count": 95,
   "metadata": {},
   "outputs": [
    {
     "name": "stdout",
     "output_type": "stream",
     "text": [
      "O\n",
      "s\n",
      "a\n",
      "m\n",
      "a\n"
     ]
    }
   ],
   "source": [
    "myString = \"Osama\"\n",
    "\n",
    "myIterator = iter(myString)     # myIterator is a variable of my choice\n",
    "\n",
    "print(next(myIterator))\n",
    "print(next(myIterator))\n",
    "print(next(myIterator))\n",
    "print(next(myIterator))\n",
    "print(next(myIterator))"
   ]
  },
  {
   "cell_type": "markdown",
   "metadata": {},
   "source": [
    "##### **Generators in Python**\n",
    "\n",
    "`[1]` Generator is a Function With \"yield\" Keyword Instead of \"return\"\n",
    "\n",
    "`[2]` It Support Iteration and Return Generator Iterator By Calling \"yield\"\n",
    "\n",
    "`[3]` Generator Function Can Have one or More \"yield\"\n",
    "\n",
    "`[4]` By Using next() It Resume From Where It Called \"yield\" Not From Begining\n",
    "\n",
    "`[5]` When Called, Its Not Start Automatically, Its Only Give You The Control\n"
   ]
  },
  {
   "cell_type": "code",
   "execution_count": 99,
   "metadata": {},
   "outputs": [
    {
     "name": "stdout",
     "output_type": "stream",
     "text": [
      "1\n",
      "2\n",
      "3\n",
      "4\n"
     ]
    }
   ],
   "source": [
    "def myGenerator(): \n",
    "\n",
    "    yield 1\n",
    "    yield 2\n",
    "    yield 3\n",
    "    yield 4\n",
    "\n",
    "myGenerator()\n",
    "myGen = myGenerator()\n",
    "print(next(myGen))\n",
    "print(next(myGen))\n",
    "print(next(myGen))\n",
    "print(next(myGen))\n"
   ]
  },
  {
   "cell_type": "code",
   "execution_count": 104,
   "metadata": {},
   "outputs": [
    {
     "name": "stdout",
     "output_type": "stream",
     "text": [
      "1\n",
      "2\n",
      "###############\n",
      "3\n",
      "4\n"
     ]
    }
   ],
   "source": [
    "def myGenerator(): \n",
    "\n",
    "    yield 1\n",
    "    yield 2\n",
    "    yield 3\n",
    "    yield 4\n",
    "\n",
    "myGen = myGenerator()\n",
    "print(next(myGen))\n",
    "print(next(myGen))\n",
    "print(\"#\" * 15)\n",
    "\n",
    "for number in myGen:\n",
    "    print(number)\n",
    "\n"
   ]
  },
  {
   "cell_type": "markdown",
   "metadata": {},
   "source": [
    "Here the Loop continued the iteration and didn't start from the beginning, also i can put something in between."
   ]
  },
  {
   "cell_type": "markdown",
   "metadata": {},
   "source": [
    "##### **Decorators in Python**\n",
    "\n",
    "`[1]` Sometime Called Meta Programming\n",
    "\n",
    "`[2]` Everything in Python is Object Even Functions\n",
    "\n",
    "`[3]` Decorator Take A Function and Add Some Functionality and Return It\n",
    "\n",
    "`[4]` Decorator Wrap Other Function and Enhance Their Behaviour\n",
    "\n",
    "`[5]` Decorator is Higher Order Function (Function Accept Function As Parameter)\n"
   ]
  },
  {
   "cell_type": "code",
   "execution_count": 109,
   "metadata": {},
   "outputs": [
    {
     "name": "stdout",
     "output_type": "stream",
     "text": [
      "Hello\n",
      "Before \n",
      "Hello\n",
      "After\n"
     ]
    }
   ],
   "source": [
    "def myDecorator(func):  # Decorator\n",
    "\n",
    "    def nestedFunc(): \n",
    "\n",
    "        print(\"Before \") # Message from Decorator\n",
    "\n",
    "        func() # Excute Function\n",
    "\n",
    "        print(\"After\")  # Message from Decorator\n",
    "\n",
    "    return nestedFunc # Return All Data\n",
    "\n",
    "def sayHello(): \n",
    "\n",
    "    print(\"Hello\")\n",
    "\n",
    "sayHello()\n",
    "\n",
    "afterDecoration = myDecorator(sayHello)\n",
    "\n",
    "afterDecoration()"
   ]
  },
  {
   "cell_type": "markdown",
   "metadata": {},
   "source": [
    "we can use the sugar syntax like this: "
   ]
  },
  {
   "cell_type": "code",
   "execution_count": 111,
   "metadata": {},
   "outputs": [
    {
     "name": "stdout",
     "output_type": "stream",
     "text": [
      "Before \n",
      "Hello\n",
      "After\n"
     ]
    }
   ],
   "source": [
    "def myDecorator(func):  # Decorator - func is a name of my choice\n",
    "\n",
    "    def nestedFunc(): \n",
    "\n",
    "        print(\"Before \") # Message from Decorator\n",
    "\n",
    "        func() # Excute Function\n",
    "\n",
    "        print(\"After\")  # Message from Decorator\n",
    "\n",
    "    return nestedFunc # Return All Data\n",
    "\n",
    "@myDecorator\n",
    "def sayHello(): \n",
    "\n",
    "    print(\"Hello\")\n",
    "\n",
    "sayHello()\n"
   ]
  },
  {
   "cell_type": "markdown",
   "metadata": {},
   "source": [
    ":: `Decorators Fucntion with Parameters` ::"
   ]
  },
  {
   "cell_type": "code",
   "execution_count": 116,
   "metadata": {},
   "outputs": [
    {
     "name": "stdout",
     "output_type": "stream",
     "text": [
      "100\n"
     ]
    }
   ],
   "source": [
    "def myDecorator(func):  # Decorator - func is a name of my choice\n",
    "\n",
    "    def nestedFunc(): \n",
    "\n",
    "        print(\"Before \") # Message from Decorator\n",
    "\n",
    "        func() # Excute Function\n",
    "\n",
    "        print(\"After\")  # Message from Decorator\n",
    "\n",
    "    return nestedFunc # Return All Data\n",
    "\n",
    "\n",
    "def calculate(n1, n2): \n",
    "    \n",
    "    print(n1 + n2)\n",
    "\n",
    "calculate(10, 90)\n"
   ]
  },
  {
   "cell_type": "markdown",
   "metadata": {},
   "source": [
    "Now if we Put the Decorator to the calculate function it will raise an error cuz the decorator takes one argument and the calculate function has two. "
   ]
  },
  {
   "cell_type": "code",
   "execution_count": 115,
   "metadata": {},
   "outputs": [
    {
     "name": "stdout",
     "output_type": "stream",
     "text": [
      "Before\n",
      "100\n"
     ]
    }
   ],
   "source": [
    "def myDecorator(func):  # Decorator - func is a name of my choice\n",
    "\n",
    "    def nestedFunc(num1, num2): \n",
    "\n",
    "        print(\"Before\")\n",
    "\n",
    "        func(num1, num2) # Excute Function\n",
    "\n",
    "    return nestedFunc # Return All Data\n",
    "\n",
    "\n",
    "@myDecorator\n",
    "def calculate(n1, n2): \n",
    "    \n",
    "    print(n1 + n2)\n",
    "\n",
    "calculate(10, 90)\n"
   ]
  },
  {
   "cell_type": "markdown",
   "metadata": {},
   "source": [
    "Now Let's say we want the Decorator to check if the number used in the function is less than Zero. "
   ]
  },
  {
   "cell_type": "code",
   "execution_count": 118,
   "metadata": {},
   "outputs": [
    {
     "name": "stdout",
     "output_type": "stream",
     "text": [
      "Beware one of the Numbers is Less than Zero \n",
      "85\n"
     ]
    }
   ],
   "source": [
    "def myDecorator(func):  # Decorator - func is a name of my choice\n",
    "\n",
    "    def nestedFunc(num1, num2): \n",
    "\n",
    "        if num1 < 0 or num2 < 0 : \n",
    "\n",
    "            print(\"Beware one of the Numbers is Less than Zero \")\n",
    "\n",
    "        func(num1, num2) # Excute Function\n",
    "\n",
    "    return nestedFunc # Return All Data\n",
    "\n",
    "\n",
    "@myDecorator\n",
    "def calculate(n1, n2): \n",
    "    \n",
    "    print(n1 + n2)\n",
    "\n",
    "calculate(-5, 90)\n"
   ]
  },
  {
   "cell_type": "markdown",
   "metadata": {},
   "source": [
    ":: `VIP Note` :: we can use more than one decorator on the same function"
   ]
  },
  {
   "cell_type": "code",
   "execution_count": 119,
   "metadata": {},
   "outputs": [
    {
     "name": "stdout",
     "output_type": "stream",
     "text": [
      "Beware one of the Numbers is Less than Zero \n",
      "Coming from Decorator 2\n",
      "85\n"
     ]
    }
   ],
   "source": [
    "def myDecorator(func):  # Decorator - func is a name of my choice\n",
    "\n",
    "    def nestedFunc(num1, num2): \n",
    "\n",
    "        if num1 < 0 or num2 < 0 : \n",
    "\n",
    "            print(\"Beware one of the Numbers is Less than Zero \")\n",
    "\n",
    "        func(num1, num2) # Excute Function\n",
    "\n",
    "    return nestedFunc # Return All Data\n",
    "\n",
    "def myDecorator2(func):  # Decorator - func is a name of my choice\n",
    "\n",
    "    def nestedFunc(num1, num2): \n",
    "\n",
    "        print(\"Coming from Decorator 2\")\n",
    "\n",
    "        func(num1, num2) # Excute Function\n",
    "\n",
    "    return nestedFunc # Return All Data\n",
    "\n",
    "@myDecorator\n",
    "@myDecorator2\n",
    "def calculate(n1, n2): \n",
    "    \n",
    "    print(n1 + n2)\n",
    "\n",
    "calculate(-5, 90)\n"
   ]
  },
  {
   "cell_type": "markdown",
   "metadata": {},
   "source": [
    "In the last example, we used the arguments num1, num2. if we don't know the numbers fo arguments, we will use the pack, unpack like this: "
   ]
  },
  {
   "cell_type": "code",
   "execution_count": 126,
   "metadata": {},
   "outputs": [
    {
     "name": "stdout",
     "output_type": "stream",
     "text": [
      "Beware one of the Numbers is Less than Zero \n",
      "Coming from Decorator 2\n",
      "105\n"
     ]
    }
   ],
   "source": [
    "def myDecorator(func):  # Decorator - func is a name of my choice\n",
    "\n",
    "    def nestedFunc(*numbers): \n",
    "\n",
    "        for number in numbers: \n",
    "             if number < 0 : \n",
    "\n",
    "                print(\"Beware one of the Numbers is Less than Zero \")\n",
    "        \n",
    "        func(*numbers) # Excute Function\n",
    "\n",
    "    return nestedFunc # Return All Data\n",
    "\n",
    "def myDecorator2(func):  # Decorator - func is a name of my choice\n",
    "\n",
    "    def nestedFunc(*numbers): \n",
    "\n",
    "        print(\"Coming from Decorator 2\")\n",
    "\n",
    "        func(*numbers) # Excute Function\n",
    "\n",
    "    return nestedFunc # Return All Data\n",
    "\n",
    "@myDecorator\n",
    "@myDecorator2\n",
    "def calculate(n1, n2, n3): \n",
    "    \n",
    "    print(n1 + n2 + n3)\n",
    "\n",
    "calculate(-5, 90, 20)\n"
   ]
  },
  {
   "cell_type": "markdown",
   "metadata": {},
   "source": [
    ":: `Practical Loop on Many Iterators with Zip` ::\n",
    "\n",
    "❖ zip() Return A Zip Object Contains All Objects\n",
    "\n",
    "❖ zip() Length Is The Length of Lowest Object\n"
   ]
  },
  {
   "cell_type": "code",
   "execution_count": 129,
   "metadata": {},
   "outputs": [
    {
     "name": "stdout",
     "output_type": "stream",
     "text": [
      "<zip object at 0x1076dbe00>\n",
      "(1, 'A')\n",
      "(2, 'B')\n"
     ]
    }
   ],
   "source": [
    "list1 = [1, 2, 3, 4, 5]\n",
    "\n",
    "list2 = [\"A\", \"B\"]\n",
    "\n",
    "ultimateList = zip(list1, list2)\n",
    "\n",
    "print(ultimateList)\n",
    "\n",
    "for item in ultimateList: \n",
    "\n",
    "    print(item)"
   ]
  },
  {
   "cell_type": "code",
   "execution_count": 137,
   "metadata": {},
   "outputs": [
    {
     "name": "stdout",
     "output_type": "stream",
     "text": [
      "list 1 Item ==> 1\n",
      "list 1 Item ==> A\n",
      "Tuple 1 Item ==> Man\n",
      "Dict 1 Key ==> Name Value ==>  Osama\n",
      "list 1 Item ==> 2\n",
      "list 1 Item ==> B\n",
      "Tuple 1 Item ==> Woman\n",
      "Dict 1 Key ==> Age Value ==>  36\n",
      "list 1 Item ==> 3\n",
      "list 1 Item ==> C\n",
      "Tuple 1 Item ==> Girl\n",
      "Dict 1 Key ==> Country Value ==>  Egypt\n"
     ]
    }
   ],
   "source": [
    "list1 = [1, 2, 3, 4, 5]\n",
    "\n",
    "list2 = [\"A\", \"B\", \"C\"]\n",
    "\n",
    "tuple1 = (\"Man\", \"Woman\", \"Girl\", \"Boy\")\n",
    "\n",
    "dict1 = {\"Name\": \"Osama\", \"Age\": 36, \"Country\": \"Egypt\"}\n",
    "\n",
    "for item1, item2, item3, item4 in zip(list1, list2, tuple1, dict1): \n",
    "\n",
    "    print(\"list 1 Item ==>\", item1)\n",
    "    print(\"list 1 Item ==>\", item2)\n",
    "    print(\"Tuple 1 Item ==>\", item3)\n",
    "    print(\"Dict 1 Key ==>\", item4, \"Value ==> \", dict1[item4])\n"
   ]
  },
  {
   "cell_type": "markdown",
   "metadata": {},
   "source": [
    "##### **Docstring And Commenting vs Documenting**"
   ]
  },
  {
   "cell_type": "markdown",
   "metadata": {},
   "source": [
    "`[1]` Documentation String For Class, Module or Function\n",
    "\n",
    "`[2]` Can Be Accessed From The Help and Doc Attributes\n",
    "\n",
    "`[3]` Made For Understanding The Functionality of The Complex Code\n",
    "\n",
    "`[4]` Theres One Line and Multiple Line Doc Strings\n"
   ]
  },
  {
   "cell_type": "code",
   "execution_count": 141,
   "metadata": {},
   "outputs": [
    {
     "name": "stdout",
     "output_type": "stream",
     "text": [
      "Hello ahmed from Elzero\n",
      "This is Fuction to Say Hello From Elzero\n"
     ]
    }
   ],
   "source": [
    "def elzero_function(name):\n",
    "    '''This is Fuction to Say Hello From Elzero'''\n",
    "    print(f\"Hello {name} from Elzero\")\n",
    "\n",
    "elzero_function(\"ahmed\")\n",
    "\n",
    "print(elzero_function.__doc__)\n"
   ]
  },
  {
   "cell_type": "markdown",
   "metadata": {},
   "source": [
    "This is also available in help()"
   ]
  },
  {
   "cell_type": "code",
   "execution_count": 143,
   "metadata": {},
   "outputs": [
    {
     "name": "stdout",
     "output_type": "stream",
     "text": [
      "Hello ahmed from Elzero\n",
      "Help on function elzero_function in module __main__:\n",
      "\n",
      "elzero_function(name)\n",
      "    This is Fuction to Say Hello From Elzero\n",
      "    Return Hello to Person\n",
      "\n"
     ]
    }
   ],
   "source": [
    "def elzero_function(name):\n",
    "    '''\n",
    "    This is Fuction to Say Hello From Elzero\n",
    "    Return Hello to Person\n",
    "    '''\n",
    "    print(f\"Hello {name} from Elzero\")\n",
    "\n",
    "elzero_function(\"ahmed\")\n",
    "\n",
    "help(elzero_function)\n"
   ]
  },
  {
   "cell_type": "markdown",
   "metadata": {},
   "source": [
    "##### **Errors and Exception Raising**\n",
    "\n",
    "`[1]` Exceptions Is A Runtime Error Reporting Mechanism\n",
    "\n",
    "`[2]` Exception Gives You The Message To Understand The Problem\n",
    "\n",
    "`[3]` Traceback Gives You The Line To Look For The Code in This Line\n",
    "\n",
    "`[4]` Exceptions Have Types (SyntaxError, IndexError, KeyError, Etc...)\n",
    "\n",
    "`[5]` Exceptions List https://docs.python.org/3/library/exceptions.html\n",
    "\n",
    "`[6]` raise Keyword Used To Raise Your Own Exceptions\n"
   ]
  },
  {
   "cell_type": "code",
   "execution_count": null,
   "metadata": {},
   "outputs": [],
   "source": [
    "x = 10 \n",
    "\n",
    "if x < 0 : \n",
    "\n",
    "    print(f\"The Number {x} is Less Than Zero\")\n",
    "\n",
    "else : \n",
    "\n",
    "    print(f\"{X} is Good\")\n",
    "\n",
    "print(\"Message After If Condition\")"
   ]
  },
  {
   "cell_type": "markdown",
   "metadata": {},
   "source": [
    "Let's assume the: \n",
    "\n",
    "> print(\"Message After If Condition\")\n",
    "\n",
    "is the rest of your program, and we want to raise an error if the numer less than Zero and stop the rest of the program, so we need to raise our own Exception."
   ]
  },
  {
   "cell_type": "code",
   "execution_count": 144,
   "metadata": {},
   "outputs": [
    {
     "ename": "Exception",
     "evalue": "The Number -10 is Less Than Zero",
     "output_type": "error",
     "traceback": [
      "\u001b[0;31m---------------------------------------------------------------------------\u001b[0m",
      "\u001b[0;31mException\u001b[0m                                 Traceback (most recent call last)",
      "Cell \u001b[0;32mIn[144], line 5\u001b[0m\n\u001b[1;32m      1\u001b[0m x \u001b[38;5;241m=\u001b[39m \u001b[38;5;241m-\u001b[39m\u001b[38;5;241m10\u001b[39m \n\u001b[1;32m      3\u001b[0m \u001b[38;5;28;01mif\u001b[39;00m x \u001b[38;5;241m<\u001b[39m \u001b[38;5;241m0\u001b[39m : \n\u001b[0;32m----> 5\u001b[0m     \u001b[38;5;28;01mraise\u001b[39;00m \u001b[38;5;167;01mException\u001b[39;00m(\u001b[38;5;124mf\u001b[39m\u001b[38;5;124m\"\u001b[39m\u001b[38;5;124mThe Number \u001b[39m\u001b[38;5;132;01m{\u001b[39;00mx\u001b[38;5;132;01m}\u001b[39;00m\u001b[38;5;124m is Less Than Zero\u001b[39m\u001b[38;5;124m\"\u001b[39m)\n\u001b[1;32m      7\u001b[0m \u001b[38;5;28;01melse\u001b[39;00m : \n\u001b[1;32m      9\u001b[0m     \u001b[38;5;28mprint\u001b[39m(\u001b[38;5;124mf\u001b[39m\u001b[38;5;124m\"\u001b[39m\u001b[38;5;132;01m{\u001b[39;00mX\u001b[38;5;132;01m}\u001b[39;00m\u001b[38;5;124m is Good\u001b[39m\u001b[38;5;124m\"\u001b[39m)\n",
      "\u001b[0;31mException\u001b[0m: The Number -10 is Less Than Zero"
     ]
    }
   ],
   "source": [
    "x = -10 \n",
    "\n",
    "if x < 0 : \n",
    "\n",
    "    raise Exception(f\"The Number {x} is Less Than Zero\")\n",
    "\n",
    "else : \n",
    "\n",
    "    print(f\"{X} is Good\")\n",
    "\n",
    "print(\"Message After If Condition\")"
   ]
  },
  {
   "cell_type": "markdown",
   "metadata": {},
   "source": [
    "##### **Try, Except, Else, Finally**\n",
    "\n",
    "❖ `Try` => Test The Code For Errors\n",
    "\n",
    "❖ `Except` => Handle The Errors\n",
    "\n",
    "❖ `Else` => If No Errors\n",
    "\n",
    "❖ `Finally` => Run The Code\n"
   ]
  },
  {
   "cell_type": "code",
   "execution_count": 146,
   "metadata": {},
   "outputs": [
    {
     "name": "stdout",
     "output_type": "stream",
     "text": [
      "This is Not Integer\n"
     ]
    }
   ],
   "source": [
    "try: \n",
    "\n",
    "    number = int(input(\"Write your Age \"))\n",
    "\n",
    "except: # Handle The Error if it's Found\n",
    "\n",
    "    print(\"This is Not Integer\")\n",
    "\n",
    "else: # If There's No Errors\n",
    "\n",
    "    print(\"Good This is Integer\")"
   ]
  },
  {
   "cell_type": "markdown",
   "metadata": {},
   "source": [
    "We Can Get rid of the Else here and Put it's Action in the Try"
   ]
  },
  {
   "cell_type": "code",
   "execution_count": 147,
   "metadata": {},
   "outputs": [
    {
     "name": "stdout",
     "output_type": "stream",
     "text": [
      "Good This is Integer\n"
     ]
    }
   ],
   "source": [
    "try: \n",
    "\n",
    "    number = int(input(\"Write your Age \"))\n",
    "    \n",
    "    print(\"Good This is Integer\")\n",
    "\n",
    "except: # Handle The Error if it's Found\n",
    "\n",
    "    print(\"This is Not Integer\")    "
   ]
  },
  {
   "cell_type": "code",
   "execution_count": 149,
   "metadata": {},
   "outputs": [
    {
     "name": "stdout",
     "output_type": "stream",
     "text": [
      "This is Not Integer\n",
      "Print From Finally Whatever Happens\n"
     ]
    }
   ],
   "source": [
    "try: \n",
    "\n",
    "    number = int(input(\"Write your Age \"))\n",
    "    \n",
    "    print(\"Good This is Integer\")\n",
    "\n",
    "except: # Handle The Error if it's Found\n",
    "\n",
    "    print(\"This is Not Integer\")    \n",
    "\n",
    "finally: \n",
    "    print(\"Print From Finally Whatever Happens\")"
   ]
  },
  {
   "cell_type": "markdown",
   "metadata": {},
   "source": [
    "We can put Multiple `except` cases in our code. "
   ]
  },
  {
   "cell_type": "markdown",
   "metadata": {},
   "source": [
    ":: `Practical Example for Error Handling` ::\n",
    "\n",
    "Let's say we want to make number of tries using while loop for someone to write the right name of a file to open it, if he consumes all tries he can't guess again, and if he inputs the right name the file will be opened."
   ]
  },
  {
   "cell_type": "code",
   "execution_count": null,
   "metadata": {},
   "outputs": [],
   "source": [
    "the_file = None\n",
    "\n",
    "the_tries = 5\n",
    "\n",
    "while the_tries > 0:\n",
    "\n",
    "  try:  # Try To Open The File\n",
    "\n",
    "    print(\"Enter The File Name With Absolute Path To Open\")\n",
    "\n",
    "    print(f\"You Have {the_tries} Tries Left\")\n",
    "\n",
    "    print(\"Example: D:\\Python\\Files\\yourfile.extension\")\n",
    "\n",
    "    file_name_and_path = input(\"File Name => : \").strip()\n",
    "\n",
    "    the_file = open(file_name_and_path, 'r')\n",
    "\n",
    "    print(the_file.read())\n",
    "\n",
    "    break\n",
    "\n",
    "  except FileNotFoundError:\n",
    "\n",
    "    print(\"File Not Found Please Be Sure The Name is Valid\")\n",
    "\n",
    "    the_tries -= 1\n",
    "\n",
    "  except:\n",
    "\n",
    "    print(\"Error Happen\")\n",
    "\n",
    "  finally:\n",
    "\n",
    "    if the_file is not None:\n",
    "\n",
    "      the_file.close()\n",
    "\n",
    "      print(\"File Closed.\")\n",
    "\n",
    "else:\n",
    "\n",
    "  print(\"All Tries Is Done\")"
   ]
  },
  {
   "cell_type": "markdown",
   "metadata": {},
   "source": [
    "##### **Debugging Code**\n",
    "\n",
    "When you work on large project with tons of code block, some small error can make you spin in circles, and that's where debugging come in handy. \n",
    "\n",
    "❖ Go to Vs-Code Settings, type debug in the search then look for the option: `Debug: Allow Breakpoints Everywhere` and checkmark that option. \n",
    "\n",
    "❖ Now you can add multiple break points (Red Dots) next to the line numbers where the debugger will use to test the code until that point.\n",
    "\n",
    "❖ From the Debug icon, click on it, and click `run and debug`\n"
   ]
  },
  {
   "cell_type": "markdown",
   "metadata": {},
   "source": [
    "##### **Type Hinting**"
   ]
  },
  {
   "cell_type": "code",
   "execution_count": null,
   "metadata": {},
   "outputs": [],
   "source": [
    "def say_hello(name) -> str:\n",
    "    print(f\"Hello {name}\")\n",
    "say_hello(\"Ahmed\" )"
   ]
  },
  {
   "cell_type": "markdown",
   "metadata": {},
   "source": [
    "The `-str` is used to hint that this function takes string data"
   ]
  },
  {
   "cell_type": "markdown",
   "metadata": {},
   "source": [
    "##### **Regular Expressions**\n",
    "\n",
    "`[1]` Sequence of Characters That Define A Search Pattern\n",
    "\n",
    "`[2]` Regular Expression is Not In Python Its General Concept\n",
    "\n",
    "`[3]` Used In [Credit Card Validation, IP Address Validation, Email Validation]\n",
    "\n",
    "`[4]` Test RegEx \"https://pythex.org/\"\n",
    "\n",
    "`[5]` Characters Sheet \"https://www.debuggex.com/cheatsheet/regex/python\"\n",
    "\n",
    "`[6]` Check out this link Also \"https://regex101.com\"\n"
   ]
  },
  {
   "cell_type": "markdown",
   "metadata": {},
   "source": [
    "To Use the Regular Expressions in Python we need to import it's module `import re`\n",
    "\n",
    "`search()` => Search A String For A Match And Return A First Match Only\n",
    "\n",
    "`findall()` => Returns A List Of All Matches and Empty List if No Match\n",
    "\n",
    "`split(Pattern, String, Maxsplit)` => Return A List Of Elements Splitted On Each Match\n",
    "\n",
    "`sub(Pattern, Replace, String, ReplaceCount)` => Replace Matches With What You Want\n"
   ]
  },
  {
   "cell_type": "markdown",
   "metadata": {},
   "source": [
    ":: `Practical Email Pattern` ::"
   ]
  },
  {
   "cell_type": "code",
   "execution_count": 156,
   "metadata": {},
   "outputs": [
    {
     "name": "stdout",
     "output_type": "stream",
     "text": [
      "Email Added.\n",
      "['hossam354@gmail.com']\n"
     ]
    }
   ],
   "source": [
    "import re\n",
    "\n",
    "email_input = input(\"Please Write Your Email: \")\n",
    "\n",
    "search = re.findall(r\"[A-z0-9\\.]+@[A-z0-9]+\\.com|net\", email_input)\n",
    "\n",
    "empty_list = []\n",
    "\n",
    "if search != [] :\n",
    "\n",
    "    empty_list.append(search)\n",
    "\n",
    "    print(\"Email Added.\")\n",
    "\n",
    "else : \n",
    "    \n",
    "    print(\"Invalid Email\")\n",
    "\n",
    "for email in empty_list: \n",
    "\n",
    "    print (email)"
   ]
  },
  {
   "cell_type": "code",
   "execution_count": 157,
   "metadata": {},
   "outputs": [
    {
     "name": "stdout",
     "output_type": "stream",
     "text": [
      "['I', 'Love', 'Python']\n"
     ]
    }
   ],
   "source": [
    "import re \n",
    "\n",
    "string_one = \"I Love Python\"\n",
    "\n",
    "search_one = re.split(r\"\\s\", string_one)\n",
    "\n",
    "print(search_one)"
   ]
  },
  {
   "cell_type": "markdown",
   "metadata": {},
   "source": [
    "Let's replace white space with `-` in a string: "
   ]
  },
  {
   "cell_type": "code",
   "execution_count": 158,
   "metadata": {},
   "outputs": [
    {
     "name": "stdout",
     "output_type": "stream",
     "text": [
      "I-Love-Python\n"
     ]
    }
   ],
   "source": [
    "import re \n",
    "\n",
    "print(re.sub(r\"\\s\", \"-\", \"I Love Python\"))"
   ]
  }
 ],
 "metadata": {
  "kernelspec": {
   "display_name": "Python 3",
   "language": "python",
   "name": "python3"
  },
  "language_info": {
   "codemirror_mode": {
    "name": "ipython",
    "version": 3
   },
   "file_extension": ".py",
   "mimetype": "text/x-python",
   "name": "python",
   "nbconvert_exporter": "python",
   "pygments_lexer": "ipython3",
   "version": "3.12.1"
  }
 },
 "nbformat": 4,
 "nbformat_minor": 2
}
